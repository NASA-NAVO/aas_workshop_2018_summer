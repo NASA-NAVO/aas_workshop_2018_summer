{
 "cells": [
  {
   "cell_type": "markdown",
   "metadata": {},
   "source": [
    "# Accessing data from NASA Astrophysics Archives Using Python"
   ]
  },
  {
   "cell_type": "markdown",
   "metadata": {},
   "source": [
    "NASA missions have collected a huge amount of data spanning a large range in wavelengths. These data are housed in four different archives: the [HEASARC](https://heasarc.gsfc.nasa.gov/), [MAST](https://archive.stsci.edu/), [IRSA](https://irsa.ipac.caltech.edu), [NED](https://ned.ipac.caltech.edu). However, different physical locations are not an obstacle for astronomers doing multiwavelength science projects that need to make use of data from different archives. The archives have been working together to make sure that you don’t need to know too much about *us* to assemble the data you need to get your research done. We’ve done this by standardizing the way that programs can access the data we house. Since Python is a very popular programming language, we are going to use it to show you how you can take advantage of this standardization to put together and analyze a multiwavelength data set. For this workshop, we are using a sample of interacting galaxies, and we will assemble a multiwavelength data set for it. You can generalize this example to much larger data sets of your own."
   ]
  },
  {
   "cell_type": "markdown",
   "metadata": {},
   "source": [
    "<a id='toc'></a>"
   ]
  },
  {
   "cell_type": "markdown",
   "metadata": {},
   "source": [
    "<h2>Table of Contents</h2>\n",
    "\n",
    "<a href='#availabledatasets'>1. Available Data Sets</a>\n",
    "\n",
    "<a href='#sample'>2. Sample of Interacting Galaxies</a>\n",
    "\n",
    "<a href = \"#ned\">3. Data Discovery -- NASA Extragalactic Database</a>\n",
    "\n",
    "<a href = \"#registry\">4. Data Discovery -- The Registry</a><BR>\n",
    "\n",
    "<a href = \"#registryheasarc\">4a. Search the registry for simple image access resources available from HEASARC</a><BR>\n",
    "\n",
    "<a href = \"#registryallwise\">4b. Search the registry for AllWISE</a><BR>\n",
    "\n",
    "<a href = \"#registrymultiwavelength\">4c. Define Base URLs for GALEX, AllWISE, and 2MASS.<BR>\n",
    "\n",
    "<a href = \"#simpleimageaccess\">5. Simple Image Access</a>\n",
    "\n",
    "<a href = \"#ucd\">6. Universal Common Descriptors (UCDs)</a>\n",
    "\n",
    "<a href = \"#fetch\">7. Retrieve the images that you found</a>\n",
    "\n",
    "<a href = \"#multiwavelengthsearch\">8. Search a list of data sets for images that cover a position on the sky</a><BR>\n",
    "\n",
    "<a href = \"#cutouts\">9. Make Cutouts</a><BR>\n",
    "\n",
    "<a href = \"#simpleconesearch\">10. Catalogs: Simple Cone Search</a><BR>\n",
    "\n",
    "<a href = \"#tableaccessprotocol\">11. Catalogs: Table Access Protocol</a><BR>\n",
    "\n",
    "<a href = \"#simplespectralaccess\">12. Simple Spectral Access</a><BR>\n"
   ]
  },
  {
   "cell_type": "markdown",
   "metadata": {},
   "source": [
    "## To Do / Questions\n",
    "\n",
    "### General\n",
    "* With the new utility functions for VO queries, the NED queries are pretty complex in comparison.  \n",
    " * Should they still be the first things to be shown?  \n",
    " * Should they be in this main notebook?\n",
    "\n",
    "* Find a way to shorten some of these output tables (as rendered in github).\n",
    "\n",
    "### Image functionality\n",
    "* consolidate coordiante handling among our query routines.\n",
    "* VO queries expect ICRS coordinates.  If sc is not in ICRS, apply this transform:  sc = sc.transform_to('icrs')\n",
    "* change input keyword from inradius to radius\n",
    "* no need to use utils.sval to compute coords for params.\n",
    "* in verbose mode, print all all params, ideally as they appear on the URL in the query.\n"
   ]
  },
  {
   "cell_type": "markdown",
   "metadata": {},
   "source": [
    "<a id='availabledatasets'></a>"
   ]
  },
  {
   "cell_type": "markdown",
   "metadata": {},
   "source": [
    "## 1. Available Data Sets\n",
    "\n",
    "NASA Archives offer many publically available data sets over a large range in wavelengths. Below is a summary of what you can expect from each of the archives.\n",
    "\n",
    "The **NASA/IPAC Extragalactic Database (NED)** is a comprehensive multiwavelength database for extragalactic objects, providing a systematic, ongoing fusion of information integrated from hundreds of large sky surveys and over a hundred thousand research publications. The contents and services span the entire observed spectrum from gamma rays through radio frequencies. As new observations are published, they are crossidentified with previous data and integrated into a unified database to simplify queries and retrieval.The LEVEL 5 Knowledgebase enhances review articles\n",
    "in extragalactic astrophysics and cosmology with direct links from object names and graphical content to related database queries.\n",
    "\n",
    "The **High Energy Astrophysics Science Archive Research Center (HEASARC)** is the primary archive for high-energy astronomy orbital missions observing at extreme ultraviolet, X-ray and gamma-ray wavelengths. Several of these missions, including Chandra, Fermi and XMM-Newton, fall under NASA's Physics of the Cosmos (PCOS) theme, while others, such as NICER, NuSTAR and Swift, are part of NASA's Explorers program. Since its merger with the Legacy Archive for Microwave Background Data Analysis (LAMBDA) in 2008, the HEASARC's holdings also include data from space-based missions, balloons, and ground-based facilities, such as COBE, WMAP, ACT, etc., that have studied the relic cosmic microwave background (CMB).\n",
    "\n",
    "The **Mikulski Archive for Space Telescopes (MAST)** is a NASA-funded archive for a wide range of astronomical missions, primarily supporting space-based ultraviolet, optical and near-infrared telescopes. Best known as the archive for the Hubble Space Telescope (HST), MAST also archives data from other projects such as Kepler, GALEX, PanSTARRS, FUSE, and over 100 community-contributed collections of High-Level Science Products. Future missions will include the James Webb Space Telescope (JWST) and the Transiting Exoplanet Survey Satellite (TESS).\n",
    "\n",
    "The **NASA/IPAC Infrared Sciece Archive (IRSA)** is chartered to curate the science products of NASA's infrared and submillimeter missions, as well as data from related projects. These include data from pointed observatories such as Spitzer and Herschel, as well as large-area and all-sky surveys such as 2MASS, WISE, IRAS, Planck, and AKARI. In total, IRSA provides access to more than 20 billion astronomical measurements, including all-sky coverage in 24 bands. "
   ]
  },
  {
   "cell_type": "markdown",
   "metadata": {},
   "source": [
    "<a href = \"#toc\">Table of Contents</a>"
   ]
  },
  {
   "cell_type": "markdown",
   "metadata": {},
   "source": [
    "**TBD** Need label for this setup section"
   ]
  },
  {
   "cell_type": "markdown",
   "metadata": {},
   "source": [
    "<a id='sample'></a>"
   ]
  },
  {
   "cell_type": "code",
   "execution_count": 50,
   "metadata": {},
   "outputs": [],
   "source": [
    "# Astropy and requests imports\n",
    "from astropy.coordinates import SkyCoord\n",
    "import astropy.units as u\n",
    "from astropy.table import Table\n",
    "import requests\n",
    "\n",
    "# Utility functions used in the workshop.\n",
    "from workshop_utils.utils import print_registry_row, download_file\n",
    "\n",
    "# Use the (in-progress) VO astroquery module\n",
    "from navo_utils.registry import Registry\n",
    "from navo_utils.image import Image, ImageColumn\n",
    "from navo_utils.utils import astropy_table_from_votable_response\n"
   ]
  },
  {
   "cell_type": "code",
   "execution_count": 39,
   "metadata": {},
   "outputs": [],
   "source": [
    "## Suppress unimportant warnings.\n",
    "import warnings\n",
    "warnings.filterwarnings(\"ignore\")"
   ]
  },
  {
   "cell_type": "markdown",
   "metadata": {},
   "source": [
    "## 2. Science Sample for Today: Interacting Galaxies\n",
    "\n",
    "A HEASARC scientist is studying a sample of potentially interacting galaxies, and these will be the focus of our examples during this workshop. She has put the coordinates of these galaxies into a simple CSV file."
   ]
  },
  {
   "cell_type": "code",
   "execution_count": 6,
   "metadata": {},
   "outputs": [
    {
     "name": "stdout",
     "output_type": "stream",
     "text": [
      "   ra     dec  \n",
      "------- -------\n",
      "9.90704 8.96507\n",
      "19.0186 46.7304\n",
      "20.2887 40.4703\n",
      "125.886 21.3377\n",
      "136.002 21.9679\n",
      "141.057 40.6372\n",
      "  146.7 22.0116\n",
      "148.785 14.2922\n",
      "149.751 17.8168\n",
      "175.039  15.327\n",
      "    ...     ...\n",
      "241.519 20.8014\n",
      "317.088 18.2002\n",
      "329.235 6.64845\n",
      " 333.83 37.3012\n",
      "335.756 30.9249\n",
      "344.396 19.7827\n",
      "348.682 4.53407\n",
      " 350.39 27.1181\n",
      "350.438 9.07761\n",
      "357.827 20.5778\n",
      "0.36165 31.4334\n",
      "Length = 30 rows\n"
     ]
    }
   ],
   "source": [
    "from astropy.io import ascii\n",
    "list_of_galaxies = ascii.read('interacting_gals.csv', delimiter=',')  \n",
    "print(list_of_galaxies)     "
   ]
  },
  {
   "cell_type": "markdown",
   "metadata": {},
   "source": [
    "<a href = \"#toc\">Table of Contents</a>"
   ]
  },
  {
   "cell_type": "markdown",
   "metadata": {},
   "source": [
    "<a id='ned'></a>"
   ]
  },
  {
   "cell_type": "markdown",
   "metadata": {},
   "source": [
    "## 3. Data Discovery: NASA/IPAC Extragalactic Database (NED)\n",
    "\n",
    "A common first step in extragalactic studies is to search NED to see what is already in the literature about your sample. In this example, we are going to do a quick SED search to find out which missions cover most of these galaxies. This will give us on overview of what kinds of data we might be interested in exploring in more detail."
   ]
  },
  {
   "cell_type": "markdown",
   "metadata": {},
   "source": [
    "Add a simple concrete example doing a NED example. Querying NED for SED. Talk about how other queries that NED might have, and consider adding a VO query.\n",
    "\n",
    "Start with this simple cone search\n",
    "http://vao.stsci.edu/directory/getRecord.aspx?id=ivo://ned.ipac/Basic_Data_Near_Position\n",
    "\n",
    "**TBD** The access_url for that cone search is http://ned.ipac.caltech.edu/cgi-bin/NEDobjsearch?search_type=Near+Position+Search&of=xml_main&\n",
    "Why is it mentioned here?"
   ]
  },
  {
   "cell_type": "code",
   "execution_count": 51,
   "metadata": {},
   "outputs": [
    {
     "name": "stdout",
     "output_type": "stream",
     "text": [
      "    Querying service http://vo.ned.ipac.caltech.edu/services/querySED?REQUEST=queryData\n",
      "    Got 1 results for parameters[0]\n",
      "    Got 1 results for parameters[1]\n",
      "    Got 2 results for parameters[2]\n",
      "    Got 2 results for parameters[3]\n",
      "    Got 6 results for parameters[4]\n",
      "    Got 2 results for parameters[5]\n",
      "    Got 1 results for parameters[6]\n",
      "    Got 4 results for parameters[7]\n",
      "    Got 6 results for parameters[8]\n",
      "    Got 1 results for parameters[9]\n",
      "    Got 1 results for parameters[10]\n",
      "    Got 1 results for parameters[11]\n",
      "    Got 3 results for parameters[12]\n",
      "    Got 2 results for parameters[13]\n",
      "    Got 2 results for parameters[14]\n",
      "    Got 3 results for parameters[15]\n",
      "    Got 2 results for parameters[16]\n",
      "    Got 2 results for parameters[17]\n",
      "    Got 3 results for parameters[18]\n",
      "    Got 2 results for parameters[19]\n",
      "    Got 3 results for parameters[20]\n",
      "    Got 1 results for parameters[21]\n",
      "    Got 2 results for parameters[22]\n",
      "    Got 3 results for parameters[23]\n",
      "    Got 1 results for parameters[24]\n",
      "    Got 3 results for parameters[25]\n",
      "    Got 1 results for parameters[26]\n",
      "    Got 2 results for parameters[27]\n",
      "    Got 1 results for parameters[28]\n",
      "    Got 1 results for parameters[29]\n",
      "\n",
      "Galaxy 0: 1 results found for 9.90704 8.96507\n",
      "Querying http://vo.ned.ipac.caltech.edu/services/accessSED?REQUEST=getData&TARGETNAME=UGC%2000418\n",
      "DataSpectralPassBand\n",
      "--------------------\n",
      "      FUV (GALEX) AB\n",
      "      FUV (GALEX) AB\n",
      "      NUV (GALEX) AB\n",
      "      NUV (GALEX) AB\n",
      "                 m_p\n",
      "             B (m_B)\n",
      "           B (m_B^0)\n",
      "                   I\n",
      "                   I\n",
      "  J_14arcsec (2MASS)\n",
      "                   J\n",
      "                   J\n",
      "                   H\n",
      "  H_14arcsec (2MASS)\n",
      "                   H\n",
      "                 K_s\n",
      "K_s_14arcsec (2MASS)\n",
      "                 K_s\n",
      "\n",
      "Galaxy 1: 1 results found for 19.0186 46.7304\n",
      "Querying http://vo.ned.ipac.caltech.edu/services/accessSED?REQUEST=getData&TARGETNAME=CGCG%20551-011\n",
      "DataSpectralPassBand\n",
      "--------------------\n",
      "                 m_p\n",
      "   V (Johnson) (OAN)\n",
      "   R (Cousins) (OAN)\n",
      "   I (Cousins) (OAN)\n",
      "                   J\n",
      "  J_14arcsec (2MASS)\n",
      "                   J\n",
      "  H_14arcsec (2MASS)\n",
      "                   H\n",
      "                   H\n",
      "K_s_14arcsec (2MASS)\n",
      "                 K_s\n",
      "                 K_s\n",
      "  4.5 microns (IRAC)\n",
      "  4.5 microns (IRAC)\n",
      "  5.8 microns (IRAC)\n",
      "  5.8 microns (IRAC)\n",
      "  8.0 microns (IRAC)\n",
      "  8.0 microns (IRAC)\n",
      "              1.4GHz\n",
      "\n",
      "Galaxy 2: 2 results found for 20.2887 40.4703\n",
      "Querying http://vo.ned.ipac.caltech.edu/services/accessSED?REQUEST=getData&TARGETNAME=CGCG%20536-030\n",
      "DataSpectralPassBand\n",
      "--------------------\n",
      "                 m_p\n",
      "                   J\n",
      "                   J\n",
      "  J_14arcsec (2MASS)\n",
      "                   H\n",
      "                   H\n",
      "  H_14arcsec (2MASS)\n",
      "                 K_s\n",
      "                 K_s\n",
      "K_s_14arcsec (2MASS)\n",
      "              1.4GHz\n",
      "\n",
      "Galaxy 3: 2 results found for 125.886 21.3377\n",
      "Querying http://vo.ned.ipac.caltech.edu/services/accessSED?REQUEST=getData&TARGETNAME=IC%202338\n",
      "DataSpectralPassBand\n",
      "--------------------\n",
      "      FUV (GALEX) AB\n",
      "      FUV (GALEX) AB\n",
      "      NUV (GALEX) AB\n",
      "      NUV (GALEX) AB\n",
      "     u (SDSS PSF) AB\n",
      "   u (SDSS Model) AB\n",
      "  u (SDSS CModel) AB\n",
      "u (SDSS Petrosian)AB\n",
      "     u (SDSS PSF) AB\n",
      "  u (SDSS CModel) AB\n",
      "                 ...\n",
      "  3.6 microns (IRAC)\n",
      "  3.6 microns (IRAC)\n",
      "  4.5 microns (IRAC)\n",
      "  4.5 microns (IRAC)\n",
      "  5.8 microns (IRAC)\n",
      "  5.8 microns (IRAC)\n",
      "  8.0 microns (IRAC)\n",
      "  8.0 microns (IRAC)\n",
      "   24 microns (MIPS)\n",
      "   24 microns (MIPS)\n",
      "       1.4 GHz (VLA)\n",
      "Length = 68 rows\n",
      "\n",
      "Galaxy 4: 6 results found for 136.002 21.9679\n",
      "Querying http://vo.ned.ipac.caltech.edu/services/accessSED?REQUEST=getData&TARGETNAME=SDSS%20J090400.69%2B215756.5\n",
      "DataSpectralPassBand\n",
      "--------------------\n",
      "     u (SDSS PSF) AB\n",
      "     g (SDSS PSF) AB\n",
      "     r (SDSS PSF) AB\n",
      "     i (SDSS PSF) AB\n",
      "     z (SDSS PSF) AB\n",
      "\n",
      "Galaxy 5: 2 results found for 141.057 40.6372\n",
      "Querying http://vo.ned.ipac.caltech.edu/services/accessSED?REQUEST=getData&TARGETNAME=MCG%20%2B07-20-001\n",
      "DataSpectralPassBand\n",
      "--------------------\n",
      "      FUV (GALEX) AB\n",
      "      FUV (GALEX) AB\n",
      "      NUV (GALEX) AB\n",
      "      NUV (GALEX) AB\n",
      "     u (SDSS PSF) AB\n",
      "   u (SDSS Model) AB\n",
      "  u (SDSS CModel) AB\n",
      "u (SDSS Petrosian)AB\n",
      "     g (SDSS PSF) AB\n",
      "   g (SDSS Model) AB\n",
      "                 ...\n",
      "   z (SDSS Model) AB\n",
      "z (SDSS Petrosian)AB\n",
      "  J_14arcsec (2MASS)\n",
      "                   J\n",
      "                   J\n",
      "  H_14arcsec (2MASS)\n",
      "                   H\n",
      "                   H\n",
      "K_s_14arcsec (2MASS)\n",
      "                 K_s\n",
      "                 K_s\n",
      "Length = 34 rows\n",
      "\n",
      "Galaxy 6: 1 results found for 146.7 22.0116\n",
      "Querying http://vo.ned.ipac.caltech.edu/services/accessSED?REQUEST=getData&TARGETNAME=SDSS%20J094653.87%2B220048.6\n",
      "DataSpectralPassBand\n",
      "--------------------\n",
      "     u (SDSS PSF) AB\n",
      "  u (SDSS CModel) AB\n",
      "   u (SDSS Model) AB\n",
      "     g (SDSS PSF) AB\n",
      "  g (SDSS CModel) AB\n",
      "   g (SDSS Model) AB\n",
      "  r (SDSS CModel) AB\n",
      "     r (SDSS PSF) AB\n",
      "   r (SDSS Model) AB\n",
      "     i (SDSS PSF) AB\n",
      "  i (SDSS CModel) AB\n",
      "   i (SDSS Model) AB\n",
      "     z (SDSS PSF) AB\n",
      "  z (SDSS CModel) AB\n",
      "   z (SDSS Model) AB\n",
      "\n",
      "Galaxy 7: 4 results found for 148.785 14.2922\n",
      "Querying http://vo.ned.ipac.caltech.edu/services/accessSED?REQUEST=getData&TARGETNAME=SDSS%20J095508.37%2B141734.4\n",
      "DataSpectralPassBand\n",
      "--------------------\n",
      "     u (SDSS PSF) AB\n",
      "  u (SDSS CModel) AB\n",
      "   u (SDSS Model) AB\n",
      "     g (SDSS PSF) AB\n",
      "  g (SDSS CModel) AB\n",
      "   g (SDSS Model) AB\n",
      "  r (SDSS CModel) AB\n",
      "     r (SDSS PSF) AB\n",
      "   r (SDSS Model) AB\n",
      "     i (SDSS PSF) AB\n",
      "  i (SDSS CModel) AB\n",
      "   i (SDSS Model) AB\n",
      "     z (SDSS PSF) AB\n",
      "  z (SDSS CModel) AB\n",
      "   z (SDSS Model) AB\n",
      "\n",
      "Galaxy 8: 6 results found for 149.751 17.8168\n",
      "Querying http://vo.ned.ipac.caltech.edu/services/accessSED?REQUEST=getData&TARGETNAME=SDSS%20J095900.26%2B174852.5\n",
      "DataSpectralPassBand\n",
      "--------------------\n",
      "     u (SDSS PSF) AB\n",
      "     g (SDSS PSF) AB\n",
      "     r (SDSS PSF) AB\n",
      "     i (SDSS PSF) AB\n",
      "     z (SDSS PSF) AB\n",
      "\n",
      "Galaxy 9: 1 results found for 175.039 15.327\n",
      "Querying http://vo.ned.ipac.caltech.edu/services/accessSED?REQUEST=getData&TARGETNAME=NGC%203799\n",
      "DataSpectralPassBand\n",
      "--------------------\n",
      "     u (SDSS PSF) AB\n",
      "   u (SDSS Model) AB\n",
      "  u (SDSS CModel) AB\n",
      "u (SDSS Petrosian)AB\n",
      "     u (SDSS PSF) AB\n",
      "  u (SDSS CModel) AB\n",
      "   u (SDSS Model) AB\n",
      "                 m_p\n",
      "             B (m_B)\n",
      "           B (m_B^0)\n",
      "                 ...\n",
      "     z (SDSS PSF) AB\n",
      "   z (SDSS Model) AB\n",
      "                   J\n",
      "                   J\n",
      "  J_14arcsec (2MASS)\n",
      "  H_14arcsec (2MASS)\n",
      "                   H\n",
      "                   H\n",
      "K_s_14arcsec (2MASS)\n",
      "                 K_s\n",
      "                 K_s\n",
      "Length = 49 rows\n",
      "\n",
      "Galaxy 10: 1 results found for 191.542 30.7317\n",
      "Querying http://vo.ned.ipac.caltech.edu/services/accessSED?REQUEST=getData&TARGETNAME=NGC%204676A\n",
      "DataSpectralPassBand\n",
      "--------------------\n",
      "  2-10 keV (Chandra)\n",
      "  2-10 keV (Chandra)\n",
      " 0.5-2 keV (Chandra)\n",
      "      FUV (GALEX) AB\n",
      "      FUV (GALEX) AB\n",
      "      FUV (GALEX) AB\n",
      "     UVW2 (Swift) AB\n",
      "     UVW2 (Swift) AB\n",
      "      NUV (GALEX) AB\n",
      "     UVM2 (Swift) AB\n",
      "                 ...\n",
      "  22 microns WISE AB\n",
      "  22 microns WISE AB\n",
      "  24 microns MIPS AB\n",
      "  24 microns MIPS AB\n",
      "   24 microns (MIPS)\n",
      "   24 microns (MIPS)\n",
      "            2380 MHz\n",
      "              1.4GHz\n",
      "              1.4GHz\n",
      "              1.4GHz\n",
      "       1.4 GHz (VLA)\n",
      "Length = 99 rows\n",
      "\n",
      "Galaxy 11: 1 results found for 194.913 28.8959\n",
      "Querying http://vo.ned.ipac.caltech.edu/services/accessSED?REQUEST=getData&TARGETNAME=IC%203990\n",
      "DataSpectralPassBand\n",
      "--------------------\n",
      "      FUV (GALEX) AB\n",
      "      FUV (GALEX) AB\n",
      "      FUV (GALEX) AB\n",
      "      FUV (GALEX) AB\n",
      "      NUV (GALEX) AB\n",
      "      NUV (GALEX) AB\n",
      "      NUV (GALEX) AB\n",
      "      NUV (GALEX) AB\n",
      "     u (SDSS PSF) AB\n",
      "   u (SDSS Model) AB\n",
      "                 ...\n",
      "                   J\n",
      "  H_14arcsec (2MASS)\n",
      "                   H\n",
      "                   H\n",
      "K_s_14arcsec (2MASS)\n",
      "                 K_s\n",
      "                 K_s\n",
      "   24 microns (MIPS)\n",
      "   24 microns (MIPS)\n",
      "              1.4GHz\n",
      "              1.4GHz\n",
      "Length = 63 rows\n",
      "\n",
      "Galaxy 12: 3 results found for 199.026 41.5011\n",
      "Querying http://vo.ned.ipac.caltech.edu/services/accessSED?REQUEST=getData&TARGETNAME=NVSS%20J131605%2B413003\n",
      "DataSpectralPassBand\n",
      "--------------------\n",
      "              1.4GHz\n",
      "\n",
      "Galaxy 13: 2 results found for 206.577 43.8511\n",
      "Querying http://vo.ned.ipac.caltech.edu/services/accessSED?REQUEST=getData&TARGETNAME=NGC%205296\n",
      "DataSpectralPassBand\n",
      "--------------------\n",
      "     u (SDSS PSF) AB\n",
      "   u (SDSS Model) AB\n",
      "  u (SDSS CModel) AB\n",
      "u (SDSS Petrosian)AB\n",
      "     u (SDSS PSF) AB\n",
      "  u (SDSS CModel) AB\n",
      "   u (SDSS Model) AB\n",
      "             U (U_T)\n",
      "           U (U_T^0)\n",
      "                 m_p\n",
      "                 ...\n",
      "                 K_s\n",
      "  3.6 microns (IRAC)\n",
      "  3.6 microns (IRAC)\n",
      "  4.5 microns (IRAC)\n",
      "  4.5 microns (IRAC)\n",
      "  5.8 microns (IRAC)\n",
      "  5.8 microns (IRAC)\n",
      "  8.0 microns (IRAC)\n",
      "  8.0 microns (IRAC)\n",
      "   24 microns (MIPS)\n",
      "   24 microns (MIPS)\n",
      "Length = 66 rows\n",
      "\n",
      "Galaxy 14: 2 results found for 209.963 38.1821\n",
      "Querying http://vo.ned.ipac.caltech.edu/services/accessSED?REQUEST=getData&TARGETNAME=GALEXASC%20J135951.23%2B381052.1\n"
     ]
    },
    {
     "name": "stdout",
     "output_type": "stream",
     "text": [
      "DataSpectralPassBand\n",
      "--------------------\n",
      "      FUV (GALEX) AB\n",
      "      FUV (GALEX) AB\n",
      "      NUV (GALEX) AB\n",
      "      NUV (GALEX) AB\n",
      "\n",
      "Galaxy 15: 3 results found for 213.556 15.6214\n",
      "Querying http://vo.ned.ipac.caltech.edu/services/accessSED?REQUEST=getData&TARGETNAME=SDSS%20J141413.34%2B153713.8\n",
      "DataSpectralPassBand\n",
      "--------------------\n",
      "     u (SDSS PSF) AB\n",
      "     g (SDSS PSF) AB\n",
      "     r (SDSS PSF) AB\n",
      "     i (SDSS PSF) AB\n",
      "     z (SDSS PSF) AB\n",
      "\n",
      "Galaxy 16: 2 results found for 219.967 42.7421\n",
      "Querying http://vo.ned.ipac.caltech.edu/services/accessSED?REQUEST=getData&TARGETNAME=NGC%205730\n",
      "DataSpectralPassBand\n",
      "--------------------\n",
      "     u (SDSS PSF) AB\n",
      "   u (SDSS Model) AB\n",
      "  u (SDSS CModel) AB\n",
      "u (SDSS Petrosian)AB\n",
      "             B (m_B)\n",
      "           B (m_B^0)\n",
      "                 m_p\n",
      " B (Johnson) Burrell\n",
      "     g (SDSS PSF) AB\n",
      "   g (SDSS Model) AB\n",
      "                 ...\n",
      "  J_14arcsec (2MASS)\n",
      "  H_14arcsec (2MASS)\n",
      "                   H\n",
      "                   H\n",
      "K_s_14arcsec (2MASS)\n",
      "                 K_s\n",
      "                 K_s\n",
      "   25 microns (IRAS)\n",
      "   60 microns (IRAS)\n",
      "              1.4GHz\n",
      "       1.4 GHz (VLA)\n",
      "Length = 38 rows\n",
      "\n",
      "Galaxy 17: 2 results found for 226.693 12.8502\n",
      "Querying http://vo.ned.ipac.caltech.edu/services/accessSED?REQUEST=getData&TARGETNAME=CGCG%20077-007\n",
      "DataSpectralPassBand\n",
      "--------------------\n",
      "     u (SDSS PSF) AB\n",
      "  u (SDSS CModel) AB\n",
      "   u (SDSS Model) AB\n",
      "                 m_p\n",
      "     g (SDSS PSF) AB\n",
      "  g (SDSS CModel) AB\n",
      "   g (SDSS Model) AB\n",
      "     r (SDSS PSF) AB\n",
      "  r (SDSS CModel) AB\n",
      "   r (SDSS Model) AB\n",
      "                 ...\n",
      "   z (SDSS Model) AB\n",
      "                   J\n",
      "                   J\n",
      "  J_14arcsec (2MASS)\n",
      "                   H\n",
      "                   H\n",
      "  H_14arcsec (2MASS)\n",
      "K_s_14arcsec (2MASS)\n",
      "                 K_s\n",
      "                 K_s\n",
      "              1.4GHz\n",
      "Length = 26 rows\n",
      "\n",
      "Galaxy 18: 3 results found for 237.489 20.8057\n",
      "Querying http://vo.ned.ipac.caltech.edu/services/accessSED?REQUEST=getData&TARGETNAME=NVSS%20J154957%2B204818\n",
      "DataSpectralPassBand\n",
      "--------------------\n",
      "              1.4GHz\n",
      "\n",
      "Galaxy 19: 2 results found for 241.519 20.8014\n",
      "Querying http://vo.ned.ipac.caltech.edu/services/accessSED?REQUEST=getData&TARGETNAME=UGC%2010198\n",
      "DataSpectralPassBand\n",
      "--------------------\n",
      "      NUV (GALEX) AB\n",
      "      NUV (GALEX) AB\n",
      "     u (SDSS PSF) AB\n",
      "  u (SDSS CModel) AB\n",
      "   u (SDSS Model) AB\n",
      "     g (SDSS PSF) AB\n",
      "  g (SDSS CModel) AB\n",
      "   g (SDSS Model) AB\n",
      "     r (SDSS PSF) AB\n",
      "  r (SDSS CModel) AB\n",
      "                 ...\n",
      "   z (SDSS Model) AB\n",
      "                   J\n",
      "  J_14arcsec (2MASS)\n",
      "                   J\n",
      "                   H\n",
      "  H_14arcsec (2MASS)\n",
      "                   H\n",
      "                 K_s\n",
      "K_s_14arcsec (2MASS)\n",
      "                 K_s\n",
      "       1.4 GHz (VLA)\n",
      "Length = 27 rows\n",
      "\n",
      "Galaxy 20: 3 results found for 317.088 18.2002\n",
      "Querying http://vo.ned.ipac.caltech.edu/services/accessSED?REQUEST=getData&TARGETNAME=NVSS%20J210821%2B181155\n",
      "DataSpectralPassBand\n",
      "--------------------\n",
      "              1.4GHz\n",
      "\n",
      "Galaxy 21: 1 results found for 329.235 6.64845\n",
      "Querying http://vo.ned.ipac.caltech.edu/services/accessSED?REQUEST=getData&TARGETNAME=MRK%200517\n",
      "DataSpectralPassBand\n",
      "--------------------\n",
      "                J_pg\n",
      "                F_pg\n",
      "                   J\n",
      "  J_14arcsec (2MASS)\n",
      "                   J\n",
      "  H_14arcsec (2MASS)\n",
      "                   H\n",
      "                   H\n",
      "K_s_14arcsec (2MASS)\n",
      "                 K_s\n",
      "                 K_s\n",
      "\n",
      "Galaxy 22: 2 results found for 333.83 37.3012\n",
      "Querying http://vo.ned.ipac.caltech.edu/services/accessSED?REQUEST=getData&TARGETNAME=GALEXASC%20J221519.04%2B371804.8\n",
      "DataSpectralPassBand\n",
      "--------------------\n",
      "      FUV (GALEX) AB\n",
      "      FUV (GALEX) AB\n",
      "      NUV (GALEX) AB\n",
      "      NUV (GALEX) AB\n",
      "\n",
      "Galaxy 23: 3 results found for 335.756 30.9249\n",
      "Querying http://vo.ned.ipac.caltech.edu/services/accessSED?REQUEST=getData&TARGETNAME=UGC%2012011\n",
      "DataSpectralPassBand\n",
      "--------------------\n",
      "                 m_p\n",
      "   12 microns (IRAS)\n",
      "   25 microns (IRAS)\n",
      "   60 microns (IRAS)\n",
      "  100 microns (IRAS)\n",
      "            2380 MHz\n",
      "\n",
      "Galaxy 24: 1 results found for 344.396 19.7827\n",
      "Querying http://vo.ned.ipac.caltech.edu/services/accessSED?REQUEST=getData&TARGETNAME=UGC%2012265S\n",
      "DataSpectralPassBand\n",
      "--------------------\n",
      "      FUV (GALEX) AB\n",
      "      FUV (GALEX) AB\n",
      "      FUV (GALEX) AB\n",
      "      FUV (GALEX) AB\n",
      "      NUV (GALEX) AB\n",
      "      NUV (GALEX) AB\n",
      "      NUV (GALEX) AB\n",
      "      NUV (GALEX) AB\n",
      "                   J\n",
      "  J_14arcsec (2MASS)\n",
      "                 ...\n",
      "K_s_14arcsec (2MASS)\n",
      "  3.6 microns (IRAC)\n",
      "  3.6 microns (IRAC)\n",
      "  4.5 microns (IRAC)\n",
      "  4.5 microns (IRAC)\n",
      "  5.8 microns (IRAC)\n",
      "  5.8 microns (IRAC)\n",
      "  8.0 microns (IRAC)\n",
      "  8.0 microns (IRAC)\n",
      "   24 microns (MIPS)\n",
      "   24 microns (MIPS)\n",
      "Length = 27 rows\n",
      "\n",
      "Galaxy 25: 3 results found for 348.682 4.53407\n",
      "Querying http://vo.ned.ipac.caltech.edu/services/accessSED?REQUEST=getData&TARGETNAME=CXO%20J231443.90%2B043202.4\n",
      "DataSpectralPassBand\n",
      "--------------------\n",
      " 0.3-8 keV (Chandra)\n",
      "\n",
      "Galaxy 26: 1 results found for 350.39 27.1181\n",
      "Querying http://vo.ned.ipac.caltech.edu/services/accessSED?REQUEST=getData&TARGETNAME=UGC%2012543\n",
      "DataSpectralPassBand\n",
      "--------------------\n",
      "      FUV (GALEX) AB\n",
      "      FUV (GALEX) AB\n",
      "      NUV (GALEX) AB\n",
      "      NUV (GALEX) AB\n",
      "                 m_p\n",
      "             B (m_B)\n",
      "           B (m_B^0)\n",
      "                   I\n",
      "                   I\n",
      "  J_14arcsec (2MASS)\n",
      "                   J\n",
      "                   J\n",
      "                   H\n",
      "  H_14arcsec (2MASS)\n",
      "                   H\n",
      "                 K_s\n",
      "K_s_14arcsec (2MASS)\n",
      "                 K_s\n",
      "\n",
      "Galaxy 27: 2 results found for 350.438 9.07761\n",
      "Querying http://vo.ned.ipac.caltech.edu/services/accessSED?REQUEST=getData&TARGETNAME=GALEXASC%20J232145.33%2B090442.2\n",
      "DataSpectralPassBand\n",
      "--------------------\n",
      "      FUV (GALEX) AB\n",
      "      FUV (GALEX) AB\n",
      "      NUV (GALEX) AB\n",
      "      NUV (GALEX) AB\n",
      "\n",
      "Galaxy 28: 1 results found for 357.827 20.5778\n",
      "Querying http://vo.ned.ipac.caltech.edu/services/accessSED?REQUEST=getData&TARGETNAME=UGC%2012812\n",
      "DataSpectralPassBand\n",
      "--------------------\n",
      "      FUV (GALEX) AB\n",
      "      FUV (GALEX) AB\n",
      "      FUV (GALEX) AB\n",
      "      FUV (GALEX) AB\n",
      "      NUV (GALEX) AB\n",
      "      NUV (GALEX) AB\n",
      "      NUV (GALEX) AB\n",
      "      NUV (GALEX) AB\n",
      "           U (U_T^0)\n",
      "             U (U_T)\n",
      "                 ...\n",
      "  3.6 microns (IRAC)\n",
      "  3.6 microns (IRAC)\n",
      "  4.5 microns (IRAC)\n",
      "  4.5 microns (IRAC)\n",
      "  5.8 microns (IRAC)\n",
      "  5.8 microns (IRAC)\n",
      "  8.0 microns (IRAC)\n",
      "  8.0 microns (IRAC)\n",
      "   24 microns (MIPS)\n",
      "   24 microns (MIPS)\n",
      "       1.4 GHz (VLA)\n",
      "Length = 35 rows\n",
      "\n",
      "Galaxy 29: 1 results found for 0.36165 31.4334\n",
      "Querying http://vo.ned.ipac.caltech.edu/services/accessSED?REQUEST=getData&TARGETNAME=NGC%207805\n",
      "DataSpectralPassBand\n",
      "--------------------\n",
      "      FUV (GALEX) AB\n",
      "      FUV (GALEX) AB\n",
      "      NUV (GALEX) AB\n",
      "      NUV (GALEX) AB\n",
      "      NUV (GALEX) AB\n",
      "           U (U_T^0)\n",
      "             U (U_T)\n",
      "                 m_p\n",
      "             B (B_T)\n",
      "             B (m_B)\n",
      "                 ...\n",
      "         R (Johnson)\n",
      "  J_14arcsec (2MASS)\n",
      "                   J\n",
      "                   J\n",
      "                   H\n",
      "                   H\n",
      "  H_14arcsec (2MASS)\n",
      "                 K_s\n",
      "K_s_14arcsec (2MASS)\n",
      "                 K_s\n",
      "            2380 MHz\n",
      "Length = 29 rows\n"
     ]
    }
   ],
   "source": [
    "ned_base_url = 'http://vo.ned.ipac.caltech.edu'\n",
    "ned_sed_query_path = '/services/querySED?REQUEST=queryData'\n",
    "\n",
    "query_url = ned_base_url + ned_sed_query_path\n",
    "search_radius = 5.0 / 3600.0\n",
    "\n",
    "# Create a list of coordinate strings for input to the query.\n",
    "# Each element needs to be a string that is parseable by SkyCoord.\n",
    "skycoord_list = [str(row['ra'])+' '+str(row['dec']) for row in list_of_galaxies]\n",
    "\n",
    "result_list = Image.query(coords=skycoord_list, radius=search_radius, service=access_url)\n",
    "\n",
    "for i, result in enumerate(result_list):\n",
    "    print(f'\\nGalaxy {i}: {len(result)} results found for {skycoord_list[i]}')\n",
    "    if len(result) > 0:\n",
    "        # The column 'ACREF' contains the URL suffix for a NED SED query on the item.\n",
    "        # Get the query suffix for the first item in the result.  Note that special \n",
    "        # characters need to be url-encoded.\n",
    "        suffix = urllib.parse.quote(result[0]['ACREF'], safe = '/,&,?,=')\n",
    "        ned_targetname_url = ned_base_url + suffix\n",
    "        \n",
    "        #Retrieve the SED using the Access URL, put it into an Astropy table,\n",
    "        #And print the passbands in the SED.\n",
    "        print(f'Querying {ned_targetname_url}')\n",
    "        ned_data_response = requests.get(ned_targetname_url)\n",
    "        if ned_data_response.status_code == 200:\n",
    "            ned_data_table = astropy_table_from_votable_response(ned_data_response)\n",
    "            print(ned_data_table['DataSpectralPassBand'])\n",
    "\n"
   ]
  },
  {
   "cell_type": "markdown",
   "metadata": {},
   "source": [
    "By perusing the above, we can see that there are several data sets that crop up again and again. For the sake of this workshop, we will concentrate on GALEX, WISE, and 2MASS."
   ]
  },
  {
   "cell_type": "markdown",
   "metadata": {},
   "source": [
    "## 4. Data Discovery -- The Registry\n",
    "\n",
    "Archives register their data sets so that programs can discover them:\n",
    "http://vao.stsci.edu/keyword-search/\n",
    "\n",
    "The link above is a GUI, so you can play around with it. There is also an applications program interface (API) to this service, so that programs can send queries and retrieve search results automatically.  More details and examples can be found in *registry_prototype.ipynb* in this same directory.\n",
    "### Imports for VO Queries "
   ]
  },
  {
   "cell_type": "markdown",
   "metadata": {},
   "source": [
    "<a id='registryheasarc'></a>"
   ]
  },
  {
   "cell_type": "markdown",
   "metadata": {},
   "source": [
    "### 4a. Find all simple image access data sets from HEASARC."
   ]
  },
  {
   "cell_type": "code",
   "execution_count": null,
   "metadata": {},
   "outputs": [],
   "source": [
    "# Find all SIA services from HEASARC.\n",
    "heasarc_image_services = Registry.query(source='heasarc', service_type='image')\n",
    "\n",
    "heasarc_image_services.show_in_notebook()\n"
   ]
  },
  {
   "cell_type": "markdown",
   "metadata": {},
   "source": [
    "### Exercise: Try replacing heasarc with irsa, stsci, ned in the above.\n",
    "\n",
    "### Exercise: Try replacing image with cone, spectr, table in the above."
   ]
  },
  {
   "cell_type": "markdown",
   "metadata": {},
   "source": [
    "<a id='registryallwise'></a>"
   ]
  },
  {
   "cell_type": "markdown",
   "metadata": {},
   "source": [
    "### 4b. Use the Registry to find the Base URL for AllWISE"
   ]
  },
  {
   "cell_type": "code",
   "execution_count": null,
   "metadata": {},
   "outputs": [],
   "source": [
    "# New version\n",
    "table = Registry.query(keyword='allwise', service_type='image')\n",
    "\n",
    "print(f'{len(table)} result(s) found.')\n",
    "for row in table:\n",
    "    print_registry_row(row)"
   ]
  },
  {
   "cell_type": "markdown",
   "metadata": {},
   "source": [
    "<a id='registrymultiwavelength'></a>"
   ]
  },
  {
   "cell_type": "markdown",
   "metadata": {},
   "source": [
    "### 4c. Define Base URLs for GALEX, 2MASS, and AllWISE"
   ]
  },
  {
   "cell_type": "code",
   "execution_count": null,
   "metadata": {},
   "outputs": [],
   "source": [
    "#Decide on missions you are interested in.\n",
    "missions = ['GALEX', '2MASS', 'AllWISE']\n",
    "\n",
    "base_urls = ['http://mast.stsci.edu/portal_vo/Mashup/VoQuery.asmx/SiaV1?MISSION=GALEX&amp;', \n",
    "             'http://irsa.ipac.caltech.edu/ibe/sia/twomass/allsky/allsky?',\n",
    "             'https://irsa.ipac.caltech.edu/ibe/sia/wise/allwise/p3am_cdd?']\n",
    "\n",
    "#Create an astropy table with this info.\n",
    "search_list = Table([missions, base_urls], names = ('mission', 'access_url'))\n",
    "\n",
    "#Show this table.\n",
    "search_list.show_in_notebook()"
   ]
  },
  {
   "cell_type": "markdown",
   "metadata": {},
   "source": [
    "<a id='registryreplace'></a>"
   ]
  },
  {
   "cell_type": "markdown",
   "metadata": {},
   "source": [
    "<a href = \"#toc\">Table of Contents</a>"
   ]
  },
  {
   "cell_type": "markdown",
   "metadata": {},
   "source": [
    "<a id='simpleimageaccess'></a>"
   ]
  },
  {
   "cell_type": "markdown",
   "metadata": {},
   "source": [
    "## 5. Simple Image Access version 1\n",
    "\n",
    "This method of searching for images is meant to be very simple. You specify a search position and size, and the service returns a list of candidate images in VO table format. Each candidate image has an access URL that you can use to grab that image in a second step.\n",
    "\n",
    "More information on the protocol is here:\n",
    "http://www.ivoa.net/documents/SIA/20091116/REC-SIA-1.0.html"
   ]
  },
  {
   "cell_type": "code",
   "execution_count": null,
   "metadata": {},
   "outputs": [],
   "source": [
    "# Specify the query coordinates.  \n",
    "# The query expects a SkyCoord, or any string that can be parsed in to a SkyCoord.\n",
    "sc = SkyCoord(185.47873, 4.47365, unit=u.deg)\n",
    "\n",
    "# Choose a search size. Zero means the image must contain the search point.\n",
    "size = '0'  #diameter in degrees\n",
    "\n",
    "# Perform the query on the 2MASS service.\n",
    "result_list = Image.query(coords=sc, radius=size, service=search_list[2])\n",
    "\n",
    "# The result is a list of tables, one for each coordinate in the query.\n",
    "# In this case, we only input one coordinate, so there will only be one result table in the list.\n",
    "print(f'Number of tables returned:  {len(result_list)}')\n",
    "table = result_list[0]\n",
    "table.show_in_notebook()\n"
   ]
  },
  {
   "cell_type": "markdown",
   "metadata": {},
   "source": [
    "### Exercise: Modify the above to print the analogous GALEX table. You should find that the column names differ, and there are many additional file formats. "
   ]
  },
  {
   "cell_type": "markdown",
   "metadata": {},
   "source": [
    "<a href = \"#toc\">Table of Contents</a>"
   ]
  },
  {
   "cell_type": "code",
   "execution_count": null,
   "metadata": {},
   "outputs": [],
   "source": [
    "# Get the important metadata for the result rows.\n",
    "\n",
    "access_url_col = Image.get_column_name(table, ImageColumn.ACCESS_URL)\n",
    "title_col = Image.get_column_name(table, ImageColumn.TITLE)\n",
    "bandpass_col = Image.get_column_name(table, ImageColumn.BANDPASS)\n",
    "for i, row in enumerate(table):\n",
    "    print(f\"\"\"{i}:  {row[title_col]}\n",
    "    Bandpass: {row[bandpass_col]} \n",
    "    {row[access_url_col]}\n",
    "    \"\"\")"
   ]
  },
  {
   "cell_type": "code",
   "execution_count": null,
   "metadata": {},
   "outputs": [],
   "source": []
  },
  {
   "cell_type": "code",
   "execution_count": null,
   "metadata": {},
   "outputs": [],
   "source": []
  },
  {
   "cell_type": "code",
   "execution_count": null,
   "metadata": {},
   "outputs": [],
   "source": [
    "table = Registry.query(source='stsci', keyword='hla', service_type='image')\n",
    "\n",
    "print(f'{len(table)} result(s) found.')\n",
    "for row in table:\n",
    "    print_registry_row(row)"
   ]
  },
  {
   "cell_type": "code",
   "execution_count": 3,
   "metadata": {},
   "outputs": [
    {
     "data": {
      "text/html": [
       "<i>Table length=4</i>\n",
       "<table id=\"table90526947872-656798\" class=\"table-striped table-bordered table-condensed\">\n",
       "<thead><tr><th>idx</th><th>mission</th><th>access_url</th></tr></thead>\n",
       "<tr><td>0</td><td>GALEX</td><td>http://mast.stsci.edu/portal_vo/Mashup/VoQuery.asmx/SiaV1?MISSION=GALEX&amp;amp;</td></tr>\n",
       "<tr><td>1</td><td>2MASS</td><td>http://irsa.ipac.caltech.edu/ibe/sia/twomass/allsky/allsky?</td></tr>\n",
       "<tr><td>2</td><td>AllWISE</td><td>https://irsa.ipac.caltech.edu/ibe/sia/wise/allwise/p3am_cdd?</td></tr>\n",
       "<tr><td>3</td><td>HLA</td><td>http://hla.stsci.edu/cgi-bin/hlaSIAP.cgi?imagetype=best&amp;amp;inst=ACS,ACSGrism,WFC3,WFPC2,NICMOS,NICGRISM,COS,STIS,FOS,GHRS&amp;amp;proprietary=false&amp;amp;</td></tr>\n",
       "</table><style>table.dataTable {clear: both; width: auto !important; margin: 0 !important;}\n",
       ".dataTables_info, .dataTables_length, .dataTables_filter, .dataTables_paginate{\n",
       "display: inline-block; margin-right: 1em; }\n",
       ".paginate_button { margin-right: 5px; }\n",
       "</style>\n",
       "<script>\n",
       "\n",
       "var astropy_sort_num = function(a, b) {\n",
       "    var a_num = parseFloat(a);\n",
       "    var b_num = parseFloat(b);\n",
       "\n",
       "    if (isNaN(a_num) && isNaN(b_num))\n",
       "        return ((a < b) ? -1 : ((a > b) ? 1 : 0));\n",
       "    else if (!isNaN(a_num) && !isNaN(b_num))\n",
       "        return ((a_num < b_num) ? -1 : ((a_num > b_num) ? 1 : 0));\n",
       "    else\n",
       "        return isNaN(a_num) ? -1 : 1;\n",
       "}\n",
       "\n",
       "require.config({paths: {\n",
       "    datatables: 'https://cdn.datatables.net/1.10.12/js/jquery.dataTables.min'\n",
       "}});\n",
       "require([\"datatables\"], function(){\n",
       "    console.log(\"$('#table90526947872-656798').dataTable()\");\n",
       "    \n",
       "jQuery.extend( jQuery.fn.dataTableExt.oSort, {\n",
       "    \"optionalnum-asc\": astropy_sort_num,\n",
       "    \"optionalnum-desc\": function (a,b) { return -astropy_sort_num(a, b); }\n",
       "});\n",
       "\n",
       "    $('#table90526947872-656798').dataTable({\n",
       "        order: [],\n",
       "        pageLength: 50,\n",
       "        lengthMenu: [[10, 25, 50, 100, 500, 1000, -1], [10, 25, 50, 100, 500, 1000, 'All']],\n",
       "        pagingType: \"full_numbers\",\n",
       "        columnDefs: [{targets: [0], type: \"optionalnum\"}]\n",
       "    });\n",
       "});\n",
       "</script>\n"
      ],
      "text/plain": [
       "<IPython.core.display.HTML object>"
      ]
     },
     "execution_count": 3,
     "metadata": {},
     "output_type": "execute_result"
    }
   ],
   "source": [
    "#Decide on missions you are interested in.\n",
    "missions = ['GALEX', '2MASS', 'AllWISE', 'HLA']\n",
    "\n",
    "base_urls = ['http://mast.stsci.edu/portal_vo/Mashup/VoQuery.asmx/SiaV1?MISSION=GALEX&amp;', \n",
    "             'http://irsa.ipac.caltech.edu/ibe/sia/twomass/allsky/allsky?',\n",
    "             'https://irsa.ipac.caltech.edu/ibe/sia/wise/allwise/p3am_cdd?',\n",
    "             'http://hla.stsci.edu/cgi-bin/hlaSIAP.cgi?imagetype=best&amp;inst=ACS,ACSGrism,WFC3,WFPC2,NICMOS,NICGRISM,COS,STIS,FOS,GHRS&amp;proprietary=false&amp;'\n",
    "            ]\n",
    "\n",
    "#Create an astropy table with this info.\n",
    "search_list = Table([missions, base_urls], names = ('mission', 'access_url'))\n",
    "\n",
    "#Show this table.\n",
    "search_list.show_in_notebook()"
   ]
  },
  {
   "cell_type": "code",
   "execution_count": 4,
   "metadata": {
    "scrolled": true
   },
   "outputs": [
    {
     "name": "stdout",
     "output_type": "stream",
     "text": [
      "    Querying service http://mast.stsci.edu/portal_vo/Mashup/VoQuery.asmx/SiaV1?MISSION=GALEX&\n"
     ]
    },
    {
     "name": "stderr",
     "output_type": "stream",
     "text": [
      "WARNING: W06: None:9:6: W06: Invalid UCD 'ID_DATASET': Unknown word 'ID_DATASET' [astropy.io.votable.tree]\n",
      "WARNING: W06: None:12:6: W06: Invalid UCD 'INSTR_DET': Unknown word 'INSTR_DET' [astropy.io.votable.tree]\n",
      "WARNING: W06: None:18:6: W06: Invalid UCD 'POS_EQ_RA_MAIN': Unknown word 'POS_EQ_RA_MAIN' [astropy.io.votable.tree]\n",
      "WARNING: W06: None:21:6: W06: Invalid UCD 'POS_EQ_DEC_MAIN': Unknown word 'POS_EQ_DEC_MAIN' [astropy.io.votable.tree]\n"
     ]
    },
    {
     "name": "stdout",
     "output_type": "stream",
     "text": [
      "    Got 84 results for parameters[0]\n",
      "    Querying service http://irsa.ipac.caltech.edu/ibe/sia/twomass/allsky/allsky?\n"
     ]
    },
    {
     "name": "stderr",
     "output_type": "stream",
     "text": [
      "WARNING: W03: None:5:4: W03: Implicitly generating an ID from a name 'INPUT:POS' -> 'INPUT_POS' [astropy.io.votable.xmlutil]\n",
      "WARNING: W03: None:10:4: W03: Implicitly generating an ID from a name 'INPUT:SIZE' -> 'INPUT_SIZE' [astropy.io.votable.xmlutil]\n",
      "WARNING: W03: None:19:4: W03: Implicitly generating an ID from a name 'INPUT:INTERSECT' -> 'INPUT_INTERSECT' [astropy.io.votable.xmlutil]\n",
      "WARNING: W48: None:29:8: W48: Unknown attribute 'value' on OPTION [astropy.io.votable.tree]\n",
      "WARNING: W48: None:30:8: W48: Unknown attribute 'value' on OPTION [astropy.io.votable.tree]\n",
      "WARNING: W48: None:31:8: W48: Unknown attribute 'value' on OPTION [astropy.io.votable.tree]\n",
      "WARNING: W48: None:32:8: W48: Unknown attribute 'value' on OPTION [astropy.io.votable.tree]\n",
      "WARNING: W03: None:35:4: W03: Implicitly generating an ID from a name 'INPUT:FORMAT' -> 'INPUT_FORMAT' [astropy.io.votable.xmlutil]\n",
      "WARNING: W48: None:42:8: W48: Unknown attribute 'value' on OPTION [astropy.io.votable.tree]\n",
      "WARNING: W48: None:43:8: W48: Unknown attribute 'value' on OPTION [astropy.io.votable.tree]\n",
      "WARNING: W48: None:44:8: W48: Unknown attribute 'value' on OPTION [astropy.io.votable.tree]\n",
      "WARNING: W03: None:47:4: W03: Implicitly generating an ID from a name 'INPUT:mcen' -> 'INPUT_mcen' [astropy.io.votable.xmlutil]\n",
      "WARNING: W06: None:77:6: W06: Invalid UCD 'POS_EQ_RA_MAIN': Unknown word 'POS_EQ_RA_MAIN' [astropy.io.votable.tree]\n",
      "WARNING: W06: None:80:6: W06: Invalid UCD 'POS_EQ_DEC_MAIN': Unknown word 'POS_EQ_DEC_MAIN' [astropy.io.votable.tree]\n",
      "WARNING: W48: None:125:10: W48: Unknown attribute 'value' on OPTION [astropy.io.votable.tree]\n",
      "WARNING: W48: None:126:10: W48: Unknown attribute 'value' on OPTION [astropy.io.votable.tree]\n"
     ]
    },
    {
     "name": "stdout",
     "output_type": "stream",
     "text": [
      "    Got 3 results for parameters[0]\n",
      "    Querying service https://irsa.ipac.caltech.edu/ibe/sia/wise/allwise/p3am_cdd?\n",
      "    Got 4 results for parameters[0]\n",
      "    Querying service http://hla.stsci.edu/cgi-bin/hlaSIAP.cgi?imagetype=best&inst=ACS,ACSGrism,WFC3,WFPC2,NICMOS,NICGRISM,COS,STIS,FOS,GHRS&proprietary=false&\n"
     ]
    },
    {
     "name": "stderr",
     "output_type": "stream",
     "text": [
      "WARNING: W42: None:3:0: W42: No XML namespace specified [astropy.io.votable.tree]\n",
      "WARNING: W03: None:8:4: W03: Implicitly generating an ID from a name 'INPUT:POS' -> 'INPUT_POS' [astropy.io.votable.xmlutil]\n",
      "WARNING: W03: None:9:4: W03: Implicitly generating an ID from a name 'INPUT:SIZE' -> 'INPUT_SIZE' [astropy.io.votable.xmlutil]\n",
      "WARNING: W03: None:10:4: W03: Implicitly generating an ID from a name 'INPUT:FORMAT' -> 'INPUT_FORMAT' [astropy.io.votable.xmlutil]\n",
      "WARNING: W03: None:11:4: W03: Implicitly generating an ID from a name 'INPUT:imagetype' -> 'INPUT_imagetype' [astropy.io.votable.xmlutil]\n",
      "WARNING: W03: None:12:4: W03: Implicitly generating an ID from a name 'INPUT:inst' -> 'INPUT_inst' [astropy.io.votable.xmlutil]\n",
      "WARNING: W03: None:13:4: W03: Implicitly generating an ID from a name 'INPUT:hrcmatch' -> 'INPUT_hrcmatch' [astropy.io.votable.xmlutil]\n",
      "WARNING: W03: None:14:4: W03: Implicitly generating an ID from a name 'INPUT:zoom' -> 'INPUT_zoom' [astropy.io.votable.xmlutil]\n",
      "WARNING: W03: None:15:4: W03: Implicitly generating an ID from a name 'INPUT:autoscale' -> 'INPUT_autoscale' [astropy.io.votable.xmlutil]\n",
      "WARNING: W03: None:16:4: W03: Implicitly generating an ID from a name 'INPUT:asinh' -> 'INPUT_asinh' [astropy.io.votable.xmlutil]\n",
      "WARNING: W06: None:17:4: W06: Invalid UCD 'VOX:STC_CoordRefFrame': UCD has invalid character ':' in 'VOX:STC_CoordRefFrame' [astropy.io.votable.tree]\n",
      "WARNING: W06: None:18:4: W06: Invalid UCD 'VOX:WCS_CoordProjection': UCD has invalid character ':' in 'VOX:WCS_CoordProjection' [astropy.io.votable.tree]\n",
      "WARNING: W06: None:20:6: W06: Invalid UCD 'VOX:Image_AccessReference': UCD has invalid character ':' in 'VOX:Image_AccessReference' [astropy.io.votable.tree]\n",
      "WARNING: W06: None:83:6: W06: Invalid UCD 'VOX:Image_Format': UCD has invalid character ':' in 'VOX:Image_Format' [astropy.io.votable.tree]\n",
      "WARNING: W06: None:92:6: W06: Invalid UCD 'VOX:Image_Title': UCD has invalid character ':' in 'VOX:Image_Title' [astropy.io.votable.tree]\n",
      "WARNING: W06: None:95:6: W06: Invalid UCD 'VOX:Image_Naxis': UCD has invalid character ':' in 'VOX:Image_Naxis' [astropy.io.votable.tree]\n",
      "WARNING: W06: None:98:6: W06: Invalid UCD 'VOX:Image_Scale': UCD has invalid character ':' in 'VOX:Image_Scale' [astropy.io.votable.tree]\n",
      "WARNING: W06: None:101:6: W06: Invalid UCD 'VOX:Image_Naxes': UCD has invalid character ':' in 'VOX:Image_Naxes' [astropy.io.votable.tree]\n",
      "WARNING: W06: None:104:6: W06: Invalid UCD 'VOX:WCS_CoordRefPixel': UCD has invalid character ':' in 'VOX:WCS_CoordRefPixel' [astropy.io.votable.tree]\n",
      "WARNING: W06: None:107:6: W06: Invalid UCD 'VOX:WCS_CoordRefValue': UCD has invalid character ':' in 'VOX:WCS_CoordRefValue' (suppressing further warnings of this type...) [astropy.io.votable.tree]\n"
     ]
    },
    {
     "name": "stdout",
     "output_type": "stream",
     "text": [
      "    Got 20 results for parameters[0]\n"
     ]
    }
   ],
   "source": [
    "mission_results = []\n",
    "for resource in search_list:\n",
    "    # Specify the query coordinates.  \n",
    "    # The query expects a SkyCoord, or any string that can be parsed in to a SkyCoord.\n",
    "    sc = SkyCoord(185.47873, 4.47365, unit=u.deg)\n",
    "\n",
    "    # Choose a search size. Zero means the image must contain the search point.\n",
    "    size = '0'  #diameter in degrees\n",
    "\n",
    "    # Perform the query on the 2MASS service.\n",
    "    result_list = Image.query(coords=sc, radius=size, service=resource)\n",
    "    mission_results.append(result_list)\n",
    "    "
   ]
  },
  {
   "cell_type": "code",
   "execution_count": 5,
   "metadata": {},
   "outputs": [
    {
     "name": "stdout",
     "output_type": "stream",
     "text": [
      "\n",
      "download() verbose output:\n",
      "    filename param: None\n",
      "    content-disposition filename: None\n",
      "    filename from URL: NGA_NGC4303-nd-int.fits.gz\n",
      "    computed base_filename: NGA_NGC4303-nd-int.fits.gz\n",
      "    computed full out_path: downloads/NGA_NGC4303-nd-int.fits.gz\n",
      "        \n",
      "File written to: downloads/NGA_NGC4303-nd-int.fits.gz\n",
      "\n",
      "download() verbose output:\n",
      "    filename param: None\n",
      "    content-disposition filename: None\n",
      "    filename from URL: ki0880080.fits.gz\n",
      "    computed base_filename: ki0880080.fits.gz\n",
      "    computed full out_path: downloads/ki0880080.fits.gz\n",
      "        \n",
      "File written to: downloads/ki0880080.fits.gz\n",
      "\n",
      "download() verbose output:\n",
      "    filename param: None\n",
      "    content-disposition filename: None\n",
      "    filename from URL: 1853p045_ac51-w3-int-3.fits\n",
      "    computed base_filename: 1853p045_ac51-w3-int-3.fits\n",
      "    computed full out_path: downloads/1853p045_ac51-w3-int-3.fits\n",
      "        \n",
      "File written to: downloads/1853p045_ac51-w3-int-3.fits\n",
      "\n",
      "download() verbose output:\n",
      "    filename param: None\n",
      "    content-disposition filename: hst_05446_4d_wfpc2_f606w_wf_drz.fits\n",
      "    filename from URL: getdata.cgi?config=ops&amp;dataset=hst_05446_4d_wfpc2_f606w_wf\n",
      "    computed base_filename: hst_05446_4d_wfpc2_f606w_wf_drz.fits\n",
      "    computed full out_path: downloads/hst_05446_4d_wfpc2_f606w_wf_drz.fits\n",
      "        \n",
      "File written to: downloads/hst_05446_4d_wfpc2_f606w_wf_drz.fits\n"
     ]
    }
   ],
   "source": [
    "for i, mission in enumerate(mission_results):\n",
    "    for j, search_coord_result in enumerate(mission):\n",
    "        \n",
    "        # Get interesting columns.\n",
    "        access_url_col = Image.get_column_name(search_coord_result, ImageColumn.ACCESS_URL)\n",
    "        title_col = Image.get_column_name(search_coord_result, ImageColumn.TITLE)\n",
    "        format_col = Image.get_column_name(search_coord_result, ImageColumn.FORMAT)\n",
    "        \n",
    "        if len(search_coord_result) > 0:\n",
    "            first_result = search_coord_result[0]\n",
    "            access_url = first_result[access_url_col]\n",
    "            out_path = download_file(access_url, directory='downloads', verbose=True)\n",
    "            print(f'File written to: {out_path}')"
   ]
  },
  {
   "cell_type": "code",
   "execution_count": null,
   "metadata": {},
   "outputs": [],
   "source": [
    "len(mission_results)"
   ]
  },
  {
   "cell_type": "code",
   "execution_count": null,
   "metadata": {},
   "outputs": [],
   "source": []
  },
  {
   "cell_type": "code",
   "execution_count": null,
   "metadata": {},
   "outputs": [],
   "source": []
  },
  {
   "cell_type": "code",
   "execution_count": null,
   "metadata": {},
   "outputs": [],
   "source": []
  },
  {
   "cell_type": "markdown",
   "metadata": {},
   "source": [
    "<a id='ucd'></a>"
   ]
  },
  {
   "cell_type": "markdown",
   "metadata": {},
   "source": [
    "## 6. Find the Universal Common Descriptors for each column.\n",
    "\n",
    "Each archive can name columns whatever they want, but the *type* of column has a universal name. To see the UCDs for the 2MASS allsky atlas images, try the following:"
   ]
  },
  {
   "cell_type": "code",
   "execution_count": null,
   "metadata": {},
   "outputs": [],
   "source": [
    "for key in table.columns:\n",
    "    col = table.columns[key]\n",
    "    ucdval = col.meta.get('ucd')\n",
    "    print(ucdval)\n",
    "    print(key)\n",
    "    print(' ')\n",
    " "
   ]
  },
  {
   "cell_type": "markdown",
   "metadata": {},
   "source": [
    "The column with UCD = \"VOX:Image_AccessReference\" will have URLs that will lead us to images. The column with UCD = \"VOX:BandPass_ID\" will have the name of the filter. The column with UCD = \"VOX:Image_Format\" will tell us which products are FITS images."
   ]
  },
  {
   "cell_type": "markdown",
   "metadata": {},
   "source": [
    "<a href = \"#toc\">Table of Contents</a>"
   ]
  },
  {
   "cell_type": "markdown",
   "metadata": {},
   "source": [
    "<a id='fetch'></a>"
   ]
  },
  {
   "cell_type": "markdown",
   "metadata": {},
   "source": [
    "## 7. Retrieving images. \n",
    "\n",
    "Each candidate image has an Access URL that you can use to download the image. Here is a simple example for downloading an image. Update with http://docs.astropy.org/en/stable/api/astropy.utils.data.download_file.html"
   ]
  },
  {
   "cell_type": "code",
   "execution_count": null,
   "metadata": {},
   "outputs": [],
   "source": [
    "import urllib.request\n",
    "from astropy.utils.data import download_file\n",
    "\n",
    "URL = \"https://irsa.ipac.caltech.edu/ibe/data/twomass/allsky/allsky/000225s/s088/image/ki0880080.fits.gz\"\n",
    "\n",
    "urllib.request.urlretrieve(URL, \"ki0880080.fits.gz\")"
   ]
  },
  {
   "cell_type": "markdown",
   "metadata": {},
   "source": [
    "<a href = \"#toc\">Table of Contents</a>"
   ]
  },
  {
   "cell_type": "markdown",
   "metadata": {},
   "source": [
    "<a id='multiwavelengthsearch'></a>\n"
   ]
  },
  {
   "cell_type": "markdown",
   "metadata": {},
   "source": [
    "## 8. For a given search position, loop through your list of missions and download the FITS files.\n",
    "\n",
    "This can take a little bit of time. Aren't you glad it's scriptable?"
   ]
  },
  {
   "cell_type": "code",
   "execution_count": null,
   "metadata": {},
   "outputs": [],
   "source": [
    "from astropy.table import Table, Column\n",
    "import shutil\n",
    "import ntpath\n",
    "\n",
    "# Define the position and search size (degrees).\n",
    "ra = '185.47873'\n",
    "dec = '4.47365'\n",
    "\n",
    "size = '0'  # Means the image must contain the search point\n",
    "\n",
    "params = {'POS': ra + ',' + dec,\n",
    "          'SIZE': size\n",
    "         }\n",
    "\n",
    "#Define some quantities you want to track.\n",
    "outnames = []\n",
    "missionnames = []\n",
    "wavebands = []\n",
    "\n",
    "print('Searching the following projects:')\n",
    "print(search_list['mission'])\n",
    "print(' ')\n",
    "\n",
    "#For each Base URL in your list,\n",
    "for i, base_url in enumerate(search_list['base_url']):\n",
    "\n",
    "    #Send a URL request and get a table of images that meet your spatial constraints.\n",
    "    print(' ')\n",
    "    print('base_url:')\n",
    "    print(base_url)\n",
    "    r = requests.get(base_url, params)\n",
    "    print(r.status_code)\n",
    "    table=Table.read(io.BytesIO(r.content))\n",
    "\n",
    "    #For each column in the returned table,\n",
    "    for key in table.columns:\n",
    "        \n",
    "        #Get the data in the column.\n",
    "        col = table.columns[key]\n",
    "        \n",
    "        #Get the universal content descriptor (UCD) for the column.\n",
    "        ucdval = col.meta.get('ucd')\n",
    "        \n",
    "        #Find the columns of FITS images and get the images names\n",
    "        if (ucdval is not None) and (ucdval == 'VOX:Image_Format'):\n",
    "            imageformats = table[key]\n",
    "        if (ucdval is not None) and (ucdval == 'VOX:Image_AccessReference'):\n",
    "            imagenames = table[key]\n",
    "        if (ucdval is not None) and (ucdval == 'VOX:BandPass_ID'):\n",
    "            bandpasses = table[key]\n",
    "             \n",
    "    #For each imagename\n",
    "    for j, imagename in enumerate(imagenames):\n",
    "\n",
    "        #If the image is a FITS image,\n",
    "        if ('image/fits' in imageformats[j].decode('utf-8')):\n",
    "\n",
    "            #Track the corresponding mission name and waveband.\n",
    "            missionname = search_list['mission'][i]\n",
    "            waveband = bandpasses[j]\n",
    "            \n",
    "            #If it's an image we want (only AIS for GALEX),\n",
    "            if (missionname != 'GALEX') or (missionname == 'GALEX' and 'AIS' in imagename.decode('utf-8')):\n",
    "                \n",
    "                #Send a request for this image.\n",
    "                response = requests.get(imagename, stream=True)\n",
    "                    \n",
    "                #Remove the path from the URL to isolate the name we should output to file.\n",
    "                outname = ntpath.basename(imagename)\n",
    "                outnames.append(outname)\n",
    "                print(outname)\n",
    "                    \n",
    "                #Write a FITS file.\n",
    "                with open(outname, 'wb') as out_file:\n",
    "                    shutil.copyfileobj(response.raw,out_file)\n",
    "\n",
    "                #Keep track of which mission this image is associated with.\n",
    "                missionnames.append(missionname)\n",
    "                wavebands.append(waveband)\n",
    "\n",
    "#Make an astropy table including all the tracked quantities.\n",
    "downloaded_images = Table([missionnames, wavebands, outnames], names=('mission', 'wavebands', 'filename'))\n",
    "\n",
    "#Show the table.\n",
    "downloaded_images.show_in_notebook()"
   ]
  },
  {
   "cell_type": "markdown",
   "metadata": {},
   "source": [
    "### Exercise: Keep track of the wavelength as well as the waveband, to enable wavelength sorting."
   ]
  },
  {
   "cell_type": "markdown",
   "metadata": {},
   "source": [
    "<a href = \"#toc\">Table of Contents</a>"
   ]
  },
  {
   "cell_type": "markdown",
   "metadata": {},
   "source": [
    "<a id='cutouts'></a>"
   ]
  },
  {
   "cell_type": "markdown",
   "metadata": {},
   "source": [
    "# 9. Make cutouts of the images you downloaded."
   ]
  },
  {
   "cell_type": "code",
   "execution_count": null,
   "metadata": {},
   "outputs": [],
   "source": [
    "import matplotlib.pyplot as plt\n",
    "from astropy.nddata import Cutout2D\n",
    "from astropy.coordinates import SkyCoord\n",
    "from astropy.wcs import wcs\n",
    "import astropy.io.fits as fits\n",
    "import numpy as np\n",
    "import os\n",
    "from astropy.io.fits import getdata, getheader\n",
    "import astropy.units as u\n",
    "\n",
    "#Set up the figure.\n",
    "fig = plt.figure(figsize=(20,10))\n",
    "plt.suptitle('POSITION = '+ra+', '+dec, fontsize=16)\n",
    "\n",
    "#For each image,\n",
    "i = 0\n",
    "for filename in downloaded_images['filename']:\n",
    "    \n",
    "    #Make the title be the filename\n",
    "    filename = downloaded_images['filename'][i]\n",
    "    title = filename\n",
    "    \n",
    "    #Read in the image, header, and WCS\n",
    "    data = getdata(filename, 0)\n",
    "    header = getheader(filename, 0)\n",
    "    w = wcs.WCS(header)\n",
    "\n",
    "    #Make a cutout centered on the search position, with a 30 arcsec width.\n",
    "    position = SkyCoord(ra, dec, unit = 'deg')\n",
    "    size = 30.0 #* u.arcsec\n",
    "    cutout = Cutout2D(data, position, (size, size), wcs=w)\n",
    "\n",
    "    #Make a subplot for this image.\n",
    "    ax = fig.add_subplot(3,4,i+1)\n",
    "    ax.imshow(cutout.data, cmap='gray_r', origin='lower')\n",
    "    ax.set_title(title)\n",
    "    \n",
    "    i = i + 1\n",
    "    \n",
    "plt.show()"
   ]
  },
  {
   "cell_type": "markdown",
   "metadata": {},
   "source": [
    "### Exercise: Sort the images by wavelength. Remove GALEX single-epoch files. Add mission labels and wavebands."
   ]
  },
  {
   "cell_type": "markdown",
   "metadata": {},
   "source": [
    "<a href = \"#toc\">Table of Contents</a>"
   ]
  },
  {
   "cell_type": "markdown",
   "metadata": {},
   "source": [
    "<a id='simpleconesearch'></a>"
   ]
  },
  {
   "cell_type": "markdown",
   "metadata": {},
   "source": [
    "## 10. Catalogs: Simple Cone Search\n",
    "\n",
    "The Simple Cone Search (SCS) protocol is used to search a catalog for entries with positions that fall within a given search region, specified by a position and cone search radius.\n",
    "\n",
    "More information about SCS is available here:\n",
    "http://www.ivoa.net/documents/latest/ConeSearch.html\n",
    "\n",
    "Suppose we were considering proposing for observing time with Chandra. We might first want to check whether any of our sources were already observed by Chandra, XMM or ROSAT. Below, we show the search for the table 'chanmaster', the master catalog of observed Chandra targets, with a search radius of 0.1 degrees."
   ]
  },
  {
   "cell_type": "markdown",
   "metadata": {},
   "source": [
    "### Exercise: How would you figure out the table name 'chanmaster' for yourself? Hint: combine examples 4a and 4b above."
   ]
  },
  {
   "cell_type": "code",
   "execution_count": null,
   "metadata": {},
   "outputs": [],
   "source": [
    "#For each galaxy in our list,\n",
    "for i in range(len(list_of_galaxies)):\n",
    "    \n",
    "    #Specify the Base URL of HEASARC's cone search service.\n",
    "    Base_URL = 'https://heasarc.gsfc.nasa.gov/cgi-bin/vo/cone/coneGet.pl'\n",
    "    \n",
    "    #Specify the table to search, as well as the RA, DEC, and Search Radius that define the search region.\n",
    "    params = {'table': 'chanmaster', 'RA': list_of_galaxies[i]['ra'], 'DEC':list_of_galaxies[i]['dec'], 'SR':0.1}\n",
    "\n",
    "    #Send the request URL.\n",
    "    r = requests.get(Base_URL, params=params)\n",
    "\n",
    "    #Convert the results from VO Table to Astropy Table.\n",
    "    table=Table.read(io.BytesIO(r.content))\n",
    "    \n",
    "    #Print the table.\n",
    "    if (len(table) > 0):\n",
    "        print('object: ', i)\n",
    "        print(table)\n",
    "        print('')"
   ]
  },
  {
   "cell_type": "markdown",
   "metadata": {},
   "source": [
    "So we see that several galaxies in our sample have indeed already been observed, and we may wish to retrieve these images to see if they are deep enough to accomplish some of our science goals, or if we can justify additional exposures."
   ]
  },
  {
   "cell_type": "markdown",
   "metadata": {},
   "source": [
    "<a href = \"#toc\">Table of Contents</a>"
   ]
  },
  {
   "cell_type": "markdown",
   "metadata": {
    "collapsed": true
   },
   "source": [
    "<a id='tableaccessprotocol'></a>"
   ]
  },
  {
   "cell_type": "markdown",
   "metadata": {},
   "source": [
    "## 11. Catalogs: Table Access Protocol (TAP)\n",
    "\n",
    "We showed above how we can use NED to get the Spectral Energy Distribution of a galaxy. But if we wanted to investigate catalogs ourselves, we can use either the Simple Cone Search (SCS) Protocol above, or the Table Acess Protocol (TAP). SCS is easier to use, but limited to cone searches. TAP is more powerful, but at the cost of a bit of a learning curve. The registry examples above use TAP.\n",
    "\n",
    "More information about TAP is available here:\n",
    "http://www.ivoa.net/documents/TAP/\n",
    "\n",
    "Let's use TAP to search the 2MASS catalog. Here we will use a synchronous query because we are doing a simple search that should return quickly. Users interested in searches that cover large areas or have complicated search criteria may wish to explore the asynchronous option."
   ]
  },
  {
   "cell_type": "code",
   "execution_count": null,
   "metadata": {},
   "outputs": [],
   "source": [
    "#Define the search URL. Select all columns from the 2MASS Point Source Catalog (fp_psc)\n",
    "#for rows that lie within 0.01 deg of the specified search position. \n",
    "tap_base_url = \"https://irsa.ipac.caltech.edu/TAP/sync?\"\n",
    "\n",
    "tap_params = {\n",
    "    \"request\":\"doQuery\",  # Specify the request type\n",
    "    \"lang\":\"ADQL\",        # Specify the language\n",
    "#    \"query\": \"SELECT TOP 1 * FROM fp_psc\" #Give the query in that language\n",
    "    \"query\":\n",
    "        \"\"\"SELECT ra,dec,j_m,h_m,k_m FROM fp_psc\n",
    "        where CONTAINS(POINT('J2000',ra,dec),CIRCLE('J2000',9.90704,8.96507,0.001))=1\n",
    "        order by ra\n",
    "        \"\"\"\n",
    "    }\n",
    "\n",
    "# Send the search URL\n",
    "r = requests.post(tap_base_url, data = tap_params)\n",
    "#print(r.content)\n",
    "# Convert the results into an astropy table.\n",
    "table=Table.read(io.BytesIO(r.content))\n",
    "\n",
    "#Print the table.\n",
    "#table.pprint(max_width=-1)\n",
    "#print(table['ra', 'dec', 'j_m', 'h_m', 'k_m'])\n",
    "table.show_in_notebook()"
   ]
  },
  {
   "cell_type": "markdown",
   "metadata": {},
   "source": [
    "<a href = \"#toc\">Table of Contents</a>"
   ]
  },
  {
   "cell_type": "markdown",
   "metadata": {},
   "source": [
    "<a id='simplespectralaccess'></a>"
   ]
  },
  {
   "cell_type": "markdown",
   "metadata": {},
   "source": [
    "## Simple Spectral Access (SSA)\n",
    "\n",
    "The Simple Spectral Access (SSA) Protocol defines a uniform interface to remotely discover and access one dimensional spectra. \n",
    "\n",
    "More information about SSA is avialable here:\n",
    "http://www.ivoa.net/documents/SSA/\n",
    "\n",
    "Returning to our science example, suppose that we have analyzed the available Chandra image for the matches above and discovered that one of these galaxies appears to have a potential ultraluminous X-ray source (ULX)! Now, we want to charatcterize the spectrum for this source. Therefore we will ask for a large exposure time and need to justify this by showing the spectrum of a prototypical ULX, M82 X-1."
   ]
  },
  {
   "cell_type": "code",
   "execution_count": null,
   "metadata": {},
   "outputs": [],
   "source": [
    "import astropy.io.fits as fits\n",
    "import astropy.coordinates as coord\n",
    "\n",
    "m82=coord.SkyCoord.from_name(\"m82\")\n",
    "pos='{},{}'.format(m82.ra.deg,m82.dec.deg)\n",
    "\n",
    "params = {'table': 'chanmaster',\"POS\":pos,\"SIZE\":\".01\", \"REQUEST\":\"queryData\"}\n",
    "\n",
    "r = requests.get('https://heasarc.nasa.gov/xamin/vo/ssa', params=params)\n",
    "\n",
    "spec_table = Table.read(io.BytesIO(r.content))\n",
    "spec_table.show_in_notebook()"
   ]
  },
  {
   "cell_type": "code",
   "execution_count": null,
   "metadata": {},
   "outputs": [],
   "source": [
    "## Get the first spectrum.\n",
    "#The column SSA_reference is the one that contains the Access URL for the data.\n",
    "hdu_list=fits.open(spec_table[0]['SSA_reference'].decode()) # Byte format, so just decode() to string\n",
    "\n",
    "#Print the list of spectra.\n",
    "table = Table(hdu_list[1].data)\n",
    "table.show_in_notebook()\n"
   ]
  },
  {
   "cell_type": "markdown",
   "metadata": {},
   "source": [
    "<a href = \"#toc\">Table of Contents</a>"
   ]
  },
  {
   "cell_type": "code",
   "execution_count": null,
   "metadata": {},
   "outputs": [],
   "source": []
  },
  {
   "cell_type": "code",
   "execution_count": null,
   "metadata": {},
   "outputs": [],
   "source": []
  }
 ],
 "metadata": {
  "kernelspec": {
   "display_name": "Python 3",
   "language": "python",
   "name": "python3"
  },
  "language_info": {
   "codemirror_mode": {
    "name": "ipython",
    "version": 3
   },
   "file_extension": ".py",
   "mimetype": "text/x-python",
   "name": "python",
   "nbconvert_exporter": "python",
   "pygments_lexer": "ipython3",
   "version": "3.6.5"
  }
 },
 "nbformat": 4,
 "nbformat_minor": 2
}
