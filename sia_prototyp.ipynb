{
 "cells": [
  {
   "cell_type": "markdown",
   "metadata": {},
   "source": [
    "## 4. Preparing to use image services...\n"
   ]
  },
  {
   "cell_type": "code",
   "execution_count": 1,
   "metadata": {},
   "outputs": [],
   "source": [
    "import matplotlib\n",
    "import matplotlib.pyplot as plt\n",
    "%matplotlib inline  \n",
    "import requests, io, astropy\n",
    "from IPython.display import Image, display\n",
    "\n",
    "## For handling ordinary astropy Tables\n",
    "from astropy.table import Table, vstack\n",
    "\n",
    "## For reading FITS files\n",
    "import astropy.io.fits as apfits\n",
    "\n",
    "## There are a number of relatively unimportant warnings that \n",
    "## show up, so for now, suppress them:\n",
    "import warnings\n",
    "warnings.filterwarnings(\"ignore\")\n",
    "\n",
    "## our stuff\n",
    "import sys\n",
    "# Use the NASA_NAVO/astroquery\n",
    "from navo_utils.cone import Cone\n",
    "from navo_utils.registry import Registry\n",
    "from navo_utils.registry import display_results\n",
    "from navo_utils.image import Image\n",
    "from navo_utils import utils\n",
    "import astroquery"
   ]
  },
  {
   "cell_type": "markdown",
   "metadata": {},
   "source": [
    "First we need to know what registry services have the image data that we want. The Registry query function is useful here for picking out the \"image\" (SIA) service. Here, we query the registry and output a list of the MAST data archives that contain ultraviolet wavelength data. However, you can easily select optical, infrared, or any other wavelengths by modifying the \"waveband\" parameter or select irsa, heasarc, or leave the \"source\" field blank if you want other data archives. \n",
    "\n",
    "If you know the access_url for your data, you can skip this step. Or further in the notebook we have an example that gets all the images for ALL the services. "
   ]
  },
  {
   "cell_type": "code",
   "execution_count": 2,
   "metadata": {},
   "outputs": [
    {
     "name": "stdout",
     "output_type": "stream",
     "text": [
      "Found 12 results:\n",
      "<TableColumns names=('waveband','short_name','ivoid','res_description','access_url','reference_url','publisher','service_type')>\n",
      "0 : ivo://irsa.ipac/mast/scrapbook ;  https://irsa.ipac.caltech.edu/cgi-bin/Atlas/nph-atlas?mission=Scrapbook&amp;hdr_location=%5CScrapbookDataPath%5C&amp;collection_desc=The+MAST+Image%2FSpectra+Scrapbook+%28Scrapbook%29&amp;SIAP_ACTIVE=1&amp;\n",
      "1 : ivo://mast.stsci/candels ;  http://archive.stsci.edu/siap/search.php?id=candels&amp;\n",
      "2 : ivo://mast.stsci/siap/hst.maoz_atlas ;  http://archive.stsci.edu/siap/search.php?id=maoz_atlas&amp;\n",
      "3 : ivo://mast.stsci/siap/uit ;  http://archive.stsci.edu/siap/search.php?id=UIT&amp;\n",
      "4 : ivo://mast.stsci/stpr ;  http://archive.stsci.edu/stpr/vo_search.php?\n",
      "5 : ivo://mast.stsci/siap/galex_atlas ;  http://archive.stsci.edu/siap/search.php?id=galex_atlas&amp;\n",
      "6 : ivo://mast.stsci/siap/udfuv ;  http://archive.stsci.edu/siap/search.php?id=udfuv&amp;\n",
      "7 : ivo://mast.stsci/phat ;  http://archive.stsci.edu/siap/search.php?id=phat&amp;\n",
      "8 : ivo://mast.stsci/clash ;  http://archive.stsci.edu/siap/search.php?id=clash&amp;\n",
      "9 : ivo://mast.stsci/angrrr ;  http://archive.stsci.edu/siap/search.php?id=angrrr&amp;\n",
      "10 : ivo://mast.stsci/acsggct ;  http://archive.stsci.edu/siap/search.php?id=acsggct&amp;\n",
      "11 : ivo://mast.stsci/hippies ;  http://archive.stsci.edu/siap/search.php?id=HIPPIES&amp;\n"
     ]
    }
   ],
   "source": [
    "results=Registry.query(service_type=\"image\",waveband=\"UV\", source=\"mast\")\n",
    "print('Found {} results:'.format(len(results)))\n",
    "\n",
    "print(results.columns)\n",
    "ivoid=results[:]['ivoid']\n",
    "url=results[:]['access_url']\n",
    "#\n",
    "# For visual reference:\n",
    "for i in range(len(url)):\n",
    "    print(i, ':', ivoid[i], '; ', url[i])"
   ]
  },
  {
   "cell_type": "markdown",
   "metadata": {},
   "source": [
    "## 5 SIA\n",
    "\n",
    "We find the relevant image data within catalogs containing image data. \n",
    "\n",
    "### 5.1 Using a specific data catalog to search for image data for a source\n",
    "Once you find which data archive contains data that you are interested in, you can find available image data from an SIA service using the access_url. \n",
    "\n",
    "For example, say that we know the first service is best for our purpose. This corresponds to the number 0. Here we show how you get a table with information about images containing this source (Note: the default sets the search radius to 0, which searches for all sources within the FOV of the image. But you can set this to some other size using the \"inradius\" keyword). "
   ]
  },
  {
   "cell_type": "code",
   "execution_count": 4,
   "metadata": {},
   "outputs": [
    {
     "name": "stdout",
     "output_type": "stream",
     "text": [
      "    Querying service https://irsa.ipac.caltech.edu/cgi-bin/Atlas/nph-atlas?mission=Scrapbook&hdr_location=%5CScrapbookDataPath%5C&collection_desc=The+MAST+Image%2FSpectra+Scrapbook+%28Scrapbook%29&SIAP_ACTIVE=1&\n",
      "    Got 240 results for parameters[0]\n"
     ]
    }
   ],
   "source": [
    "im_info=Image.query(coords='189.22917,62.23830', service=results[0])\n",
    "#from astropy.coordinates import SkyCoord\n",
    "#im_info=Image.query(coords=SkyCoord.from_name(\"m82\"), service=results[0])"
   ]
  },
  {
   "cell_type": "markdown",
   "metadata": {},
   "source": [
    "### 5.2 Searching for image data for a given source in all available catalogs\n",
    "Perhaps you don't know which catalog has the image that you want, so you get a table list for all images that contain your given source. \n",
    "\n",
    "You can loop over the services to check which have available images containing your sources. <font color=\"red\">WRITE OUT LOOPS</font>\n"
   ]
  },
  {
   "cell_type": "code",
   "execution_count": 5,
   "metadata": {},
   "outputs": [
    {
     "name": "stdout",
     "output_type": "stream",
     "text": [
      "    Querying service https://irsa.ipac.caltech.edu/cgi-bin/Atlas/nph-atlas?mission=Scrapbook&hdr_location=%5CScrapbookDataPath%5C&collection_desc=The+MAST+Image%2FSpectra+Scrapbook+%28Scrapbook%29&SIAP_ACTIVE=1&\n",
      "    Got 240 results for parameters[0]\n",
      "    Querying service http://archive.stsci.edu/siap/search.php?id=candels&\n",
      "    Got 6 results for parameters[0]\n",
      "    Querying service http://archive.stsci.edu/siap/search.php?id=maoz_atlas&\n",
      "    (Got no results for parameters[0])\n",
      "    Querying service http://archive.stsci.edu/siap/search.php?id=UIT&\n",
      "    (Got no results for parameters[0])\n",
      "    Querying service http://archive.stsci.edu/stpr/vo_search.php?\n",
      "    (Got no results for parameters[0])\n",
      "    Querying service http://archive.stsci.edu/siap/search.php?id=galex_atlas&\n",
      "    (Got no results for parameters[0])\n",
      "    Querying service http://archive.stsci.edu/siap/search.php?id=udfuv&\n",
      "    (Got no results for parameters[0])\n",
      "    Querying service http://archive.stsci.edu/siap/search.php?id=phat&\n",
      "    (Got no results for parameters[0])\n",
      "    Querying service http://archive.stsci.edu/siap/search.php?id=clash&\n",
      "    (Got no results for parameters[0])\n",
      "    Querying service http://archive.stsci.edu/siap/search.php?id=angrrr&\n",
      "    (Got no results for parameters[0])\n",
      "    Querying service http://archive.stsci.edu/siap/search.php?id=acsggct&\n",
      "    (Got no results for parameters[0])\n",
      "    Querying service http://archive.stsci.edu/siap/search.php?id=HIPPIES&\n",
      "    (Got no results for parameters[0])\n"
     ]
    }
   ],
   "source": [
    "for res in results:\n",
    "    im_info=Image.query(coords=['189.22917,62.23830'], radius='.001', service=res)"
   ]
  },
  {
   "cell_type": "markdown",
   "metadata": {},
   "source": [
    "## 6 Querying a list of sources\n",
    "\n",
    "We want to be able to give a list of sources and get back something useful  for matches/non-matches. The image query function can also handle lists of coordinates.  <font color=\"red\"> FINISH THIS</font>"
   ]
  },
  {
   "cell_type": "code",
   "execution_count": 10,
   "metadata": {},
   "outputs": [
    {
     "name": "stdout",
     "output_type": "stream",
     "text": [
      "    Querying service https://irsa.ipac.caltech.edu/cgi-bin/Atlas/nph-atlas?mission=Scrapbook&hdr_location=%5CScrapbookDataPath%5C&collection_desc=The+MAST+Image%2FSpectra+Scrapbook+%28Scrapbook%29&SIAP_ACTIVE=1&\n",
      "    (Got no results for source number 0)\n",
      "    (Got no results for source number 1)\n",
      "    (Got no results for source number 2)\n",
      "    (Got no results for source number 3)\n"
     ]
    }
   ],
   "source": [
    "from astropy.io import ascii\n",
    "list_of_galaxies = ascii.read('interacting_gals.csv', delimiter=',') \n",
    "positions=list()\n",
    "for galaxies in list_of_galaxies:\n",
    "    positions.append(str(galaxies['ra'])+','+str(galaxies['dec']))\n",
    "\n",
    "im_info=Image.query(coords=positions[0:4], service=results[0])\n"
   ]
  },
  {
   "cell_type": "markdown",
   "metadata": {},
   "source": [
    "## 7. Retrieving images\n",
    "\n",
    "You can look at the images_info and pick one to download:\n",
    "\n",
    "    Image.get( im_input, filename='my_file.fits')\n",
    "    \n",
    "im_input is the im_info from above selected by service, source, and row indices like this:\n",
    "\n",
    "    im_input=im_info[id_service][id_source][row_#]\n",
    "\n",
    "or get the image data to hand to the plotter:\n",
    "\n",
    "    image=Image.get( im_input )\n",
    "    plt.imshow( image,  cmap='gray', origin='lower', norm=mpl.colors.LogNorm() )\n",
    "    \n",
    "where it downloads it to filename if specified, or to a temporary filename if not and then reads it in and returns the image data if not.\n"
   ]
  },
  {
   "cell_type": "code",
   "execution_count": null,
   "metadata": {},
   "outputs": [],
   "source": [
    "im_input=im_info[0][0][1]\n",
    "col = utils.find_column_by_ucd(im_input, 'VOX:Image_AccessReference')\n",
    "print(col[1])"
   ]
  },
  {
   "cell_type": "code",
   "execution_count": null,
   "metadata": {},
   "outputs": [],
   "source": [
    "### NEXT EXAMPLE-- \n",
    "#im_input=im_info[1][0]\n",
    "### Note: this is a 1.6GB file... it will take SERIOUS time to download and image\n",
    "### We need to add some outputs so that file size or download time is provided\n",
    "### Having tried a few options... the im_info output seems too non-standard. How can we give im_info and get the urls for image files consistently and in user-friendly way?\n",
    "\n",
    "### Testing... \n",
    "im_input=im_info[0][0]\n",
    "image=Image.get(im_input, row_ind=2)\n",
    "import matplotlib as mpl\n",
    "plt.imshow(image, cmap='gray', origin='lower', norm=mpl.colors.LogNorm())\n"
   ]
  },
  {
   "cell_type": "code",
   "execution_count": null,
   "metadata": {},
   "outputs": [],
   "source": [
    "#This will download the file to the directory\n",
    "Image.get(im_input, filename='Image.fits')\n"
   ]
  },
  {
   "cell_type": "code",
   "execution_count": null,
   "metadata": {},
   "outputs": [],
   "source": [
    "\n"
   ]
  },
  {
   "cell_type": "code",
   "execution_count": null,
   "metadata": {},
   "outputs": [],
   "source": []
  }
 ],
 "metadata": {
  "anaconda-cloud": {},
  "kernelspec": {
   "display_name": "Python 3",
   "language": "python",
   "name": "python3"
  },
  "language_info": {
   "codemirror_mode": {
    "name": "ipython",
    "version": 3
   },
   "file_extension": ".py",
   "mimetype": "text/x-python",
   "name": "python",
   "nbconvert_exporter": "python",
   "pygments_lexer": "ipython3",
   "version": "3.6.4"
  }
 },
 "nbformat": 4,
 "nbformat_minor": 2
}
