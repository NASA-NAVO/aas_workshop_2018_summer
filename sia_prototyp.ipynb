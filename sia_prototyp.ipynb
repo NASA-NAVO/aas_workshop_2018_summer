{
 "cells": [
  {
   "cell_type": "markdown",
   "metadata": {},
   "source": [
    "## 4. Preparing to use image services...\n"
   ]
  },
  {
   "cell_type": "code",
   "execution_count": 1,
   "metadata": {},
   "outputs": [],
   "source": [
    "import matplotlib\n",
    "import matplotlib.pyplot as plt\n",
    "%matplotlib inline  \n",
    "import requests, io, astropy\n",
    "from IPython.display import Image, display\n",
    "\n",
    "## For handling ordinary astropy Tables\n",
    "from astropy.table import Table, vstack\n",
    "\n",
    "## For reading FITS files\n",
    "import astropy.io.fits as apfits\n",
    "\n",
    "## There are a number of relatively unimportant warnings that \n",
    "## show up, so for now, suppress them:\n",
    "import warnings\n",
    "warnings.filterwarnings(\"ignore\")\n",
    "\n",
    "## our stuff\n",
    "import sys\n",
    "# Use the NASA_NAVO/astroquery\n",
    "from navo_utils.cone import Cone\n",
    "from navo_utils.registry import Registry\n",
    "from navo_utils.registry import display_results    ### Make better -- create table with #, URL, etc. so we can grab output XX as the access_url.\n",
    "import navo_utils.image as image\n",
    "#from navo_utils.image import display_info\n",
    "import astroquery"
   ]
  },
  {
   "cell_type": "markdown",
   "metadata": {},
   "source": [
    "## First we need to know what registry services have the image data that we want. The Registry query function is useful here for picking out the \"image\" (SIA) service. Here, we define a shortcut to query the registry and output a list of the MAST data archives that contain ultraviolet wavelength data. However, you can easily select optical infrared, or any other wavelengths by modifying the \"waveband\" parameter or select irsa, heasarc, or leave the \"source\" field blank if you want other data archives. \n",
    "\n",
    "## This step is like deciding which website to go to to access your image data. But this method will give you greater flexibility. If you know the access_url for your data, you can skip this step. "
   ]
  },
  {
   "cell_type": "code",
   "execution_count": 2,
   "metadata": {},
   "outputs": [
    {
     "name": "stdout",
     "output_type": "stream",
     "text": [
      "Found 12 results:\n",
      "<TableColumns names=('waveband','short_name','ivoid','res_description','access_url','reference_url')>\n",
      "0 : ivo://mast.stsci/acsggct ;  http://archive.stsci.edu/siap/search.php?id=acsggct&amp;\n",
      "1 : ivo://mast.stsci/hippies ;  http://archive.stsci.edu/siap/search.php?id=HIPPIES&amp;\n",
      "2 : ivo://mast.stsci/siap/uit ;  http://archive.stsci.edu/siap/search.php?id=UIT&amp;\n",
      "3 : ivo://mast.stsci/stpr ;  http://archive.stsci.edu/stpr/vo_search.php?\n",
      "4 : ivo://mast.stsci/siap/galex_atlas ;  http://archive.stsci.edu/siap/search.php?id=galex_atlas&amp;\n",
      "5 : ivo://mast.stsci/candels ;  http://archive.stsci.edu/siap/search.php?id=candels&amp;\n",
      "6 : ivo://mast.stsci/phat ;  http://archive.stsci.edu/siap/search.php?id=phat&amp;\n",
      "7 : ivo://mast.stsci/siap/hst.maoz_atlas ;  http://archive.stsci.edu/siap/search.php?id=maoz_atlas&amp;\n",
      "8 : ivo://mast.stsci/clash ;  http://archive.stsci.edu/siap/search.php?id=clash&amp;\n",
      "9 : ivo://mast.stsci/angrrr ;  http://archive.stsci.edu/siap/search.php?id=angrrr&amp;\n",
      "10 : ivo://mast.stsci/siap/udfuv ;  http://archive.stsci.edu/siap/search.php?id=udfuv&amp;\n",
      "11 : ivo://irsa.ipac/mast/scrapbook ;  https://irsa.ipac.caltech.edu/cgi-bin/Atlas/nph-atlas?mission=Scrapbook&amp;hdr_location=%5CScrapbookDataPath%5C&amp;collection_desc=The+MAST+Image%2FSpectra+Scrapbook+%28Scrapbook%29&amp;SIAP_ACTIVE=1&amp;\n"
     ]
    }
   ],
   "source": [
    "def list_image_services(**kwargs):\n",
    "    return Registry.query(service_type=\"image\",**kwargs)\n",
    "results=list_image_services(waveband=\"uv\", source=\"mast\") # THIS WORKS\n",
    "\n",
    "print('Found {} results:'.format(len(results)))\n",
    "\n",
    "print(results.columns)\n",
    "ivoid=results[:]['ivoid']\n",
    "url=results[:]['access_url']\n",
    "\n",
    "# For visual reference:\n",
    "for i in range(len(url)):\n",
    "    print(i, ':', ivoid[i], '; ', url[i])\n"
   ]
  },
  {
   "cell_type": "markdown",
   "metadata": {},
   "source": [
    "## 5 SIA\n",
    "\n",
    "We find the relevant image data within catalogs containing image data. \n",
    "\n",
    "### 5.1 Using a specific data catalog to search for image data for a source\n",
    "Once you find which data archive contains data that you are interested in, you can find available image data from an SIA service using the access_url. \n",
    "\n",
    "For example, say that we know the CANDELS data is best for our purpose. This corresponds to the number 5. Here we show how you get a table with information about images within this data catalog for sources within 5 arcsec of the given ra,dec position. "
   ]
  },
  {
   "cell_type": "code",
   "execution_count": 4,
   "metadata": {},
   "outputs": [
    {
     "name": "stdout",
     "output_type": "stream",
     "text": [
      "b'<?xml version=\"1.0\"?>\\n<VOTABLE xmlns:xsi=\"http://www.w3.org/2001/XMLSchema-instance\" xmlns=\"http://www.ivoa.net/xml/VOTable/v1.0\" xsi:schemaLocation=\"http://www.ivoa.net/xml/VOTable/v1.0 http://www.ivoa.net/xml/VOTable/VOTable-1.0.xsd\" version=\"1.0\">\\n <RESOURCE type=\"results\">\\n  <INFO name=\"Info:Name resolution\" value=\"Position 189.22917,62.23830 corresponds to J2000 decimal coordinates:189.22916999999998 62.2383\"/>\\n  <INFO name=\"QUERY_STATUS\" value=\"OK\"/>\\n  <TABLE>\\n   <DESCRIPTION>Query result for:&#xA;select detection_name, ra, dec, count_rate, count_rate_error, exposure, offaxis, srcflags, seqflags, __row,  \\'/FTP/rosat/data/hri/processed_data/\\'   || substring(  seqid  , 3, 1) ||   \\'00000/\\'   || lower(  seqid  ) ||   \\'/\\'  as \"__p_roshritotal_rosat_obs_hri_root\",  \\'HRI\\'  as \"__s_roshritotal_rosat_obs_hri_im_im1_gif_Instrument\",  \\'HRI\\'  as \"__s_roshritotal_rosat_obs_hri_im_im2p_gif_Instrument\",  \\'HRI\\'  as \"__s_roshritotal_rosat_obs_hri_im_im2p_fits_Instrument\",  \\'HRI\\'  as \"__s_roshritotal_rosat_obs_hri_im_im5p_gif_Instrument\",  \\'HRI\\'  as \"__s_roshritotal_rosat_obs_hri_im_im5p_fits_Instrument\",  \\'HRI\\'  as \"__s_roshritotal_rosat_obs_hri_im_im1_fits_Instrument\" from roshritotal where  (  ( (( power(sin((radians(  dec  ) - 1.0862632558439869)/2),2) +cos(radians(  dec  ))*cos(1.0862632558439869)*power(sin((radians(  ra  ) - 3.302672057316078)/2),2)&lt;7.6154354944744E-11) and (  dec     between   62.237300000000005   and   62.2393)) )  ) limit 10001</DESCRIPTION>\\n   <FIELD ucd=\"ID_MAIN\" name=\"detection_name\" arraysize=\"*\" datatype=\"char\">\\n    <DESCRIPTION>Name of detection, like: 1RXH J153127.5+312918</DESCRIPTION>\\n   </FIELD>\\n   <FIELD unit=\"degree\" precision=\"F5\" ucd=\"pos.eq.ra;meta.main\" name=\"ra\" datatype=\"double\">\\n    <DESCRIPTION>Source right ascension</DESCRIPTION>\\n   </FIELD>\\n   <FIELD unit=\"degree\" precision=\"F5\" ucd=\"pos.eq.dec;meta.main\" name=\"dec\" datatype=\"double\">\\n    <DESCRIPTION>Source declination</DESCRIPTION>\\n   </FIELD>\\n   <FIELD unit=\"ct/s\" precision=\"F4\" ucd=\"phot.count;em.X-ray\" width=\"8\" name=\"count_rate\" datatype=\"float\">\\n    <DESCRIPTION>Estimate of net count/sec</DESCRIPTION>\\n   </FIELD>\\n   <FIELD unit=\"ct/s\" precision=\"F4\" ucd=\"stat.error;phot.count;em.X-ray\" width=\"6\" name=\"count_rate_error\" datatype=\"float\">\\n    <DESCRIPTION>Error of net count/sec</DESCRIPTION>\\n   </FIELD>\\n   <FIELD unit=\"s\" ucd=\"time.duration;obs.exposure\" name=\"exposure\" datatype=\"double\">\\n    <DESCRIPTION>Exposure live time in seconds</DESCRIPTION>\\n   </FIELD>\\n   <FIELD unit=\"arcmin\" ucd=\"instr.offset\" name=\"offaxis\" datatype=\"float\">\\n    <DESCRIPTION>Off axis angle averaged over observation</DESCRIPTION>\\n   </FIELD>\\n   <FIELD ucd=\"meta.code\" name=\"srcflags\" arraysize=\"*\" datatype=\"char\">\\n    <DESCRIPTION>Summary of source flags</DESCRIPTION>\\n   </FIELD>\\n   <FIELD ucd=\"meta.code\" name=\"seqflags\" arraysize=\"*\" datatype=\"char\">\\n    <DESCRIPTION>Summary of sequence flags</DESCRIPTION>\\n   </FIELD>\\n   <FIELD ucd=\"VOX:Image_Title\" name=\"SIA_title\" arraysize=\"*\" datatype=\"char\"/>\\n   <FIELD ucd=\"VOX:Image_Scale\" name=\"SIA_scale\" arraysize=\"*\" datatype=\"double\"/>\\n   <FIELD ucd=\"VOX:Image_Naxis\" name=\"SIA_naxis\" arraysize=\"*\" datatype=\"int\"/>\\n   <FIELD ucd=\"VOX:Image_Naxes\" name=\"SIA_naxes\" datatype=\"int\"/>\\n   <FIELD ucd=\"VOX:Image_Format\" name=\"SIA_format\" arraysize=\"*\" datatype=\"char\"/>\\n   <FIELD ucd=\"VOX:Image_AccessReference\" name=\"SIA_reference\" arraysize=\"*\" datatype=\"char\"/>\\n   <FIELD ucd=\"POS_EQ_RA_MAIN\" name=\"SIA_ra\" datatype=\"double\"/>\\n   <FIELD ucd=\"POS_EQ_DEC_MAIN\" name=\"SIA_dec\" datatype=\"double\"/>\\n   <FIELD ucd=\"INST_ID\" name=\"SIA_instrument\" arraysize=\"*\" datatype=\"char\"/>\\n   <DATA>\\n    <TABLEDATA>    </TABLEDATA>\\n   </DATA>\\n  </TABLE>\\n </RESOURCE>\\n</VOTABLE>\\n'\n"
     ]
    },
    {
     "ename": "NameError",
     "evalue": "name 'sia_query' is not defined",
     "output_type": "error",
     "traceback": [
      "\u001b[0;31m---------------------------------------------------------------------------\u001b[0m",
      "\u001b[0;31mNameError\u001b[0m                                 Traceback (most recent call last)",
      "\u001b[0;32m<ipython-input-4-9c6f52baa728>\u001b[0m in \u001b[0;36m<module>\u001b[0;34m()\u001b[0m\n\u001b[1;32m     44\u001b[0m \u001b[0;31m#print(test.columns)\u001b[0m\u001b[0;34m\u001b[0m\u001b[0;34m\u001b[0m\u001b[0m\n\u001b[1;32m     45\u001b[0m \u001b[0;31m############### UNCOMMENT FOR ORIGINAL EXAMPLE\u001b[0m\u001b[0;34m\u001b[0m\u001b[0;34m\u001b[0m\u001b[0m\n\u001b[0;32m---> 46\u001b[0;31m \u001b[0mim_info\u001b[0m\u001b[0;34m=\u001b[0m\u001b[0msia_query\u001b[0m\u001b[0;34m(\u001b[0m\u001b[0maccess_url\u001b[0m\u001b[0;34m=\u001b[0m\u001b[0mresults\u001b[0m\u001b[0;34m[\u001b[0m\u001b[0;36m5\u001b[0m\u001b[0;34m]\u001b[0m\u001b[0;34m[\u001b[0m\u001b[0;34m'access_url'\u001b[0m\u001b[0;34m]\u001b[0m\u001b[0;34m,\u001b[0m \u001b[0mra\u001b[0m\u001b[0;34m=\u001b[0m\u001b[0;34m'189.22917'\u001b[0m\u001b[0;34m,\u001b[0m \u001b[0mdec\u001b[0m\u001b[0;34m=\u001b[0m\u001b[0;34m'62.23830'\u001b[0m\u001b[0;34m,\u001b[0m \u001b[0msize\u001b[0m\u001b[0;34m=\u001b[0m\u001b[0;34m'.001'\u001b[0m\u001b[0;34m)\u001b[0m\u001b[0;34m\u001b[0m\u001b[0m\n\u001b[0m\u001b[1;32m     47\u001b[0m \u001b[0;34m\u001b[0m\u001b[0m\n\u001b[1;32m     48\u001b[0m \u001b[0;31m# For visual reference:\u001b[0m\u001b[0;34m\u001b[0m\u001b[0;34m\u001b[0m\u001b[0m\n",
      "\u001b[0;31mNameError\u001b[0m: name 'sia_query' is not defined"
     ]
    }
   ],
   "source": [
    "### TESTING.... comment out section for original MAST example\n",
    "results=list_image_services(waveband=\"x-ray\", source=\"heasarc\") # THIS breaks things... \n",
    "\n",
    "# print(results.columns)\n",
    "# ivoid=results[:]['ivoid']\n",
    "# url=results[:]['access_url']\n",
    "\n",
    "# For visual reference:\n",
    "# for i in range(len(url)):\n",
    "#    print(i, ':', ivoid[i], '; ', url[i])\n",
    "    \n",
    "#im_info=sia_query(access_url=results[31]['access_url'], ra='189.22917', dec='62.23830', size='.001') ### FAILS!\n",
    "#results=list_image_services(waveband=\"infrared\", source=\"irsa\") # THIS breaks things... \n",
    "\n",
    "#print(results.columns)\n",
    "#ivoid=results[:]['ivoid']\n",
    "#url=results[:]['access_url']\n",
    "\n",
    "# For visual reference:\n",
    "#for i in range(len(url)):\n",
    "#    print(i, ':', ivoid[i], '; ', url[i])\n",
    "#im_info=sia_query(access_url=results[20]['access_url'], ra='189.22917', dec='62.23830', size='.001') ### FAILS! (File Does not appear to be VOTable)\n",
    "access_url=results[20]['access_url']\n",
    "from navo_utils.utils import sval, astropy_table_from_votable_response\n",
    "ra='189.22917'\n",
    "dec='62.23830'\n",
    "size='0.001'\n",
    "image_formats='ALL'\n",
    "params={\n",
    "        'POS': sval(ra) + ',' + sval(dec),\n",
    "        'SIZE': sval(size),\n",
    "        'FORMAT': image_formats\n",
    "    }\n",
    "results = requests.get(access_url, params)\n",
    "content = results.content\n",
    "print(content)\n",
    "#for table in results:\n",
    "#    str1=repr(table)\n",
    "#    # print(str1)\n",
    "#    print('No images' in str1)\n",
    "#    if ('No images' in str1 == True):\n",
    "#        print('OOPS!')\n",
    "#test=astropy_table_from_votable_response(results)\n",
    "#print(test.columns)\n",
    "############### UNCOMMENT FOR ORIGINAL EXAMPLE\n",
    "im_info=sia_query(access_url=results[5]['access_url'], ra='189.22917', dec='62.23830', size='.001')\n",
    "\n",
    "# For visual reference:\n",
    "#print(im_info.columns)\n",
    "#print()\n",
    "#print('Found {} results:'.format(len(im_info)))\n",
    "#print()\n",
    "#for i in range(len(im_info)):\n",
    "#    print(im_info[i]['ra_j2000'], im_info[i]['dec_j2000'],  im_info[i]['bandpass_id'], im_info[i]['url'])"
   ]
  },
  {
   "cell_type": "markdown",
   "metadata": {},
   "source": [
    "### 5.2 Searching for image data for a given source in all available catalogs\n",
    "Perhaps you don't know which service is quite what you want, so you get a table list for all images in a list of services that contain a given source. Remember that this is already selected for MAST and UV images based on the registry query function above. \n"
   ]
  },
  {
   "cell_type": "code",
   "execution_count": 133,
   "metadata": {},
   "outputs": [
    {
     "name": "stdout",
     "output_type": "stream",
     "text": [
      "<TableColumns names=('name','ra','dec','time','obsid','exposure','processing_date','public_date','SIA_title','SIA_scale','SIA_naxis','SIA_naxes','SIA_format','SIA_reference','SIA_ra','SIA_dec','SIA_instrument')>\n",
      "\n",
      "Found 0 results:\n",
      "\n"
     ]
    }
   ],
   "source": [
    "#print(results[:]['access_url'])\n",
    "allim_info=sia_query(access_url=results[11]['access_url'], ra='189.22917', dec='62.23830', size='.001')\n",
    "############# OK, Dunno Why... but this is breaking with IRSA, HEASARC... and maybe others? Works with MAST.\n",
    "\n",
    "# For visual reference:\n",
    "print(allim_info.columns)\n",
    "print()\n",
    "print('Found {} results:'.format(len(allim_info)))\n",
    "print()\n",
    "for i in range(len(allim_info)):\n",
    "    print(allim_info[i]['ra_j2000'], allim_info[i]['dec_j2000'],  allim_info[i]['bandpass_id'], allim_info[i]['url'])"
   ]
  },
  {
   "cell_type": "markdown",
   "metadata": {},
   "source": [
    "### 5.3 OPTION 2: SEARCH USING POSITION FOR SERVICES THAT CONTAIN SOURCE OF INTEREST...\n",
    "Or, like with the Cone search above, the user doesn't give a service but just asks for information on images matching whatever criteria:\n",
    "\n",
    "    heasarc_images_info = astroquery.vo.Image.query( \n",
    "        pos=‘185.47873,4.47365', size=‘0’, naxis=‘300,300’, service='heasarc')\n",
    "    uv_images_info = astroquery.vo.Image.query( \n",
    "        pos=‘185.47873,4.47365', size=‘0’, naxis=‘300,300’, waveband='uv')\n",
    "    2mass_images_info = astroquery.vo.Image.query( \n",
    "        pos=‘185.47873,4.47365', size=‘0’, naxis=‘300,300’, keyword='2mass')\n"
   ]
  },
  {
   "cell_type": "markdown",
   "metadata": {},
   "source": [
    "## 7-8. Retrieving images\n",
    "\n",
    "You can look at the images_info and pick one to download:\n",
    "\n",
    "    astroquery.vo.Image.get( images_info[6], filename='my_file.fits')\n",
    "    \n",
    "or get the image data to hand to the plotter:\n",
    "\n",
    "    image=astroquery.vo.Image.get( images_info[6] )\n",
    "    plt.imshow( image,  cmap='gray', origin='lower',vmax=0.02 )\n",
    "    \n",
    "where it downloads it to filename if specified, or to a temporary filename if not and then reads it in and returns the image data if not.\n",
    "\n",
    "Or hand a list and return a list of images:\n",
    "\n",
    "    images=astroquery.vo.Image.get(images_info )\n",
    "    plt.imshow( images[0],  cmap='gray', origin='lower',vmax=0.02 )"
   ]
  },
  {
   "cell_type": "code",
   "execution_count": 11,
   "metadata": {
    "collapsed": false
   },
   "outputs": [
    {
     "ename": "SyntaxError",
     "evalue": "unexpected EOF while parsing (<ipython-input-11-eb5b908706e8>, line 29)",
     "output_type": "error",
     "traceback": [
      "\u001b[0;36m  File \u001b[0;32m\"<ipython-input-11-eb5b908706e8>\"\u001b[0;36m, line \u001b[0;32m29\u001b[0m\n\u001b[0;31m    class SpectralClass(ImageClass):\u001b[0m\n\u001b[0m                                    ^\u001b[0m\n\u001b[0;31mSyntaxError\u001b[0m\u001b[0;31m:\u001b[0m unexpected EOF while parsing\n"
     ]
    }
   ],
   "source": [
    "class ImageClass(BaseQuery):\n",
    "    \n",
    "    def query(self, **kwargs):\n",
    "        \"\"\"Get information on what images are available\"\"\"\n",
    "        services=Registry.query(service_type='image',**kwargs)\n",
    "        # Like the Cone class above, collect results...\n",
    "        return \n",
    "    \n",
    "    def get(self, image_url , filename=''):\n",
    "        \"\"\"Returns the data that can be handed to plt.imshow() from a URL\n",
    "    \n",
    "        For now, input URL. But could just get a list of URLs or a \n",
    "        list of tables that have an 'access_url' column.\n",
    "        \"\"\"\n",
    "        if filename is '':\n",
    "            filename='tmp.fits'\n",
    "        self._download( image_url, filename=filename)\n",
    "        if filename == 'tmp.fits':\n",
    "            hdus=astropy.io.fits.open('tmp.fits')\n",
    "            # Which extension? TBD\n",
    "            return hdus[0].data\n",
    "        else:\n",
    "            return\n",
    "\n",
    "    def _download(self, url, filename=''):\n",
    "        # simple wrapper of urllib\n",
    "        return\n",
    "    \n",
    "class SpectralClass(ImageClass):"
   ]
  },
  {
   "cell_type": "code",
   "execution_count": null,
   "metadata": {
    "collapsed": true
   },
   "outputs": [],
   "source": []
  },
  {
   "cell_type": "code",
   "execution_count": null,
   "metadata": {
    "collapsed": true
   },
   "outputs": [],
   "source": []
  },
  {
   "cell_type": "code",
   "execution_count": null,
   "metadata": {
    "collapsed": true
   },
   "outputs": [],
   "source": []
  }
 ],
 "metadata": {
  "anaconda-cloud": {},
  "kernelspec": {
   "display_name": "Python 3",
   "language": "python",
   "name": "python3"
  },
  "language_info": {
   "codemirror_mode": {
    "name": "ipython",
    "version": 3
   },
   "file_extension": ".py",
   "mimetype": "text/x-python",
   "name": "python",
   "nbconvert_exporter": "python",
   "pygments_lexer": "ipython3",
   "version": "3.6.4"
  }
 },
 "nbformat": 4,
 "nbformat_minor": 2
}
