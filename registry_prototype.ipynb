{
 "cells": [
  {
   "cell_type": "markdown",
   "metadata": {},
   "source": [
    "# Registry-powered and Table Searches\n",
    "\n",
    "\n",
    "If NAVO develops astroquery.vo, we could use things like the following. This is a summary of what is below in more detail. \n",
    "\n",
    "RegTAP:  \n",
    "\n",
    "    query_results=astroquery.vo.Registry.query( ... lots of options, this already exists in our github ...)\n",
    "    heasarc_image_services=astroquery.vo.Registry.list_image_services(source='heasarc') \n",
    "\n",
    "TAP:\n",
    "\n",
    "    CAOM URL from Registry.query(keyword='caom',service_type='table', publisher='Space Telescope') then:\n",
    "    CAOM_service = TapPlus(url=tap_url)\n",
    "    job = CAOM_service.launch_job(\"\"\"\n",
    "            SELECT top 10 s_ra, s_dec, access_estsize, access_url FROM ivoa.Obscore \n",
    "            WHERE CONTAINS(POINT('ICRS', 16.0, 40.0),s_region)=1\n",
    "            AND obs_collection = \"GALEX\" AND dataproduct_type = 'image'\n",
    "          \"\"\")\n",
    "     CAOM_results = job.get_results()"
   ]
  },
  {
   "cell_type": "code",
   "execution_count": 1,
   "metadata": {
    "collapsed": true
   },
   "outputs": [],
   "source": [
    "import matplotlib\n",
    "import matplotlib.pyplot as plt\n",
    "%matplotlib inline  \n",
    "import requests, io, astropy\n",
    "from IPython.display import Image, display\n",
    "\n",
    "## For handling ordinary astropy Tables\n",
    "from astropy.table import Table, vstack\n",
    "\n",
    "## For reading FITS files\n",
    "import astropy.io.fits as apfits\n",
    "\n",
    "## There are a number of relatively unimportant warnings that \n",
    "## show up, so for now, suppress them:\n",
    "import warnings\n",
    "warnings.filterwarnings(\"ignore\")\n",
    "\n",
    "## our stuff\n",
    "import sys\n",
    "# Use the NASA_NAVO/astroquery\n",
    "from navo_utils.cone import Cone\n",
    "from navo_utils.registry import Registry"
   ]
  },
  {
   "cell_type": "markdown",
   "metadata": {
    "collapsed": true
   },
   "source": [
    "Registry query methods exist in an astroquery.vo.Registry() class with different levels of simplicity and power. So you can, for example, if you already know you want to search NED, get related service URLs as follows. Note that you may get *more* results than you expect, which should be easily differentiated by a human."
   ]
  },
  {
   "cell_type": "code",
   "execution_count": 2,
   "metadata": {
    "scrolled": false
   },
   "outputs": [
    {
     "name": "stdout",
     "output_type": "stream",
     "text": [
      "Registry:  sending query ADQL = \n",
      "          select res.waveband,res.short_name,cap.ivoid,res.res_description,\n",
      "          intf.access_url,res.reference_url,res_role.role_name as publisher,cap.cap_type as service_type\n",
      "          from rr.capability as cap\n",
      "            natural join rr.resource as res\n",
      "            natural join rr.interface as intf \n",
      "\t\t    natural join rr.res_role as res_role\n",
      "             where cap.cap_type='conesearch' and cap.ivoid like '%ned%' and res_role.base_role = 'publisher'\n",
      "\n",
      "Queried: http://vao.stsci.edu/RegTAP/TapService.aspx/sync\n",
      "\n",
      "Found 2 results:\n",
      "                                              access_url                                              \n",
      "------------------------------------------------------------------------------------------------------\n",
      "                                                https://irsa.ipac.caltech.edu/SCS?table=shelacomb&amp;\n",
      "http://ned.ipac.caltech.edu/cgi-bin/NEDobjsearch?search_type=Near+Position+Search&amp;of=xml_main&amp;\n",
      "ivo://ned.ipac/basic_data_near_position\n",
      "<TableColumns names=('waveband','short_name','ivoid','res_description','access_url','reference_url','publisher','service_type')>\n"
     ]
    }
   ],
   "source": [
    "results = Registry.query(source='ned', service_type='cone', debug=True)\n",
    "print('Found {} results:'.format(len(results)))\n",
    "print(results[:]['access_url'])\n",
    "print(results[1]['ivoid'])\n",
    "print(results.columns)"
   ]
  },
  {
   "cell_type": "markdown",
   "metadata": {},
   "source": [
    "The Registry.query() method takes arguments which we can use to further filter the results (passed to internal function _build_adql):  \n",
    "\n",
    "    service_type : \"conesearch\", \"simpleimageaccess\", \"simplespectralaccess\", \"tableaccess\". May be shortened to \"cone\", \"image\", \"spectr\", or \"table\" or \"tap\", respectively.\n",
    "    keyword      : any keyword contained in ivoid, title, or description\n",
    "    waveband     : waveband string. Multiple options may be comma-delimited i.e. \"optical, infrared\"\n",
    "    source       : any substring in ivoid\n",
    "    publisher    : the name of any publishing organization\n",
    "    order_by     : what field to order it by, but then you have to know the names, currently\n",
    "                    (\"waveband\",\"short_name\",\"ivoid\",\"res_description\",\"access_url\",\"reference_url\",\"publisher\", service_type\")\n",
    "    logic_string : any other string you want to add to the ADQL where clause, should start with \" and \"\n",
    "\n",
    "The results are returned by Registry.query() in an astropy table using the conversion function _astropy_table_from_votable_response(). "
   ]
  },
  {
   "cell_type": "markdown",
   "metadata": {},
   "source": [
    "The Registry.query_counts() method takes arguments which we can use to see which keyword values might help us narrow down our search, or possibly give us too MANY results (these are passed to internal function _build_counts_adql):\n",
    "\n",
    "    field      : keyword field for which to see popular values: \"waveband\", \"publisher\", \"service_type\" currently supported.\n",
    "    minimum    : A minimum count of occurences for the keyword value to use as a cutoff (optional, defaults to 1)"
   ]
  },
  {
   "cell_type": "code",
   "execution_count": 9,
   "metadata": {},
   "outputs": [
    {
     "name": "stdout",
     "output_type": "stream",
     "text": [
      "Registry:  sending query ADQL = select * from (select role_name as publisher, count(role_name) as count_publisher from rr.res_role where base_role = 'publisher'  group by role_name) as count_table where count_publisher >= 15 order by count_publisher desc\n",
      "\n",
      "Queried: http://vao.stsci.edu/RegTAP/TapService.aspx/sync\n",
      "\n",
      "                         publisher                           count_publisher\n",
      "------------------------------------------------------------ ---------------\n",
      "                                                         CDS           17148\n",
      "                                           NASA/GSFC HEASARC            1039\n",
      "                          NASA/IPAC Infrared Science Archive             520\n",
      "                                            The GAVO DC team             159\n",
      "                   Space Telescope Science Institute Archive             101\n",
      "      WFAU, Institute for Astronomy, University of Edinburgh              99\n",
      "                                                     SVO CAB              35\n",
      "                                                         IA2              35\n",
      "                              Canadian Astronomy Data Centre              30\n",
      "Sternberg Astronomical Institute Virtual Observatory Project              29\n",
      "                                                       HELIO              27\n",
      "                                                        MSSL              24\n",
      "                                                   Astrogrid              24\n",
      "                                                         JHU              19\n",
      "                        The NASA/IPAC Extragalactic Database              18\n",
      "                                                         JVO              17\n",
      "                                       European Space Agency              17\n"
     ]
    }
   ],
   "source": [
    "results = Registry.query_counts('publisher', 15, debug=True)\n",
    "print(results)"
   ]
  },
  {
   "cell_type": "markdown",
   "metadata": {},
   "source": [
    "With a 'publisher' field to work from, we can get a narrowed down query:"
   ]
  },
  {
   "cell_type": "code",
   "execution_count": 4,
   "metadata": {
    "scrolled": true
   },
   "outputs": [
    {
     "name": "stdout",
     "output_type": "stream",
     "text": [
      "Registry:  sending query ADQL = \n",
      "          select res.waveband,res.short_name,cap.ivoid,res.res_description,\n",
      "          intf.access_url,res.reference_url,res_role.role_name as publisher,cap.cap_type as service_type\n",
      "          from rr.capability as cap\n",
      "            natural join rr.resource as res\n",
      "            natural join rr.interface as intf \n",
      "\t\t    natural join rr.res_role as res_role\n",
      "             where cap.cap_type='conesearch' and cap.ivoid like '%ned%' and res_role.base_role = 'publisher' and res_role.role_name like '%Extragalactic Database%'\n",
      "\n",
      "Queried: http://vao.stsci.edu/RegTAP/TapService.aspx/sync\n",
      "\n",
      "Found 1 results:\n",
      "                                              access_url                                              \n",
      "------------------------------------------------------------------------------------------------------\n",
      "http://ned.ipac.caltech.edu/cgi-bin/NEDobjsearch?search_type=Near+Position+Search&amp;of=xml_main&amp;\n"
     ]
    }
   ],
   "source": [
    "results = Registry.query(source='ned', publisher='Extragalactic Database', service_type='cone', debug=True)\n",
    "print('Found {} results:'.format(len(results)))\n",
    "print(results[:]['access_url'])"
   ]
  },
  {
   "cell_type": "markdown",
   "metadata": {},
   "source": [
    "\n",
    "Note we will need to URL-decode the access_url information in our results, as the registry resource standard expects it be encoded."
   ]
  },
  {
   "cell_type": "code",
   "execution_count": 5,
   "metadata": {},
   "outputs": [
    {
     "name": "stdout",
     "output_type": "stream",
     "text": [
      "http://ned.ipac.caltech.edu/cgi-bin/NEDobjsearch?search_type=Near+Position+Search&of=xml_main&\n"
     ]
    }
   ],
   "source": [
    "from html import unescape\n",
    "\n",
    "for result in results:\n",
    "    print(unescape(result['access_url']))"
   ]
  },
  {
   "cell_type": "markdown",
   "metadata": {},
   "source": [
    "# 11. TAP\n",
    "\n",
    "First, look up table services in the registry, go through the results, find the one you want.\n",
    "  \n",
    "\n",
    "Then assuming you know how to construct ADQL logic, you can query the service with the astroquery utility TapPlus. TapPlus was created as a library layer under the GAIA archive, but works for all TAP services. Documentation at: https://github.com/astropy/astroquery/blob/master/docs/utils/tap.rst\n",
    "\n",
    "\n",
    "In general, one opens a connection to the service URL. Then, if one does not already know the database table information associated with the service, one can ask the service for it. Since this is a standard service using the known CAOM and ObsCore data models, we know this information from http://www.ivoa.net/documents/ObsCore/.\n",
    "\n",
    "Then one can build and run the main query, either synchronously or asynchronously. We'll do a synchronous call. Geometrically based queries allow one to do the equivalent of a cone search or bounded-box footprint search, but not be limited to only cone search filtering OR predefined returned columns. \n"
   ]
  },
  {
   "cell_type": "code",
   "execution_count": 15,
   "metadata": {},
   "outputs": [
    {
     "name": "stdout",
     "output_type": "stream",
     "text": [
      "Found 1 results:\n",
      "http://vao.stsci.edu/CAOMTAP/TapService.aspx\n",
      "Created TAP+ (v1.0.1) - Connection:\n",
      "\tHost: vao.stsci.edu\n",
      "\tUse HTTPS: False\n",
      "\tPort: 80\n",
      "\tSSL Port: 443\n"
     ]
    }
   ],
   "source": [
    "tap_services_CAOM=Registry.query(keyword='caom',service_type='table', publisher='Space Telescope')\n",
    "print('Found {} results:'.format(len(tap_services_CAOM)))\n",
    "tap_url = unescape(tap_services_CAOM[0]['access_url'])\n",
    "print(tap_url) \n",
    "\n",
    "from astroquery.utils.tap.core import TapPlus\n",
    "CAOM_service = TapPlus(url=tap_url)\n"
   ]
  },
  {
   "cell_type": "code",
   "execution_count": 11,
   "metadata": {},
   "outputs": [
    {
     "name": "stdout",
     "output_type": "stream",
     "text": [
      "Launched query: '\n",
      "    SELECT  TOP 2000 * FROM ivoa.Obscore \n",
      "    WHERE CONTAINS(POINT('ICRS', 16.0, 40.0),s_region)=1\n",
      "  '\n",
      "Retrieving sync. results...\n",
      "Query finished.\n",
      "dataproduct_type calib_level obs_collection ... facility_name instrument_name\n",
      "---------------- ----------- -------------- ... ------------- ---------------\n",
      "           image           2          GALEX ...       CALTECH           GALEX\n",
      "           image           2          GALEX ...       CALTECH           GALEX\n",
      "           image           2          GALEX ...       CALTECH           GALEX\n",
      "           image           3            PS1 ...           IfA            GPC1\n",
      "           image           3            PS1 ...           IfA            GPC1\n",
      "           image           2          GALEX ...       CALTECH           GALEX\n",
      "           image           2          GALEX ...       CALTECH           GALEX\n",
      "           image           2          GALEX ...       CALTECH           GALEX\n",
      "           image           2          GALEX ...       CALTECH           GALEX\n",
      "           image           3            PS1 ...           IfA            GPC1\n",
      "           image           2          GALEX ...       CALTECH           GALEX\n",
      "           image           3            PS1 ...           IfA            GPC1\n",
      "           image           3            PS1 ...           IfA            GPC1\n",
      "           image           3            PS1 ...           IfA            GPC1\n",
      "           image           3            PS1 ...           IfA            GPC1\n",
      "           image           3            PS1 ...           IfA            GPC1\n",
      "           image           3            PS1 ...           IfA            GPC1\n",
      "           image           3            PS1 ...           IfA            GPC1\n"
     ]
    }
   ],
   "source": [
    "job = CAOM_service.launch_job(\"\"\"\n",
    "    SELECT * FROM ivoa.Obscore \n",
    "    WHERE CONTAINS(POINT('ICRS', 16.0, 40.0),s_region)=1\n",
    "  \"\"\")\n",
    "CAOM_results = job.get_results()\n",
    "print(CAOM_results)"
   ]
  },
  {
   "cell_type": "markdown",
   "metadata": {},
   "source": [
    "Since this is TAP and not just a cone search, we can narrow down our query to, in this case, GALEX images. And we can specify only the returned column information we want. So to only get the position, estimated file size, and actual link to data for each returned result, one could form the ADQL as such:"
   ]
  },
  {
   "cell_type": "code",
   "execution_count": 7,
   "metadata": {},
   "outputs": [
    {
     "name": "stdout",
     "output_type": "stream",
     "text": [
      "Launched query: '\n",
      "    SELECT top 10 s_ra, s_dec, access_estsize, access_url FROM ivoa.Obscore \n",
      "    WHERE CONTAINS(POINT('ICRS', 16.0, 40.0),s_region)=1\n",
      "    AND obs_collection = \"GALEX\" AND dataproduct_type = 'image'\n",
      "  '\n",
      "Retrieving sync. results...\n",
      "Query finished.\n",
      "      s_ra             s_dec        access_estsize                                                                                         access_url                                                                                        \n",
      "---------------- ------------------ -------------- ------------------------------------------------------------------------------------------------------------------------------------------------------------------------------------------\n",
      "15.8587956991105 40.445530075031598        9841662 https://mast.stsci.edu/portal/Download/file?uri=http://galex.stsci.edu/data/GR6/pipe/01-vsn/22075-GI2_033048_M31_E_Axis_4/d/01-main/0001-img/07-try/GI2_033048_M31_E_Axis_4-fd-int.fits.gz\n"
     ]
    }
   ],
   "source": [
    "job = CAOM_service.launch_job(\"\"\"\n",
    "    SELECT top 10 s_ra, s_dec, access_estsize, access_url FROM ivoa.Obscore \n",
    "    WHERE CONTAINS(POINT('ICRS', 16.0, 40.0),s_region)=1\n",
    "    AND obs_collection = \"GALEX\" AND dataproduct_type = 'image'\n",
    "  \"\"\")\n",
    "CAOM_results = job.get_results()\n",
    "print(CAOM_results[1])"
   ]
  }
 ],
 "metadata": {
  "kernelspec": {
   "display_name": "Python 3",
   "language": "python",
   "name": "python3"
  },
  "language_info": {
   "codemirror_mode": {
    "name": "ipython",
    "version": 3
   },
   "file_extension": ".py",
   "mimetype": "text/x-python",
   "name": "python",
   "nbconvert_exporter": "python",
   "pygments_lexer": "ipython3",
   "version": "3.6.1"
  }
 },
 "nbformat": 4,
 "nbformat_minor": 2
}
