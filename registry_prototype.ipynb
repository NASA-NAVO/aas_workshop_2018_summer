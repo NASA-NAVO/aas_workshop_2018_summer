{
 "cells": [
  {
   "cell_type": "markdown",
   "metadata": {},
   "source": [
    "# Registry-powered Searches\n",
    "\n",
    "\n",
    "If NAVO develops astroquery.vo, we could use things like the following. This is a summary of what is below in more detail. \n",
    "\n",
    "RegTAP:  \n",
    "\n",
    "    query_results=astroquery.vo.Registry.query( ... lots of options, this already exists in our github ...)\n",
    "    heasarc_image_services=astroquery.vo.Registry.list_image_services(source='heasarc') \n",
    "\n",
    "TAP(?):\n",
    "\n",
    "    tap_services_2mass=Registry.query(keyword='2mass',service_type='table')[0]\n",
    "    tap_results=Tap.query(\n",
    "        source=tap_services_2mass[32],\n",
    "        logic_string='CONTAINS(POINT('J2000',ra,dec),CIRCLE('J2000',9.90704,8.96507,0.001))'\n",
    "        )"
   ]
  },
  {
   "cell_type": "code",
   "execution_count": 2,
   "metadata": {
    "collapsed": true
   },
   "outputs": [],
   "source": [
    "import matplotlib\n",
    "import matplotlib.pyplot as plt\n",
    "%matplotlib inline  \n",
    "import requests, io, astropy\n",
    "from IPython.display import Image, display\n",
    "\n",
    "## For handling ordinary astropy Tables\n",
    "from astropy.table import Table, vstack\n",
    "\n",
    "## For reading FITS files\n",
    "import astropy.io.fits as apfits\n",
    "\n",
    "## There are a number of relatively unimportant warnings that \n",
    "## show up, so for now, suppress them:\n",
    "import warnings\n",
    "warnings.filterwarnings(\"ignore\")\n",
    "\n",
    "## our stuff\n",
    "import sys\n",
    "# Use the NASA_NAVO/astroquery\n",
    "from navo_utils.cone import Cone\n",
    "from navo_utils.registry import Registry"
   ]
  },
  {
   "cell_type": "markdown",
   "metadata": {
    "collapsed": true
   },
   "source": [
    "Registry query methods exist in an astroquery.vo.Registry() class with different levels of simplicity and power. So you can, for example, if you already know you want to search NED, get related service URLs as follows. Note that you may get *more* results than you expect, which should be easily differentiated by a human."
   ]
  },
  {
   "cell_type": "code",
   "execution_count": 9,
   "metadata": {
    "scrolled": false
   },
   "outputs": [
    {
     "name": "stdout",
     "output_type": "stream",
     "text": [
      "Registry:  sending query ADQL = \n",
      "          select res.waveband,res.short_name,cap.ivoid,res.res_description,\n",
      "          intf.access_url, res.reference_url\n",
      "          from rr.capability as cap\n",
      "          natural join rr.resource as res\n",
      "          natural join rr.interface as intf\n",
      "           where cap.cap_type='conesearch' and cap.ivoid like '%ned%'\n",
      "\n",
      "Queried: http://vao.stsci.edu/RegTAP/TapService.aspx/sync\n",
      "\n",
      "Found 2 results:\n",
      "                                      access_url                                      \n",
      "--------------------------------------------------------------------------------------\n",
      "http://ned.ipac.caltech.edu/cgi-bin/NEDobjsearch?search_type=Near+Position+Search&amp;\n",
      "                                https://irsa.ipac.caltech.edu/SCS?table=shelacomb&amp;\n",
      "ivo://irsa.ipac/spitzer/catalog/shela/shela_combined\n",
      "<TableColumns names=('waveband','short_name','ivoid','res_description','access_url','reference_url')>\n"
     ]
    }
   ],
   "source": [
    "results = Registry.query(source='ned', service_type='cone', debug=True)\n",
    "print('Found {} results:'.format(len(results)))\n",
    "print(results[:]['access_url'])\n",
    "print(results[1]['ivoid'])\n",
    "print(results.columns)"
   ]
  },
  {
   "cell_type": "markdown",
   "metadata": {},
   "source": [
    "The Registry.query() method takes arguments which we can use to further filter the results (passed to internal function _build_adql):  \n",
    "\n",
    "    service_type : \"image\", \"cone\", or \"spectr\"\n",
    "    keyword      : any keyword contained in ivoid, title, or description\n",
    "    waveband     : waveband string. Multiple options may be comma-delimited i.e. \"optical, infrared\"\n",
    "    source       : any substring in ivoid\n",
    "    publisher    : the name of any publishing organization\n",
    "    order_by     : what field to order it by, but then you have to know the names, currently\n",
    "                    (\"waveband\",\"short_name\",\"ivoid\",\"res_description\",\"access_url\",\"reference_url\",\"role_name\")\n",
    "    logic_string : any other string you want to add to the ADQL where clause, should start with \" and \"\n",
    "\n",
    "The results are returned by Registry.query() in an astropy table using the conversion function _astropy_table_from_votable_response(). "
   ]
  },
  {
   "cell_type": "markdown",
   "metadata": {},
   "source": [
    "The Registry.query_counts() method takes arguments which we can use to see which keyword values might help us narrow down our search, or possibly give us too MANY results (these are passed to internal function _build_counts_adql):\n",
    "\n",
    "    field      : keyword field for which to see popular values: \"waveband\", \"publisher\" currently supported.\n",
    "    minimum    : A minimum count of occurences for the keyword value to use as a cutoff (optional, defaults to 1)"
   ]
  },
  {
   "cell_type": "code",
   "execution_count": 4,
   "metadata": {},
   "outputs": [
    {
     "name": "stdout",
     "output_type": "stream",
     "text": [
      "Registry:  sending query ADQL = select * from (select role_name, count(role_name) as count_field from rr.res_role where base_role = 'publisher'  group by role_name) as count_table where count_field >= 15 order by count_field desc\n",
      "\n",
      "Queried: http://vao.stsci.edu/RegTAP/TapService.aspx/sync\n",
      "\n",
      "                         role_name                           count_field\n",
      "------------------------------------------------------------ -----------\n",
      "                                                         CDS       17115\n",
      "                                           NASA/GSFC HEASARC        1037\n",
      "                          NASA/IPAC Infrared Science Archive         520\n",
      "                                            The GAVO DC team         159\n",
      "                   Space Telescope Science Institute Archive         101\n",
      "      WFAU, Institute for Astronomy, University of Edinburgh          99\n",
      "                                                         IA2          35\n",
      "                                                     SVO CAB          34\n",
      "                              Canadian Astronomy Data Centre          30\n",
      "Sternberg Astronomical Institute Virtual Observatory Project          29\n",
      "                                                       Helio          27\n",
      "                                                        MSSL          24\n",
      "                                                   Astrogrid          24\n",
      "                                                         JHU          19\n",
      "                        The NASA/IPAC Extragalactic Database          18\n",
      "                                                         JVO          17\n",
      "                                       European Space Agency          17\n"
     ]
    }
   ],
   "source": [
    "results = Registry.query_counts('publisher', 15, debug=True)\n",
    "print(results)"
   ]
  },
  {
   "cell_type": "markdown",
   "metadata": {},
   "source": [
    "With a 'publisher' field to work from, we can get a narrowed down query:"
   ]
  },
  {
   "cell_type": "code",
   "execution_count": 7,
   "metadata": {
    "scrolled": true
   },
   "outputs": [
    {
     "name": "stdout",
     "output_type": "stream",
     "text": [
      "Registry:  sending query ADQL = \n",
      "          select res.waveband,res.short_name,cap.ivoid,res.res_description,\n",
      "          intf.access_url, res.reference_url\n",
      "          from rr.capability as cap\n",
      "          natural join rr.resource as res\n",
      "          natural join rr.interface as intf\n",
      "          \n",
      "             natural join rr.res_role as role\n",
      "              where cap.cap_type='conesearch' and cap.ivoid like '%ned%' and ( res.waveband like '%optical%' or res.waveband like '%radio%') and role.base_role = 'publisher' and role.role_name like '%Extragalactic Database%'\n",
      "\n",
      "Queried: http://vao.stsci.edu/RegTAP/TapService.aspx/sync\n",
      "\n",
      "Found 1 results:\n",
      "                                      access_url                                      \n",
      "--------------------------------------------------------------------------------------\n",
      "http://ned.ipac.caltech.edu/cgi-bin/NEDobjsearch?search_type=Near+Position+Search&amp;\n"
     ]
    }
   ],
   "source": [
    "results = Registry.query(source='ned', publisher='Extragalactic Database', service_type='cone', debug=True)\n",
    "print('Found {} results:'.format(len(results)))\n",
    "print(results[:]['access_url'])"
   ]
  },
  {
   "cell_type": "markdown",
   "metadata": {},
   "source": [
    "\n",
    "Note we will need to URL-decode the access_url information in our results, as the registry resource standard expects it be encoded."
   ]
  },
  {
   "cell_type": "code",
   "execution_count": 4,
   "metadata": {},
   "outputs": [
    {
     "name": "stdout",
     "output_type": "stream",
     "text": [
      "http://ned.ipac.caltech.edu/cgi-bin/NEDobjsearch?search_type=Near+Position+Search&\n"
     ]
    }
   ],
   "source": [
    "from html import unescape\n",
    "\n",
    "for result in results:\n",
    "    print(unescape(result['access_url']))"
   ]
  },
  {
   "cell_type": "markdown",
   "metadata": {},
   "source": [
    "# 11. TAP\n",
    "\n",
    "This currently doesn't work but should be perfectly doable:\n",
    "\n",
    "    tap_services_2mass=Registry.query(keyword='2mass',service_type='table')\n",
    "    \n",
    "Look through the results, find the one you want, then assuming you know how to construct ADQL logic and you know the names of the columns in the catalog you're searching:\n",
    "\n",
    "    tap_results=Tap.query(\n",
    "        source=tap_services_2mass[32],\n",
    "        logic_string='CONTAINS(POINT('J2000',ra,dec),CIRCLE('J2000',9.90704,8.96507,0.001))'\n",
    "        )\n",
    "\n",
    "is the equivalent to a cone search, but you could do whatever you wanted. If you didn't know what TAP service you wanted, you probably couldn't do this (as above for images, where you can get image information from all services in the registry). The reason is that the TAP query would depend on the column names, and they are not common.\n",
    "\n",
    "On the other hand, since people have to know how to use ADQL and know the columns of the catalog they're interested in, it's not clear we can add much value with a wrapper."
   ]
  }
 ],
 "metadata": {
  "kernelspec": {
   "display_name": "Python 3",
   "language": "python",
   "name": "python3"
  },
  "language_info": {
   "codemirror_mode": {
    "name": "ipython",
    "version": 3
   },
   "file_extension": ".py",
   "mimetype": "text/x-python",
   "name": "python",
   "nbconvert_exporter": "python",
   "pygments_lexer": "ipython3",
   "version": "3.6.1"
  }
 },
 "nbformat": 4,
 "nbformat_minor": 2
}
