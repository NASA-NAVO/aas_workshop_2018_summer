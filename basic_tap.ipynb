{
 "cells": [
  {
   "cell_type": "markdown",
   "metadata": {},
   "source": [
    "# TAP: Table Access Protocol Services\n",
    "\n",
    "Table Access Protocol Services allow more direct and flexible access to astronomical data than the simpler types of IVOA standard data services. Queries are built with a SQL-like language ADQL (Astronomical Data Query Language), and can include geographic / spatial queries as well as filtering on other characteristics of the data. This also allows the user fine-grained control over the returned columns, unlike the fixed set from cone, image, and spectral services.\n",
    "\n",
    "For this example, we're going to find GALEX images in MAST using a TAP service on the data holdings in the Common Archive Observation Model. The data model itself is a VO standard, so data from various archives around the world can be cross-correlated by querying VO services that provide it. "
   ]
  },
  {
   "cell_type": "code",
   "execution_count": 3,
   "metadata": {
    "collapsed": true
   },
   "outputs": [],
   "source": [
    "import matplotlib\n",
    "import matplotlib.pyplot as plt\n",
    "%matplotlib inline  \n",
    "import requests, io, astropy\n",
    "from IPython.display import Image, display\n",
    "from html import unescape\n",
    "\n",
    "## For handling ordinary astropy Tables\n",
    "from astropy.table import Table, vstack\n",
    "\n",
    "## For reading FITS files\n",
    "import astropy.io.fits as apfits\n",
    "\n",
    "## There are a number of relatively unimportant warnings that \n",
    "## show up, so for now, suppress them:\n",
    "import warnings\n",
    "warnings.filterwarnings(\"ignore\")\n",
    "\n",
    "# Use the NASA_NAVO/astroquery\n",
    "from navo_utils.registry import Registry\n",
    "\n",
    "# Use the astroquery TapPlus library.\n",
    "from astroquery.utils.tap.core import TapPlus"
   ]
  },
  {
   "cell_type": "markdown",
   "metadata": {},
   "source": [
    "# Finding TAP services\n",
    "\n",
    "To work with table services one can begin by searching for them in any registry and filtering on the results, just as we have done for other service types. In fact, the registry interface is itself a TAP service, for which we've built helper functions for common useful queries.\n",
    "\n"
   ]
  },
  {
   "cell_type": "code",
   "execution_count": 4,
   "metadata": {},
   "outputs": [
    {
     "name": "stdout",
     "output_type": "stream",
     "text": [
      "Found 1 results:\n",
      "http://vao.stsci.edu/CAOMTAP/TapService.aspx\n"
     ]
    }
   ],
   "source": [
    "tap_services_CAOM=Registry.query(keyword='caom',service_type='table', publisher='Space Telescope')\n",
    "print('Found {} results:'.format(len(tap_services_CAOM)))\n",
    "tap_url = unescape(tap_services_CAOM[0]['access_url'])\n",
    "print(tap_url) \n"
   ]
  },
  {
   "cell_type": "markdown",
   "metadata": {},
   "source": [
    "Upon finding the TAP service, one can query the individual service this with the astroquery utility TapPlus. TapPlus was created as a layer in the GAIA archive utilities, but works for all TAP services. Documentation at: https://github.com/astropy/astroquery/blob/master/docs/utils/tap.rst\n",
    "\n",
    "In general, one opens a connection to the service URL. Then, if one does not already know the database table information associated with the service, one can ask the service for it. Since we're querying a standard service using the known CAOM and ObsCore data models, we know this information from http://www.ivoa.net/documents/ObsCore/. \n",
    "Then one can build and run the main query, either synchronously or asynchronously. We'll do a synchronous call. \n",
    "\n",
    "This first call is the equivalent of a cone search:"
   ]
  },
  {
   "cell_type": "code",
   "execution_count": 5,
   "metadata": {},
   "outputs": [
    {
     "name": "stdout",
     "output_type": "stream",
     "text": [
      "Created TAP+ (v1.0.1) - Connection:\n",
      "\tHost: vao.stsci.edu\n",
      "\tUse HTTPS: False\n",
      "\tPort: 80\n",
      "\tSSL Port: 443\n",
      "Launched query: '\n",
      "    SELECT  TOP 2000 * FROM ivoa.Obscore \n",
      "    WHERE CONTAINS(POINT('ICRS', 16.0, 40.0),s_region)=1\n",
      "  '\n",
      "Retrieving sync. results...\n",
      "Query finished.\n",
      "dataproduct_type calib_level obs_collection ... facility_name instrument_name\n",
      "---------------- ----------- -------------- ... ------------- ---------------\n",
      "           image           2          GALEX ...       CALTECH           GALEX\n",
      "           image           2          GALEX ...       CALTECH           GALEX\n",
      "           image           2          GALEX ...       CALTECH           GALEX\n",
      "           image           2          GALEX ...       CALTECH           GALEX\n",
      "           image           2          GALEX ...       CALTECH           GALEX\n",
      "           image           2          GALEX ...       CALTECH           GALEX\n",
      "           image           2          GALEX ...       CALTECH           GALEX\n",
      "           image           2          GALEX ...       CALTECH           GALEX\n",
      "           image           3            PS1 ...           IfA            GPC1\n",
      "           image           3            PS1 ...           IfA            GPC1\n",
      "           image           3            PS1 ...           IfA            GPC1\n",
      "           image           3            PS1 ...           IfA            GPC1\n",
      "           image           3            PS1 ...           IfA            GPC1\n",
      "           image           3            PS1 ...           IfA            GPC1\n",
      "           image           3            PS1 ...           IfA            GPC1\n",
      "           image           3            PS1 ...           IfA            GPC1\n",
      "           image           3            PS1 ...           IfA            GPC1\n",
      "           image           3            PS1 ...           IfA            GPC1\n"
     ]
    }
   ],
   "source": [
    "CAOM_service = TapPlus(url=tap_url)\n",
    "\n",
    "job = CAOM_service.launch_job(\"\"\"\n",
    "    SELECT * FROM ivoa.Obscore \n",
    "    WHERE CONTAINS(POINT('ICRS', 16.0, 40.0),s_region)=1\n",
    "  \"\"\")\n",
    "CAOM_results = job.get_results()\n",
    "print(CAOM_results)"
   ]
  },
  {
   "cell_type": "markdown",
   "metadata": {},
   "source": [
    "Since this is TAP and not just a cone search, we can narrow down our query to, in this case, GALEX images. And we can specify only the returned column information we want.  Geometrically based queries allow one to do this equivalent of a cone search or bounded-box footprint search or several other shapes.\n",
    "\n",
    "To only get the position, estimated file size, and actual link to data for each returned result, from the prior cone search but further filtered, one could form the ADQL as such:"
   ]
  },
  {
   "cell_type": "code",
   "execution_count": 6,
   "metadata": {
    "scrolled": false
   },
   "outputs": [
    {
     "name": "stdout",
     "output_type": "stream",
     "text": [
      "Launched query: '\n",
      "    SELECT top 10 s_ra, s_dec, access_estsize, access_url FROM ivoa.Obscore \n",
      "    WHERE CONTAINS(POINT('ICRS', 16.0, 40.0),s_region)=1\n",
      "    AND obs_collection = \"GALEX\" AND dataproduct_type = 'image'\n",
      "  '\n",
      "Retrieving sync. results...\n",
      "Query finished.\n",
      "       s_ra              s_dec        access_estsize                                                                           access_url                                                                         \n",
      "------------------ ------------------ -------------- -------------------------------------------------------------------------------------------------------------------------------------------------------------\n",
      "16.356213326750701 39.772757075359799        5520978 https://mast.stsci.edu/portal/Download/file?uri=http://galex.stsci.edu/data/GR6/pipe/02-vsn/50042-AIS_42/d/01-main/0001-img/07-try/AIS_42_sg09-nd-int.fits.gz\n"
     ]
    }
   ],
   "source": [
    "job = CAOM_service.launch_job(\"\"\"\n",
    "    SELECT top 10 s_ra, s_dec, access_estsize, access_url FROM ivoa.Obscore \n",
    "    WHERE CONTAINS(POINT('ICRS', 16.0, 40.0),s_region)=1\n",
    "    AND obs_collection = \"GALEX\" AND dataproduct_type = 'image'\n",
    "  \"\"\")\n",
    "CAOM_results = job.get_results()\n",
    "\n",
    "print(CAOM_results[1])"
   ]
  },
  {
   "cell_type": "markdown",
   "metadata": {},
   "source": [
    "# Appendix: Documentation on the Standards\n",
    "\n",
    "### Table Access Protocol \n",
    "* IVOA standard for RESTful web service access to tabular data\n",
    "* http://www.ivoa.net/documents/TAP/\n",
    "\n",
    "### Common Archive Observation Model\n",
    "* IVOA standard created primarily at the Canadian Astronomy Data Center\n",
    "* http://www.cadc-ccda.hia-iha.nrc-cnrc.gc.ca/en/doc/caom/\n",
    "\n",
    "### Astronomical Query Data Language (2.0)\n",
    "* IVOA standard for querying astronomical data in tabular format, with geometric search support\n",
    "* http://www.ivoa.net/documents/latest/ADQL.html\n",
    "\n",
    "### TapPlus \n",
    "* \n",
    "* http://astroquery.readthedocs.io/en/latest/utils/tap.html\n",
    "\n",
    "\n",
    " "
   ]
  }
 ],
 "metadata": {
  "kernelspec": {
   "display_name": "Python 3",
   "language": "python",
   "name": "python3"
  },
  "language_info": {
   "codemirror_mode": {
    "name": "ipython",
    "version": 3
   },
   "file_extension": ".py",
   "mimetype": "text/x-python",
   "name": "python",
   "nbconvert_exporter": "python",
   "pygments_lexer": "ipython3",
   "version": "3.6.1"
  }
 },
 "nbformat": 4,
 "nbformat_minor": 2
}
