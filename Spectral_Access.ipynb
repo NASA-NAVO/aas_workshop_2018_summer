{
 "cells": [
  {
   "cell_type": "markdown",
   "metadata": {},
   "source": [
    "# Retrieve spectra using Simple Spectral Access protocol\n",
    "\n",
    "This notebook is one of a set produced by NAVO to demonstrate data access with python tools. If you have not already, start with the [overview notebook](Workshop.ipynb).\n",
    "\n",
    "To run all of this notebook, you will also need a build of __[pyXspec](https://heasarc.gsfc.nasa.gov/xanadu/xspec/python/html/index.html)__, which is part of __[HEASOFT](https://heasarc.gsfc.nasa.gov/lheasoft/)__. You'll also need the __[wurlitzer](https://github.com/minrk/wurlitzer)__ python package to capture the Xspec output in this notebook. (Note that it is not available via 'conda install wurlitzer\" for anaconda 3, but you can 'pip install wurlitzer'.)\n",
    "\n",
    "Note:  because of the way that pyXspec stores information, re-running the same cells repeatedly often does not work. If you have problems, restart the kernel and run the whole notebook fresh."
   ]
  },
  {
   "cell_type": "code",
   "execution_count": 1,
   "metadata": {},
   "outputs": [],
   "source": [
    "import matplotlib\n",
    "import matplotlib.pyplot as plt\n",
    "\n",
    "%matplotlib inline  \n",
    "import requests, io\n",
    "from astropy.table import Table\n",
    "\n",
    "import xspec\n",
    "## For capturing Xspec terminal output\n",
    "##  See https://github.com/minrk/wurlitzer\n",
    "from wurlitzer import sys_pipes\n",
    "## Hide annoying warnings\n",
    "import warnings\n",
    "warnings.filterwarnings(\"ignore\")\n",
    "\n",
    "from navo_utils.spectra import Spectra, SpectraColumn\n",
    "\n",
    "from astropy.coordinates import SkyCoord\n"
   ]
  },
  {
   "cell_type": "markdown",
   "metadata": {},
   "source": [
    "## Find out what catalogs of spectra can be queried with SSA service:\n",
    "\n",
    "(See the notebook about how to use the [Registry](Registry.ipynb) for information on this sort of query.)"
   ]
  },
  {
   "cell_type": "code",
   "execution_count": 2,
   "metadata": {
    "scrolled": true
   },
   "outputs": [
    {
     "data": {
      "text/html": [
       "<i>Table masked=True length=8</i>\n",
       "<table id=\"table4584302520\" class=\"table-striped table-bordered table-condensed\">\n",
       "<thead><tr><th>waveband</th><th>short_name</th><th>ivoid</th><th>res_description</th><th>access_url</th><th>reference_url</th><th>publisher</th><th>service_type</th></tr></thead>\n",
       "<thead><tr><th>str15</th><th>str12</th><th>str29</th><th>str2899</th><th>str64</th><th>str58</th><th>str17</th><th>str20</th></tr></thead>\n",
       "<tr><td>gamma-ray#x-ray</td><td>INTEGRAL/BSC</td><td>ivo://nasa.heasarc/intbsc</td><td>The INTEGRAL Bright Source Catalog is based on publicly available data from the two main instruments (IBIS and SPI) on board INTEGRAL (see Winkler et al. 2003, A&amp;amp;amp;A, 411, L1 for a description of the INTEGRAL spacecraft and instrument packages). INTEGRAL began collecting data in October 2002. This catalog will be regularly updated as data become public (~14 months after they are obtained). The Bright Source Catalog is a collaborative effort between the INTEGRAL Science Data Center (ISDC) in Switzerland and the NASA Goddard Space Flight Center (GSFC) INTEGRAL Guest Observer Facility (GOF). The results presented here are a result of a semi-automated analysis and they should be considered as approximate: they are intended to serve as a guideline to those interested in pursuing more detailed follow-up analyses. The data from the imager ISGRI (Lebrun et al. 2003, A&amp;amp;amp;A, 411, L141) have been analyzed at the INTEGRAL Science Data Centre (ISDC), while the SPI (Vedrenne et al. 2003, A&amp;amp;amp;A, 411, L63) data analysis was performed at GSFC as a service of the INTEGRAL GOF.</td><td>https://heasarc.gsfc.nasa.gov/xamin/vo/ssa?table=intbsc&amp;amp;</td><td>https://heasarc.gsfc.nasa.gov/W3Browse/all/intbsc.html</td><td>NASA/GSFC HEASARC</td><td>simplespectralaccess</td></tr>\n",
       "<tr><td>gamma-ray#x-ray</td><td>INTEGRAL/BSC</td><td>ivo://nasa.heasarc/intbsc</td><td>The INTEGRAL Bright Source Catalog is based on publicly available data from the two main instruments (IBIS and SPI) on board INTEGRAL (see Winkler et al. 2003, A&amp;amp;amp;A, 411, L1 for a description of the INTEGRAL spacecraft and instrument packages). INTEGRAL began collecting data in October 2002. This catalog will be regularly updated as data become public (~14 months after they are obtained). The Bright Source Catalog is a collaborative effort between the INTEGRAL Science Data Center (ISDC) in Switzerland and the NASA Goddard Space Flight Center (GSFC) INTEGRAL Guest Observer Facility (GOF). The results presented here are a result of a semi-automated analysis and they should be considered as approximate: they are intended to serve as a guideline to those interested in pursuing more detailed follow-up analyses. The data from the imager ISGRI (Lebrun et al. 2003, A&amp;amp;amp;A, 411, L141) have been analyzed at the INTEGRAL Science Data Centre (ISDC), while the SPI (Vedrenne et al. 2003, A&amp;amp;amp;A, 411, L63) data analysis was performed at GSFC as a service of the INTEGRAL GOF.</td><td>https://heasarc.gsfc.nasa.gov/xamin/vo/ssa?table=intbsc&amp;amp;</td><td>https://heasarc.gsfc.nasa.gov/W3Browse/all/intbsc.html</td><td>NASA/GSFC HEASARC</td><td>simplespectralaccess</td></tr>\n",
       "<tr><td>gamma-ray</td><td>SwiftBAT</td><td>ivo://nasa.heasarc/swiftbalog</td><td>The BAT can operate several configuration modes simultaneously. Each of the simultaneous modes is listed in separate records within this table. For a given time interval, there are several records (partially overlapping in time), each describing a single configuration/mode. The BAT modes collect data for the entire FOV but also have the capability to record rates (tag mask rate) for up to a few specific sky positions (typically 3) that correspond to a pre-assigned target ID. It is possible that at least two or more of these positions do not coincide with the BAT or NFI pointing position and therefore the target ID does necessarily coincide with Target_ID of the BAT or NFI pointing position. This table records for the position (RA and Dec) and Target_ID parameters the correct values associated to each of the mask tag data.</td><td>https://heasarc.gsfc.nasa.gov/xamin/vo/ssa?table=swiftbalog&amp;amp;</td><td>https://heasarc.gsfc.nasa.gov/W3Browse/all/swiftbalog.html</td><td>NASA/GSFC HEASARC</td><td>simplespectralaccess</td></tr>\n",
       "<tr><td>gamma-ray</td><td>SwiftBAT</td><td>ivo://nasa.heasarc/swiftbalog</td><td>The BAT can operate several configuration modes simultaneously. Each of the simultaneous modes is listed in separate records within this table. For a given time interval, there are several records (partially overlapping in time), each describing a single configuration/mode. The BAT modes collect data for the entire FOV but also have the capability to record rates (tag mask rate) for up to a few specific sky positions (typically 3) that correspond to a pre-assigned target ID. It is possible that at least two or more of these positions do not coincide with the BAT or NFI pointing position and therefore the target ID does necessarily coincide with Target_ID of the BAT or NFI pointing position. This table records for the position (RA and Dec) and Target_ID parameters the correct values associated to each of the mask tag data.</td><td>https://heasarc.gsfc.nasa.gov/xamin/vo/ssa?table=swiftbalog&amp;amp;</td><td>https://heasarc.gsfc.nasa.gov/W3Browse/all/swiftbalog.html</td><td>NASA/GSFC HEASARC</td><td>simplespectralaccess</td></tr>\n",
       "<tr><td>gamma-ray</td><td>SwiftXRT</td><td>ivo://nasa.heasarc/swiftxrlog</td><td>The XRT runs only one type of configuration mode/window in a given time interval. The table therefore contains for a given time interval a single record that describes one configuration. A new record is generated when the following is changing within an observation: new operating mode , new pointing mode, or new window configuration.</td><td>https://heasarc.gsfc.nasa.gov/xamin/vo/ssa?table=swiftxrlog&amp;amp;</td><td>https://heasarc.gsfc.nasa.gov/W3Browse/all/swiftxrlog.html</td><td>NASA/GSFC HEASARC</td><td>simplespectralaccess</td></tr>\n",
       "<tr><td>gamma-ray</td><td>SwiftXRT</td><td>ivo://nasa.heasarc/swiftxrlog</td><td>The XRT runs only one type of configuration mode/window in a given time interval. The table therefore contains for a given time interval a single record that describes one configuration. A new record is generated when the following is changing within an observation: new operating mode , new pointing mode, or new window configuration.</td><td>https://heasarc.gsfc.nasa.gov/xamin/vo/ssa?table=swiftxrlog&amp;amp;</td><td>https://heasarc.gsfc.nasa.gov/W3Browse/all/swiftxrlog.html</td><td>NASA/GSFC HEASARC</td><td>simplespectralaccess</td></tr>\n",
       "<tr><td>x-ray</td><td>Chandra</td><td>ivo://nasa.heasarc/chanmaster</td><td>This database table contains all of the observations made by the Chandra X-Ray Observatory (CXO, formerly known as the Advanced X-ray Astrophysics Facility or AXAF) as part of the Performance Verification and Calibration (PVC) phase and also contains all of the subsequent Cycles&apos; Guaranteed Time Observers (GTO) and General Observer (GO) targets, and any Director&apos;s Discretionary Time (DDT) targets that have been observed. It also includes scheduled and as-yet-not-scheduled targets. The HEASARC updates this database table on a twice-weekly basis by querying the database table at the Chandra X-Ray Center (CXC) website, as discussed in the Provenance section. For observations whose status is &apos;archived&apos;, data products can be retrieved from the HEASARC&apos;s mirror of the CXC&apos;s Chandra Data Archive (CDA). The CXC should be acknowledged as the source of Chandra data. The PVC phase was during the first few months of the CXO mission; some of the calibration observations that are for monitoring purposes will be performed in later mission cycles. All calibration data (entries with Type = CAL in this database) are placed immediately into the CXO public data archive at the Chandra X-Ray Observatory Center (CXC); please see the Web page at &amp;amp;lt;a href=&quot;http://asc.harvard.edu/&quot;&amp;amp;gt;http://asc.harvard.edu/&amp;amp;lt;/a&amp;amp;gt; for more information on the CXC data archive). GTO observations during Cycle 1 or any subsequent Cycle will probably occupy 100% of months 3-4, 30% of months 5-22, and 15% of the available time for the remainder of the mission. Guaranteed Time Observers will have the same proprietary data rights as General Observers (i.e., their data will be placed in the public CXC archive 12 months after they have received the data in usable form). For detailed information on the Chandra Observatory and datasets see: &amp;amp;lt;pre&amp;amp;gt; &amp;amp;lt;a href=&quot;http://cxc.harvard.edu/&quot;&amp;amp;gt;http://cxc.harvard.edu/&amp;amp;lt;/a&amp;amp;gt; for general Chandra information &amp;amp;lt;a href=&quot;http://cxc.harvard.edu/cda/&quot;&amp;amp;gt;http://cxc.harvard.edu/cda/&amp;amp;lt;/a&amp;amp;gt; for the Chandra Data Archive &amp;amp;lt;a href=&quot;http://cxc.harvard.edu/cal/&quot;&amp;amp;gt;http://cxc.harvard.edu/cal/&amp;amp;lt;/a&amp;amp;gt; for calibration information &amp;amp;lt;a href=&quot;http://cxc.harvard.edu/caldb/&quot;&amp;amp;gt;http://cxc.harvard.edu/caldb/&amp;amp;lt;/a&amp;amp;gt; for the calibration database &amp;amp;lt;a href=&quot;http://cxc.harvard.edu/ciao/&quot;&amp;amp;gt;http://cxc.harvard.edu/ciao/&amp;amp;lt;/a&amp;amp;gt; for data analysis &amp;amp;lt;a href=&quot;http://cxc.harvard.edu/ciao/download/&quot;&amp;amp;gt;http://cxc.harvard.edu/ciao/download/&amp;amp;lt;/a&amp;amp;gt; for analysis software &amp;amp;lt;a href=&quot;http://cxc.harvard.edu/ciao/threads/&quot;&amp;amp;gt;http://cxc.harvard.edu/ciao/threads/&amp;amp;lt;/a&amp;amp;gt; for analysis threads &amp;amp;lt;a href=&quot;http://cda.harvard.edu/chaser/&quot;&amp;amp;gt;http://cda.harvard.edu/chaser/&amp;amp;lt;/a&amp;amp;gt; for WebChaSeR &amp;amp;lt;/pre&amp;amp;gt;</td><td>https://heasarc.gsfc.nasa.gov/xamin/vo/ssa?table=chanmaster&amp;amp;</td><td>https://heasarc.gsfc.nasa.gov/W3Browse/all/chanmaster.html</td><td>NASA/GSFC HEASARC</td><td>simplespectralaccess</td></tr>\n",
       "<tr><td>x-ray</td><td>Chandra</td><td>ivo://nasa.heasarc/chanmaster</td><td>This database table contains all of the observations made by the Chandra X-Ray Observatory (CXO, formerly known as the Advanced X-ray Astrophysics Facility or AXAF) as part of the Performance Verification and Calibration (PVC) phase and also contains all of the subsequent Cycles&apos; Guaranteed Time Observers (GTO) and General Observer (GO) targets, and any Director&apos;s Discretionary Time (DDT) targets that have been observed. It also includes scheduled and as-yet-not-scheduled targets. The HEASARC updates this database table on a twice-weekly basis by querying the database table at the Chandra X-Ray Center (CXC) website, as discussed in the Provenance section. For observations whose status is &apos;archived&apos;, data products can be retrieved from the HEASARC&apos;s mirror of the CXC&apos;s Chandra Data Archive (CDA). The CXC should be acknowledged as the source of Chandra data. The PVC phase was during the first few months of the CXO mission; some of the calibration observations that are for monitoring purposes will be performed in later mission cycles. All calibration data (entries with Type = CAL in this database) are placed immediately into the CXO public data archive at the Chandra X-Ray Observatory Center (CXC); please see the Web page at &amp;amp;lt;a href=&quot;http://asc.harvard.edu/&quot;&amp;amp;gt;http://asc.harvard.edu/&amp;amp;lt;/a&amp;amp;gt; for more information on the CXC data archive). GTO observations during Cycle 1 or any subsequent Cycle will probably occupy 100% of months 3-4, 30% of months 5-22, and 15% of the available time for the remainder of the mission. Guaranteed Time Observers will have the same proprietary data rights as General Observers (i.e., their data will be placed in the public CXC archive 12 months after they have received the data in usable form). For detailed information on the Chandra Observatory and datasets see: &amp;amp;lt;pre&amp;amp;gt; &amp;amp;lt;a href=&quot;http://cxc.harvard.edu/&quot;&amp;amp;gt;http://cxc.harvard.edu/&amp;amp;lt;/a&amp;amp;gt; for general Chandra information &amp;amp;lt;a href=&quot;http://cxc.harvard.edu/cda/&quot;&amp;amp;gt;http://cxc.harvard.edu/cda/&amp;amp;lt;/a&amp;amp;gt; for the Chandra Data Archive &amp;amp;lt;a href=&quot;http://cxc.harvard.edu/cal/&quot;&amp;amp;gt;http://cxc.harvard.edu/cal/&amp;amp;lt;/a&amp;amp;gt; for calibration information &amp;amp;lt;a href=&quot;http://cxc.harvard.edu/caldb/&quot;&amp;amp;gt;http://cxc.harvard.edu/caldb/&amp;amp;lt;/a&amp;amp;gt; for the calibration database &amp;amp;lt;a href=&quot;http://cxc.harvard.edu/ciao/&quot;&amp;amp;gt;http://cxc.harvard.edu/ciao/&amp;amp;lt;/a&amp;amp;gt; for data analysis &amp;amp;lt;a href=&quot;http://cxc.harvard.edu/ciao/download/&quot;&amp;amp;gt;http://cxc.harvard.edu/ciao/download/&amp;amp;lt;/a&amp;amp;gt; for analysis software &amp;amp;lt;a href=&quot;http://cxc.harvard.edu/ciao/threads/&quot;&amp;amp;gt;http://cxc.harvard.edu/ciao/threads/&amp;amp;lt;/a&amp;amp;gt; for analysis threads &amp;amp;lt;a href=&quot;http://cda.harvard.edu/chaser/&quot;&amp;amp;gt;http://cda.harvard.edu/chaser/&amp;amp;lt;/a&amp;amp;gt; for WebChaSeR &amp;amp;lt;/pre&amp;amp;gt;</td><td>https://heasarc.gsfc.nasa.gov/xamin/vo/ssa?table=chanmaster&amp;amp;</td><td>https://heasarc.gsfc.nasa.gov/W3Browse/all/chanmaster.html</td><td>NASA/GSFC HEASARC</td><td>simplespectralaccess</td></tr>\n",
       "</table>"
      ],
      "text/plain": [
       "<Table masked=True length=8>\n",
       "    waveband     short_name  ...     publisher         service_type    \n",
       "     str15         str12     ...       str17              str20        \n",
       "--------------- ------------ ... ----------------- --------------------\n",
       "gamma-ray#x-ray INTEGRAL/BSC ... NASA/GSFC HEASARC simplespectralaccess\n",
       "gamma-ray#x-ray INTEGRAL/BSC ... NASA/GSFC HEASARC simplespectralaccess\n",
       "      gamma-ray     SwiftBAT ... NASA/GSFC HEASARC simplespectralaccess\n",
       "      gamma-ray     SwiftBAT ... NASA/GSFC HEASARC simplespectralaccess\n",
       "      gamma-ray     SwiftXRT ... NASA/GSFC HEASARC simplespectralaccess\n",
       "      gamma-ray     SwiftXRT ... NASA/GSFC HEASARC simplespectralaccess\n",
       "          x-ray      Chandra ... NASA/GSFC HEASARC simplespectralaccess\n",
       "          x-ray      Chandra ... NASA/GSFC HEASARC simplespectralaccess"
      ]
     },
     "execution_count": 2,
     "metadata": {},
     "output_type": "execute_result"
    }
   ],
   "source": [
    "from navo_utils.registry import Registry\n",
    "services=Registry.query(service_type='spectr',source='heasarc')\n",
    "services"
   ]
  },
  {
   "cell_type": "markdown",
   "metadata": {},
   "source": [
    "## Query one of them, in this case Chandra for the source M82:"
   ]
  },
  {
   "cell_type": "code",
   "execution_count": 3,
   "metadata": {},
   "outputs": [
    {
     "name": "stdout",
     "output_type": "stream",
     "text": [
      "    Querying service https://heasarc.gsfc.nasa.gov/xamin/vo/ssa?table=chanmaster&\n",
      "    Got 3 results for parameters[0]\n",
      "    Got 40 results for parameters[1]\n",
      "    (Got no results for parameters[2])\n"
     ]
    },
    {
     "data": {
      "text/html": [
       "<i>Table masked=True length=3</i>\n",
       "<table id=\"table5196156040-803271\" class=\"table-striped table-bordered table-condensed\">\n",
       "<thead><tr><th>idx</th><th>obsid</th><th>status</th><th>name</th><th>ra</th><th>dec</th><th>time</th><th>detector</th><th>grating</th><th>exposure</th><th>type</th><th>pi</th><th>public_date</th><th>SSA_start_time</th><th>SSA_tmid</th><th>SSA_stop_time</th><th>SSA_duration</th><th>SSA_ra</th><th>SSA_dec</th><th>SSA_coord_obs</th><th>SSA_title</th><th>SSA_reference</th><th>SSA_datalength</th><th>SSA_datamodel</th><th>SSA_instrument</th><th>SSA_publisher</th><th>SSA_format</th><th>SSA_fov</th><th>SSA_wavelength_min</th><th>SSA_wavelength_max</th><th>SSA_bandwidth</th><th>SSA_bandpass</th></tr></thead>\n",
       "<thead><tr><th></th><th></th><th></th><th></th><th>deg</th><th>deg</th><th>mjd</th><th></th><th></th><th>s</th><th></th><th></th><th>mjd</th><th>mjd</th><th>mjd</th><th>mjd</th><th>s</th><th>deg</th><th>deg</th><th>deg</th><th></th><th></th><th></th><th></th><th></th><th></th><th></th><th>deg</th><th>meter</th><th>meter</th><th>meter</th><th>meter</th></tr></thead>\n",
       "<tr><td>0</td><td>17860</td><td>archived</td><td>M82 X-1</td><td>148.95917</td><td>69.67972</td><td>57639.7292</td><td>ACIS-S</td><td>HETG</td><td>51060</td><td>TOO</td><td>Walton</td><td>58010</td><td>57639.7292</td><td>57640.04039324745</td><td>57640.350814633915</td><td>51060.0</td><td>148.95917</td><td>69.67972</td><td>--</td><td>acisf17860N002_pha2</td><td>https://heasarc.gsfc.nasa.gov/FTP/chandra/data/science/ao17/cat4/17860/primary/acisf17860N002_pha2.fits.gz</td><td>12.0</td><td>Spectrum-1.0</td><td>ACIS-S</td><td>HEASARC</td><td>application/fits</td><td>0.8110350040397626</td><td>1.2398e-10</td><td>6.1992e-09</td><td>6.07522e-09</td><td>3.16159e-09</td></tr>\n",
       "<tr><td>1</td><td>19791</td><td>archived</td><td>M82 X-1</td><td>148.95917</td><td>69.67972</td><td>57641.5702</td><td>ACIS-S</td><td>HETG</td><td>15310</td><td>TOO</td><td>Walton</td><td>58010</td><td>57641.5702</td><td>57641.66802275376</td><td>57641.76506558345</td><td>15310.0</td><td>148.95917</td><td>69.67972</td><td>--</td><td>acisf19791N002_pha2</td><td>https://heasarc.gsfc.nasa.gov/FTP/chandra/data/science/ao17/cat4/19791/primary/acisf19791N002_pha2.fits.gz</td><td>12.0</td><td>Spectrum-1.0</td><td>ACIS-S</td><td>HEASARC</td><td>application/fits</td><td>0.8110350040397626</td><td>1.2398e-10</td><td>6.1992e-09</td><td>6.07522e-09</td><td>3.16159e-09</td></tr>\n",
       "<tr><td>2</td><td>19792</td><td>archived</td><td>M82 X-1</td><td>148.95917</td><td>69.67972</td><td>57642.3530</td><td>ACIS-S</td><td>HETG</td><td>32440</td><td>TOO</td><td>Walton</td><td>58010</td><td>57642.353</td><td>57642.55836995486</td><td>57642.76294584919</td><td>32440.0</td><td>148.95917</td><td>69.67972</td><td>--</td><td>acisf19792N002_pha2</td><td>https://heasarc.gsfc.nasa.gov/FTP/chandra/data/science/ao17/cat4/19792/primary/acisf19792N002_pha2.fits.gz</td><td>12.0</td><td>Spectrum-1.0</td><td>ACIS-S</td><td>HEASARC</td><td>application/fits</td><td>0.8110350040397626</td><td>1.2398e-10</td><td>6.1992e-09</td><td>6.07522e-09</td><td>3.16159e-09</td></tr>\n",
       "</table><style>table.dataTable {clear: both; width: auto !important; margin: 0 !important;}\n",
       ".dataTables_info, .dataTables_length, .dataTables_filter, .dataTables_paginate{\n",
       "display: inline-block; margin-right: 1em; }\n",
       ".paginate_button { margin-right: 5px; }\n",
       "</style>\n",
       "<script>\n",
       "\n",
       "var astropy_sort_num = function(a, b) {\n",
       "    var a_num = parseFloat(a);\n",
       "    var b_num = parseFloat(b);\n",
       "\n",
       "    if (isNaN(a_num) && isNaN(b_num))\n",
       "        return ((a < b) ? -1 : ((a > b) ? 1 : 0));\n",
       "    else if (!isNaN(a_num) && !isNaN(b_num))\n",
       "        return ((a_num < b_num) ? -1 : ((a_num > b_num) ? 1 : 0));\n",
       "    else\n",
       "        return isNaN(a_num) ? -1 : 1;\n",
       "}\n",
       "\n",
       "require.config({paths: {\n",
       "    datatables: 'https://cdn.datatables.net/1.10.12/js/jquery.dataTables.min'\n",
       "}});\n",
       "require([\"datatables\"], function(){\n",
       "    console.log(\"$('#table5196156040-803271').dataTable()\");\n",
       "    \n",
       "jQuery.extend( jQuery.fn.dataTableExt.oSort, {\n",
       "    \"optionalnum-asc\": astropy_sort_num,\n",
       "    \"optionalnum-desc\": function (a,b) { return -astropy_sort_num(a, b); }\n",
       "});\n",
       "\n",
       "    $('#table5196156040-803271').dataTable({\n",
       "        order: [],\n",
       "        pageLength: 50,\n",
       "        lengthMenu: [[10, 25, 50, 100, 500, 1000, -1], [10, 25, 50, 100, 500, 1000, 'All']],\n",
       "        pagingType: \"full_numbers\",\n",
       "        columnDefs: [{targets: [0, 4, 5, 6, 9, 12, 13, 14, 15, 16, 17, 18, 19, 27, 28, 29, 30, 31], type: \"optionalnum\"}]\n",
       "    });\n",
       "});\n",
       "</script>\n"
      ],
      "text/plain": [
       "<IPython.core.display.HTML object>"
      ]
     },
     "execution_count": 3,
     "metadata": {},
     "output_type": "execute_result"
    }
   ],
   "source": [
    "pos1='148.968458,69.679703' # M82\n",
    "pos2='83.633083,22.014500' # crab\n",
    "pos3='191.542417,30.731583' #mice\n",
    "pos=[pos1,pos2,pos3]\n",
    "spec_tables=Spectra.query(service=services[-1],coords=pos,radius=0.1,verbose=True)\n",
    "\n",
    "spec_tables[0]['time'].format='.4f'\n",
    "## Let's look at the results for M82:\n",
    "spec_tables[0].show_in_notebook()"
   ]
  },
  {
   "cell_type": "markdown",
   "metadata": {},
   "source": [
    "## Retrieve one of the spectra:"
   ]
  },
  {
   "cell_type": "code",
   "execution_count": 4,
   "metadata": {},
   "outputs": [
    {
     "data": {
      "text/html": [
       "<i>Table length=12</i>\n",
       "<table id=\"table5199580464-603727\" class=\"table-striped table-bordered table-condensed\">\n",
       "<thead><tr><th>idx</th><th>SPEC_NUM</th><th>TG_M</th><th>TG_PART</th><th>TG_SRCID</th><th>X</th><th>Y</th><th>CHANNEL [8192]</th><th>COUNTS [8192]</th><th>STAT_ERR [8192]</th><th>BACKGROUND_UP [8192]</th><th>BACKGROUND_DOWN [8192]</th><th>BIN_LO [8192]</th><th>BIN_HI [8192]</th></tr></thead>\n",
       "<tr><td>0</td><td>1</td><td>-3</td><td>1</td><td>1</td><td>4105.625</td><td>4071.5</td><td>1 .. 8192</td><td>0 .. 0</td><td>1.8660254 .. 1.8660254</td><td>0 .. 0</td><td>0 .. 0</td><td>7.159166666667378 .. 0.3333333333333333</td><td>7.160000000000712 .. 0.33416666666666667</td></tr>\n",
       "<tr><td>1</td><td>2</td><td>-2</td><td>1</td><td>1</td><td>4105.625</td><td>4071.5</td><td>1 .. 8192</td><td>0 .. 0</td><td>1.8660254 .. 1.8660254</td><td>0 .. 0</td><td>0 .. 0</td><td>10.738750000000886 .. 0.5</td><td>10.740000000000887 .. 0.50125</td></tr>\n",
       "<tr><td>2</td><td>3</td><td>-1</td><td>1</td><td>1</td><td>4105.625</td><td>4071.5</td><td>1 .. 8192</td><td>0 .. 0</td><td>1.8660254 .. 1.8660254</td><td>0 .. 0</td><td>0 .. 0</td><td>21.477500000001772 .. 1.0</td><td>21.480000000001773 .. 1.0025</td></tr>\n",
       "<tr><td>3</td><td>4</td><td>1</td><td>1</td><td>1</td><td>4105.625</td><td>4071.5</td><td>1 .. 8192</td><td>0 .. 0</td><td>1.8660254 .. 1.8660254</td><td>0 .. 0</td><td>0 .. 0</td><td>21.477500000001772 .. 1.0</td><td>21.480000000001773 .. 1.0025</td></tr>\n",
       "<tr><td>4</td><td>5</td><td>2</td><td>1</td><td>1</td><td>4105.625</td><td>4071.5</td><td>1 .. 8192</td><td>0 .. 0</td><td>1.8660254 .. 1.8660254</td><td>0 .. 0</td><td>0 .. 0</td><td>10.738750000000886 .. 0.5</td><td>10.740000000000887 .. 0.50125</td></tr>\n",
       "<tr><td>5</td><td>6</td><td>3</td><td>1</td><td>1</td><td>4105.625</td><td>4071.5</td><td>1 .. 8192</td><td>0 .. 0</td><td>1.8660254 .. 1.8660254</td><td>0 .. 0</td><td>0 .. 0</td><td>7.159166666667378 .. 0.3333333333333333</td><td>7.160000000000712 .. 0.33416666666666667</td></tr>\n",
       "<tr><td>6</td><td>7</td><td>-3</td><td>2</td><td>1</td><td>4105.625</td><td>4071.5</td><td>1 .. 8192</td><td>0 .. 0</td><td>1.8660254 .. 1.8660254</td><td>0 .. 0</td><td>0 .. 0</td><td>13.985000000001373 .. 0.3333333333333333</td><td>13.98666666666804 .. 0.33499999999999996</td></tr>\n",
       "<tr><td>7</td><td>8</td><td>-2</td><td>2</td><td>1</td><td>4105.625</td><td>4071.5</td><td>1 .. 8192</td><td>0 .. 0</td><td>1.8660254 .. 1.8660254</td><td>0 .. 0</td><td>0 .. 0</td><td>20.977500000001505 .. 0.5</td><td>20.980000000001507 .. 0.5025</td></tr>\n",
       "<tr><td>8</td><td>9</td><td>-1</td><td>2</td><td>1</td><td>4105.625</td><td>4071.5</td><td>1 .. 8192</td><td>0 .. 0</td><td>1.8660254 .. 1.8660254</td><td>0 .. 0</td><td>0 .. 0</td><td>41.95500000000301 .. 1.0</td><td>41.960000000003014 .. 1.005</td></tr>\n",
       "<tr><td>9</td><td>10</td><td>1</td><td>2</td><td>1</td><td>4105.625</td><td>4071.5</td><td>1 .. 8192</td><td>0 .. 0</td><td>1.8660254 .. 1.8660254</td><td>0 .. 0</td><td>0 .. 0</td><td>41.95500000000301 .. 1.0</td><td>41.960000000003014 .. 1.005</td></tr>\n",
       "<tr><td>10</td><td>11</td><td>2</td><td>2</td><td>1</td><td>4105.625</td><td>4071.5</td><td>1 .. 8192</td><td>0 .. 0</td><td>1.8660254 .. 1.8660254</td><td>0 .. 0</td><td>0 .. 0</td><td>20.977500000001505 .. 0.5</td><td>20.980000000001507 .. 0.5025</td></tr>\n",
       "<tr><td>11</td><td>12</td><td>3</td><td>2</td><td>1</td><td>4105.625</td><td>4071.5</td><td>1 .. 8192</td><td>0 .. 0</td><td>1.8660254 .. 1.8660254</td><td>0 .. 0</td><td>0 .. 0</td><td>13.985000000001373 .. 0.3333333333333333</td><td>13.98666666666804 .. 0.33499999999999996</td></tr>\n",
       "</table><style>table.dataTable {clear: both; width: auto !important; margin: 0 !important;}\n",
       ".dataTables_info, .dataTables_length, .dataTables_filter, .dataTables_paginate{\n",
       "display: inline-block; margin-right: 1em; }\n",
       ".paginate_button { margin-right: 5px; }\n",
       "</style>\n",
       "<script>\n",
       "\n",
       "var astropy_sort_num = function(a, b) {\n",
       "    var a_num = parseFloat(a);\n",
       "    var b_num = parseFloat(b);\n",
       "\n",
       "    if (isNaN(a_num) && isNaN(b_num))\n",
       "        return ((a < b) ? -1 : ((a > b) ? 1 : 0));\n",
       "    else if (!isNaN(a_num) && !isNaN(b_num))\n",
       "        return ((a_num < b_num) ? -1 : ((a_num > b_num) ? 1 : 0));\n",
       "    else\n",
       "        return isNaN(a_num) ? -1 : 1;\n",
       "}\n",
       "\n",
       "require.config({paths: {\n",
       "    datatables: 'https://cdn.datatables.net/1.10.12/js/jquery.dataTables.min'\n",
       "}});\n",
       "require([\"datatables\"], function(){\n",
       "    console.log(\"$('#table5199580464-603727').dataTable()\");\n",
       "    \n",
       "jQuery.extend( jQuery.fn.dataTableExt.oSort, {\n",
       "    \"optionalnum-asc\": astropy_sort_num,\n",
       "    \"optionalnum-desc\": function (a,b) { return -astropy_sort_num(a, b); }\n",
       "});\n",
       "\n",
       "    $('#table5199580464-603727').dataTable({\n",
       "        order: [],\n",
       "        pageLength: 50,\n",
       "        lengthMenu: [[10, 25, 50, 100, 500, 1000, -1], [10, 25, 50, 100, 500, 1000, 'All']],\n",
       "        pagingType: \"full_numbers\",\n",
       "        columnDefs: [{targets: [0, 1, 2, 3, 4, 5, 6, 7, 8, 9, 10, 11, 12, 13], type: \"optionalnum\"}]\n",
       "    });\n",
       "});\n",
       "</script>\n"
      ],
      "text/plain": [
       "<IPython.core.display.HTML object>"
      ]
     },
     "execution_count": 4,
     "metadata": {},
     "output_type": "execute_result"
    }
   ],
   "source": [
    "import astropy.io.fits as fits\n",
    "## Get the name of the column with the URL to the spectrum of the 3rd row:\n",
    "col=Spectra.get_column_name(spec_tables[0],SpectraColumn.ACCESS_URL)\n",
    "## Fetch the HDUs\n",
    "hdu_list=fits.open(spec_tables[0][2][col])\n",
    "#hdu_list.info()\n",
    "table = Table(hdu_list[1].data)\n",
    "table.show_in_notebook()\n",
    "\n"
   ]
  },
  {
   "cell_type": "code",
   "execution_count": 5,
   "metadata": {},
   "outputs": [
    {
     "data": {
      "image/png": "[encoded data removed]",
      "text/plain": [
       "<Figure size 720x576 with 12 Axes>"
      ]
     },
     "metadata": {},
     "output_type": "display_data"
    }
   ],
   "source": [
    "## Here, you just have to be familiar with the format of these spectra by reading Chandra documentation.\n",
    "for i in range(len(table)):\n",
    "    matplotlib.rcParams['figure.figsize'] = (10, 8)\n",
    "    ax=plt.subplot(6,2,i+1)\n",
    "    pha = plt.plot( table['CHANNEL'][i],table['COUNTS'][i])\n",
    "    ax.set_yscale('log')\n",
    "    if table['TG_PART'][i] == 1:\n",
    "        instr='HEG'\n",
    "    if table['TG_PART'][i] == 2:\n",
    "        instr='MEG'\n",
    "    if table['TG_PART'][i] == 3:\n",
    "        instr='LEG'\n",
    "    ax.set_title(\"{grating}{order:+d}\".format(grating=instr, order=table['TG_M'][i]))\n",
    "    plt.tight_layout()\n",
    "    "
   ]
  },
  {
   "cell_type": "markdown",
   "metadata": {
    "collapsed": true
   },
   "source": [
    "Note: The 12 plots here show all the different HEG and MEG components (+/- 3, +/- 2, and +/- 1 for each grating) for the grating data, as titled. In practice, you might want to download the fits file and use a different analysis and plotting tool to create an energy spectrum plot using SHERPA or XSPEC, etc. \n",
    "\n",
    "You can download the file directly using this:\n"
   ]
  },
  {
   "cell_type": "code",
   "execution_count": 6,
   "metadata": {
    "scrolled": true
   },
   "outputs": [],
   "source": [
    "## Because urllib is annoying to make Python 2/3 compatible, just use requests:\n",
    "r=requests.get(spec_tables[0][2][col], stream=True)\n",
    "with open('downloads/my_spectrum.fits','wb') as f:\n",
    "    f.write(r.content)"
   ]
  },
  {
   "cell_type": "markdown",
   "metadata": {},
   "source": [
    "## Analyze it with PyXspec\n",
    "\n",
    "<div>\n",
    "Note that currently, we do not have a way to link the spectra to their corresponding response files.  In some cases, you can take the download URL for the spectrum and look for the response in the same directory, but this is obviously not ideal.  In other cases, it's even less obvious how to find the correct response.  A knowledge of the specific mission archive and tools is currently necessary.  For this example, we have retrieved off-line the relevant file and stored it as \"my_arf.fits\".  This is an issue to be addressed by the HEASARC in the future to make this process more feasible. For now, this example is a proof-of-concept only.  \n",
    "</div>"
   ]
  },
  {
   "cell_type": "code",
   "execution_count": 7,
   "metadata": {},
   "outputs": [
    {
     "name": "stdout",
     "output_type": "stream",
     "text": [
      "\n",
      "1 spectrum  in use\n",
      " \n",
      "Spectral Data File: downloads/my_spectrum.fits{10}  Spectrum 1\n",
      "Net count rate (cts/s) for Spectrum:1  6.696e-02 +/- 5.616e-03\n",
      " Assigned to Data Group 1 and Plot Group 1\n",
      "  Noticed Channels:  1-8192\n",
      "  Telescope: CHANDRA Instrument: ACIS  Channel Type: PI\n",
      "  Exposure Time: 3.202e+04 sec\n",
      " Using fit statistic: chi\n",
      " Using test statistic: chi\n",
      " No response loaded.\n",
      "\n",
      "***Warning!  One or more spectra are missing responses,\n",
      "               and are not suitable for fit.\n",
      "Response successfully loaded.\n",
      "Arf successfully loaded.\n"
     ]
    }
   ],
   "source": [
    "xspec.Xset.allowPrompting = False # keeps pyxspec from hanging, waiting for a response to a prompt\n",
    "##  The type II PHA files contain multiple spectra, and we tell Xspec to select with the \n",
    "##  curly bracket notation and the number starting from 1 (not zero):\n",
    "with sys_pipes():\n",
    "    pha = xspec.Spectrum(\"downloads/my_spectrum.fits{10}\")\n",
    "    ##  As mentioned above, this is retrieved off-line for now.\n",
    "    #pha.response=\"tgcat/obs_19792_tgid_5277/heg_1.rmf.gz\"\n",
    "    #pha.response.arf=\"tgcat/obs_19792_tgid_5277/heg_1.arf.gz\"    \n",
    "    #pha.response=\"tgcat/obs_19792_tgid_5277/meg_1.rmf.gz\"\n",
    "    #pha.response.arf=\"tgcat/obs_19792_tgid_5277/meg_1.arf.gz\"\n",
    "    pha.response=\"aux/my_rmf.fits.gz\"\n",
    "    pha.response.arf=\"aux/my_arf.fits.gz\""
   ]
  },
  {
   "cell_type": "code",
   "execution_count": 8,
   "metadata": {},
   "outputs": [
    {
     "name": "stdout",
     "output_type": "stream",
     "text": [
      "\n",
      "========================================================================\n",
      "Model TBabs<1>*powerlaw<2> + gaussian<3> Source No.: 1   Active/On\n",
      "Model Model Component  Parameter  Unit     Value\n",
      " par  comp\n",
      "   1    1   TBabs      nH         10^22    1.00000      +/-  0.0          \n",
      "   2    2   powerlaw   PhoIndex            1.00000      +/-  0.0          \n",
      "   3    2   powerlaw   norm                1.00000      +/-  0.0          \n",
      "   4    3   gaussian   LineE      keV      6.50000      +/-  0.0          \n",
      "   5    3   gaussian   Sigma      keV      0.100000     +/-  0.0          \n",
      "   6    3   gaussian   norm                1.00000      +/-  0.0          \n",
      "________________________________________________________________________\n",
      "\n",
      "\n",
      "Fit statistic : Chi-Squared =   1.778199e+08 using 8192 PHA bins.\n",
      "\n",
      "Test statistic : Chi-Squared =   1.778199e+08 using 8192 PHA bins.\n",
      " Reduced chi-squared =       21722.44 for   8186 degrees of freedom \n",
      " Null hypothesis probability =   0.000000e+00\n",
      " Current data and model not fit yet.\n"
     ]
    },
    {
     "name": "stderr",
     "output_type": "stream",
     "text": [
      "tbvabs Version 2.3\n",
      "Cosmic absorption with grains and H2, modified from\n",
      "Wilms, Allen, & McCray, 2000, ApJ 542, 914-924\n",
      "Questions: Joern Wilms\n",
      "joern.wilms@sternwarte.uni-erlangen.de\n",
      "joern.wilms@fau.de\n",
      "\n",
      "http://pulsar.sternwarte.uni-erlangen.de/wilms/research/tbabs/\n",
      "\n",
      "PLEASE NOTICE:\n",
      "To get the model described by the above paper\n",
      "you will also have to set the abundances:\n",
      "   abund wilm\n",
      "\n",
      "Note that this routine ignores the current cross section setting\n",
      "as it always HAS to use the Verner cross sections as a baseline.\n"
     ]
    }
   ],
   "source": [
    "with sys_pipes():\n",
    "    m = xspec.Model(\"tbabs*po+ga\")"
   ]
  },
  {
   "cell_type": "code",
   "execution_count": 9,
   "metadata": {},
   "outputs": [
    {
     "name": "stdout",
     "output_type": "stream",
     "text": [
      "Default fit statistic is set to: C-Statistic\n",
      "   This will apply to all current and newly loaded spectra.\n",
      "\n",
      "Fit statistic : C-Statistic =   1.855312e+06 using 8192 PHA bins and 8186 degrees of freedom.\n",
      "\n",
      "Warning: cstat statistic is only valid for Poisson data.\n",
      "    Source file is not Poisson\n",
      "\n",
      "\n",
      "Test statistic : Chi-Squared =   1.778199e+08 using 8192 PHA bins.\n",
      " Reduced chi-squared =       21722.44 for   8186 degrees of freedom \n",
      " Null hypothesis probability =   0.000000e+00\n",
      " Current data and model not fit yet.\n",
      "                                   Parameters\n",
      "C-Statistic  |beta|/N    Lvl          1:nH    2:PhoIndex        3:norm       4:LineE       5:Sigma        6:norm\n",
      "2504.57      16950.9      -3      0.879406       1.47874    0.00320258       7.37281       1.35135    0.00111742\n",
      "2450.51      8926.05      -4      0.738089       1.47741    0.00325654       9.62676       2.40504    0.00121040\n",
      "2447.39      340.548      -2      0.636247       1.34354    0.00284924       13.6065       2.14369    0.00294379\n",
      "2443.07      1251.89      -3      0.581127       1.33907    0.00272271       13.1578       2.17049     0.0127999\n",
      "2442.97      155.342      -3      0.534740       1.28532    0.00254975       9.23206      0.545598    0.00791864\n",
      "2439.87      136.449       0      0.529614       1.28636    0.00254858       9.70742      0.542821    0.00536190\n",
      "2437.17      83.7249       0      0.525998       1.28716    0.00254618       10.1579      0.216441    0.00599568\n",
      "2434.88      137.696      -1      0.517034       1.28318    0.00252539       10.1719      0.247677     0.0114735\n",
      "2432.92      105.066      -1      0.510482       1.27766    0.00250548       10.1297      0.188808     0.0208870\n",
      "2432.36      103.109      -1      0.505036       1.27225    0.00248731       10.2200      0.377843     0.0296482\n",
      "Number of trials exceeded: continue fitting? 2432.05      95.9521       0      0.504040       1.27177    0.00248532       10.1487      0.150243     0.0365315\n",
      "2431.03      113.26       -1      0.499556       1.26669    0.00246891       10.2222      0.255755     0.0409519\n",
      "2429.8       88.9092      -1      0.495431       1.26220    0.00245450       10.1600      0.195998     0.0654472\n",
      "2429.24      79.7379       0      0.494662       1.26181    0.00245293       10.1690      0.232923     0.0810856\n",
      "2428.93      92.6081      -1      0.491132       1.25773    0.00244003       10.2268      0.289170      0.117496\n",
      "2428.87      72.9002       0      0.490466       1.25738    0.00243863       10.2034      0.202996      0.128494\n",
      "2428.71      83.2566       0      0.489888       1.25700    0.00243719       10.2063      0.225581      0.138163\n",
      "2428.68      86.1941       0      0.489365       1.25660    0.00243574       10.2095      0.238267      0.146584\n",
      "2428.68      86.6297       0      0.488881       1.25619    0.00243430       10.2119      0.238330      0.152484\n",
      "======================================================================\n",
      " Variances and Principal Axes\n",
      "                 1        2        3        4        5        6  \n",
      " 2.7729E-09| -0.0013  -0.0019   1.0000  -0.0000   0.0000   0.0000  \n",
      " 1.0032E-03|  0.8309  -0.5565   0.0000  -0.0000   0.0000   0.0001  \n",
      " 8.6910E-03|  0.5371   0.8019   0.0023  -0.1224   0.0910   0.2126  \n",
      " 8.6782E-03|  0.1457   0.2174   0.0006   0.4513  -0.3353  -0.7845  \n",
      " 1.9822E-02| -0.0000  -0.0001  -0.0000  -0.5127   0.6424  -0.5696  \n",
      " 1.1563E+09| -0.0000  -0.0000  -0.0000   0.7200   0.6831   0.1222  \n",
      "----------------------------------------------------------------------\n",
      "\n",
      "========================================================================\n",
      "  Covariance Matrix\n",
      "        1           2           3           4           5           6   \n",
      "   3.432e-03   3.669e-03   1.160e-05  -1.700e+02  -1.613e+02  -2.887e+01\n",
      "   3.669e-03   6.582e-03   1.752e-05  -4.037e+02  -3.830e+02  -6.854e+01\n",
      "   1.160e-05   1.752e-05   5.184e-08  -9.145e-01  -8.676e-01  -1.553e-01\n",
      "  -1.700e+02  -4.037e+02  -9.145e-01   5.995e+08   5.687e+08   1.018e+08\n",
      "  -1.613e+02  -3.830e+02  -8.676e-01   5.687e+08   5.395e+08   9.656e+07\n",
      "  -2.887e+01  -6.854e+01  -1.553e-01   1.018e+08   9.656e+07   1.728e+07\n",
      "------------------------------------------------------------------------\n",
      "\n",
      "========================================================================\n",
      "Model TBabs<1>*powerlaw<2> + gaussian<3> Source No.: 1   Active/On\n",
      "Model Model Component  Parameter  Unit     Value\n",
      " par  comp\n",
      "   1    1   TBabs      nH         10^22    0.488881     +/-  5.85815E-02  \n",
      "   2    2   powerlaw   PhoIndex            1.25619      +/-  8.11270E-02  \n",
      "   3    2   powerlaw   norm                2.43430E-03  +/-  2.27687E-04  \n",
      "   4    3   gaussian   LineE      keV      10.2119      +/-  2.44850E+04  \n",
      "   5    3   gaussian   Sigma      keV      0.238330     +/-  2.32275E+04  \n",
      "   6    3   gaussian   norm                0.152484     +/-  4156.98      \n",
      "________________________________________________________________________\n",
      "\n",
      "\n",
      "Fit statistic : C-Statistic =        2428.68 using 8192 PHA bins and 8186 degrees of freedom.\n",
      "\n",
      "Warning: cstat statistic is only valid for Poisson data.\n",
      "    Source file is not Poisson\n",
      "\n",
      "\n",
      "Test statistic : Chi-Squared =         376.37 using 8192 PHA bins.\n",
      " Reduced chi-squared =       0.045978 for   8186 degrees of freedom \n",
      " Null hypothesis probability =   1.000000e+00\n"
     ]
    }
   ],
   "source": [
    "with sys_pipes():\n",
    "    xspec.Fit.statMethod =\"cstat\"\n",
    "    xspec.Fit.perform()"
   ]
  },
  {
   "cell_type": "markdown",
   "metadata": {},
   "source": [
    "We can plot the results using, e.g., matplotlib (first example below) or Xspec's own plotting routines (second example below):"
   ]
  },
  {
   "cell_type": "code",
   "execution_count": 10,
   "metadata": {},
   "outputs": [
    {
     "data": {
      "image/png": "[encoded data removed]",
      "text/plain": [
       "<Figure size 720x576 with 1 Axes>"
      ]
     },
     "metadata": {},
     "output_type": "display_data"
    }
   ],
   "source": [
    "\n",
    "ax = plt.subplot(111)\n",
    "\n",
    "from astropy.convolution import convolve, Box1DKernel\n",
    "import numpy as np\n",
    "plt.rcParams['figure.figsize'] = (10, 4)\n",
    "\n",
    "with sys_pipes():\n",
    "    xspec.Plot.device = \"/nu\"\n",
    "    ## This tells xspec.Plot that you want to use energy for the x-axis; otherwise, you get channel.\n",
    "    xspec.Plot.xAxis = \"keV\"\n",
    "    ## Tell Xspec to divide out the effective area to give flux\n",
    "    #xspec.Plot.area = True\n",
    "    ## This tells Xspec to rebin the result, which is otherwise very noisy\n",
    "    xspec.Plot.setRebin(minSig=3.0, maxBins=50)\n",
    "    xspec.Plot(\"data\")\n",
    "    xVals = xspec.Plot.x()\n",
    "    xValserr = xspec.Plot.xErr()\n",
    "    yVals = xspec.Plot.y()\n",
    "    yValserr = xspec.Plot.yErr()\n",
    "    modVals = xspec.Plot.model()\n",
    "\n",
    "plt.errorbar(xVals, yVals, yerr=yValserr, xerr=xValserr, fmt='.')\n",
    "\n",
    "plt.step(xVals, modVals)\n",
    "plt.xlabel('keV', fontsize=16)\n",
    "plt.ylabel('counts/cm$^2$/sec/chan', fontsize=16)\n",
    "ax.set_yscale('log')\n",
    "ax.set_ylim([1e-3,1e-1])\n",
    "ax.set_xlim([0.5,10])\n",
    "ax.set_xscale('log')\n"
   ]
  },
  {
   "cell_type": "markdown",
   "metadata": {
    "collapsed": true
   },
   "source": [
    "# Chandra Spectrum of Delta Ori"
   ]
  },
  {
   "cell_type": "code",
   "execution_count": 11,
   "metadata": {},
   "outputs": [
    {
     "name": "stdout",
     "output_type": "stream",
     "text": [
      "    Querying service https://heasarc.gsfc.nasa.gov/xamin/vo/ssa?table=chanmaster&\n",
      "    Got 6 results for parameters[0]\n"
     ]
    },
    {
     "data": {
      "text/html": [
       "<i>Table masked=True length=6</i>\n",
       "<table id=\"table5345151800-91346\" class=\"table-striped table-bordered table-condensed\">\n",
       "<thead><tr><th>idx</th><th>obsid</th><th>status</th><th>name</th><th>ra</th><th>dec</th><th>time</th><th>detector</th><th>grating</th><th>exposure</th><th>type</th><th>pi</th><th>public_date</th><th>SSA_start_time</th><th>SSA_tmid</th><th>SSA_stop_time</th><th>SSA_duration</th><th>SSA_ra</th><th>SSA_dec</th><th>SSA_coord_obs</th><th>SSA_title</th><th>SSA_reference</th><th>SSA_datalength</th><th>SSA_datamodel</th><th>SSA_instrument</th><th>SSA_publisher</th><th>SSA_format</th><th>SSA_fov</th><th>SSA_wavelength_min</th><th>SSA_wavelength_max</th><th>SSA_bandwidth</th><th>SSA_bandpass</th></tr></thead>\n",
       "<thead><tr><th></th><th></th><th></th><th></th><th>deg</th><th>deg</th><th>mjd</th><th></th><th></th><th>s</th><th></th><th></th><th>mjd</th><th>mjd</th><th>mjd</th><th>mjd</th><th>s</th><th>deg</th><th>deg</th><th>deg</th><th></th><th></th><th></th><th></th><th></th><th></th><th></th><th>deg</th><th>meter</th><th>meter</th><th>meter</th><th>meter</th></tr></thead>\n",
       "<tr><td>0</td><td>639</td><td>archived</td><td>DELTA ORI</td><td>83.00125</td><td>-0.29917</td><td>51556.1364</td><td>ACIS-S</td><td>HETG</td><td>49680</td><td>GO</td><td>Cassinelli</td><td>52037</td><td>51556.1364</td><td>51556.43650057151</td><td>51556.735856340485</td><td>49680.0</td><td>83.00125</td><td>-0.29917</td><td>--</td><td>acisf00639N004_pha2</td><td>https://heasarc.gsfc.nasa.gov/FTP/chandra/data/science/ao01/cat2/639/primary/acisf00639N004_pha2.fits.gz</td><td>12.0</td><td>Spectrum-1.0</td><td>ACIS-S</td><td>HEASARC</td><td>application/fits</td><td>0.8110350040397626</td><td>1.2398e-10</td><td>6.1992e-09</td><td>6.07522e-09</td><td>3.16159e-09</td></tr>\n",
       "<tr><td>1</td><td>7416</td><td>archived</td><td>delta Ori HD 36486</td><td>83.00167</td><td>-0.29908</td><td>54413.4270</td><td>HRC-S</td><td>LETG</td><td>97080</td><td>GO</td><td>Raassen</td><td>54783</td><td>54413.427</td><td>54413.99748095434</td><td>54414.56715379722</td><td>97080.0</td><td>83.00167</td><td>-0.29908</td><td>--</td><td>hrcf07416N003_pha2</td><td>https://heasarc.gsfc.nasa.gov/FTP/chandra/data/science/ao08/cat2/7416/primary/hrcf07416N003_pha2.fits.gz</td><td>2.0</td><td>Spectrum-1.0</td><td>HRC-S</td><td>HEASARC</td><td>application/fits</td><td>0.8110350040397626</td><td>1.2398e-10</td><td>6.1992e-09</td><td>6.07522e-09</td><td>3.16159e-09</td></tr>\n",
       "<tr><td>2</td><td>14567</td><td>archived</td><td>Delta Ori</td><td>83.00167</td><td>-0.29908</td><td>56280.7037</td><td>ACIS-S</td><td>HETG</td><td>116500</td><td>GO</td><td>Corcoran</td><td>56647</td><td>56280.7037</td><td>56281.38982472211</td><td>56282.07517784063</td><td>116500.0</td><td>83.00167</td><td>-0.29908</td><td>--</td><td>acisf14567N002_pha2</td><td>https://heasarc.gsfc.nasa.gov/FTP/chandra/data/science/ao14/cat2/14567/primary/acisf14567N002_pha2.fits.gz</td><td>12.0</td><td>Spectrum-1.0</td><td>ACIS-S</td><td>HEASARC</td><td>application/fits</td><td>0.8110350040397626</td><td>1.2398e-10</td><td>6.1992e-09</td><td>6.07522e-09</td><td>3.16159e-09</td></tr>\n",
       "<tr><td>3</td><td>14568</td><td>archived</td><td>Delta Ori</td><td>83.00167</td><td>-0.29908</td><td>56288.1612</td><td>ACIS-S</td><td>HETG</td><td>123600</td><td>GO</td><td>Corcoran</td><td>56655</td><td>56288.1612</td><td>56288.89025076302</td><td>56289.61850203206</td><td>123600.0</td><td>83.00167</td><td>-0.29908</td><td>--</td><td>acisf14568N002_pha2</td><td>https://heasarc.gsfc.nasa.gov/FTP/chandra/data/science/ao14/cat2/14568/primary/acisf14568N002_pha2.fits.gz</td><td>12.0</td><td>Spectrum-1.0</td><td>ACIS-S</td><td>HEASARC</td><td>application/fits</td><td>0.8110350040397626</td><td>1.2398e-10</td><td>6.1992e-09</td><td>6.07522e-09</td><td>3.16159e-09</td></tr>\n",
       "<tr><td>4</td><td>14569</td><td>archived</td><td>Delta Ori</td><td>83.00167</td><td>-0.29908</td><td>56283.2540</td><td>ACIS-S</td><td>HETG</td><td>120850</td><td>GO</td><td>Corcoran</td><td>56650</td><td>56283.254</td><td>56283.96498017049</td><td>56284.67520199699</td><td>120850.0</td><td>83.00167</td><td>-0.29908</td><td>--</td><td>acisf14569N002_pha2</td><td>https://heasarc.gsfc.nasa.gov/FTP/chandra/data/science/ao14/cat2/14569/primary/acisf14569N002_pha2.fits.gz</td><td>12.0</td><td>Spectrum-1.0</td><td>ACIS-S</td><td>HEASARC</td><td>application/fits</td><td>0.8110350040397626</td><td>1.2398e-10</td><td>6.1992e-09</td><td>6.07522e-09</td><td>3.16159e-09</td></tr>\n",
       "<tr><td>5</td><td>14570</td><td>archived</td><td>Delta Ori</td><td>83.00167</td><td>-0.29908</td><td>56285.5508</td><td>ACIS-S</td><td>HETG</td><td>124100</td><td>GO</td><td>Corcoran</td><td>56652</td><td>56285.5508</td><td>56286.28389746857</td><td>56287.016223824656</td><td>124100.0</td><td>83.00167</td><td>-0.29908</td><td>--</td><td>acisf14570N002_pha2</td><td>https://heasarc.gsfc.nasa.gov/FTP/chandra/data/science/ao14/cat2/14570/primary/acisf14570N002_pha2.fits.gz</td><td>12.0</td><td>Spectrum-1.0</td><td>ACIS-S</td><td>HEASARC</td><td>application/fits</td><td>0.8110350040397626</td><td>1.2398e-10</td><td>6.1992e-09</td><td>6.07522e-09</td><td>3.16159e-09</td></tr>\n",
       "</table><style>table.dataTable {clear: both; width: auto !important; margin: 0 !important;}\n",
       ".dataTables_info, .dataTables_length, .dataTables_filter, .dataTables_paginate{\n",
       "display: inline-block; margin-right: 1em; }\n",
       ".paginate_button { margin-right: 5px; }\n",
       "</style>\n",
       "<script>\n",
       "\n",
       "var astropy_sort_num = function(a, b) {\n",
       "    var a_num = parseFloat(a);\n",
       "    var b_num = parseFloat(b);\n",
       "\n",
       "    if (isNaN(a_num) && isNaN(b_num))\n",
       "        return ((a < b) ? -1 : ((a > b) ? 1 : 0));\n",
       "    else if (!isNaN(a_num) && !isNaN(b_num))\n",
       "        return ((a_num < b_num) ? -1 : ((a_num > b_num) ? 1 : 0));\n",
       "    else\n",
       "        return isNaN(a_num) ? -1 : 1;\n",
       "}\n",
       "\n",
       "require.config({paths: {\n",
       "    datatables: 'https://cdn.datatables.net/1.10.12/js/jquery.dataTables.min'\n",
       "}});\n",
       "require([\"datatables\"], function(){\n",
       "    console.log(\"$('#table5345151800-91346').dataTable()\");\n",
       "    \n",
       "jQuery.extend( jQuery.fn.dataTableExt.oSort, {\n",
       "    \"optionalnum-asc\": astropy_sort_num,\n",
       "    \"optionalnum-desc\": function (a,b) { return -astropy_sort_num(a, b); }\n",
       "});\n",
       "\n",
       "    $('#table5345151800-91346').dataTable({\n",
       "        order: [],\n",
       "        pageLength: 50,\n",
       "        lengthMenu: [[10, 25, 50, 100, 500, 1000, -1], [10, 25, 50, 100, 500, 1000, 'All']],\n",
       "        pagingType: \"full_numbers\",\n",
       "        columnDefs: [{targets: [0, 4, 5, 6, 9, 12, 13, 14, 15, 16, 17, 18, 19, 27, 28, 29, 30, 31], type: \"optionalnum\"}]\n",
       "    });\n",
       "});\n",
       "</script>\n"
      ],
      "text/plain": [
       "<IPython.core.display.HTML object>"
      ]
     },
     "execution_count": 11,
     "metadata": {},
     "output_type": "execute_result"
    }
   ],
   "source": [
    "from astropy.coordinates import SkyCoord\n",
    "delori=SkyCoord.from_name(\"delta ori\")\n",
    "pos='{},{}'.format(delori.ra.deg,delori.dec.deg)\n",
    "\n",
    "spec_tables=Spectra.query(service=services[-1],coords=pos,radius=0.1,verbose=True)\n",
    "\n",
    "spec_tables[0]['time'].format='.4f'\n",
    "spec_tables[0].show_in_notebook()"
   ]
  },
  {
   "cell_type": "code",
   "execution_count": 12,
   "metadata": {},
   "outputs": [
    {
     "data": {
      "text/html": [
       "<i>Table length=12</i>\n",
       "<table id=\"table5196662656-571465\" class=\"table-striped table-bordered table-condensed\">\n",
       "<thead><tr><th>idx</th><th>SPEC_NUM</th><th>TG_M</th><th>TG_PART</th><th>TG_SRCID</th><th>X</th><th>Y</th><th>CHANNEL [8192]</th><th>COUNTS [8192]</th><th>STAT_ERR [8192]</th><th>BACKGROUND_UP [8192]</th><th>BACKGROUND_DOWN [8192]</th><th>BIN_LO [8192]</th><th>BIN_HI [8192]</th></tr></thead>\n",
       "<tr><td>0</td><td>1</td><td>-3</td><td>1</td><td>1</td><td>4113.775</td><td>4083.7346</td><td>1 .. 8192</td><td>0 .. 0</td><td>1.8660254 .. 1.8660254</td><td>0 .. 0</td><td>0 .. 0</td><td>7.159166666667378 .. 0.3333333333333333</td><td>7.160000000000712 .. 0.33416666666666667</td></tr>\n",
       "<tr><td>1</td><td>2</td><td>-2</td><td>1</td><td>1</td><td>4113.775</td><td>4083.7346</td><td>1 .. 8192</td><td>0 .. 0</td><td>1.8660254 .. 1.8660254</td><td>0 .. 0</td><td>0 .. 0</td><td>10.738750000000886 .. 0.5</td><td>10.740000000000887 .. 0.50125</td></tr>\n",
       "<tr><td>2</td><td>3</td><td>-1</td><td>1</td><td>1</td><td>4113.775</td><td>4083.7346</td><td>1 .. 8192</td><td>0 .. 0</td><td>1.8660254 .. 1.8660254</td><td>0 .. 0</td><td>0 .. 0</td><td>21.477500000001772 .. 1.0</td><td>21.480000000001773 .. 1.0025</td></tr>\n",
       "<tr><td>3</td><td>4</td><td>1</td><td>1</td><td>1</td><td>4113.775</td><td>4083.7346</td><td>1 .. 8192</td><td>0 .. 0</td><td>1.8660254 .. 1.8660254</td><td>0 .. 0</td><td>0 .. 0</td><td>21.477500000001772 .. 1.0</td><td>21.480000000001773 .. 1.0025</td></tr>\n",
       "<tr><td>4</td><td>5</td><td>2</td><td>1</td><td>1</td><td>4113.775</td><td>4083.7346</td><td>1 .. 8192</td><td>0 .. 0</td><td>1.8660254 .. 1.8660254</td><td>0 .. 0</td><td>0 .. 0</td><td>10.738750000000886 .. 0.5</td><td>10.740000000000887 .. 0.50125</td></tr>\n",
       "<tr><td>5</td><td>6</td><td>3</td><td>1</td><td>1</td><td>4113.775</td><td>4083.7346</td><td>1 .. 8192</td><td>0 .. 0</td><td>1.8660254 .. 1.8660254</td><td>0 .. 0</td><td>0 .. 0</td><td>7.159166666667378 .. 0.3333333333333333</td><td>7.160000000000712 .. 0.33416666666666667</td></tr>\n",
       "<tr><td>6</td><td>7</td><td>-3</td><td>2</td><td>1</td><td>4113.775</td><td>4083.7346</td><td>1 .. 8192</td><td>0 .. 0</td><td>1.8660254 .. 1.8660254</td><td>0 .. 0</td><td>0 .. 0</td><td>13.985000000001373 .. 0.3333333333333333</td><td>13.98666666666804 .. 0.33499999999999996</td></tr>\n",
       "<tr><td>7</td><td>8</td><td>-2</td><td>2</td><td>1</td><td>4113.775</td><td>4083.7346</td><td>1 .. 8192</td><td>0 .. 0</td><td>1.8660254 .. 1.8660254</td><td>0 .. 0</td><td>0 .. 0</td><td>20.977500000001505 .. 0.5</td><td>20.980000000001507 .. 0.5025</td></tr>\n",
       "<tr><td>8</td><td>9</td><td>-1</td><td>2</td><td>1</td><td>4113.775</td><td>4083.7346</td><td>1 .. 8192</td><td>0 .. 0</td><td>1.8660254 .. 1.8660254</td><td>0 .. 0</td><td>0 .. 0</td><td>41.95500000000301 .. 1.0</td><td>41.960000000003014 .. 1.005</td></tr>\n",
       "<tr><td>9</td><td>10</td><td>1</td><td>2</td><td>1</td><td>4113.775</td><td>4083.7346</td><td>1 .. 8192</td><td>0 .. 0</td><td>1.8660254 .. 1.8660254</td><td>0 .. 0</td><td>0 .. 0</td><td>41.95500000000301 .. 1.0</td><td>41.960000000003014 .. 1.005</td></tr>\n",
       "<tr><td>10</td><td>11</td><td>2</td><td>2</td><td>1</td><td>4113.775</td><td>4083.7346</td><td>1 .. 8192</td><td>0 .. 0</td><td>1.8660254 .. 1.8660254</td><td>0 .. 0</td><td>0 .. 0</td><td>20.977500000001505 .. 0.5</td><td>20.980000000001507 .. 0.5025</td></tr>\n",
       "<tr><td>11</td><td>12</td><td>3</td><td>2</td><td>1</td><td>4113.775</td><td>4083.7346</td><td>1 .. 8192</td><td>0 .. 0</td><td>1.8660254 .. 1.8660254</td><td>0 .. 0</td><td>0 .. 0</td><td>13.985000000001373 .. 0.3333333333333333</td><td>13.98666666666804 .. 0.33499999999999996</td></tr>\n",
       "</table><style>table.dataTable {clear: both; width: auto !important; margin: 0 !important;}\n",
       ".dataTables_info, .dataTables_length, .dataTables_filter, .dataTables_paginate{\n",
       "display: inline-block; margin-right: 1em; }\n",
       ".paginate_button { margin-right: 5px; }\n",
       "</style>\n",
       "<script>\n",
       "\n",
       "var astropy_sort_num = function(a, b) {\n",
       "    var a_num = parseFloat(a);\n",
       "    var b_num = parseFloat(b);\n",
       "\n",
       "    if (isNaN(a_num) && isNaN(b_num))\n",
       "        return ((a < b) ? -1 : ((a > b) ? 1 : 0));\n",
       "    else if (!isNaN(a_num) && !isNaN(b_num))\n",
       "        return ((a_num < b_num) ? -1 : ((a_num > b_num) ? 1 : 0));\n",
       "    else\n",
       "        return isNaN(a_num) ? -1 : 1;\n",
       "}\n",
       "\n",
       "require.config({paths: {\n",
       "    datatables: 'https://cdn.datatables.net/1.10.12/js/jquery.dataTables.min'\n",
       "}});\n",
       "require([\"datatables\"], function(){\n",
       "    console.log(\"$('#table5196662656-571465').dataTable()\");\n",
       "    \n",
       "jQuery.extend( jQuery.fn.dataTableExt.oSort, {\n",
       "    \"optionalnum-asc\": astropy_sort_num,\n",
       "    \"optionalnum-desc\": function (a,b) { return -astropy_sort_num(a, b); }\n",
       "});\n",
       "\n",
       "    $('#table5196662656-571465').dataTable({\n",
       "        order: [],\n",
       "        pageLength: 50,\n",
       "        lengthMenu: [[10, 25, 50, 100, 500, 1000, -1], [10, 25, 50, 100, 500, 1000, 'All']],\n",
       "        pagingType: \"full_numbers\",\n",
       "        columnDefs: [{targets: [0, 1, 2, 3, 4, 5, 6, 7, 8, 9, 10, 11, 12, 13], type: \"optionalnum\"}]\n",
       "    });\n",
       "});\n",
       "</script>\n"
      ],
      "text/plain": [
       "<IPython.core.display.HTML object>"
      ]
     },
     "execution_count": 12,
     "metadata": {},
     "output_type": "execute_result"
    }
   ],
   "source": [
    "hdu_list=fits.open(spec_tables[0][5][col]) \n",
    "#hdu_list.info()\n",
    "table = Table(hdu_list[1].data)\n",
    "table.show_in_notebook()"
   ]
  },
  {
   "cell_type": "code",
   "execution_count": 13,
   "metadata": {},
   "outputs": [],
   "source": [
    "## Because urllib is annoying to make Python 2/3 compatible, just use requests:\n",
    "r=requests.get(spec_tables[0][5][col], stream=True)\n",
    "with open('delori_spectrum.fits','wb') as f:\n",
    "    f.write(r.content)"
   ]
  },
  {
   "cell_type": "code",
   "execution_count": 14,
   "metadata": {},
   "outputs": [
    {
     "name": "stdout",
     "output_type": "stream",
     "text": [
      "\n",
      "1 spectrum  in use\n",
      " \n",
      "Spectral Data File: delori_spectrum.fits{10}  Spectrum 1\n",
      "Net count rate (cts/s) for Spectrum:1  3.140e-02 +/- 1.529e-03\n",
      " Assigned to Data Group 1 and Plot Group 1\n",
      "  Noticed Channels:  1-8192\n",
      "  Telescope: CHANDRA Instrument: ACIS  Channel Type: PI\n",
      "  Exposure Time: 1.225e+05 sec\n",
      " Using fit statistic: cstat\n",
      " Using test statistic: chi\n",
      " No response loaded.\n",
      "\n",
      "***Warning!  One or more spectra are missing responses,\n",
      "               and are not suitable for fit.\n",
      "Response successfully loaded.\n",
      "\n",
      "Fit statistic : C-Statistic =       59448.77 using 8192 PHA bins and 8186 degrees of freedom.\n",
      "\n",
      "Warning: cstat statistic is only valid for Poisson data.\n",
      "    Source file is not Poisson\n",
      "\n",
      "\n",
      "Test statistic : Chi-Squared =   3.524758e+06 using 8192 PHA bins.\n",
      " Reduced chi-squared =       430.5837 for   8186 degrees of freedom \n",
      " Null hypothesis probability =   0.000000e+00\n",
      " Current data and model not fit yet.\n",
      "Arf successfully loaded.\n",
      "\n",
      "Fit statistic : C-Statistic =       22688.44 using 8192 PHA bins and 8186 degrees of freedom.\n",
      "\n",
      "Warning: cstat statistic is only valid for Poisson data.\n",
      "    Source file is not Poisson\n",
      "\n",
      "\n",
      "Test statistic : Chi-Squared =       10867.30 using 8192 PHA bins.\n",
      " Reduced chi-squared =       1.327547 for   8186 degrees of freedom \n",
      " Null hypothesis probability =   4.838737e-81\n",
      " Current data and model not fit yet.\n"
     ]
    }
   ],
   "source": [
    "with sys_pipes():\n",
    "    xspec.AllData.clear()\n",
    "    xspec.AllData += \"delori_spectrum.fits{10}\"\n",
    "    pha = xspec.AllData(1)\n",
    "    pha.response=\"aux/meg_1.rmf.gz\"\n",
    "    pha.response.arf=\"aux/meg_1.arf.gz\""
   ]
  },
  {
   "cell_type": "code",
   "execution_count": null,
   "metadata": {},
   "outputs": [],
   "source": [
    "with sys_pipes():\n",
    "    m = xspec.Model(\"TBabs*apec + TBabs*apec\")\n",
    "    m.apec.kT = [.1,.01,.05,.05,1,1]\n",
    "    m.apec.norm = 5e-4\n",
    "    m.apec_4.kT = [1,.01,.7,.7,4,4]\n",
    "    m.apec_4.norm = 1e-3\n",
    "    m.TBabs.nH = [.01,0.01,0.0,0.0,.4,.4]\n",
    "    m.TBabs_3.nH = [.01,0.01,0.0,0.0,.4,.4]\n",
    "\n"
   ]
  },
  {
   "cell_type": "code",
   "execution_count": null,
   "metadata": {},
   "outputs": [],
   "source": [
    "with sys_pipes():\n",
    "    pha.show()\n",
    "    m.show()"
   ]
  },
  {
   "cell_type": "code",
   "execution_count": null,
   "metadata": {},
   "outputs": [],
   "source": [
    "with sys_pipes():\n",
    "    xspec.Plot.device = \"/nu\"\n",
    "    xspec.Plot.xAxis = \"Angstrom\"\n",
    "    xspec.Plot.setRebin(minSig=3.0, maxBins=10)\n",
    "    xspec.Plot(\"data\")\n",
    "    xVals = xspec.Plot.x()\n",
    "    xValserr = xspec.Plot.xErr()\n",
    "    yVals = xspec.Plot.y()\n",
    "    yValserr = xspec.Plot.yErr()\n",
    "    modVals = xspec.Plot.model()\n",
    "\n",
    "plt.step(xVals, yVals, label='Data')\n",
    "\n",
    "plt.step(xVals, modVals, label=\"Model\")\n",
    "plt.xlabel('Angstrom', fontsize=16)\n",
    "plt.ylabel('counts/cm$^2$/sec/chan', fontsize=16)\n",
    "plt.legend()\n",
    "plt.yscale('linear')\n",
    "plt.xlim([0.5,20])\n",
    "plt.xscale('linear')\n",
    "\n"
   ]
  },
  {
   "cell_type": "code",
   "execution_count": null,
   "metadata": {
    "scrolled": false
   },
   "outputs": [],
   "source": [
    "with sys_pipes():\n",
    "    xspec.Fit.statMethod =\"cstat\"\n",
    "    xspec.Fit.perform()"
   ]
  },
  {
   "cell_type": "code",
   "execution_count": null,
   "metadata": {},
   "outputs": [],
   "source": [
    "\n",
    "ax = plt.subplot(111)\n",
    "plt.rcParams['figure.figsize'] = (10, 4)\n",
    "\n",
    "with sys_pipes():\n",
    "    xspec.Plot.device = \"/nu\"\n",
    "    xspec.Plot.xAxis = \"Angstrom\"\n",
    "    xspec.Plot.setRebin(minSig=3.0, maxBins=10)\n",
    "    xspec.Plot(\"data\")\n",
    "    xVals = xspec.Plot.x()\n",
    "    xValserr = xspec.Plot.xErr()\n",
    "    yVals = xspec.Plot.y()\n",
    "    yValserr = xspec.Plot.yErr()\n",
    "    modVals = xspec.Plot.model()\n",
    "\n",
    "plt.step(xVals, yVals)\n",
    "\n",
    "plt.step(xVals, modVals)\n",
    "plt.xlabel('Angstrom', fontsize=16)\n",
    "plt.ylabel('counts/cm$^2$/sec/chan', fontsize=16)\n",
    "ax.set_yscale('linear')\n",
    "#ax.set_ylim([1e-3,1e-1])\n",
    "ax.set_xlim([11,15])\n",
    "ax.set_xscale('linear')\n"
   ]
  },
  {
   "cell_type": "code",
   "execution_count": null,
   "metadata": {},
   "outputs": [],
   "source": []
  }
 ],
 "metadata": {
  "anaconda-cloud": {},
  "kernelspec": {
   "display_name": "Python 3",
   "language": "python",
   "name": "python3"
  },
  "language_info": {
   "codemirror_mode": {
    "name": "ipython",
    "version": 3
   },
   "file_extension": ".py",
   "mimetype": "text/x-python",
   "name": "python",
   "nbconvert_exporter": "python",
   "pygments_lexer": "ipython3",
   "version": "3.6.5"
  },
  "nav_menu": {},
  "toc": {
   "navigate_menu": true,
   "number_sections": true,
   "sideBar": true,
   "threshold": 6,
   "toc_cell": false,
   "toc_section_display": "block",
   "toc_window_display": true
  }
 },
 "nbformat": 4,
 "nbformat_minor": 1
}
