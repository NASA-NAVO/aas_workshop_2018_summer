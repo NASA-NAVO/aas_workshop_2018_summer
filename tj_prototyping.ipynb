{
 "cells": [
  {
   "cell_type": "markdown",
   "metadata": {},
   "source": [
    "# Brainstorming for astroquery.vo needs\n",
    "\n",
    "\n",
    "If NAVO develops astroquery.vo, we could use things like the following. This is a summary of what is below in more detail. \n",
    "\n",
    "RegTAP:  \n",
    "\n",
    "    query_results=Registry.query( ... lots of options, this already exists in our github ...)\n",
    "    heasarc_image_services=Registry.list_image_services(source='heasarc') \n",
    "\n",
    "SCS:\n",
    "\n",
    "    ned_services=Registry.query.list_cone_services(source='ned')\n",
    "    ned_results=Cone.query(ras,decs,radius,ned_services)\n",
    "    \n",
    "SIA:  \n",
    "    \n",
    "    images_info=Image.query(heasarc_image_services) \n",
    "    plt.imshow( Image.get( images_info[0] )\n",
    "    Image.get( images_info[0], filename='image.fits')\n",
    "\n",
    "SSA:\n",
    "\n",
    "    Same as SIA basically. \n",
    "\n",
    "TAP(?):\n",
    "\n",
    "    tap_services_2mass=Registry.query(keyword='2mass',service_type='table')[0]\n",
    "    tap_results=Tap.query(\n",
    "        source=tap_services_2mass[32],\n",
    "        logic_string='CONTAINS(POINT('J2000',ra,dec),CIRCLE('J2000',9.90704,8.96507,0.001))'\n",
    "        )\n",
    "\n",
    "Going through Vandana's presentation to make a list of functions we could use, with one basic version of a Cone class defined to play with."
   ]
  },
  {
   "cell_type": "code",
   "execution_count": 1,
   "metadata": {
    "collapsed": true
   },
   "outputs": [],
   "source": [
    "import matplotlib\n",
    "import matplotlib.pyplot as plt\n",
    "%matplotlib inline  \n",
    "import requests, io, astropy\n",
    "from IPython.display import Image, display\n",
    "\n",
    "## For handling ordinary astropy Tables\n",
    "from astropy.table import Table, vstack\n",
    "\n",
    "## For reading FITS files\n",
    "import astropy.io.fits as apfits\n",
    "\n",
    "## There are a number of relatively unimportant warnings that \n",
    "## show up, so fix later but for now, suppress them:\n",
    "import warnings\n",
    "warnings.filterwarnings(\"ignore\")\n",
    "\n",
    "## our stuff\n",
    "# Use the NASA_NAVO/astroquery\n",
    "from navo_utils.cone import Cone\n",
    "from navo_utils.registry import Registry\n",
    "\n",
    "# For debugging in WingIDE:\n",
    "\n",
    "#import wingdbstub\n",
    "#wingdbstub.Ensure()"
   ]
  },
  {
   "cell_type": "markdown",
   "metadata": {
    "collapsed": true
   },
   "source": [
    "Registry queries already coded by TomD and TJ in astroquery.vo.Registry() class. So you can, for example, if you already know you want to search NED, get it's URL as follows. Unfortunately, *with the current implementation, you get two results, where the second isn't NED but has \"ned\" in the ivoid (\"shela_combined\"). Not sure what to do about that.* Could hard-wire things like \"ned\", \"heasarc\", etc. But that's not ideal. "
   ]
  },
  {
   "cell_type": "code",
   "execution_count": 2,
   "metadata": {},
   "outputs": [
    {
     "name": "stdout",
     "output_type": "stream",
     "text": [
      "Registry:  sending query ADQL = \n",
      "          select res.waveband,res.short_name,cap.ivoid,res.res_description,\n",
      "          intf.access_url,res.reference_url,res_role.role_name as publisher,cap.cap_type as service_type\n",
      "          from rr.capability as cap\n",
      "            natural join rr.resource as res\n",
      "            natural join rr.interface as intf \n",
      "\t\t    natural join rr.res_role as res_role\n",
      "             where cap.cap_type='conesearch' and cap.ivoid like '%heasarc%' and res_role.base_role = 'publisher'\n",
      "\n",
      "Queried: http://vao.stsci.edu/RegTAP/TapService.aspx/sync\n",
      "\n",
      "Found 917 results:\n",
      "                                  access_url                                  \n",
      "------------------------------------------------------------------------------\n",
      "https://heasarc.gsfc.nasa.gov/cgi-bin/vo/cone/coneGet.pl?table=ngc6530xmm&amp;\n",
      "https://heasarc.gsfc.nasa.gov/cgi-bin/vo/cone/coneGet.pl?table=fer2fusrid&amp;\n",
      "https://heasarc.gsfc.nasa.gov/cgi-bin/vo/cone/coneGet.pl?table=maghmxbcat&amp;\n",
      "   https://heasarc.gsfc.nasa.gov/cgi-bin/vo/cone/coneGet.pl?table=ngc2000&amp;\n",
      "https://heasarc.gsfc.nasa.gov/cgi-bin/vo/cone/coneGet.pl?table=ngc2237cxo&amp;\n",
      " https://heasarc.gsfc.nasa.gov/cgi-bin/vo/cone/coneGet.pl?table=vlaonccat&amp;\n",
      "  https://heasarc.gsfc.nasa.gov/cgi-bin/vo/cone/coneGet.pl?table=numaster&amp;\n",
      "  https://heasarc.gsfc.nasa.gov/cgi-bin/vo/cone/coneGet.pl?table=a2lcscan&amp;\n",
      "https://heasarc.gsfc.nasa.gov/cgi-bin/vo/cone/coneGet.pl?table=a2specback&amp;\n",
      "    https://heasarc.gsfc.nasa.gov/cgi-bin/vo/cone/coneGet.pl?table=egret3&amp;\n",
      "                                                                           ...\n",
      " https://heasarc.gsfc.nasa.gov/cgi-bin/vo/cone/coneGet.pl?table=kaporixmm&amp;\n",
      "https://heasarc.gsfc.nasa.gov/cgi-bin/vo/cone/coneGet.pl?table=corotexlog&amp;\n",
      " https://heasarc.gsfc.nasa.gov/cgi-bin/vo/cone/coneGet.pl?table=rassgiant&amp;\n",
      "https://heasarc.gsfc.nasa.gov/cgi-bin/vo/cone/coneGet.pl?table=herschllog&amp;\n",
      "    https://heasarc.gsfc.nasa.gov/cgi-bin/vo/cone/coneGet.pl?table=m83cxo&amp;\n",
      " https://heasarc.gsfc.nasa.gov/cgi-bin/vo/cone/coneGet.pl?table=vlagbsori&amp;\n",
      "https://heasarc.gsfc.nasa.gov/cgi-bin/vo/cone/coneGet.pl?table=ngc3115cxo&amp;\n",
      " https://heasarc.gsfc.nasa.gov/cgi-bin/vo/cone/coneGet.pl?table=xmmsscgps&amp;\n",
      "https://heasarc.gsfc.nasa.gov/cgi-bin/vo/cone/coneGet.pl?table=lowzvlqvla&amp;\n",
      "https://heasarc.gsfc.nasa.gov/cgi-bin/vo/cone/coneGet.pl?table=chandfs7ms&amp;\n",
      "https://heasarc.gsfc.nasa.gov/cgi-bin/vo/cone/coneGet.pl?table=chicagocxo&amp;\n",
      "Length = 917 rows\n",
      "ivo://nasa.heasarc/fer2fusrid\n",
      "<TableColumns names=('waveband','short_name','ivoid','res_description','access_url','reference_url','publisher','service_type')>\n"
     ]
    }
   ],
   "source": [
    "results = Registry.query(source='heasarc', service_type='cone',debug=True)\n",
    "print('Found {} results:'.format(len(results)))\n",
    "print(results[:]['access_url'])\n",
    "print(results[1]['ivoid'])\n",
    "print(results.columns)"
   ]
  },
  {
   "cell_type": "markdown",
   "metadata": {},
   "source": [
    "The Registry.query() method takes arguments (passed to internal function _build_adql):  \n",
    "\n",
    "    service_type   : \"image\", \"cone\", or \"spectr\"\n",
    "    keyword        : any keyword contained in ivoid, title, or description\n",
    "    waveband       : waveband string\n",
    "    source         : any substring in ivoid\n",
    "    order_by       : what field to order it by, but then you have to know the names, currently\n",
    "                      (\"waveband\",\"short_name\",\"ivoid\",\"res_description\", \"access_url\", \"reference_url\")\n",
    "    logic_string   : any other string you want to add to the ADQL where clause, should start with \" and \"\n",
    "\n",
    "The results are already in an astropy table from Tom's _astropy_table_from_votable_response(). \n",
    "\n",
    "**But note that the URLs are escaped and should not be by the time we get them back. How to fix?**"
   ]
  },
  {
   "cell_type": "code",
   "execution_count": 3,
   "metadata": {},
   "outputs": [
    {
     "name": "stdout",
     "output_type": "stream",
     "text": [
      "https://heasarc.gsfc.nasa.gov/cgi-bin/vo/cone/coneGet.pl?table=ngc6530xmm&amp;\n",
      "https://heasarc.gsfc.nasa.gov/cgi-bin/vo/cone/coneGet.pl?table=ngc6530xmm&\n"
     ]
    }
   ],
   "source": [
    "import html\n",
    "print(results[0]['access_url'])\n",
    "print(html.unescape(results[0]['access_url']))"
   ]
  },
  {
   "cell_type": "markdown",
   "metadata": {},
   "source": [
    "### 3. Workshop section on data discovery using NED's Cone search. \n",
    "\n",
    "Instead of searching NED ‘manually’, a generic cone search that you can give a list of ras, decs, and radii (or just one obviously) and optionally specify that you want ‘ned’ results or some other IVOID substring. It queries the RegTAP to find out what cone searches are available that match what you asked for. (Is there a way to get the NED URL dynamically from RegTAP without the above ambiguity? A special case if the ivoid requested is \"ned\"?) So the user would call:\n",
    "\n",
    "    cone_results = astroquery.Cone.query(ras, decs, radii, [source=’some_ivoid_string_eg_ned', waveband=etc.]) \n",
    "\n",
    "where ras, decs, and radii can be floats, strings, or arrays of either. If a single source (i.e., ivoid), then get back a table of objects; if several matching sources (which will have different columns?), get back a list of tables, one for each matching source? Since every table will return different columns, need to return some kind of meta data result as well. Separate object or attached to each result column's meta data? Or standardize the tables as discussed below?\n",
    "\n",
    "Note that with kwargs, you can pass through any parameters to the Registry.query() call.\n",
    "\n",
    "So like the Registry, we need a Cone work as follows:"
   ]
  },
  {
   "cell_type": "code",
   "execution_count": 4,
   "metadata": {
    "scrolled": true
   },
   "outputs": [
    {
     "name": "stdout",
     "output_type": "stream",
     "text": [
      "  short_name  \n",
      "--------------\n",
      "SHELA_Combined\n",
      "  NED(sources)\n",
      "http://ned.ipac.caltech.edu/cgi-bin/NEDobjsearch?search_type=Near+Position+Search&amp;of=xml_main&amp;\n",
      "True\n"
     ]
    }
   ],
   "source": [
    "#  Single arguments:  should take floats or strings, converts floats to string for the query.\n",
    "#  For now, make them all arrays until we sort the above issue\n",
    "cone_services=Registry.query(service_type='cone',source='ned')\n",
    "print(cone_services[:]['short_name'])\n",
    "print(cone_services[1]['access_url'])\n",
    "print(type(cone_services[-1]) is astropy.table.row.Row)\n"
   ]
  },
  {
   "cell_type": "markdown",
   "metadata": {},
   "source": [
    "We would like the most generic way to pass coordinates; using astroquery.utils.parse_coordinates.\n",
    "\n",
    "(On 20180412, below NED example was not working. Even though the URL has of=xml_main, it is returning HTML. No idea what's going on with that service, but they seem to be messing with it. Wait. Worked on 13th.)"
   ]
  },
  {
   "cell_type": "code",
   "execution_count": 5,
   "metadata": {},
   "outputs": [
    {
     "name": "stdout",
     "output_type": "stream",
     "text": [
      "    Querying service http://ned.ipac.caltech.edu/cgi-bin/NEDobjsearch?search_type=Near+Position+Search&of=xml_main&\n",
      "    Got 494 results for source number 0\n",
      "    Got 7 results for source number 1\n"
     ]
    }
   ],
   "source": [
    "coords=[[185.47873,4.47365],[35.323,6.934]]\n",
    "radius=0.03\n",
    "\n",
    "results=Cone.query(coords,radius,cone_services[1])"
   ]
  },
  {
   "cell_type": "markdown",
   "metadata": {},
   "source": [
    "### Different ways of handling the coordinates.\n",
    "\n",
    "Single strings with RA DEC pairs:"
   ]
  },
  {
   "cell_type": "code",
   "execution_count": 6,
   "metadata": {},
   "outputs": [
    {
     "name": "stdout",
     "output_type": "stream",
     "text": [
      "    Querying service http://ned.ipac.caltech.edu/cgi-bin/NEDobjsearch?search_type=Near+Position+Search&of=xml_main&\n",
      "    Got 551 results for source number 0\n",
      "    Querying service http://ned.ipac.caltech.edu/cgi-bin/NEDobjsearch?search_type=Near+Position+Search&of=xml_main&\n",
      "    Got 238 results for source number 0\n",
      "    Querying service http://ned.ipac.caltech.edu/cgi-bin/NEDobjsearch?search_type=Near+Position+Search&of=xml_main&\n",
      "    Got 71 results for source number 0\n",
      "    Got 71 results for source number 1\n",
      "    Got 71 results for source number 2\n",
      "    Got 71 results for source number 3\n"
     ]
    }
   ],
   "source": [
    "## String of floats\n",
    "results=Cone.query('10.626 41.2001' ,0.03,cone_services[1])\n",
    "## One string HH MM SS\n",
    "results=Cone.query('00 42 30.288 +41 12 00.432' ,0.02, cone_services[1])\n",
    "## list of mixed types \n",
    "results=Cone.query(['00 42 30.288 +41 12 00.432','00h42m30.288s +41d12m00.432s','10.626 41.2001','00:42.30288 +41:12.00432'] ,0.01,cone_services[1])\n"
   ]
  },
  {
   "cell_type": "code",
   "execution_count": 7,
   "metadata": {},
   "outputs": [
    {
     "name": "stdout",
     "output_type": "stream",
     "text": [
      "    Querying service http://ned.ipac.caltech.edu/cgi-bin/NEDobjsearch?search_type=Near+Position+Search&of=xml_main&\n",
      "    Got 551 results for source number 0\n",
      "    Got 238 results for source number 1\n",
      "    Got 71 results for source number 2\n"
     ]
    }
   ],
   "source": [
    "## With a different radius per source:\n",
    "results=Cone.query(['00 42 30.288 +41 12 00.432','00h42m30.288s +41d12m00.432s','10.626 41.2001'],[0.03,0.02,0.01],cone_services[1])"
   ]
  },
  {
   "cell_type": "markdown",
   "metadata": {},
   "source": [
    "List of lists with RA DEC pairs:"
   ]
  },
  {
   "cell_type": "code",
   "execution_count": 8,
   "metadata": {},
   "outputs": [
    {
     "name": "stdout",
     "output_type": "stream",
     "text": [
      "    Querying service http://ned.ipac.caltech.edu/cgi-bin/NEDobjsearch?search_type=Near+Position+Search&of=xml_main&\n",
      "    Got 551 results for source number 0\n",
      "    Got 551 results for source number 1\n",
      "    Got 551 results for source number 2\n"
     ]
    }
   ],
   "source": [
    "## List of mixed types:\n",
    "results=Cone.query([ [10.626, 41.2001],['00 42 30.288','+41 12 00.432'],'00h42m30.288s +41d12m00.432s'] ,0.03,cone_services[1])\n"
   ]
  },
  {
   "cell_type": "markdown",
   "metadata": {},
   "source": [
    "## Is this a problem?"
   ]
  },
  {
   "cell_type": "code",
   "execution_count": 9,
   "metadata": {},
   "outputs": [
    {
     "name": "stdout",
     "output_type": "stream",
     "text": [
      "    Querying service http://ned.ipac.caltech.edu/cgi-bin/NEDobjsearch?search_type=Near+Position+Search&of=xml_main&\n",
      "    Got 551 results for source number 0\n",
      "    Querying service http://ned.ipac.caltech.edu/cgi-bin/NEDobjsearch?search_type=Near+Position+Search&of=xml_main&\n",
      "    Got 551 results for source number 0\n",
      "    Got 551 results for source number 1\n"
     ]
    }
   ],
   "source": [
    "## Do not confuse giving list of RA,DEC for one source, \n",
    "##  in which case you have to give a *list of lists* even if only one:\n",
    "results=Cone.query([['00 42 30.288','+41 12 00.432']],0.03,cone_services[1])\n",
    "## Versus giving two sources with a single string each:\n",
    "results=Cone.query(['00 42 30.288 +41 12 00.432','00h42m30.288s +41d12m00.432s'],0.03, cone_services[1])\n"
   ]
  },
  {
   "cell_type": "code",
   "execution_count": 10,
   "metadata": {},
   "outputs": [
    {
     "name": "stdout",
     "output_type": "stream",
     "text": [
      "    Querying service https://irsa.ipac.caltech.edu/SCS?table=shelacomb&\n",
      "ERROR parsing response as astropy Table: looks like the content isn't the expected VO table XML? Returning an empty table. Look at its meta data to debug.\n",
      "    (Got no results for source number 0)\n",
      "ERROR parsing response as astropy Table: looks like the content isn't the expected VO table XML? Returning an empty table. Look at its meta data to debug.\n",
      "    (Got no results for source number 1)\n"
     ]
    }
   ],
   "source": [
    "# Test the other URL that doesn't work\n",
    "results=Cone.query(coords,radius,cone_services[0])\n",
    "#  Note that the meta data isn't getting correctly merged. TO BE FIXED.\n",
    "#print(ned_results[0].meta['url'])\n",
    "#print(ned_results[0].meta[\"xml_raw\"])"
   ]
  },
  {
   "cell_type": "code",
   "execution_count": 12,
   "metadata": {},
   "outputs": [
    {
     "name": "stdout",
     "output_type": "stream",
     "text": [
      "OrderedDict([('url', 'https://irsa.ipac.caltech.edu/SCS?table=shelacomb&&RA=185.47873&DEC=4.473653&SR=0.03'), ('text', '<?xml version=\"1.0\" encoding=\"utf-8\"?>\\n<VOTABLE version=\"1.3\" xmlns:xsi=\"http://www.w3.org/2001/XMLSchema-instance\" xmlns=\"http://www.ivoa.net/xml/VOTable/v1.3\" xmlns:stc=\"http://www.ivoa.net/xml/STC/v1.30\">\\n  <DESCRIPTION>Caltech/IPAC-IRSA IVOA Simple Cone Search Service</DESCRIPTION>\\n  <INFO name=\"ERROR\" ID=\"ERROR\" value=\"Unknown parameter: \"/>\\n</VOTABLE>\\n')])\n"
     ]
    }
   ],
   "source": [
    "print(results[0].meta)"
   ]
  },
  {
   "cell_type": "markdown",
   "metadata": {},
   "source": [
    "Or if you don't know what the source is but you want to do a cone search on all catalogs related to some search term like waveband:\n",
    "\n"
   ]
  },
  {
   "cell_type": "code",
   "execution_count": 16,
   "metadata": {
    "scrolled": true
   },
   "outputs": [
    {
     "name": "stdout",
     "output_type": "stream",
     "text": [
      "Registry:  sending query ADQL = \n",
      "          select res.waveband,res.short_name,cap.ivoid,res.res_description,\n",
      "          intf.access_url,res.reference_url,res_role.role_name as publisher,cap.cap_type as service_type\n",
      "          from rr.capability as cap\n",
      "            natural join rr.resource as res\n",
      "            natural join rr.interface as intf \n",
      "\t\t    natural join rr.res_role as res_role\n",
      "             where cap.cap_type='conesearch' and cap.ivoid like '%heasarc%' and res.waveband like '%gamma%' and res_role.base_role = 'publisher' and \n",
      "             (res.res_description like '%swift%' or\n",
      "            res.res_title like '%swift%' or\n",
      "            cap.ivoid like '%swift%') \n",
      "            \n",
      "\n",
      "Queried: http://vao.stsci.edu/RegTAP/TapService.aspx/sync\n",
      "\n",
      "Found 8 different services to query.\n"
     ]
    },
    {
     "data": {
      "text/html": [
       "&lt;Table masked=True length=8&gt;\n",
       "<table id=\"table4614893752\" class=\"table-striped table-bordered table-condensed\">\n",
       "<thead><tr><th>waveband</th><th>short_name</th><th>ivoid</th><th>res_description</th><th>access_url</th><th>reference_url</th><th>publisher</th><th>service_type</th></tr></thead>\n",
       "<thead><tr><th>str21</th><th>str10</th><th>str29</th><th>str5408</th><th>str78</th><th>str58</th><th>str17</th><th>str10</th></tr></thead>\n",
       "<tr><td>gamma-ray</td><td>SWIFTGRB</td><td>ivo://nasa.heasarc/swiftgrb</td><td>This table contains the results of the Gamma Ray Bursts (GRBs) observed by Swift. The GRBs included are either triggered by Swift or follow-ups of GRBs discovered by other satellites. The table reports results and/or information, when possible, for each burst from all three instruments on board Swift, e.g. the Bursts Alert Telescope, BAT,the X-ray Telescope, XRT, and the Ultra-Violet Optical Telescope, UVOT. The results are obtained from a standard analysis processing of the Swift data which creates several data products available via this table. Additional information on the burst either from Gamma-ray and X-ray observations or results from ground-based telescopes are extracted from the GCN and the BAT Burst catalog. This table&apos;s data products are also available from the dedicated web pages &amp;amp;lt;a href=&quot;http://heasarc.gsfc.nasa.gov/docs/swift/archive/grbsummary/&quot;&amp;amp;gt;http://heasarc.gsfc.nasa.gov/docs/swift/archive/grbsummary/&amp;amp;lt;/a&amp;amp;gt;. The current database contains all bursts observed by Swift from the beginning of the mission, 20 Nov 2004 up to 31 Dec 2012. The data products are available for Bursts detected after 15 Feb 2005.</td><td>https://heasarc.gsfc.nasa.gov/cgi-bin/vo/cone/coneGet.pl?table=swiftgrb&amp;amp;</td><td>https://heasarc.gsfc.nasa.gov/W3Browse/all/swiftgrb.html</td><td>NASA/GSFC HEASARC</td><td>conesearch</td></tr>\n",
       "<tr><td>gamma-ray</td><td>Swift</td><td>ivo://nasa.heasarc/swiftmastr</td><td>This table records high-level information for each Swift observation and provides access to the data archive. Each record is associated with a single observation that contains data from all instruments on board Swift. The BAT is the large field of view instrument and operates in the 10-300 keV energy band. The narrow field instruments, XRT and UVOT, operate in the X-ray and UV/optical regime, respectively. An observation is defined as a collection of snapshots, where a snapshot is defined as the time spent observing the same position continuously. Because of observing constraints, the length of a snapshot can be shorter than a single orbit and it can be interrupted because the satellite will point in a different direction of the sky or because the time allocated to that observation ends. The typical Swift observing strategy for a Gamma Ray Burst (GRB) and/or afterglow, consists of a serious of observations aimed at following the GRB and its afterglow evolution. This strategy is achieved with two different type of observations named Automatic Targets and Pre-Planned Targets. The Automatic Target is initiated on board soon after an event is triggered by the BAT. The Figure of Merit (FOM) algorithm, part of the observatory&apos;s autonomy, decides if it is worth requesting a slew maneuver to point the narrow field instruments (NFI) on Swift, XRT and UVOT, in the direction of the trigger. If the conditions to slew to the new position are satisfied, the Automatic Target observation takes place; all the instruments have a pre-set standard configuration of operating modes and filters and about 20000 seconds on source will be collected. The Pre-Planned Target observations instead are initiated from the ground once the trigger is known. These observations are planned on ground and uploaded onto the spacecraft.</td><td>https://heasarc.gsfc.nasa.gov/cgi-bin/vo/cone/coneGet.pl?table=swiftmastr&amp;amp;</td><td>https://heasarc.gsfc.nasa.gov/W3Browse/all/swiftmastr.html</td><td>NASA/GSFC HEASARC</td><td>conesearch</td></tr>\n",
       "<tr><td>gamma-ray</td><td>SWIFTTDRSS</td><td>ivo://nasa.heasarc/swifttdrss</td><td>This database table is derived from the Swift TDRSS messages sent on ground soon after a BAT trigger occurs on-board. For each trigger there are associated up to 14 messages, however not all are always generated and sent on ground. The messages are generated on board by the BAT, XRT and UVOT instruments and the Figure of Merit part of the observatory&apos;s autonomy. The BAT and XRT can each have five different message types. The UVOT and FOM can each have two different message types. These TDRSS messages are the results of the on-board data processing of the three instruments and some contain data products. They are first distributed via the GCN and later archived. The BAT messages are: alert, &apos;ack&apos; containing the position, or &apos;nack&apos; if the position could not be calculated, a lightcurve and scaled map. The XRT messages are: centroid containing the position, an image (if the position has been calculated), centroid error if the position could not be calculated, spectra in Low Rate Photodiode and Windowed Timing modes, a lightcurve. The UVOT messages are: finding chart containing star positions and a subimage centered on the XRT position. The FOM messages are used to indicate if the FOM will or will not observe the new target and if the spacecraft will (or will not) request a slew for the new target. The parameters in this database table are a collection of high level information taken from the following messages : the BAT alert, &apos;ack&apos; or &apos;nack&apos; message, the FOM messages, the XRT position and image. If the information is not available the fields are left blank. All messages are provided as data products within this database table.</td><td>https://heasarc.gsfc.nasa.gov/cgi-bin/vo/cone/coneGet.pl?table=swifttdrss&amp;amp;</td><td>https://heasarc.gsfc.nasa.gov/W3Browse/all/swifttdrss.html</td><td>NASA/GSFC HEASARC</td><td>conesearch</td></tr>\n",
       "<tr><td>gamma-ray#radio#x-ray</td><td>RSSGRBAG</td><td>ivo://nasa.heasarc/rssgrbag</td><td>This table contains a catalog of radio afterglow observations of gamma-ray bursts (GRBs) over a 14 year period from 1997 to 2011. This sample of 304 afterglows consists of 2,995 flux density measurements (including upper limits) at frequencies between 0.6 GHz and 660 GHz, with the majority of data taken in the 8.5-GHz frequency band (1,539 measurements). The authors use this dataset to carry out a statistical analysis of the radio-selected sample. The detection rate of radio afterglows stayed unchanged almost at 31% before and after the launch of the Swift satellite. The canonical long-duration GRB radio light curve at 8.5 GHz peaks at three to six days in the source rest frame, with a median peak luminosity of 10&amp;amp;lt;sup&amp;amp;gt;31&amp;amp;lt;/sup&amp;amp;gt; erg/s/Hz. The peak radio luminosities for short-hard bursts, X-ray flashes, and the supernova-GRB classes are an order of magnitude or more fainter than this value. There are clear relationships between the detectability of a radio afterglow and the fluence or energy of a GRB, and the X-ray or optical brightness of the afterglow. However, the authors find few significant correlations between these same GRB and afterglow properties and the peak radio flux density. In their paper, they also produce synthetic light curves at centimeter and millimeter bands using a range of blast wave and microphysics parameters derived from multi-wavelength afterglow modeling, and use them to compare with the radio sample. Finding agreement, the authors extrapolate this behavior to predict the centimeter and millimeter behavior of GRBs which will observed by the Expanded Very Large Array and the Atacama Large Millimeter Array. The compiled sample consists of 304 GRBs observed with radio telescopes between 1997 January and 2011 January, along with the 2011 April 28 Fermi burst, GRB 110428A. The sample consists of a total of 2,995 flux density measurements taken in the frequency range from 0.6 to 660 GHz and spanning a time range from 0.026 to 1,339 days. Most of the afterglows (270 in total) in this sample were observed as part of VLA radio afterglow programs, whereas 15 bursts were observed by the Expanded VLA (EVLA), and 19 southern bursts with the Australia Telescope Compact Array (ATCA). This catalog describes the radio, optical and X-ray afterglow detections (see Section 2.2 of the reference paper): out of the 304 bursts, 123 bursts were observed in the pre-Swift epoch from 1997 until 2004. The remaining 181 bursts were observed between 2005 and 2011 April (the post-Swift epoch). Out of the 95 radio-detected afterglows (see Section 2.2 of the reference paper), 63 had radio lightcurves (i.e., three or more detections in a single radio band), whereas 32 bursts had less than three detections. For the GRBs for which the light curves were available, the authors determined the peak flux density and the time of the peak in the VLA frequency bands (i.e., 1.4 GHz, 4.9 GHz, 8.5 GHz, 15 GHz, and 22.5 GHz bands) by fitting the data with forward shock formula of the form (Frail 2005, IAU Coll. 192, p. 451) given in equation (1) of the reference paper. This formula may not accurately represent the full complexity of the radio lightcurve evolution. However, it is good enough to determine the approximate values for the peak flux density F&amp;amp;lt;sub&amp;amp;gt;m&amp;amp;lt;/sub&amp;amp;gt; and the time of the peak t&amp;amp;lt;sub&amp;amp;gt;m&amp;amp;lt;/sub&amp;amp;gt;. See the discussion in Section 3.5 of the reference paper for more details and some caveats. For the remaining bursts, the flux density values were taken directly from the data, and hence do not have the best-fit errors for the peak flux, peak time and rest-frame peak time parameters F&amp;amp;lt;sub&amp;amp;gt;m&amp;amp;lt;/sub&amp;amp;gt;, t&amp;amp;lt;sub&amp;amp;gt;m&amp;amp;lt;/sub&amp;amp;gt; and t&amp;amp;lt;sub&amp;amp;gt;m&amp;amp;lt;/sub&amp;amp;gt;/(1+z), respectively.</td><td>https://heasarc.gsfc.nasa.gov/cgi-bin/vo/cone/coneGet.pl?table=rssgrbag&amp;amp;</td><td>https://heasarc.gsfc.nasa.gov/W3Browse/all/rssgrbag.html</td><td>NASA/GSFC HEASARC</td><td>conesearch</td></tr>\n",
       "<tr><td>gamma-ray</td><td>SwiftBAT</td><td>ivo://nasa.heasarc/swiftbalog</td><td>The BAT can operate several configuration modes simultaneously. Each of the simultaneous modes is listed in separate records within this table. For a given time interval, there are several records (partially overlapping in time), each describing a single configuration/mode. The BAT modes collect data for the entire FOV but also have the capability to record rates (tag mask rate) for up to a few specific sky positions (typically 3) that correspond to a pre-assigned target ID. It is possible that at least two or more of these positions do not coincide with the BAT or NFI pointing position and therefore the target ID does necessarily coincide with Target_ID of the BAT or NFI pointing position. This table records for the position (RA and Dec) and Target_ID parameters the correct values associated to each of the mask tag data.</td><td>https://heasarc.gsfc.nasa.gov/cgi-bin/vo/cone/coneGet.pl?table=swiftbalog&amp;amp;</td><td>https://heasarc.gsfc.nasa.gov/W3Browse/all/swiftbalog.html</td><td>NASA/GSFC HEASARC</td><td>conesearch</td></tr>\n",
       "<tr><td>gamma-ray</td><td>SwiftXRT</td><td>ivo://nasa.heasarc/swiftxrlog</td><td>The XRT runs only one type of configuration mode/window in a given time interval. The table therefore contains for a given time interval a single record that describes one configuration. A new record is generated when the following is changing within an observation: new operating mode , new pointing mode, or new window configuration.</td><td>https://heasarc.gsfc.nasa.gov/cgi-bin/vo/cone/coneGet.pl?table=swiftxrlog&amp;amp;</td><td>https://heasarc.gsfc.nasa.gov/W3Browse/all/swiftxrlog.html</td><td>NASA/GSFC HEASARC</td><td>conesearch</td></tr>\n",
       "<tr><td>gamma-ray</td><td>FERMILLE</td><td>ivo://nasa.heasarc/fermille</td><td>LAT Low-Energy events (LLE) are automatically produced for each GBM GRB in the GBM Trigger Catalog if the GBM GRB has a position within 90 degrees of the LAT boresight. LLE data are generated for a given position in the sky (RA, DEC) and for a given interval of time (T0, T1) corresponding to the GBM Burst. The standard LLE selection applied to the downloaded events is the following: (FswGamState==0 &amp;amp;amp;&amp;amp;amp; TkrNumTracks&amp;amp;gt;0 &amp;amp;amp;&amp;amp;amp; (GltEngine==6 || GltEngine==7) &amp;amp;amp;&amp;amp;amp; EvtEnergyCorr &amp;amp;gt; 0) &amp;amp;amp;&amp;amp;amp; (FT1ZenithTheta&amp;amp;lt;90.0) &amp;amp;amp;&amp;amp;amp; (FT1Theta&amp;amp;lt;=90.0) &amp;amp;amp;&amp;amp;amp; (((cos(FT1Dec*0.0174533)*(FT1Ra - (RA)))&amp;amp;lt;sup&amp;amp;gt;2&amp;amp;lt;/sup&amp;amp;gt; + (FT1Dec - (DEC))&amp;amp;lt;sup&amp;amp;gt;2&amp;amp;lt;/sup&amp;amp;gt;) &amp;amp;lt; PSF(EvtEnergyCorr, Theta) where &amp;amp;lt;pre&amp;amp;gt; * FswGamState is the status of the Flight Sofware Gamma filter. We require that the event is a gamma-ray (FswGamState==0). * TkrNumTracks is the number of tracks in the tracker. We require that there is at least one track. This requires the event to have a reconstructed direction. * GltEngine is the status of the &amp;amp;lt;a href=&quot;https://oraweb.slac.stanford.edu/pls/slacquery/DOCUMENTS.DetailedIndex?PROJECT=GLAST&amp;amp;P_DOC_ID=776972&quot;&amp;amp;gt;Global LAT Trigger&amp;amp;lt;/a&amp;amp;gt;. We require that GltEngine equals 6 or 7, which corresponds to taking all the events that trigger in the tracker TKR but did not have a region of interest (ROI) associated (GltEngine 7) or all the events that pass the CalHI (at least 1 GeV in one crystal). * EvtEnergyCorr is the best estimation of the reconstructed energy, especially at low energy. * Theta is the reconstructed source direction (Theta) with respect the LAT boresight. * PSF(EvtEnergyCorr, Theta) represents the functional form of the containment radius of the Point Spread Function (PSF) of the LAT. &amp;amp;lt;/pre&amp;amp;gt; The exact cut used to select the events is saved in the keyword LLECUT in the primary header of each LLE file. If the GBM catalog position of the burst is updated (due to a refined localization from LAT or Swift or from subsequent on ground analysis), the LLE data are automatically updated and new versions of the LLE files are produced. In some cases, LLE data are manually generated (using a better localization which may or may not have been used in the GBM Trigger Catalog). For each updated position, the version of the corresponding LLE files increases by one. There are six FITS files provided for each entry: the LLE event file, the time-binned spectrum (CSPEC) file, the CSPEC response (RSP) file, and the extracted burst spectrum (the PHA-I file) for the entire duration of the burst, an LLE event file with same time cut as the RSP and PHA-I files, and a LAT pointing and livetime history file. There are six FITS files provided for each entry: the LLE event file (gll_lle_bnNNNNNNNNN_vMM.fit), the time-binned spectrum (CSPEC) file (gll_cspec_bnNNNNNNNNN_vMM.pha), the CSPEC response (RSP) file (gll_cspec _bnNNNNNNNNN_vMM.rsp), and the extracted burst spectrum (the PHA-I file) for the entire duration of the burst (gll_pha_bnNNNNNNNNN_vMM.fit), an LLE event file with same time cut as the RSP and PHA-I files (gll_selected_bnNNNNNNNNN_vMM.fit), and a LAT pointing and livetime history file (gll_pt_bnNNNNNNNNN_vMM.fit). The LLE event file format is similar to the LAT photon file format with some exceptions. Because the LLE data are tightly connected to a particular object (position and time), the FITS keyword OBJECT has been added to the file. Generally, OBJECT will correspond to the entry of the GBM Trigger Catalog used to generate LLE data and corresponds to the &amp;amp;quot;name&amp;amp;quot; column in the FERMILLE table (and in the GBM Trigger Catalog table). For similar reasons, the position of the object used to select LLE file is written in the header of each extension of each LLE file. PROC_VER corresponds to the iteration of the analysis of LLE data. PASS_VER corresponds to the iteration for the reconstruction and the general event classification (Pass6, Pass7, etc.). VERSION corresponds to the version of the LLE product for this particular event. The update of a location of a GRB will increase the number of VERSION in the file, but will leave the PASS_VER and PROC_VER unchanged. The CSPEC file is obtained from directly binning the TTE files. It provides a series of spectra, accumulated every second, from -1000 to 1000 seconds around the burst. Each spectrum is binned in 50 energy channels, ranging typically from 10 MeV to 100 GeV. The format of the CSPEC file is tailored to satisfy rmfit standards, and it is not directly usable in XSPEC. The CSPEC Response file (the RSP file) is the detector response matrix calculated from Monte Carlo simulation, and it corresponds to a single response matrix for each Gamma-Ray Burst or Solar Flare. The PHA-I file contains the count spectrum. The PHA-I file is created from the same time interval used to compute the response matrix. The selected events file is identical to the LLE event file with an additional time selection applied to match the cut used to compute response matrix and PHA-I files. The LAT pointing and livetime history file is identical to the standard LAT file but with entries every second (instead of every 30 seconds). It spans 4600 seconds before and 4600 after the trigger time.</td><td>https://heasarc.gsfc.nasa.gov/cgi-bin/vo/cone/coneGet.pl?table=fermille&amp;amp;</td><td>https://heasarc.gsfc.nasa.gov/W3Browse/all/fermille.html</td><td>NASA/GSFC HEASARC</td><td>conesearch</td></tr>\n",
       "<tr><td>gamma-ray</td><td>SwiftUVOT</td><td>ivo://nasa.heasarc/swiftuvlog</td><td>The UVOT runs only one type of configuration filter/mode/window in a given time interval. This database table, therefore, contains for a given time interval a single record that describes one configuration.</td><td>https://heasarc.gsfc.nasa.gov/cgi-bin/vo/cone/coneGet.pl?table=swiftuvlog&amp;amp;</td><td>https://heasarc.gsfc.nasa.gov/W3Browse/all/swiftuvlog.html</td><td>NASA/GSFC HEASARC</td><td>conesearch</td></tr>\n",
       "</table>"
      ],
      "text/plain": [
       "<Table masked=True length=8>\n",
       "       waveband       short_name ...     publisher     service_type\n",
       "        str21           str10    ...       str17          str10    \n",
       "--------------------- ---------- ... ----------------- ------------\n",
       "            gamma-ray   SWIFTGRB ... NASA/GSFC HEASARC   conesearch\n",
       "            gamma-ray      Swift ... NASA/GSFC HEASARC   conesearch\n",
       "            gamma-ray SWIFTTDRSS ... NASA/GSFC HEASARC   conesearch\n",
       "gamma-ray#radio#x-ray   RSSGRBAG ... NASA/GSFC HEASARC   conesearch\n",
       "            gamma-ray   SwiftBAT ... NASA/GSFC HEASARC   conesearch\n",
       "            gamma-ray   SwiftXRT ... NASA/GSFC HEASARC   conesearch\n",
       "            gamma-ray   FERMILLE ... NASA/GSFC HEASARC   conesearch\n",
       "            gamma-ray  SwiftUVOT ... NASA/GSFC HEASARC   conesearch"
      ]
     },
     "execution_count": 16,
     "metadata": {},
     "output_type": "execute_result"
    }
   ],
   "source": [
    "#gamma_services=Registry.query(waveband='gamma',service_type='cone',debug=True,keyword='swift',source='heasarc')\n",
    "#results=Cone.query(coords,0.01,gamma_services)\n",
    "## is equivalent to\n",
    "services=Registry.query(service_type='cone',waveband='gamma',debug=True,keyword='swift',source='heasarc')\n",
    "print(\"Found {} different services to query.\".format(len(services)))\n",
    "services"
   ]
  },
  {
   "cell_type": "code",
   "execution_count": 17,
   "metadata": {},
   "outputs": [
    {
     "name": "stdout",
     "output_type": "stream",
     "text": [
      "    Querying service https://heasarc.gsfc.nasa.gov/cgi-bin/vo/cone/coneGet.pl?table=swiftuvlog&\n",
      "    Got 18 results for source number 0\n",
      "    (Got no results for source number 1)\n"
     ]
    }
   ],
   "source": [
    "# And then decide we want SwiftUVOT, the last one:\n",
    "results=Cone.query(coords,0.01,service=services[-1])\n"
   ]
  },
  {
   "cell_type": "code",
   "execution_count": 22,
   "metadata": {},
   "outputs": [
    {
     "name": "stdout",
     "output_type": "stream",
     "text": [
      "Resulting list has 2 elements (i.e., from that many sources queried).\n",
      "   Query for object 0 returned 18 rows.\n",
      "   Query for object 1 returned 0 rows.\n"
     ]
    }
   ],
   "source": [
    "## Look at results. Queries with no results should have empty tables. \n",
    "##  But there should be an entry in the list of lists regardless. \n",
    "print(\"Resulting list has {} elements (i.e., from that many sources queried).\".format(len(results)))\n",
    "for j,t in enumerate(results):\n",
    "    print(\"   Query for object {} returned {} rows.\".format(j,len(t)))\n",
    "    "
   ]
  },
  {
   "cell_type": "markdown",
   "metadata": {},
   "source": [
    "See what columns these results come with, since they will be different for each service:"
   ]
  },
  {
   "cell_type": "code",
   "execution_count": 25,
   "metadata": {},
   "outputs": [
    {
     "name": "stdout",
     "output_type": "stream",
     "text": [
      "<TableColumns names=('target_id','obsid','ra','dec','start_time','exposure','counts','window_size','binning','filter','operation_mode','pointing_mode','Search_Offset')>\n"
     ]
    }
   ],
   "source": [
    "print(results[0].columns)"
   ]
  },
  {
   "cell_type": "markdown",
   "metadata": {},
   "source": [
    "There's only a UCD in some columns, and it depends on the service. \n",
    "\n",
    "**So to merge into standard tables, perhaps go through looking for UCDs or UTYPEs and renaming any columns with them with that standard name. Then do the merge.**  If you use the default 'outer' join, you'll end up with lots of columns where rows from different services use differnet columns and the others remain empty. Give the user the option to do an 'inner' join, and you'll end up only with columns that are common to all results, probably only the ones with the UCDs. "
   ]
  },
  {
   "cell_type": "markdown",
   "metadata": {
    "collapsed": true
   },
   "source": [
    "\n",
    "Started to define a function for the second part of this cell in the workshop notebook that got the pass bands from NED. This is very NED-specific. Any way to generalize?\n",
    "\n",
    "    ned_info = astroquery.get_ned_info( ra, dec, radii )\n",
    "\n",
    "calls the cone search and passes the ACREF for each match to NED again to get the info. But ACREF isn't a required value returned by a cone search. All that's required is the ID, RA, and DEC. So I don't think this can be generalized.\n"
   ]
  },
  {
   "cell_type": "markdown",
   "metadata": {},
   "source": [
    "## 4. \n",
    "\n",
    "    sia_services = Registry.list_sia_services( [source=’ivoid_string_eg_heasarc'] , [keyword=‘allwise’], [waveband=‘whatever’] ... ) \n",
    "\n",
    "This one can easily be generalized so you can get images from any service (or a chosen one) using the same options as the Registry.query(), i.e., waveband, keyword, etc. \n",
    "\n",
    "It returns a table of information, including the ‘access_url’ that you can then plug into another generic function\n",
    "\n",
    "\n"
   ]
  },
  {
   "cell_type": "code",
   "execution_count": null,
   "metadata": {
    "collapsed": true
   },
   "outputs": [],
   "source": [
    "def list_image_services(**kwargs):\n",
    "    return Registry.query(service_type=\"image\",**kwargs)\n",
    "def list_spectra_serices(**kwargs):\n",
    "    return Registry.query(service_type=\"spectra\",**kwargs)\n",
    "def list_cone_serices(**kwargs):\n",
    "    return Registry.query(service_type=\"cone\",**kwargs)\n",
    "#  This one isn't in Registry yet, but presumably can be added.\n",
    "def list_tap_services(**kwargs):\n",
    "    return Registry.query(servic_type=\"tap\",**kwargs)"
   ]
  },
  {
   "cell_type": "markdown",
   "metadata": {},
   "source": [
    "## 5 SIA\n",
    "\n",
    "Then pick one of the listed services (say number 20, after you looked at the descriptions) and query it to get the URL to an image at a given coordinate.\n",
    "\n",
    "    image_info = Image.query(coords, 0, access_url=sia_services[20][‘access_url’]]\n",
    "\n",
    "or perhaps you don't know which service is quite what you want, so get info for all of them:\n",
    "\n",
    "    images_info = Image.query(coords, 0,  access_url=sia_services[:][‘access_url’]]\n",
    "\n",
    "to get a table list of all images in a list of services that contain that point. \n",
    "\n",
    "The standardize() function would be a version of _astropy_table_from_votable_response.\n",
    "\n",
    "Or, like with the Cone search above, the user doesn't give a service but just asks for information on images matching whatever criteria:\n",
    "\n",
    "    heasarc_images_info = Image.query(coords, ‘0’, naxis=‘300,300’, service='heasarc')\n",
    "    uv_images_info = Image.query(coords, ‘0’, naxis=‘300,300’, waveband='uv')\n",
    "    2mass_images_info = Image.query(coords,‘0’, naxis=‘300,300’, keyword='2mass')\n"
   ]
  },
  {
   "cell_type": "markdown",
   "metadata": {},
   "source": [
    "## 7-8. Retrieving images\n",
    "\n",
    "You can look at the images_info and pick one to download:\n",
    "\n",
    "    Image.get( images_info[6], filename='my_file.fits')\n",
    "    \n",
    "or get the image data to hand to the plotter:\n",
    "\n",
    "    image=Image.get( images_info[6] )\n",
    "    plt.imshow( image,  cmap='gray', origin='lower',vmax=0.02 )\n",
    "    \n",
    "where it downloads it to filename if specified, or to a temporary filename if not and then reads it in and returns the image data if not.\n",
    "\n",
    "Or hand a list and return a list of images:\n",
    "\n",
    "    images=Image.get(images_info )\n",
    "    plt.imshow( images[0],  cmap='gray', origin='lower',vmax=0.02 )"
   ]
  },
  {
   "cell_type": "code",
   "execution_count": null,
   "metadata": {},
   "outputs": [],
   "source": [
    "class ImageClass(BaseQuery):\n",
    "    \n",
    "    def query(self, **kwargs):\n",
    "        \"\"\"Get information on what images are available\"\"\"\n",
    "        services=Registry.query(service_type='image',**kwargs)\n",
    "        # Like the Cone class above, collect results...\n",
    "        return \n",
    "    \n",
    "    def get(self, image_url , filename=''):\n",
    "        \"\"\"Returns the data that can be handed to plt.imshow() from a URL\n",
    "    \n",
    "        For now, input URL. But could just get a list of URLs or a \n",
    "        list of tables that have an 'access_url' column.\n",
    "        \"\"\"\n",
    "        if filename is '':\n",
    "            filename='tmp.fits'\n",
    "        self._download( image_url, filename=filename)\n",
    "        if filename == 'tmp.fits':\n",
    "            hdus=astropy.io.fits.open('tmp.fits')\n",
    "            # Which extension? TBD\n",
    "            return hdus[0].data\n",
    "        else:\n",
    "            return\n",
    "\n",
    "    def _download(self, url, filename=''):\n",
    "        # simple wrapper of urllib\n",
    "        return\n",
    "    \n",
    "#class SpectralClass(ImageClass)"
   ]
  },
  {
   "cell_type": "markdown",
   "metadata": {},
   "source": [
    "## 10. \n",
    "\n",
    "This is now easy:"
   ]
  },
  {
   "cell_type": "code",
   "execution_count": null,
   "metadata": {
    "collapsed": true
   },
   "outputs": [],
   "source": [
    "services=Registry.query(service='cone',keyword='chandra')\n",
    "chandra_results=Cone.query(coords,10,services)\n",
    "len(chandra_results)"
   ]
  },
  {
   "cell_type": "code",
   "execution_count": null,
   "metadata": {
    "collapsed": true
   },
   "outputs": [],
   "source": []
  },
  {
   "cell_type": "markdown",
   "metadata": {},
   "source": [
    "# 11. TAP\n",
    "\n",
    "This currently doesn't work but should be perfectly doable:\n",
    "\n",
    "    tap_services_2mass=Registry.query(keyword='2mass',service_type='table')\n",
    "    \n",
    "Look through the results, find the one you want, then assuming you know how to construct ADQL logic and you know the names of the columns in the catalog you're searching:\n",
    "\n",
    "    tap_results=Tap.query(\n",
    "        source=tap_services_2mass[32],\n",
    "        logic_string='CONTAINS(POINT('J2000',ra,dec),CIRCLE('J2000',9.90704,8.96507,0.001))'\n",
    "        )\n",
    "\n",
    "is the equivalent to a cone search, but you could do whatever you wanted. If you didn't know what TAP service you wanted, you probably couldn't do this (as above for images, where you can get image information from all services in the registry). The reason is that the TAP query would depend on the column names, and they are not common.\n",
    "\n",
    "On the other hand, since people have to know how to use ADQL and know the columns of the catalog they're interested in, it's not clear we can add much value with a wrapper."
   ]
  },
  {
   "cell_type": "code",
   "execution_count": null,
   "metadata": {
    "collapsed": true
   },
   "outputs": [],
   "source": []
  },
  {
   "cell_type": "code",
   "execution_count": null,
   "metadata": {
    "collapsed": true
   },
   "outputs": [],
   "source": []
  },
  {
   "cell_type": "code",
   "execution_count": null,
   "metadata": {
    "collapsed": true
   },
   "outputs": [],
   "source": []
  }
 ],
 "metadata": {
  "kernelspec": {
   "display_name": "Python 3",
   "language": "python",
   "name": "python3"
  },
  "language_info": {
   "codemirror_mode": {
    "name": "ipython",
    "version": 3
   },
   "file_extension": ".py",
   "mimetype": "text/x-python",
   "name": "python",
   "nbconvert_exporter": "python",
   "pygments_lexer": "ipython3",
   "version": "3.6.3"
  }
 },
 "nbformat": 4,
 "nbformat_minor": 2
}
