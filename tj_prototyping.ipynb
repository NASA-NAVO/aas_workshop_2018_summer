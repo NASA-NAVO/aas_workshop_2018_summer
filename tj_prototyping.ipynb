{
 "cells": [
  {
   "cell_type": "markdown",
   "metadata": {},
   "source": [
    "# Brainstorming for astroquery.vo needs\n",
    "\n",
    "\n",
    "If NAVO develops astroquery.vo, we could use things like the following. This is a summary of what is below in more detail. \n",
    "\n",
    "RegTAP:  \n",
    "\n",
    "    query_results=Registry.query( ... lots of options, this already exists in our github ...)\n",
    "    heasarc_image_services=Registry.list_image_services(source='heasarc') \n",
    "\n",
    "SCS:\n",
    "\n",
    "    ned_services=Registry.query.list_cone_services(source='ned')\n",
    "    ned_results=Cone.query(ras,decs,radius,ned_services)\n",
    "    \n",
    "SIA:  \n",
    "    \n",
    "    images_info=Image.query(heasarc_image_services) \n",
    "    plt.imshow( Image.get( images_info[0] )\n",
    "    Image.get( images_info[0], filename='image.fits')\n",
    "\n",
    "SSA:\n",
    "\n",
    "    Same as SIA basically. \n",
    "\n",
    "TAP(?):\n",
    "\n",
    "    tap_services_2mass=Registry.query(keyword='2mass',service_type='table')[0]\n",
    "    tap_results=Tap.query(\n",
    "        source=tap_services_2mass[32],\n",
    "        logic_string='CONTAINS(POINT('J2000',ra,dec),CIRCLE('J2000',9.90704,8.96507,0.001))'\n",
    "        )\n",
    "\n",
    "Going through Vandana's presentation to make a list of functions we could use, with one basic version of a Cone class defined to play with."
   ]
  },
  {
   "cell_type": "code",
   "execution_count": 1,
   "metadata": {},
   "outputs": [],
   "source": [
    "import matplotlib\n",
    "import matplotlib.pyplot as plt\n",
    "%matplotlib inline  \n",
    "import requests, io, astropy\n",
    "from IPython.display import Image, display\n",
    "\n",
    "## For handling ordinary astropy Tables\n",
    "from astropy.table import Table, vstack\n",
    "\n",
    "## For reading FITS files\n",
    "import astropy.io.fits as apfits\n",
    "\n",
    "## There are a number of relatively unimportant warnings that \n",
    "## show up, so fix later but for now, suppress them:\n",
    "import warnings\n",
    "warnings.filterwarnings(\"ignore\")\n",
    "\n",
    "## our stuff\n",
    "# Use the NASA_NAVO/astroquery\n",
    "from navo_utils.cone import Cone\n",
    "from navo_utils.registry import Registry\n",
    "\n",
    "# For debugging in WingIDE:\n",
    "\n",
    "#import wingdbstub\n",
    "#wingdbstub.Ensure()"
   ]
  },
  {
   "cell_type": "markdown",
   "metadata": {
    "collapsed": true
   },
   "source": [
    "Registry queries already coded by TomD and TJ in astroquery.vo.Registry() class. So you can, for example, if you already know you want to search NED, get it's URL as follows. Unfortunately, *with the current implementation, you get two results, where the second isn't NED but has \"ned\" in the ivoid (\"shela_combined\"). Not sure what to do about that.* Could hard-wire things like \"ned\", \"heasarc\", etc. But that's not ideal. "
   ]
  },
  {
   "cell_type": "code",
   "execution_count": 2,
   "metadata": {},
   "outputs": [
    {
     "name": "stdout",
     "output_type": "stream",
     "text": [
      "Registry:  sending query ADQL = \n",
      "          select res.waveband,res.short_name,cap.ivoid,res.res_description,\n",
      "          intf.access_url, res.reference_url\n",
      "          from rr.capability as cap\n",
      "          natural join rr.resource as res\n",
      "          natural join rr.interface as intf\n",
      "           where cap.cap_type='conesearch' and cap.ivoid like '%heasarc%'\n",
      "\n",
      "Queried: http://vao.stsci.edu/RegTAP/TapService.aspx/sync\n",
      "\n",
      "Found 917 results:\n",
      "                                  access_url                                  \n",
      "------------------------------------------------------------------------------\n",
      "https://heasarc.gsfc.nasa.gov/cgi-bin/vo/cone/coneGet.pl?table=ngc2362cxo&amp;\n",
      "https://heasarc.gsfc.nasa.gov/cgi-bin/vo/cone/coneGet.pl?table=ngc2403cx2&amp;\n",
      "https://heasarc.gsfc.nasa.gov/cgi-bin/vo/cone/coneGet.pl?table=fer2fusrid&amp;\n",
      "https://heasarc.gsfc.nasa.gov/cgi-bin/vo/cone/coneGet.pl?table=maghmxbcat&amp;\n",
      "   https://heasarc.gsfc.nasa.gov/cgi-bin/vo/cone/coneGet.pl?table=ngc2000&amp;\n",
      "https://heasarc.gsfc.nasa.gov/cgi-bin/vo/cone/coneGet.pl?table=ngc2237cxo&amp;\n",
      "  https://heasarc.gsfc.nasa.gov/cgi-bin/vo/cone/coneGet.pl?table=numaster&amp;\n",
      "  https://heasarc.gsfc.nasa.gov/cgi-bin/vo/cone/coneGet.pl?table=a2lcscan&amp;\n",
      "https://heasarc.gsfc.nasa.gov/cgi-bin/vo/cone/coneGet.pl?table=a2specback&amp;\n",
      " https://heasarc.gsfc.nasa.gov/cgi-bin/vo/cone/coneGet.pl?table=cxogsgsrc&amp;\n",
      "                                                                           ...\n",
      " https://heasarc.gsfc.nasa.gov/cgi-bin/vo/cone/coneGet.pl?table=rass2mass&amp;\n",
      "https://heasarc.gsfc.nasa.gov/cgi-bin/vo/cone/coneGet.pl?table=rt9cc15ghz&amp;\n",
      "https://heasarc.gsfc.nasa.gov/cgi-bin/vo/cone/coneGet.pl?table=rtv9c15ghz&amp;\n",
      " https://heasarc.gsfc.nasa.gov/cgi-bin/vo/cone/coneGet.pl?table=spicescxo&amp;\n",
      "    https://heasarc.gsfc.nasa.gov/cgi-bin/vo/cone/coneGet.pl?table=m83xmm&amp;\n",
      "    https://heasarc.gsfc.nasa.gov/cgi-bin/vo/cone/coneGet.pl?table=m87cxo&amp;\n",
      "    https://heasarc.gsfc.nasa.gov/cgi-bin/vo/cone/coneGet.pl?table=xmmgps&amp;\n",
      "https://heasarc.gsfc.nasa.gov/cgi-bin/vo/cone/coneGet.pl?table=mwak2f1lfc&amp;\n",
      "https://heasarc.gsfc.nasa.gov/cgi-bin/vo/cone/coneGet.pl?table=gmrtk2f1lf&amp;\n",
      "       https://heasarc.gsfc.nasa.gov/cgi-bin/vo/cone/coneGet.pl?table=rbs&amp;\n",
      "https://heasarc.gsfc.nasa.gov/cgi-bin/vo/cone/coneGet.pl?table=pccs857ghz&amp;\n",
      "Length = 917 rows\n",
      "ivo://nasa.heasarc/ngc2403cx2\n",
      "<TableColumns names=('waveband','short_name','ivoid','res_description','access_url','reference_url')>\n"
     ]
    }
   ],
   "source": [
    "results = Registry.query(source='heasarc', service_type='cone',debug=True)\n",
    "print('Found {} results:'.format(len(results)))\n",
    "print(results[:]['access_url'])\n",
    "print(results[1]['ivoid'])\n",
    "print(results.columns)"
   ]
  },
  {
   "cell_type": "markdown",
   "metadata": {},
   "source": [
    "The Registry.query() method takes arguments (passed to internal function _build_adql):  \n",
    "\n",
    "    service_type   : \"image\", \"cone\", or \"spectr\"\n",
    "    keyword        : any keyword contained in ivoid, title, or description\n",
    "    waveband       : waveband string\n",
    "    source         : any substring in ivoid\n",
    "    order_by       : what field to order it by, but then you have to know the names, currently\n",
    "                      (\"waveband\",\"short_name\",\"ivoid\",\"res_description\", \"access_url\", \"reference_url\")\n",
    "    logic_string   : any other string you want to add to the ADQL where clause, should start with \" and \"\n",
    "\n",
    "The results are already in an astropy table from Tom's _astropy_table_from_votable_response(). \n",
    "\n",
    "**But note that the URLs are escaped and should not be by the time we get them back. How to fix?**"
   ]
  },
  {
   "cell_type": "code",
   "execution_count": 3,
   "metadata": {},
   "outputs": [
    {
     "name": "stdout",
     "output_type": "stream",
     "text": [
      "https://heasarc.gsfc.nasa.gov/cgi-bin/vo/cone/coneGet.pl?table=ngc2362cxo&amp;\n",
      "https://heasarc.gsfc.nasa.gov/cgi-bin/vo/cone/coneGet.pl?table=ngc2362cxo&\n"
     ]
    }
   ],
   "source": [
    "import html\n",
    "print(results[0]['access_url'])\n",
    "print(html.unescape(results[0]['access_url']))"
   ]
  },
  {
   "cell_type": "markdown",
   "metadata": {},
   "source": [
    "### 3. Workshop section on data discovery using NED's Cone search. \n",
    "\n",
    "Instead of searching NED ‘manually’, a generic cone search that you can give a list of ras, decs, and radii (or just one obviously) and optionally specify that you want ‘ned’ results or some other IVOID substring. It queries the RegTAP to find out what cone searches are available that match what you asked for. (Is there a way to get the NED URL dynamically from RegTAP without the above ambiguity? A special case if the ivoid requested is \"ned\"?) So the user would call:\n",
    "\n",
    "    cone_results = astroquery.Cone.query(ras, decs, radii, [source=’some_ivoid_string_eg_ned', waveband=etc.]) \n",
    "\n",
    "where ras, decs, and radii can be floats, strings, or arrays of either. If a single source (i.e., ivoid), then get back a table of objects; if several matching sources (which will have different columns?), get back a list of tables, one for each matching source? Since every table will return different columns, need to return some kind of meta data result as well. Separate object or attached to each result column's meta data? Or standardize the tables as discussed below?\n",
    "\n",
    "Note that with kwargs, you can pass through any parameters to the Registry.query() call.\n",
    "\n",
    "So like the Registry, we need a Cone work as follows:"
   ]
  },
  {
   "cell_type": "code",
   "execution_count": 4,
   "metadata": {
    "scrolled": true
   },
   "outputs": [
    {
     "name": "stdout",
     "output_type": "stream",
     "text": [
      "  short_name  \n",
      "--------------\n",
      "SHELA_Combined\n",
      "  NED(sources)\n",
      "https://irsa.ipac.caltech.edu/SCS?table=shelacomb&amp;\n",
      "True\n"
     ]
    }
   ],
   "source": [
    "#  Single arguments:  should take floats or strings, converts floats to string for the query.\n",
    "#  For now, make them all arrays until we sort the above issue\n",
    "cone_services=Registry.query(service_type='cone',source='ned')\n",
    "print(cone_services[:]['short_name'])\n",
    "print(cone_services[0]['access_url'])\n",
    "print(type(cone_services[-1]) is astropy.table.row.Row)\n"
   ]
  },
  {
   "cell_type": "code",
   "execution_count": 5,
   "metadata": {},
   "outputs": [
    {
     "name": "stdout",
     "output_type": "stream",
     "text": [
      "<class 'astropy.table.table.Table'>\n",
      "                      access_url                      \n",
      "------------------------------------------------------\n",
      "https://irsa.ipac.caltech.edu/SCS?table=shelacomb&amp;\n"
     ]
    }
   ],
   "source": [
    "x=Table([{'access_url':cone_services[0]['access_url']}])\n",
    "print(type(x))\n",
    "print(x)"
   ]
  },
  {
   "cell_type": "markdown",
   "metadata": {},
   "source": [
    "We would like the most generic way to pass coordinates to SkyCoord's constructor. See [parse_coords_examples.ipynb](parse_coords_examples.ipynb)\n",
    "\n",
    "(On 20180412, below NED example was not working. Even though the URL has of=xml_main, it is returning HTML. No idea what's going on with that service, but they seem to be messing with it. Wait. Worked on 13th.)"
   ]
  },
  {
   "cell_type": "code",
   "execution_count": 6,
   "metadata": {},
   "outputs": [
    {
     "name": "stdout",
     "output_type": "stream",
     "text": [
      "Found 1 services to query.\n",
      "    Querying service http://ned.ipac.caltech.edu/cgi-bin/NEDobjsearch?search_type=Near+Position+Search&of=xml_main&\n",
      "    Got 494 results for source number 0\n",
      "    Got 7 results for source number 1\n"
     ]
    }
   ],
   "source": [
    "# Fudge the URL, since it's currently incorrect in the registry (!)\n",
    "coords=[[185.47873,4.47365],[35.323,6.934]]\n",
    "radius=0.03\n",
    "\n",
    "# The registry entry is broken?\n",
    "#results=Cone.query(coords,radius,cone_services[0])\n",
    "# http://ned.ipac.caltech.edu/cgi-bin/NEDobjsearch?search_type=Near+Position+Search&amp;\n",
    "# http://ned.ipac.caltech.edu/cgi-bin/NEDobjsearch?search_type=Near+Position+Search&amp;of=xml_main&amp;\n",
    "# Hard-wire the URL it ought to be with the 'of=xml_main&' \n",
    "results=Cone.query(\n",
    "    coords,radius,\n",
    "    \"http://ned.ipac.caltech.edu/cgi-bin/NEDobjsearch?search_type=Near+Position+Search&amp;of=xml_main&amp;\")\n",
    "#  Note that the meta data isn't getting correctly merged. TO BE FIXED.\n",
    "#print(ned_results[0].meta['url'])\n",
    "#print(ned_results[0].meta[\"xml_raw\"])"
   ]
  },
  {
   "cell_type": "code",
   "execution_count": 7,
   "metadata": {},
   "outputs": [],
   "source": [
    "#print(results[0][0].meta)"
   ]
  },
  {
   "cell_type": "markdown",
   "metadata": {},
   "source": [
    "Or if you don't know what the source is but you want to do a cone search on all catalogs related to some search term like waveband:\n",
    "\n",
    "(Note that for safety, by default, if the Registry query gets more than 10 services, the Cone query will not go through. If you're sure, then you can reset that with max_services=N.) "
   ]
  },
  {
   "cell_type": "code",
   "execution_count": 8,
   "metadata": {
    "scrolled": true
   },
   "outputs": [
    {
     "name": "stdout",
     "output_type": "stream",
     "text": [
      "Registry:  sending query ADQL = \n",
      "          select res.waveband,res.short_name,cap.ivoid,res.res_description,\n",
      "          intf.access_url, res.reference_url\n",
      "          from rr.capability as cap\n",
      "          natural join rr.resource as res\n",
      "          natural join rr.interface as intf\n",
      "           where cap.cap_type='conesearch' and cap.ivoid like '%heasarc%' and res.waveband like '%gamma%' and \n",
      "             (res.res_description like '%swift%' or\n",
      "            res.res_title like '%swift%' or\n",
      "            cap.ivoid like '%swift%') \n",
      "            \n",
      "\n",
      "Queried: http://vao.stsci.edu/RegTAP/TapService.aspx/sync\n",
      "\n",
      "Found 8 services to query.\n",
      "    Querying service https://heasarc.gsfc.nasa.gov/cgi-bin/vo/cone/coneGet.pl?table=swiftbalog&\n",
      "    Got 42 results for source number 0\n",
      "    (Got no results for source number 0)\n",
      "    Querying service https://heasarc.gsfc.nasa.gov/cgi-bin/vo/cone/coneGet.pl?table=swiftgrb&\n",
      "    (Got no results for source number 1)\n",
      "    (Got no results for source number 1)\n",
      "    Querying service https://heasarc.gsfc.nasa.gov/cgi-bin/vo/cone/coneGet.pl?table=swifttdrss&\n",
      "    (Got no results for source number 2)\n",
      "    (Got no results for source number 2)\n",
      "    Querying service https://heasarc.gsfc.nasa.gov/cgi-bin/vo/cone/coneGet.pl?table=swiftuvlog&\n",
      "    Got 18 results for source number 0\n",
      "    (Got no results for source number 3)\n",
      "    Querying service https://heasarc.gsfc.nasa.gov/cgi-bin/vo/cone/coneGet.pl?table=swiftxrlog&\n",
      "    Got 16 results for source number 0\n",
      "    (Got no results for source number 4)\n",
      "    Querying service https://heasarc.gsfc.nasa.gov/cgi-bin/vo/cone/coneGet.pl?table=fermille&\n",
      "    (Got no results for source number 5)\n",
      "    (Got no results for source number 5)\n",
      "    Querying service https://heasarc.gsfc.nasa.gov/cgi-bin/vo/cone/coneGet.pl?table=rssgrbag&\n",
      "    (Got no results for source number 6)\n",
      "    (Got no results for source number 6)\n",
      "    Querying service https://heasarc.gsfc.nasa.gov/cgi-bin/vo/cone/coneGet.pl?table=swiftmastr&\n",
      "    Got 4 results for source number 0\n",
      "    (Got no results for source number 7)\n",
      "Got results from 8 different services.\n"
     ]
    }
   ],
   "source": [
    "#gamma_services=Registry.query(waveband='gamma',service_type='cone',debug=True,keyword='swift',source='heasarc')\n",
    "#results=Cone.query(coords,0.01,gamma_services)\n",
    "## is equivalent to\n",
    "results=Cone.query(coords,0.01,waveband='gamma',debug=True,keyword='swift',source='heasarc')\n",
    "print(\"Got results from {} different services.\".format(len(results)))"
   ]
  },
  {
   "cell_type": "code",
   "execution_count": 16,
   "metadata": {},
   "outputs": [
    {
     "name": "stdout",
     "output_type": "stream",
     "text": [
      "Resulting list has 8 elements (i.e., from that many services queried).\n",
      "    Entry 0 has 2 elements (i.e., from that many sources queried).\n",
      "        Query of service 0 for object 0 returned 42 rows (i.e., from that many results).\n",
      "        Query of service 0 for object 1 returned 0 rows (i.e., from that many results).\n",
      "    Entry 1 has 2 elements (i.e., from that many sources queried).\n",
      "        Query of service 1 for object 0 returned 0 rows (i.e., from that many results).\n",
      "        Query of service 1 for object 1 returned 0 rows (i.e., from that many results).\n",
      "    Entry 2 has 2 elements (i.e., from that many sources queried).\n",
      "        Query of service 2 for object 0 returned 0 rows (i.e., from that many results).\n",
      "        Query of service 2 for object 1 returned 0 rows (i.e., from that many results).\n",
      "    Entry 3 has 2 elements (i.e., from that many sources queried).\n",
      "        Query of service 3 for object 0 returned 18 rows (i.e., from that many results).\n",
      "        Query of service 3 for object 1 returned 0 rows (i.e., from that many results).\n",
      "    Entry 4 has 2 elements (i.e., from that many sources queried).\n",
      "        Query of service 4 for object 0 returned 16 rows (i.e., from that many results).\n",
      "        Query of service 4 for object 1 returned 0 rows (i.e., from that many results).\n",
      "    Entry 5 has 2 elements (i.e., from that many sources queried).\n",
      "        Query of service 5 for object 0 returned 0 rows (i.e., from that many results).\n",
      "        Query of service 5 for object 1 returned 0 rows (i.e., from that many results).\n",
      "    Entry 6 has 2 elements (i.e., from that many sources queried).\n",
      "        Query of service 6 for object 0 returned 0 rows (i.e., from that many results).\n",
      "        Query of service 6 for object 1 returned 0 rows (i.e., from that many results).\n",
      "    Entry 7 has 2 elements (i.e., from that many sources queried).\n",
      "        Query of service 7 for object 0 returned 4 rows (i.e., from that many results).\n",
      "        Query of service 7 for object 1 returned 0 rows (i.e., from that many results).\n"
     ]
    }
   ],
   "source": [
    "## Look at results. Queries with no results should have empty tables. \n",
    "##  But there should be an entry in the list of lists regardless. \n",
    "print(\"Resulting list has {} elements (i.e., from that many services queried).\".format(len(results)))\n",
    "for i,r in enumerate(results):\n",
    "    print(\"    Entry {} has {} elements (i.e., from that many sources queried).\".format(i,len(r)))\n",
    "    for j,t in enumerate(r):\n",
    "        print(\"        Query of service {} for object {} returned {} rows (i.e., from that many results).\".format(i,j,len(t)))\n",
    "    "
   ]
  },
  {
   "cell_type": "code",
   "execution_count": 9,
   "metadata": {
    "scrolled": true
   },
   "outputs": [
    {
     "name": "stdout",
     "output_type": "stream",
     "text": [
      "Registry:  sending query ADQL = \n",
      "          select res.waveband,res.short_name,cap.ivoid,res.res_description,\n",
      "          intf.access_url, res.reference_url\n",
      "          from rr.capability as cap\n",
      "          natural join rr.resource as res\n",
      "          natural join rr.interface as intf\n",
      "           where cap.cap_type='conesearch' and res.waveband like '%gamma%' and \n",
      "             (res.res_description like '%swift%' or\n",
      "            res.res_title like '%swift%' or\n",
      "            cap.ivoid like '%swift%') \n",
      "            \n",
      "\n",
      "Queried: http://vao.stsci.edu/RegTAP/TapService.aspx/sync\n",
      "\n"
     ]
    },
    {
     "ename": "AssertionError",
     "evalue": "ERROR: You're asking to query more than 69 services; max_services is set to 10. If you really want to do more, then set the max_services parameter to a larger number.",
     "output_type": "error",
     "traceback": [
      "\u001b[0;31m---------------------------------------------------------------------------\u001b[0m",
      "\u001b[0;31mAssertionError\u001b[0m                            Traceback (most recent call last)",
      "\u001b[0;32m<ipython-input-9-844c2cccfdfb>\u001b[0m in \u001b[0;36m<module>\u001b[0;34m()\u001b[0m\n\u001b[1;32m      1\u001b[0m \u001b[0;31m## Test if you get too many:\u001b[0m\u001b[0;34m\u001b[0m\u001b[0;34m\u001b[0m\u001b[0m\n\u001b[0;32m----> 2\u001b[0;31m \u001b[0mresults\u001b[0m\u001b[0;34m=\u001b[0m\u001b[0mCone\u001b[0m\u001b[0;34m.\u001b[0m\u001b[0mquery\u001b[0m\u001b[0;34m(\u001b[0m\u001b[0mcoords\u001b[0m\u001b[0;34m,\u001b[0m\u001b[0;36m0.01\u001b[0m\u001b[0;34m,\u001b[0m\u001b[0mwaveband\u001b[0m\u001b[0;34m=\u001b[0m\u001b[0;34m'gamma'\u001b[0m\u001b[0;34m,\u001b[0m\u001b[0mdebug\u001b[0m\u001b[0;34m=\u001b[0m\u001b[0;32mTrue\u001b[0m\u001b[0;34m,\u001b[0m\u001b[0mkeyword\u001b[0m\u001b[0;34m=\u001b[0m\u001b[0;34m'swift'\u001b[0m\u001b[0;34m)\u001b[0m\u001b[0;34m\u001b[0m\u001b[0m\n\u001b[0m",
      "\u001b[0;32m~/space/sw/heasarc/nasa-navo/aas_workshop_2018_summer/navo_utils/cone.py\u001b[0m in \u001b[0;36mquery\u001b[0;34m(self, coords, inradius, services, max_services, **kwargs)\u001b[0m\n\u001b[1;32m     32\u001b[0m             \u001b[0;32massert\u001b[0m \u001b[0misinstance\u001b[0m\u001b[0;34m(\u001b[0m\u001b[0mservices\u001b[0m\u001b[0;34m,\u001b[0m \u001b[0mTable\u001b[0m\u001b[0;34m)\u001b[0m\u001b[0;34m,\u001b[0m \u001b[0;34m\"ERROR: Don't understand services given; expect a string URL or an astropy Table result from a Registry query.\"\u001b[0m\u001b[0;34m\u001b[0m\u001b[0m\n\u001b[1;32m     33\u001b[0m \u001b[0;34m\u001b[0m\u001b[0m\n\u001b[0;32m---> 34\u001b[0;31m         \u001b[0;32massert\u001b[0m \u001b[0mlen\u001b[0m\u001b[0;34m(\u001b[0m\u001b[0mservices\u001b[0m\u001b[0;34m)\u001b[0m \u001b[0;34m<=\u001b[0m \u001b[0mmax_services\u001b[0m\u001b[0;34m,\u001b[0m \u001b[0;34m\"ERROR: You're asking to query more than {} services; max_services is set to {}. If you really want to do more, then set the max_services parameter to a larger number.\"\u001b[0m\u001b[0;34m.\u001b[0m\u001b[0mformat\u001b[0m\u001b[0;34m(\u001b[0m\u001b[0mlen\u001b[0m\u001b[0;34m(\u001b[0m\u001b[0mservices\u001b[0m\u001b[0;34m)\u001b[0m\u001b[0;34m,\u001b[0m\u001b[0mmax_services\u001b[0m\u001b[0;34m)\u001b[0m\u001b[0;34m\u001b[0m\u001b[0m\n\u001b[0m\u001b[1;32m     35\u001b[0m \u001b[0;34m\u001b[0m\u001b[0m\n\u001b[1;32m     36\u001b[0m         \u001b[0;32mif\u001b[0m \u001b[0mtype\u001b[0m\u001b[0;34m(\u001b[0m\u001b[0mcoords\u001b[0m\u001b[0;34m)\u001b[0m \u001b[0;32mis\u001b[0m \u001b[0mstr\u001b[0m \u001b[0;32mor\u001b[0m \u001b[0misinstance\u001b[0m\u001b[0;34m(\u001b[0m\u001b[0mcoords\u001b[0m\u001b[0;34m,\u001b[0m\u001b[0mSkyCoord\u001b[0m\u001b[0;34m)\u001b[0m\u001b[0;34m:\u001b[0m\u001b[0;34m\u001b[0m\u001b[0m\n",
      "\u001b[0;31mAssertionError\u001b[0m: ERROR: You're asking to query more than 69 services; max_services is set to 10. If you really want to do more, then set the max_services parameter to a larger number."
     ]
    }
   ],
   "source": [
    "## Test if you get too many:\n",
    "results=Cone.query(coords,0.01,waveband='gamma',debug=True,keyword='swift')"
   ]
  },
  {
   "cell_type": "code",
   "execution_count": null,
   "metadata": {},
   "outputs": [],
   "source": [
    "#print(results)"
   ]
  },
  {
   "cell_type": "markdown",
   "metadata": {
    "collapsed": true
   },
   "source": [
    "*Notes: the _astropy_table_from_votable_response() should then be generic, not just in Registry class*"
   ]
  },
  {
   "cell_type": "markdown",
   "metadata": {},
   "source": [
    "But these come with different columns:"
   ]
  },
  {
   "cell_type": "code",
   "execution_count": null,
   "metadata": {},
   "outputs": [],
   "source": [
    "print(results[0][0].columns)\n",
    "print(results[-1][-1].columns)\n"
   ]
  },
  {
   "cell_type": "markdown",
   "metadata": {},
   "source": [
    "There's only a UCD in some columns, and it depends on the service. \n",
    "\n",
    "**So to merge into standard tables, perhaps go through looking for UCDs or UTYPEs and renaming any columns with them with that standard name. Then do the merge.**  If you use the default 'outer' join, you'll end up with lots of columns where rows from different services use differnet columns and the others remain empty. Give the user the option to do an 'inner' join, and you'll end up only with columns that are common to all results, probably only the ones with the UCDs. "
   ]
  },
  {
   "cell_type": "markdown",
   "metadata": {
    "collapsed": true
   },
   "source": [
    "\n",
    "Started to define a function for the second part of this cell in the workshop notebook that got the pass bands from NED. This is very NED-specific. Any way to generalize?\n",
    "\n",
    "    ned_info = astroquery.get_ned_info( ra, dec, radii )\n",
    "\n",
    "calls the cone search and passes the ACREF for each match to NED again to get the info. But ACREF isn't a required value returned by a cone search. All that's required is the ID, RA, and DEC. So I don't think this can be generalized.\n"
   ]
  },
  {
   "cell_type": "markdown",
   "metadata": {},
   "source": [
    "## 4. \n",
    "\n",
    "    sia_services = Registry.list_sia_services( [source=’ivoid_string_eg_heasarc'] , [keyword=‘allwise’], [waveband=‘whatever’] ... ) \n",
    "\n",
    "This one can easily be generalized so you can get images from any service (or a chosen one) using the same options as the Registry.query(), i.e., waveband, keyword, etc. \n",
    "\n",
    "It returns a table of information, including the ‘access_url’ that you can then plug into another generic function\n",
    "\n",
    "\n"
   ]
  },
  {
   "cell_type": "code",
   "execution_count": null,
   "metadata": {},
   "outputs": [],
   "source": [
    "def list_image_services(**kwargs):\n",
    "    return astroquery.vo.Registry(service_type=\"image\",**kwargs)\n",
    "def list_spectra_serices(**kwargs):\n",
    "    return astroquery.vo.Registry(service_type=\"spectra\",**kwargs)\n",
    "def list_cone_serices(**kwargs):\n",
    "    return astroquery.vo.Registry(service_type=\"cone\",**kwargs)\n",
    "#  This one isn't in Registry yet, but presumably can be added.\n",
    "def list_tap_services(**kwargs):\n",
    "    return astroquery.vo.Registry(servic_type=\"tap\",**kwargs)"
   ]
  },
  {
   "cell_type": "markdown",
   "metadata": {},
   "source": [
    "## 5 SIA\n",
    "\n",
    "Then pick one of the listed services (say number 20, after you looked at the descriptions) and query it to get the URL to an image at a given coordinate.\n",
    "\n",
    "    image_info = Image.query(coords, 0, access_url=sia_services[20][‘access_url’]]\n",
    "\n",
    "or perhaps you don't know which service is quite what you want, so get info for all of them:\n",
    "\n",
    "    images_info = Image.query(coords, 0,  access_url=sia_services[:][‘access_url’]]\n",
    "\n",
    "to get a table list of all images in a list of services that contain that point. \n",
    "\n",
    "The standardize() function would be a version of _astropy_table_from_votable_response.\n",
    "\n",
    "Or, like with the Cone search above, the user doesn't give a service but just asks for information on images matching whatever criteria:\n",
    "\n",
    "    heasarc_images_info = Image.query(coords, ‘0’, naxis=‘300,300’, service='heasarc')\n",
    "    uv_images_info = Image.query(coords, ‘0’, naxis=‘300,300’, waveband='uv')\n",
    "    2mass_images_info = Image.query(coords,‘0’, naxis=‘300,300’, keyword='2mass')\n"
   ]
  },
  {
   "cell_type": "markdown",
   "metadata": {},
   "source": [
    "## 7-8. Retrieving images\n",
    "\n",
    "You can look at the images_info and pick one to download:\n",
    "\n",
    "    Image.get( images_info[6], filename='my_file.fits')\n",
    "    \n",
    "or get the image data to hand to the plotter:\n",
    "\n",
    "    image=Image.get( images_info[6] )\n",
    "    plt.imshow( image,  cmap='gray', origin='lower',vmax=0.02 )\n",
    "    \n",
    "where it downloads it to filename if specified, or to a temporary filename if not and then reads it in and returns the image data if not.\n",
    "\n",
    "Or hand a list and return a list of images:\n",
    "\n",
    "    images=Image.get(images_info )\n",
    "    plt.imshow( images[0],  cmap='gray', origin='lower',vmax=0.02 )"
   ]
  },
  {
   "cell_type": "code",
   "execution_count": null,
   "metadata": {},
   "outputs": [],
   "source": [
    "class ImageClass(BaseQuery):\n",
    "    \n",
    "    def query(self, **kwargs):\n",
    "        \"\"\"Get information on what images are available\"\"\"\n",
    "        services=Registry.query(service_type='image',**kwargs)\n",
    "        # Like the Cone class above, collect results...\n",
    "        return \n",
    "    \n",
    "    def get(self, image_url , filename=''):\n",
    "        \"\"\"Returns the data that can be handed to plt.imshow() from a URL\n",
    "    \n",
    "        For now, input URL. But could just get a list of URLs or a \n",
    "        list of tables that have an 'access_url' column.\n",
    "        \"\"\"\n",
    "        if filename is '':\n",
    "            filename='tmp.fits'\n",
    "        self._download( image_url, filename=filename)\n",
    "        if filename == 'tmp.fits':\n",
    "            hdus=astropy.io.fits.open('tmp.fits')\n",
    "            # Which extension? TBD\n",
    "            return hdus[0].data\n",
    "        else:\n",
    "            return\n",
    "\n",
    "    def _download(self, url, filename=''):\n",
    "        # simple wrapper of urllib\n",
    "        return\n",
    "    \n",
    "#class SpectralClass(ImageClass)"
   ]
  },
  {
   "cell_type": "markdown",
   "metadata": {},
   "source": [
    "## 10. \n",
    "\n",
    "This is now easy:"
   ]
  },
  {
   "cell_type": "code",
   "execution_count": null,
   "metadata": {},
   "outputs": [],
   "source": [
    "services=Registry.query(service='cone',keyword='chandra')\n",
    "chandra_results=Cone.query(coords,10,services)\n",
    "len(chandra_results)"
   ]
  },
  {
   "cell_type": "code",
   "execution_count": null,
   "metadata": {},
   "outputs": [],
   "source": []
  },
  {
   "cell_type": "markdown",
   "metadata": {},
   "source": [
    "# 11. TAP\n",
    "\n",
    "This currently doesn't work but should be perfectly doable:\n",
    "\n",
    "    tap_services_2mass=Registry.query(keyword='2mass',service_type='table')\n",
    "    \n",
    "Look through the results, find the one you want, then assuming you know how to construct ADQL logic and you know the names of the columns in the catalog you're searching:\n",
    "\n",
    "    tap_results=Tap.query(\n",
    "        source=tap_services_2mass[32],\n",
    "        logic_string='CONTAINS(POINT('J2000',ra,dec),CIRCLE('J2000',9.90704,8.96507,0.001))'\n",
    "        )\n",
    "\n",
    "is the equivalent to a cone search, but you could do whatever you wanted. If you didn't know what TAP service you wanted, you probably couldn't do this (as above for images, where you can get image information from all services in the registry). The reason is that the TAP query would depend on the column names, and they are not common.\n",
    "\n",
    "On the other hand, since people have to know how to use ADQL and know the columns of the catalog they're interested in, it's not clear we can add much value with a wrapper."
   ]
  },
  {
   "cell_type": "code",
   "execution_count": null,
   "metadata": {},
   "outputs": [],
   "source": []
  },
  {
   "cell_type": "code",
   "execution_count": null,
   "metadata": {},
   "outputs": [],
   "source": []
  },
  {
   "cell_type": "code",
   "execution_count": null,
   "metadata": {},
   "outputs": [],
   "source": []
  }
 ],
 "metadata": {
  "kernelspec": {
   "display_name": "Python 3",
   "language": "python",
   "name": "python3"
  },
  "language_info": {
   "codemirror_mode": {
    "name": "ipython",
    "version": 3
   },
   "file_extension": ".py",
   "mimetype": "text/x-python",
   "name": "python",
   "nbconvert_exporter": "python",
   "pygments_lexer": "ipython3",
   "version": "3.6.5"
  }
 },
 "nbformat": 4,
 "nbformat_minor": 2
}
