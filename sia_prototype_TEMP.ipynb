{
 "cells": [
  {
   "cell_type": "markdown",
   "metadata": {},
   "source": [
    "## 4. Preparing to use image services...\n"
   ]
  },
  {
   "cell_type": "code",
   "execution_count": 1,
   "metadata": {},
   "outputs": [],
   "source": [
    "import matplotlib\n",
    "import matplotlib.pyplot as plt\n",
    "%matplotlib inline  \n",
    "import requests, io, astropy\n",
    "from IPython.display import Image, display\n",
    "\n",
    "## For handling ordinary astropy Tables\n",
    "from astropy.table import Table, vstack\n",
    "\n",
    "## For reading FITS files\n",
    "import astropy.io.fits as apfits\n",
    "\n",
    "## There are a number of relatively unimportant warnings that \n",
    "## show up, so for now, suppress them:\n",
    "import warnings\n",
    "warnings.filterwarnings(\"ignore\")\n",
    "\n",
    "## our stuff\n",
    "import sys\n",
    "# Use the NASA_NAVO/astroquery\n",
    "from navo_utils.cone import Cone\n",
    "from navo_utils.registry import Registry\n",
    "from navo_utils.registry import display_results\n",
    "from navo_utils.image import Image\n",
    "import astroquery"
   ]
  },
  {
   "cell_type": "markdown",
   "metadata": {},
   "source": [
    "First we need to know what registry services have the image data that we want. The Registry query function is useful here for picking out the \"image\" (SIA) service. Here, we define a shortcut to query the registry and output a list of the MAST data archives that contain ultraviolet wavelength data. However, you can easily select optical infrared, or any other wavelengths by modifying the \"waveband\" parameter or select irsa, heasarc, or leave the \"source\" field blank if you want other data archives. \n",
    "\n",
    "This step is like deciding which website to go to to access your image data. But this method will give you greater flexibility. If you know the access_url for your data, you can skip this step. "
   ]
  },
  {
   "cell_type": "code",
   "execution_count": 2,
   "metadata": {},
   "outputs": [],
   "source": [
    "##### THIS WORKS... but trying ImageClass method... \n",
    "#def list_image_services(**kwargs):\n",
    "#    return Registry.query(service_type=\"image\",**kwargs)\n",
    "#results=list_image_services(waveband=\"uv\", source=\"mast\") # THIS WORKS\n",
    "#\n",
    "#print('Found {} results:'.format(len(results)))\n",
    "#\n",
    "#print(results.columns)\n",
    "#ivoid=results[:]['ivoid']\n",
    "#url=results[:]['access_url']\n",
    "#\n",
    "# For visual reference:\n",
    "#for i in range(len(url)):\n",
    "#    print(i, ':', ivoid[i], '; ', url[i])\n",
    "#    \n",
    "##### NEW STUFF ### Streamlining... Don't need this step! \n",
    "\n"
   ]
  },
  {
   "cell_type": "markdown",
   "metadata": {},
   "source": [
    "## 5 SIA\n",
    "\n",
    "We find the relevant image data within catalogs containing image data. \n",
    "\n",
    "### 5.1 Using a specific data catalog to search for image data for a source\n",
    "Once you find which data archive contains data that you are interested in, you can find available image data from an SIA service using the access_url. \n",
    "\n",
    "For example, say that we know the CANDELS data is best for our purpose. This corresponds to the number 1. Here we show how you get a table with information about images within this data catalog for sources within 5 arcsec of the given ra,dec position. "
   ]
  },
  {
   "cell_type": "code",
   "execution_count": 3,
   "metadata": {},
   "outputs": [],
   "source": [
    "### NOTES: TROUBLE-SHOOTING in Progress... \n",
    "# 1. Works for example above: results=list_image_services(waveband=\"uv\", source=\"mast\")\n",
    "# 2. With X-ray: results=list_image_services(waveband=\"x-ray\", source=\"heasarc\"), choose #6 (chanmaster catalog) get following error:\n",
    "#   ERROR parsing response as astropy Table: looks like the content isn't the expected VO table XML? Returning an empty table. Look at its meta data to debug.\n",
    "#   <TableColumns names=()>\n",
    "#   Found 0 results:\n",
    "# 3. With IRSA: results=list_image_services(waveband=\"infrared\", source=\"irsa\") # THIS breaks things... \n",
    "#   Choose #49 (S-CANDELS) get same error as above: \n",
    "#   ERROR parsing response as astropy Table: looks like the content isn't the expected VO table XML? Returning an empty table. Look at its meta data to debug.\n",
    "#   <TableColumns names=()>\n",
    "#   Found 0 results:\n",
    "# Also Note: for \"waveband\" need to use \"infrared\" not \"IR\" -- how does a user know this?!\n",
    "# Think escape characters in url is screwing things up... e.g., \"&amp;\" \"%5C\", etc.  \n",
    "# Got this to work via brute force... \n",
    "# im_info=sia_query(access_url='https://irsa.ipac.caltech.edu/cgi-bin/Atlas/nph-atlas?mission=S-CANDELS&hdr_location=\\S-CANDELSDataPath\\&SIAP_ACTIVE=1&collection_desc=S-CANDELS&', ra='189.22917', dec='62.23830', size='.001')\n",
    "# print(im_info.columns)\n",
    "# print()\n",
    "# print('Found {} results:'.format(len(im_info)))\n",
    "# print()\n",
    "# for i in range(len(im_info)):\n",
    "#    print(im_info[i]['col1'],  im_info[i]['col2'], im_info[i]['col3'], im_info[i]['col4'])\n",
    "###### END NOTES: \n"
   ]
  },
  {
   "cell_type": "code",
   "execution_count": 4,
   "metadata": {},
   "outputs": [
    {
     "name": "stdout",
     "output_type": "stream",
     "text": [
      "http://archive.stsci.edu/siap/search.php?id=candels&amp;\n",
      "Found 1 services to query.\n",
      "    Querying service http://archive.stsci.edu/siap/search.php?id=candels&\n",
      "    Got 6 results for source number 0\n"
     ]
    }
   ],
   "source": [
    "### This works ... Moving on... \n",
    "#im_info=sia_query(access_url=results[1]['access_url'], ra='189.22917', dec='62.23830', size='.001') \n",
    "   \n",
    "    # For visual reference:\n",
    "#print(im_info.columns)\n",
    "#print()\n",
    "#print('Found {} results:'.format(len(im_info)))\n",
    "#print()\n",
    "#for i in range(len(im_info)):\n",
    "#  print(im_info[i]['ra_j2000'], im_info[i]['dec_j2000'],  im_info[i]['bandpass_id'], im_info[i]['url'])\n"
   ]
  },
  {
   "cell_type": "code",
   "execution_count": 7,
   "metadata": {},
   "outputs": [
    {
     "name": "stdout",
     "output_type": "stream",
     "text": [
      "http://archive.stsci.edu/siap/search.php?id=candels&amp;\n",
      "Found 1 services to query.\n",
      "    Querying service http://archive.stsci.edu/siap/search.php?id=candels&\n",
      "    Got 6 results for source number 0\n",
      "Found 1 services to query.\n",
      "    Querying service http://archive.stsci.edu/siap/search.php?id=candels&\n",
      "    Got 6 results for source number 0\n"
     ]
    }
   ],
   "source": [
    "############## USING NEW METHOD -- IMAGE CLASS #######\n",
    "results=Registry.query(service_type=\"image\",waveband=\"uv\", source=\"mast\")\n",
    "print('Found {} results:'.format(len(results)))\n",
    "\n",
    "print(results.columns)\n",
    "ivoid=results[:]['ivoid']\n",
    "url=results[:]['access_url']\n",
    "#\n",
    "# For visual reference:\n",
    "for i in range(len(url)):\n",
    "    print(i, ':', ivoid[i], '; ', url[i])\n",
    "print(results[1]['access_url'])\n",
    "im_info=Image.query(coords='189.22917,62.23830', inradius='.001', services=results[1])"
   ]
  },
  {
   "cell_type": "markdown",
   "metadata": {},
   "source": [
    "### 5.2 Searching for image data for a given source in all available catalogs\n",
    "Perhaps you don't know which catalog has the image that you want, so you get a table list for all images that contain your given source. \n",
    "\n",
    "The Image class was constructed to do this for you. The example below shows how to do this for all the services, still setting the waveband and data source fields, which one can easily modify to suit their specific example. \n",
    " <font color='red'>[THIS IS NOT WORKING... MIGHT BE BECAUSE OF SIMILAR ISSUE AS ABOVE!]</font> \n"
   ]
  },
  {
   "cell_type": "code",
   "execution_count": 5,
   "metadata": {},
   "outputs": [
    {
     "name": "stdout",
     "output_type": "stream",
     "text": [
      "Found 12 services to query.\n",
      "    Querying service https://irsa.ipac.caltech.edu/cgi-bin/Atlas/nph-atlas?mission=Scrapbook&hdr_location=%5CScrapbookDataPath%5C&collection_desc=The+MAST+Image%2FSpectra+Scrapbook+%28Scrapbook%29&SIAP_ACTIVE=1&\n",
      "    Got 240 results for source number 0\n",
      "    Querying service http://archive.stsci.edu/siap/search.php?id=candels&\n",
      "    Got 6 results for source number 0\n",
      "    Querying service http://archive.stsci.edu/siap/search.php?id=maoz_atlas&\n",
      "    (Got no results for source number 0)\n",
      "    Querying service http://archive.stsci.edu/siap/search.php?id=UIT&\n",
      "    (Got no results for source number 0)\n",
      "    Querying service http://archive.stsci.edu/stpr/vo_search.php?\n",
      "    (Got no results for source number 0)\n",
      "    Querying service http://archive.stsci.edu/siap/search.php?id=galex_atlas&\n",
      "    (Got no results for source number 0)\n",
      "    Querying service http://archive.stsci.edu/siap/search.php?id=udfuv&\n",
      "    (Got no results for source number 0)\n",
      "    Querying service http://archive.stsci.edu/siap/search.php?id=phat&\n",
      "    (Got no results for source number 0)\n",
      "    Querying service http://archive.stsci.edu/siap/search.php?id=clash&\n",
      "    (Got no results for source number 0)\n",
      "    Querying service http://archive.stsci.edu/siap/search.php?id=angrrr&\n",
      "    (Got no results for source number 0)\n",
      "    Querying service http://archive.stsci.edu/siap/search.php?id=acsggct&\n",
      "    (Got no results for source number 0)\n",
      "    Querying service http://archive.stsci.edu/siap/search.php?id=HIPPIES&\n",
      "    (Got no results for source number 0)\n"
     ]
    }
   ],
   "source": [
    "im_info=Image.query(coords='189.22917,62.23830', inradius='.001', waveband='uv', source='mast', max_services=20)\n",
    "### Will try to get only uv, etc, next ... "
   ]
  },
  {
   "cell_type": "markdown",
   "metadata": {},
   "source": [
    "## 6 Querying a list of sources\n",
    "\n",
    "We want to be able to give a list of sources and get back something useful  for matches/non-matches. The image query function can also handle lists of coordinates.   <font color='red'>[SHOW EXAMPLE HERE]</font> "
   ]
  },
  {
   "cell_type": "markdown",
   "metadata": {},
   "source": [
    "## 7-8. Retrieving images\n",
    "\n",
    "You can look at the images_info and pick one to download:\n",
    "\n",
    "    Image.get( images_info[6], filename='my_file.fits')\n",
    "    \n",
    "or get the image data to hand to the plotter:\n",
    "\n",
    "    image=Image.get( images_info[6] )\n",
    "    plt.imshow( image,  cmap='gray', origin='lower',vmax=0.02 )\n",
    "    \n",
    "where it downloads it to filename if specified, or to a temporary filename if not and then reads it in and returns the image data if not.\n",
    "\n",
    "Or hand a list and return a list of images:\n",
    "\n",
    "    images=Image.get(images_info )\n",
    "    plt.imshow( images[0],  cmap='gray', origin='lower',vmax=0.02 )\n",
    "    \n",
    "<font color='red'>[SHOW EXAMPLE HERE]</font> "
   ]
  },
  {
   "cell_type": "code",
   "execution_count": null,
   "metadata": {},
   "outputs": [],
   "source": []
  },
  {
   "cell_type": "code",
   "execution_count": null,
   "metadata": {},
   "outputs": [],
   "source": []
  },
  {
   "cell_type": "code",
   "execution_count": null,
   "metadata": {},
   "outputs": [],
   "source": []
  }
 ],
 "metadata": {
  "anaconda-cloud": {},
  "kernelspec": {
   "display_name": "Python 3",
   "language": "python",
   "name": "python3"
  },
  "language_info": {
   "codemirror_mode": {
    "name": "ipython",
    "version": 3
   },
   "file_extension": ".py",
   "mimetype": "text/x-python",
   "name": "python",
   "nbconvert_exporter": "python",
   "pygments_lexer": "ipython3",
   "version": "3.6.4"
  }
 },
 "nbformat": 4,
 "nbformat_minor": 2
}
