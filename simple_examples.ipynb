{
 "cells": [
  {
   "cell_type": "markdown",
   "metadata": {},
   "source": [
    "## Need to get navo_utils and workshop_utils"
   ]
  },
  {
   "cell_type": "code",
   "execution_count": 31,
   "metadata": {
    "collapsed": true
   },
   "outputs": [],
   "source": [
    "# Astropy and requests imports\n",
    "import urllib.parse\n",
    "from html import unescape\n",
    "import requests\n",
    "\n",
    "from astropy.coordinates import SkyCoord\n",
    "import astropy.io.fits as fits\n",
    "import astropy.units as u\n",
    "from astropy.table import Table\n",
    "\n",
    "# VO astroquery module\n",
    "from navo_utils.registry import Registry\n",
    "from navo_utils.image import Image, ImageColumn\n",
    "from navo_utils.spectra import Spectra, SpectraColumn\n",
    "from navo_utils.cone import Cone\n",
    "from navo_utils.tap import Tap\n",
    "from navo_utils.utils import astropy_table_from_votable_response\n",
    "\n",
    "# Utility functions used in the workshop.\n",
    "import workshop_utils.utils\n",
    "\n",
    "## Suppress unimportant warnings.\n",
    "import warnings\n",
    "warnings.filterwarnings(\"ignore\")\n",
    "\n",
    "##Make things print nicely\n",
    "import pprint"
   ]
  },
  {
   "cell_type": "markdown",
   "metadata": {},
   "source": [
    "## Find AllWISE catalogs available at IRSA"
   ]
  },
  {
   "cell_type": "code",
   "execution_count": 18,
   "metadata": {},
   "outputs": [
    {
     "data": {
      "text/html": [
       "&lt;Table masked=True length=5&gt;\n",
       "<table id=\"table4569345664\" class=\"table-striped table-bordered table-condensed\">\n",
       "<thead><tr><th>short_name</th><th>access_url</th></tr></thead>\n",
       "<thead><tr><th>str16</th><th>str62</th></tr></thead>\n",
       "<tr><td>AllWISE Metadata</td><td>https://irsa.ipac.caltech.edu/SCS?table=allwise_p3as_cdd&amp;amp;</td></tr>\n",
       "<tr><td>AllWISE Reject</td><td>https://irsa.ipac.caltech.edu/SCS?table=allwise_p3as_psr&amp;amp;</td></tr>\n",
       "<tr><td>AllWISE</td><td>https://irsa.ipac.caltech.edu/SCS?table=allwise_p3as_psd&amp;amp;</td></tr>\n",
       "<tr><td>AllWISE MEP</td><td>https://irsa.ipac.caltech.edu/SCS?table=allwise_p3as_mep&amp;amp;</td></tr>\n",
       "<tr><td>NEOWISE-R ST</td><td>https://irsa.ipac.caltech.edu/SCS?table=neowiser_p1bs_psd&amp;amp;</td></tr>\n",
       "</table>"
      ],
      "text/plain": [
       "<Table masked=True length=5>\n",
       "   short_name                              access_url                          \n",
       "     str16                                   str62                             \n",
       "---------------- --------------------------------------------------------------\n",
       "AllWISE Metadata  https://irsa.ipac.caltech.edu/SCS?table=allwise_p3as_cdd&amp;\n",
       "  AllWISE Reject  https://irsa.ipac.caltech.edu/SCS?table=allwise_p3as_psr&amp;\n",
       "         AllWISE  https://irsa.ipac.caltech.edu/SCS?table=allwise_p3as_psd&amp;\n",
       "     AllWISE MEP  https://irsa.ipac.caltech.edu/SCS?table=allwise_p3as_mep&amp;\n",
       "    NEOWISE-R ST https://irsa.ipac.caltech.edu/SCS?table=neowiser_p1bs_psd&amp;"
      ]
     },
     "execution_count": 18,
     "metadata": {},
     "output_type": "execute_result"
    }
   ],
   "source": [
    "allwise_cone_services = Registry.query(keyword='allwise', service_type='cone', source='irsa')\n",
    "allwise_cone_services.show_in_notebook()\n",
    "allwise_cone_services['short_name', 'access_url']"
   ]
  },
  {
   "cell_type": "markdown",
   "metadata": {},
   "source": [
    "## Get all AllWISE catalog entries within 0.1 deg of your search position"
   ]
  },
  {
   "cell_type": "code",
   "execution_count": 24,
   "metadata": {},
   "outputs": [
    {
     "data": {
      "text/plain": [
       "[<Table masked=True length=319>\n",
       "     designation          ra         dec      sigra   ... pm_qual  cat  load_id\n",
       "                         deg         deg       arcs   ...                      \n",
       "        str19          float64     float64   float64  ...   str2  int64  int64 \n",
       " ------------------- ----------- ----------- -------- ... ------- ----- -------\n",
       " J003939.51+085757.9   9.9146411   8.9661089   0.2781 ...             1    1011\n",
       " J003934.82+085727.2   9.8950940   8.9575573   0.4222 ...             1    1011\n",
       " J003923.58+090052.1   9.8482680   9.0144995   0.4133 ...             1    1011\n",
       " J003920.41+085355.5   9.8350624   8.8987516   0.5749 ...             1    1011\n",
       " J003916.74+085633.5   9.8197606   8.9426556   0.4497 ...             1    1011\n",
       " J003928.57+090012.7   9.8690550   9.0035282   0.2278 ...             1    1011\n",
       " J003946.93+085756.6   9.9455818   8.9657266   0.2767 ...             1    1011\n",
       " J003934.54+085429.2   9.8939429   8.9081126   0.1757 ...             1    1011\n",
       " J003938.33+090125.6   9.9097098   9.0237969   0.5299 ...             1    1011\n",
       "                 ...         ...         ...      ... ...     ...   ...     ...\n",
       " J003931.35+090040.2   9.8806251   9.0111825   0.4392 ...             1    1011\n",
       " J003947.09+085824.8   9.9462337   8.9735621   0.3167 ...             1    1011\n",
       " J003922.17+085415.4   9.8424151   8.9043003   0.4199 ...             1    1011\n",
       " J003934.07+085456.2   9.8919663   8.9156340   0.4158 ...             1    1011\n",
       " J003944.26+085436.6   9.9344257   8.9101798   0.5723 ...             1    1011\n",
       " J003937.91+085235.9   9.9079905   8.8766562   0.5183 ...             1    1011\n",
       " J003943.38+085317.5   9.9307530   8.8882179   0.0830 ...             1    1011\n",
       " J003952.58+085803.7   9.9691034   8.9677135   0.3718 ...             1    1014\n",
       " J003950.12+085821.5   9.9588671   8.9726616   0.1666 ...             1    1014\n",
       " J003952.94+085937.6   9.9706224   8.9938003   0.5684 ...             1    1014]"
      ]
     },
     "execution_count": 24,
     "metadata": {},
     "output_type": "execute_result"
    }
   ],
   "source": [
    "svc = 'https://irsa.ipac.caltech.edu/SCS?table=allwise_p3as_psd'\n",
    "ra = 9.90704\n",
    "dec = 8.96507\n",
    "position = SkyCoord(ra, dec, unit = 'deg')\n",
    "Sources = Cone.query(service=svc, coords=position, radius=0.1)\n",
    "Sources"
   ]
  },
  {
   "cell_type": "markdown",
   "metadata": {},
   "source": [
    "## Find images near your position"
   ]
  },
  {
   "cell_type": "code",
   "execution_count": 43,
   "metadata": {},
   "outputs": [
    {
     "data": {
      "text/html": [
       "&lt;ImageTable masked=True length=3&gt;\n",
       "<table id=\"table4568596320-176231\" class=\"table-striped table-bordered table-condensed\">\n",
       "<thead><tr><th>idx</th><th>sia_title</th><th>sia_url</th><th>sia_naxes</th><th>sia_fmt</th><th>sia_ra</th><th>sia_dec</th><th>sia_naxis</th><th>sia_crpix</th><th>sia_crval</th><th>sia_proj</th><th>sia_scale</th><th>sia_cd</th><th>sia_bp_id</th><th>sia_bp_ref</th><th>sia_bp_lo</th><th>sia_bp_hi</th><th>pers_art</th><th>glint_art</th><th>ordate</th><th>hemisphere</th><th>scanno</th><th>coaddno</th><th>ut_date</th><th>coadd_key</th><th>seesh</th><th>magzp</th><th>msnr10</th></tr></thead>\n",
       "<thead><tr><th></th><th></th><th></th><th></th><th></th><th>deg</th><th>deg</th><th></th><th>pix</th><th>deg</th><th></th><th>deg / pix</th><th>deg / pix</th><th></th><th></th><th></th><th></th><th></th><th></th><th></th><th></th><th></th><th></th><th></th><th></th><th>arcs</th><th></th><th></th></tr></thead>\n",
       "<tr><td>0</td><td>2MASS All-Sky Data Release K-Band Atlas Image: 000225 s 088 0080</td><td>https://irsa.ipac.caltech.edu/ibe/data/twomass/allsky/allsky/000225s/s088/image/ki0880080.fits.gz</td><td>2</td><td>image/fits</td><td>185.48134830000001</td><td>4.3938090040000004</td><td>[512 1024]</td><td>[256.5 512.5]</td><td>[185.4813483 4.393809004]</td><td>SIN</td><td>[-0.0002777777845 0.0002777777845]</td><td>[-0.000277775673673415 -1.08290212349349e-06 -1.08290212349349e-06\n",
       " 0.000277775673673415]</td><td>K</td><td>2.159e-06</td><td>1.8840000000000001e-06</td><td>2.4339999999999999e-06</td><td>https://irsa.ipac.caltech.edu/ibe/data/twomass/allsky/allsky/000225s/s088/pers.tbl</td><td>https://irsa.ipac.caltech.edu/ibe/data/twomass/allsky/allsky/000225s/s088/glint.tbl</td><td>000225</td><td>s</td><td>88</td><td>80</td><td>000225</td><td>1070542</td><td>1.0</td><td>19.8719997</td><td>14.614</td></tr>\n",
       "<tr><td>1</td><td>2MASS All-Sky Data Release J-Band Atlas Image: 000225 s 088 0080</td><td>https://irsa.ipac.caltech.edu/ibe/data/twomass/allsky/allsky/000225s/s088/image/ji0880080.fits.gz</td><td>2</td><td>image/fits</td><td>185.48134830000001</td><td>4.3938090040000004</td><td>[512 1024]</td><td>[256.5 512.5]</td><td>[185.4813483 4.393809004]</td><td>SIN</td><td>[-0.0002777777845 0.0002777777845]</td><td>[-0.000277775673673415 -1.08290212349349e-06 -1.08290212349349e-06\n",
       " 0.000277775673673415]</td><td>J</td><td>1.235e-06</td><td>1.066e-06</td><td>1.404e-06</td><td>https://irsa.ipac.caltech.edu/ibe/data/twomass/allsky/allsky/000225s/s088/pers.tbl</td><td>https://irsa.ipac.caltech.edu/ibe/data/twomass/allsky/allsky/000225s/s088/glint.tbl</td><td>000225</td><td>s</td><td>88</td><td>80</td><td>000225</td><td>1070542</td><td>0.99000001000000004</td><td>20.739700299999999</td><td>16.292</td></tr>\n",
       "<tr><td>2</td><td>2MASS All-Sky Data Release H-Band Atlas Image: 000225 s 088 0080</td><td>https://irsa.ipac.caltech.edu/ibe/data/twomass/allsky/allsky/000225s/s088/image/hi0880080.fits.gz</td><td>2</td><td>image/fits</td><td>185.48134830000001</td><td>4.3938090040000004</td><td>[512 1024]</td><td>[256.5 512.5]</td><td>[185.4813483 4.393809004]</td><td>SIN</td><td>[-0.0002777777845 0.0002777777845]</td><td>[-0.000277775673673415 -1.08290212349349e-06 -1.08290212349349e-06\n",
       " 0.000277775673673415]</td><td>H</td><td>1.6619999999999999e-06</td><td>1.3999999999999999e-06</td><td>1.9240000000000001e-06</td><td>https://irsa.ipac.caltech.edu/ibe/data/twomass/allsky/allsky/000225s/s088/pers.tbl</td><td>https://irsa.ipac.caltech.edu/ibe/data/twomass/allsky/allsky/000225s/s088/glint.tbl</td><td>000225</td><td>s</td><td>88</td><td>80</td><td>000225</td><td>1070542</td><td>0.94999998799999996</td><td>20.383899700000001</td><td>15.601</td></tr>\n",
       "</table><style>table.dataTable {clear: both; width: auto !important; margin: 0 !important;}\n",
       ".dataTables_info, .dataTables_length, .dataTables_filter, .dataTables_paginate{\n",
       "display: inline-block; margin-right: 1em; }\n",
       ".paginate_button { margin-right: 5px; }\n",
       "</style>\n",
       "<script>\n",
       "\n",
       "var astropy_sort_num = function(a, b) {\n",
       "    var a_num = parseFloat(a);\n",
       "    var b_num = parseFloat(b);\n",
       "\n",
       "    if (isNaN(a_num) && isNaN(b_num))\n",
       "        return ((a < b) ? -1 : ((a > b) ? 1 : 0));\n",
       "    else if (!isNaN(a_num) && !isNaN(b_num))\n",
       "        return ((a_num < b_num) ? -1 : ((a_num > b_num) ? 1 : 0));\n",
       "    else\n",
       "        return isNaN(a_num) ? -1 : 1;\n",
       "}\n",
       "\n",
       "require.config({paths: {\n",
       "    datatables: 'https://cdn.datatables.net/1.10.12/js/jquery.dataTables.min'\n",
       "}});\n",
       "require([\"datatables\"], function(){\n",
       "    console.log(\"$('#table4568596320-176231').dataTable()\");\n",
       "    \n",
       "jQuery.extend( jQuery.fn.dataTableExt.oSort, {\n",
       "    \"optionalnum-asc\": astropy_sort_num,\n",
       "    \"optionalnum-desc\": function (a,b) { return -astropy_sort_num(a, b); }\n",
       "});\n",
       "\n",
       "    $('#table4568596320-176231').dataTable({\n",
       "        order: [],\n",
       "        pageLength: 50,\n",
       "        lengthMenu: [[10, 25, 50, 100, 500, 1000, -1], [10, 25, 50, 100, 500, 1000, 'All']],\n",
       "        pagingType: \"full_numbers\",\n",
       "        columnDefs: [{targets: [0, 3, 5, 6, 14, 15, 16, 21, 22, 24, 25, 26, 27], type: \"optionalnum\"}]\n",
       "    });\n",
       "});\n",
       "</script>\n"
      ],
      "text/plain": [
       "<IPython.core.display.HTML object>"
      ]
     },
     "execution_count": 43,
     "metadata": {},
     "output_type": "execute_result"
    }
   ],
   "source": [
    "svc = 'http://irsa.ipac.caltech.edu/ibe/sia/twomass/allsky/allsky?' # get this info from registry\n",
    "cds = SkyCoord(185.47873, 4.47365, unit=u.deg) # from astropy.coordinates import SkyCoord\n",
    "images_for_each_position = Image.query(service=svc, coords=cds, radius=0) #radius=0: image contains point\n",
    "image_list = images_for_each_position[0]\n",
    "image_list.show_in_notebook()\n"
   ]
  },
  {
   "cell_type": "markdown",
   "metadata": {},
   "source": [
    "## Download image."
   ]
  },
  {
   "cell_type": "code",
   "execution_count": 48,
   "metadata": {
    "collapsed": true
   },
   "outputs": [],
   "source": [
    "url = 'https://irsa.ipac.caltech.edu/ibe/data/twomass/allsky/allsky/000225s/s088/image/ki0880080.fits.gz'\n",
    "out_file_path = workshop_utils.utils.download_file(url)"
   ]
  },
  {
   "cell_type": "markdown",
   "metadata": {},
   "source": [
    "## Search for a spectrum."
   ]
  },
  {
   "cell_type": "code",
   "execution_count": 62,
   "metadata": {},
   "outputs": [
    {
     "data": {
      "text/html": [
       "&lt;Table masked=True length=1&gt;\n",
       "<table id=\"table4718872392-798452\" class=\"table-striped table-bordered table-condensed\">\n",
       "<thead><tr><th>idx</th><th>waveband</th><th>short_name</th><th>ivoid</th><th>res_description</th><th>access_url</th><th>reference_url</th><th>publisher</th><th>service_type</th></tr></thead>\n",
       "<tr><td>0</td><td>x-ray</td><td>Chandra</td><td>ivo://nasa.heasarc/chanmaster</td><td>No Description Available</td><td>https://heasarc.gsfc.nasa.gov/xamin/vo/ssa?table=chanmaster&amp;amp;</td><td>https://heasarc.gsfc.nasa.gov/W3Browse/all/chanmaster.html</td><td>NASA/GSFC HEASARC</td><td>simplespectralaccess</td></tr>\n",
       "</table><style>table.dataTable {clear: both; width: auto !important; margin: 0 !important;}\n",
       ".dataTables_info, .dataTables_length, .dataTables_filter, .dataTables_paginate{\n",
       "display: inline-block; margin-right: 1em; }\n",
       ".paginate_button { margin-right: 5px; }\n",
       "</style>\n",
       "<script>\n",
       "\n",
       "var astropy_sort_num = function(a, b) {\n",
       "    var a_num = parseFloat(a);\n",
       "    var b_num = parseFloat(b);\n",
       "\n",
       "    if (isNaN(a_num) && isNaN(b_num))\n",
       "        return ((a < b) ? -1 : ((a > b) ? 1 : 0));\n",
       "    else if (!isNaN(a_num) && !isNaN(b_num))\n",
       "        return ((a_num < b_num) ? -1 : ((a_num > b_num) ? 1 : 0));\n",
       "    else\n",
       "        return isNaN(a_num) ? -1 : 1;\n",
       "}\n",
       "\n",
       "require.config({paths: {\n",
       "    datatables: 'https://cdn.datatables.net/1.10.12/js/jquery.dataTables.min'\n",
       "}});\n",
       "require([\"datatables\"], function(){\n",
       "    console.log(\"$('#table4718872392-798452').dataTable()\");\n",
       "    \n",
       "jQuery.extend( jQuery.fn.dataTableExt.oSort, {\n",
       "    \"optionalnum-asc\": astropy_sort_num,\n",
       "    \"optionalnum-desc\": function (a,b) { return -astropy_sort_num(a, b); }\n",
       "});\n",
       "\n",
       "    $('#table4718872392-798452').dataTable({\n",
       "        order: [],\n",
       "        pageLength: 50,\n",
       "        lengthMenu: [[10, 25, 50, 100, 500, 1000, -1], [10, 25, 50, 100, 500, 1000, 'All']],\n",
       "        pagingType: \"full_numbers\",\n",
       "        columnDefs: [{targets: [0], type: \"optionalnum\"}]\n",
       "    });\n",
       "});\n",
       "</script>\n"
      ],
      "text/plain": [
       "<IPython.core.display.HTML object>"
      ]
     },
     "execution_count": 62,
     "metadata": {},
     "output_type": "execute_result"
    }
   ],
   "source": [
    "spectral_services = Registry.query(service_type='spectr', source='heasarc', keyword='chanmaster')\n",
    "\n",
    "spectral_services.show_in_notebook()"
   ]
  },
  {
   "cell_type": "code",
   "execution_count": 66,
   "metadata": {},
   "outputs": [
    {
     "data": {
      "text/html": [
       "&lt;Row index=0 masked=True&gt;\n",
       "<table id=\"table4718872392\">\n",
       "<thead><tr><th>waveband</th><th>short_name</th><th>ivoid</th><th>res_description</th><th>access_url</th><th>reference_url</th><th>publisher</th><th>service_type</th></tr></thead>\n",
       "<thead><tr><th>str5</th><th>str7</th><th>str29</th><th>str24</th><th>str64</th><th>str58</th><th>str17</th><th>str20</th></tr></thead>\n",
       "<tr><td>x-ray</td><td>Chandra</td><td>ivo://nasa.heasarc/chanmaster</td><td>No Description Available</td><td>https://heasarc.gsfc.nasa.gov/xamin/vo/ssa?table=chanmaster&amp;amp;</td><td>https://heasarc.gsfc.nasa.gov/W3Browse/all/chanmaster.html</td><td>NASA/GSFC HEASARC</td><td>simplespectralaccess</td></tr>\n",
       "</table>"
      ],
      "text/plain": [
       "<Row index=0 masked=True>\n",
       "waveband short_name             ivoid                 res_description                                 access_url                                                  reference_url                            publisher         service_type    \n",
       "  str5      str7                str29                      str24                                        str64                                                         str58                                  str17              str20        \n",
       "-------- ---------- ----------------------------- ------------------------ ---------------------------------------------------------------- ---------------------------------------------------------- ----------------- --------------------\n",
       "   x-ray    Chandra ivo://nasa.heasarc/chanmaster No Description Available https://heasarc.gsfc.nasa.gov/xamin/vo/ssa?table=chanmaster&amp; https://heasarc.gsfc.nasa.gov/W3Browse/all/chanmaster.html NASA/GSFC HEASARC simplespectralaccess"
      ]
     },
     "execution_count": 66,
     "metadata": {},
     "output_type": "execute_result"
    }
   ],
   "source": [
    "svc = spectral_services[0]\n",
    "svc"
   ]
  },
  {
   "cell_type": "code",
   "execution_count": 67,
   "metadata": {},
   "outputs": [
    {
     "data": {
      "text/html": [
       "&lt;SpectraTable masked=True length=3&gt;\n",
       "<table id=\"table4569415072-982561\" class=\"table-striped table-bordered table-condensed\">\n",
       "<thead><tr><th>idx</th><th>obsid</th><th>status</th><th>name</th><th>ra</th><th>dec</th><th>time</th><th>detector</th><th>grating</th><th>exposure</th><th>type</th><th>pi</th><th>public_date</th><th>SSA_start_time</th><th>SSA_tmid</th><th>SSA_stop_time</th><th>SSA_duration</th><th>SSA_ra</th><th>SSA_dec</th><th>SSA_coord_obs</th><th>SSA_title</th><th>SSA_reference</th><th>SSA_datalength</th><th>SSA_datamodel</th><th>SSA_instrument</th><th>SSA_publisher</th><th>SSA_format</th><th>SSA_fov</th><th>SSA_wavelength_min</th><th>SSA_wavelength_max</th><th>SSA_bandwidth</th><th>SSA_bandpass</th></tr></thead>\n",
       "<thead><tr><th></th><th></th><th></th><th></th><th>deg</th><th>deg</th><th>mjd</th><th></th><th></th><th>s</th><th></th><th></th><th>mjd</th><th>mjd</th><th>mjd</th><th>mjd</th><th>s</th><th>deg</th><th>deg</th><th>deg</th><th></th><th></th><th></th><th></th><th></th><th></th><th></th><th>deg</th><th>meter</th><th>meter</th><th>meter</th><th>meter</th></tr></thead>\n",
       "<tr><td>0</td><td>17860</td><td>archived</td><td>M82 X-1</td><td>148.95917</td><td>69.67972</td><td>57639.729200000002</td><td>ACIS-S</td><td>HETG</td><td>51060</td><td>TOO</td><td>Walton</td><td>58010</td><td>57639.729200000002</td><td>57640.040393247451</td><td>57640.350814633915</td><td>51060.0</td><td>148.95917</td><td>69.679720000000003</td><td>--</td><td>acisf17860N002_pha2</td><td>https://heasarc.gsfc.nasa.gov/FTP/chandra/data/science/ao17/cat4/17860/primary/acisf17860N002_pha2.fits.gz</td><td>12.0</td><td>Spectrum-1.0</td><td>ACIS-S</td><td>HEASARC</td><td>application/fits</td><td>0.81103500403976259</td><td>1.2397999999999999e-10</td><td>6.1991999999999999e-09</td><td>6.0752199999999996e-09</td><td>3.16159e-09</td></tr>\n",
       "<tr><td>1</td><td>19791</td><td>archived</td><td>M82 X-1</td><td>148.95917</td><td>69.67972</td><td>57641.570200000002</td><td>ACIS-S</td><td>HETG</td><td>15310</td><td>TOO</td><td>Walton</td><td>58010</td><td>57641.570200000002</td><td>57641.668022753758</td><td>57641.765065583451</td><td>15310.0</td><td>148.95917</td><td>69.679720000000003</td><td>--</td><td>acisf19791N002_pha2</td><td>https://heasarc.gsfc.nasa.gov/FTP/chandra/data/science/ao17/cat4/19791/primary/acisf19791N002_pha2.fits.gz</td><td>12.0</td><td>Spectrum-1.0</td><td>ACIS-S</td><td>HEASARC</td><td>application/fits</td><td>0.81103500403976259</td><td>1.2397999999999999e-10</td><td>6.1991999999999999e-09</td><td>6.0752199999999996e-09</td><td>3.16159e-09</td></tr>\n",
       "<tr><td>2</td><td>19792</td><td>archived</td><td>M82 X-1</td><td>148.95917</td><td>69.67972</td><td>57642.353000000003</td><td>ACIS-S</td><td>HETG</td><td>32440</td><td>TOO</td><td>Walton</td><td>58010</td><td>57642.353000000003</td><td>57642.558369954859</td><td>57642.762945849187</td><td>32440.0</td><td>148.95917</td><td>69.679720000000003</td><td>--</td><td>acisf19792N002_pha2</td><td>https://heasarc.gsfc.nasa.gov/FTP/chandra/data/science/ao17/cat4/19792/primary/acisf19792N002_pha2.fits.gz</td><td>12.0</td><td>Spectrum-1.0</td><td>ACIS-S</td><td>HEASARC</td><td>application/fits</td><td>0.81103500403976259</td><td>1.2397999999999999e-10</td><td>6.1991999999999999e-09</td><td>6.0752199999999996e-09</td><td>3.16159e-09</td></tr>\n",
       "</table><style>table.dataTable {clear: both; width: auto !important; margin: 0 !important;}\n",
       ".dataTables_info, .dataTables_length, .dataTables_filter, .dataTables_paginate{\n",
       "display: inline-block; margin-right: 1em; }\n",
       ".paginate_button { margin-right: 5px; }\n",
       "</style>\n",
       "<script>\n",
       "\n",
       "var astropy_sort_num = function(a, b) {\n",
       "    var a_num = parseFloat(a);\n",
       "    var b_num = parseFloat(b);\n",
       "\n",
       "    if (isNaN(a_num) && isNaN(b_num))\n",
       "        return ((a < b) ? -1 : ((a > b) ? 1 : 0));\n",
       "    else if (!isNaN(a_num) && !isNaN(b_num))\n",
       "        return ((a_num < b_num) ? -1 : ((a_num > b_num) ? 1 : 0));\n",
       "    else\n",
       "        return isNaN(a_num) ? -1 : 1;\n",
       "}\n",
       "\n",
       "require.config({paths: {\n",
       "    datatables: 'https://cdn.datatables.net/1.10.12/js/jquery.dataTables.min'\n",
       "}});\n",
       "require([\"datatables\"], function(){\n",
       "    console.log(\"$('#table4569415072-982561').dataTable()\");\n",
       "    \n",
       "jQuery.extend( jQuery.fn.dataTableExt.oSort, {\n",
       "    \"optionalnum-asc\": astropy_sort_num,\n",
       "    \"optionalnum-desc\": function (a,b) { return -astropy_sort_num(a, b); }\n",
       "});\n",
       "\n",
       "    $('#table4569415072-982561').dataTable({\n",
       "        order: [],\n",
       "        pageLength: 50,\n",
       "        lengthMenu: [[10, 25, 50, 100, 500, 1000, -1], [10, 25, 50, 100, 500, 1000, 'All']],\n",
       "        pagingType: \"full_numbers\",\n",
       "        columnDefs: [{targets: [0, 4, 5, 6, 9, 12, 13, 14, 15, 16, 17, 18, 19, 27, 28, 29, 30, 31], type: \"optionalnum\"}]\n",
       "    });\n",
       "});\n",
       "</script>\n"
      ],
      "text/plain": [
       "<IPython.core.display.HTML object>"
      ]
     },
     "execution_count": 67,
     "metadata": {},
     "output_type": "execute_result"
    }
   ],
   "source": [
    "position = SkyCoord.from_name('m82')\n",
    "search_radius = 0.1 # degrees\n",
    "spectra_for_each_position = Spectra.query(coords = position, radius=search_radius, service = svc)\n",
    "spectra_for_one_position = spectra_for_each_position[0]\n",
    "spectra_for_one_position.show_in_notebook()"
   ]
  },
  {
   "cell_type": "code",
   "execution_count": 69,
   "metadata": {},
   "outputs": [
    {
     "data": {
      "text/html": [
       "&lt;MaskedColumn name=&apos;SSA_reference&apos; dtype=&apos;str106&apos; length=3&gt;\n",
       "<table>\n",
       "<tr><td>https://heasarc.gsfc.nasa.gov/FTP/chandra/data/science/ao17/cat4/17860/primary/acisf17860N002_pha2.fits.gz</td></tr>\n",
       "<tr><td>https://heasarc.gsfc.nasa.gov/FTP/chandra/data/science/ao17/cat4/19791/primary/acisf19791N002_pha2.fits.gz</td></tr>\n",
       "<tr><td>https://heasarc.gsfc.nasa.gov/FTP/chandra/data/science/ao17/cat4/19792/primary/acisf19792N002_pha2.fits.gz</td></tr>\n",
       "</table>"
      ],
      "text/plain": [
       "<MaskedColumn name='SSA_reference' dtype='str106' length=3>\n",
       "https://heasarc.gsfc.nasa.gov/FTP/chandra/data/science/ao17/cat4/17860/primary/acisf17860N002_pha2.fits.gz\n",
       "https://heasarc.gsfc.nasa.gov/FTP/chandra/data/science/ao17/cat4/19791/primary/acisf19791N002_pha2.fits.gz\n",
       "https://heasarc.gsfc.nasa.gov/FTP/chandra/data/science/ao17/cat4/19792/primary/acisf19792N002_pha2.fits.gz"
      ]
     },
     "execution_count": 69,
     "metadata": {},
     "output_type": "execute_result"
    }
   ],
   "source": [
    "spectra_for_one_position['SSA_reference']"
   ]
  },
  {
   "cell_type": "markdown",
   "metadata": {},
   "source": [
    "## Download Spectrum."
   ]
  },
  {
   "cell_type": "code",
   "execution_count": 72,
   "metadata": {
    "collapsed": true
   },
   "outputs": [],
   "source": [
    "url = spectra_for_one_position[0]['SSA_reference']\n",
    "out_file_path = workshop_utils.utils.download_file(url)"
   ]
  },
  {
   "cell_type": "code",
   "execution_count": null,
   "metadata": {
    "collapsed": true
   },
   "outputs": [],
   "source": []
  }
 ],
 "metadata": {
  "kernelspec": {
   "display_name": "Python 3",
   "language": "python",
   "name": "python3"
  },
  "language_info": {
   "codemirror_mode": {
    "name": "ipython",
    "version": 3
   },
   "file_extension": ".py",
   "mimetype": "text/x-python",
   "name": "python",
   "nbconvert_exporter": "python",
   "pygments_lexer": "ipython3",
   "version": "3.6.3"
  }
 },
 "nbformat": 4,
 "nbformat_minor": 2
}
