{
 "cells": [
  {
   "cell_type": "markdown",
   "metadata": {},
   "source": [
    "# Accessing data from NASA Astrophysics Archives Using Python"
   ]
  },
  {
   "cell_type": "markdown",
   "metadata": {},
   "source": [
    "NASA missions have collected a huge amount of data spanning a large range in wavelengths. These data are housed in four different archives: the [HEASARC](https://heasarc.gsfc.nasa.gov/), [MAST](https://archive.stsci.edu/), [IRSA](https://irsa.ipac.caltech.edu), [NED](https://ned.ipac.caltech.edu). However, different physical locations are not an obstacle for astronomers doing multiwavelength science projects that need to make use of data from different archives. The archives have been working together to make sure that you don’t need to know too much about *us* to assemble the data you need to get your research done. We’ve done this by standardizing the way that programs can access the data we house. Since Python is a very popular programming language, we are going to use it to show you how you can take advantage of this standardization to put together and analyze a multiwavelength data set. For this workshop, we are using a sample of interacting galaxies, and we will assemble a multiwavelength data set for it. You can generalize this example to much larger data sets of your own."
   ]
  },
  {
   "cell_type": "markdown",
   "metadata": {},
   "source": [
    "<a id='toc'></a>"
   ]
  },
  {
   "cell_type": "markdown",
   "metadata": {},
   "source": [
    "<h2>Table of Contents</h2>\n",
    "\n",
    "<a href='#availabledatasets'>1. Available Data Sets</a>\n",
    "\n",
    "<a href='#sample'>2. Sample of Interacting Galaxies</a>\n",
    "\n",
    "<a href = \"#ned\">3. Data Discovery -- NASA Extragalactic Database</a>\n",
    "\n",
    "<a href = \"#registry\">4. Data Discovery -- The Registry</a><BR>\n",
    "\n",
    "<a href = \"#registryheasarc\">4a. Search the registry for simple image access resources available from HEASARC</a><BR>\n",
    "\n",
    "<a href = \"#registryallwise\">4b. Search the registry for AllWISE</a><BR>\n",
    "\n",
    "<a href = \"#registrymultiwavelength\">4c. Define Base URLs for GALEX, AllWISE, and 2MASS.<BR>\n",
    "\n",
    "<a href = \"#simpleimageaccess\">5. Simple Image Access</a>\n",
    "\n",
    "<a href = \"#ucd\">6. Universal Common Descriptors (UCDs)</a>\n",
    "\n",
    "<a href = \"#fetch\">7. Retrieve the images that you found</a>\n",
    "\n",
    "<a href = \"#multiwavelengthsearch\">8. Search a list of data sets for images that cover a position on the sky</a><BR>\n",
    "\n",
    "<a href = \"#cutouts\">9. Make Cutouts</a><BR>\n",
    "\n",
    "<a href = \"#simpleconesearch\">10. Catalogs: Simple Cone Search</a><BR>\n",
    "\n",
    "<a href = \"#tableaccessprotocol\">11. Catalogs: Table Access Protocol</a><BR>\n",
    "\n",
    "<a href = \"#simplespectralaccess\">12. Simple Spectral Access</a><BR>\n"
   ]
  },
  {
   "cell_type": "markdown",
   "metadata": {},
   "source": [
    "<a id='availabledatasets'></a>"
   ]
  },
  {
   "cell_type": "markdown",
   "metadata": {},
   "source": [
    "## 1. Available Data Sets\n",
    "\n",
    "NASA Archives offer many publically available data sets over a large range in wavelengths. Below is a summary of what you can expect from each of the archives.\n",
    "\n",
    "The **NASA/IPAC Extragalactic Database (NED)** is a comprehensive multiwavelength database for extragalactic objects, providing a systematic, ongoing fusion of information integrated from hundreds of large sky surveys and over a hundred thousand research publications. The contents and services span the entire observed spectrum from gamma rays through radio frequencies. As new observations are published, they are crossidentified with previous data and integrated into a unified database to simplify queries and retrieval.The LEVEL 5 Knowledgebase enhances review articles\n",
    "in extragalactic astrophysics and cosmology with direct links from object names and graphical content to related database queries.\n",
    "\n",
    "The **High Energy Astrophysics Science Archive Research Center (HEASARC)** is the primary archive for high-energy astronomy orbital missions observing at extreme ultraviolet, X-ray and gamma-ray wavelengths. Several of these missions, including Chandra, Fermi and XMM-Newton, fall under NASA's Physics of the Cosmos (PCOS) theme, while others, such as NICER, NuSTAR and Swift, are part of NASA's Explorers program. Since its merger with the Legacy Archive for Microwave Background Data Analysis (LAMBDA) in 2008, the HEASARC's holdings also include data from space-based missions, balloons, and ground-based facilities, such as COBE, WMAP, ACT, etc., that have studied the relic cosmic microwave background (CMB).\n",
    "\n",
    "The **Mikulski Archive for Space Telescopes (MAST)** is a NASA-funded archive for a wide range of astronomical missions, primarily supporting space-based ultraviolet, optical and near-infrared telescopes. Best known as the archive for the Hubble Space Telescope (HST), MAST also archives data from other projects such as Kepler, GALEX, PanSTARRS, FUSE, and over 100 community-contributed collections of High-Level Science Products. Future missions will include the James Webb Space Telescope (JWST) and the Transiting Exoplanet Survey Satellite (TESS).\n",
    "\n",
    "The **NASA/IPAC Infrared Sciece Archive (IRSA)** is chartered to curate the science products of NASA's infrared and submillimeter missions, as well as data from related projects. These include data from pointed observatories such as Spitzer and Herschel, as well as large-area and all-sky surveys such as 2MASS, WISE, IRAS, Planck, and AKARI. In total, IRSA provides access to more than 20 billion astronomical measurements, including all-sky coverage in 24 bands. "
   ]
  },
  {
   "cell_type": "markdown",
   "metadata": {},
   "source": [
    "<a href = \"#toc\">Table of Contents</a>"
   ]
  },
  {
   "cell_type": "markdown",
   "metadata": {},
   "source": [
    "<a id='sample'></a>"
   ]
  },
  {
   "cell_type": "markdown",
   "metadata": {},
   "source": [
    "## 2. Science Sample for Today: Interacting Galaxies\n",
    "\n",
    "A HEASARC scientist is studying a sample of potentially interacting galaxies, and these will be the focus of our examples during this workshop. She has put the coordinates of these galaxies into a simple CSV file."
   ]
  },
  {
   "cell_type": "code",
   "execution_count": 223,
   "metadata": {},
   "outputs": [
    {
     "name": "stdout",
     "output_type": "stream",
     "text": [
      "   ra     dec  \n",
      "------- -------\n",
      "9.90704 8.96507\n",
      "19.0186 46.7304\n",
      "20.2887 40.4703\n",
      "125.886 21.3377\n",
      "136.002 21.9679\n",
      "141.057 40.6372\n",
      "  146.7 22.0116\n",
      "148.785 14.2922\n",
      "149.751 17.8168\n",
      "175.039  15.327\n",
      "    ...     ...\n",
      "241.519 20.8014\n",
      "317.088 18.2002\n",
      "329.235 6.64845\n",
      " 333.83 37.3012\n",
      "335.756 30.9249\n",
      "344.396 19.7827\n",
      "348.682 4.53407\n",
      " 350.39 27.1181\n",
      "350.438 9.07761\n",
      "357.827 20.5778\n",
      "0.36165 31.4334\n",
      "Length = 30 rows\n"
     ]
    }
   ],
   "source": [
    "from astropy.io import ascii\n",
    "list_of_galaxies = ascii.read('interacting_gals.csv', delimiter=',')  \n",
    "print(list_of_galaxies)     "
   ]
  },
  {
   "cell_type": "markdown",
   "metadata": {},
   "source": [
    "<a href = \"#toc\">Table of Contents</a>"
   ]
  },
  {
   "cell_type": "markdown",
   "metadata": {},
   "source": [
    "<a id='ned'></a>"
   ]
  },
  {
   "cell_type": "markdown",
   "metadata": {},
   "source": [
    "## 3. Data Discovery: NASA/IPAC Extragalactic Database (NED)\n",
    "\n",
    "A common first step in extragalactic studies is to search NED to see what is already in the literature about your sample. In this example, we are going to do a quick SED search to find out which missions cover most of these galaxies. This will give us on overview of what kinds of data we might be interested in exploring in more detail."
   ]
  },
  {
   "cell_type": "code",
   "execution_count": 224,
   "metadata": {
    "collapsed": true
   },
   "outputs": [],
   "source": [
    "## Suppress unimportant warnings.\n",
    "import warnings\n",
    "warnings.filterwarnings(\"ignore\")"
   ]
  },
  {
   "cell_type": "markdown",
   "metadata": {},
   "source": [
    "Add a simple concrete example doing a NED example. Querying NED for SED. Talk about how other queries that NED might have, and consider adding a VO query.\n",
    "\n",
    "Start with this simple cone search\n",
    "http://vao.stsci.edu/directory/getRecord.aspx?id=ivo://ned.ipac/Basic_Data_Near_Position"
   ]
  },
  {
   "cell_type": "code",
   "execution_count": 225,
   "metadata": {
    "scrolled": true
   },
   "outputs": [
    {
     "name": "stdout",
     "output_type": "stream",
     "text": [
      " \n",
      "0\n",
      "DataSpectralPassBand\n",
      "--------------------\n",
      "      FUV (GALEX) AB\n",
      "      FUV (GALEX) AB\n",
      "      NUV (GALEX) AB\n",
      "      NUV (GALEX) AB\n",
      "                 m_p\n",
      "             B (m_B)\n",
      "           B (m_B^0)\n",
      "                   I\n",
      "                   I\n",
      "  J_14arcsec (2MASS)\n",
      "                   J\n",
      "                   J\n",
      "                   H\n",
      "  H_14arcsec (2MASS)\n",
      "                   H\n",
      "                 K_s\n",
      "K_s_14arcsec (2MASS)\n",
      "                 K_s\n",
      " \n",
      "1\n",
      "DataSpectralPassBand\n",
      "--------------------\n",
      "                 m_p\n",
      "   V (Johnson) (OAN)\n",
      "   R (Cousins) (OAN)\n",
      "   I (Cousins) (OAN)\n",
      "                   J\n",
      "  J_14arcsec (2MASS)\n",
      "                   J\n",
      "  H_14arcsec (2MASS)\n",
      "                   H\n",
      "                   H\n",
      "K_s_14arcsec (2MASS)\n",
      "                 K_s\n",
      "                 K_s\n",
      "  4.5 microns (IRAC)\n",
      "  4.5 microns (IRAC)\n",
      "  5.8 microns (IRAC)\n",
      "  5.8 microns (IRAC)\n",
      "  8.0 microns (IRAC)\n",
      "  8.0 microns (IRAC)\n",
      "              1.4GHz\n",
      " \n",
      "2\n",
      "DataSpectralPassBand\n",
      "--------------------\n",
      "                 m_p\n",
      "                   J\n",
      "                   J\n",
      "  J_14arcsec (2MASS)\n",
      "                   H\n",
      "                   H\n",
      "  H_14arcsec (2MASS)\n",
      "                 K_s\n",
      "                 K_s\n",
      "K_s_14arcsec (2MASS)\n",
      "              1.4GHz\n",
      " \n",
      "3\n",
      "DataSpectralPassBand\n",
      "--------------------\n",
      "      FUV (GALEX) AB\n",
      "      FUV (GALEX) AB\n",
      "      NUV (GALEX) AB\n",
      "      NUV (GALEX) AB\n",
      "     u (SDSS PSF) AB\n",
      "   u (SDSS Model) AB\n",
      "  u (SDSS CModel) AB\n",
      "u (SDSS Petrosian)AB\n",
      "     u (SDSS PSF) AB\n",
      "  u (SDSS CModel) AB\n",
      "                 ...\n",
      "  3.6 microns (IRAC)\n",
      "  3.6 microns (IRAC)\n",
      "  4.5 microns (IRAC)\n",
      "  4.5 microns (IRAC)\n",
      "  5.8 microns (IRAC)\n",
      "  5.8 microns (IRAC)\n",
      "  8.0 microns (IRAC)\n",
      "  8.0 microns (IRAC)\n",
      "   24 microns (MIPS)\n",
      "   24 microns (MIPS)\n",
      "       1.4 GHz (VLA)\n",
      "Length = 68 rows\n",
      " \n",
      "4\n",
      "DataSpectralPassBand\n",
      "--------------------\n",
      "     u (SDSS PSF) AB\n",
      "             B (m_B)\n",
      "           B (m_B^0)\n",
      "                 m_p\n",
      "     g (SDSS PSF) AB\n",
      "     r (SDSS PSF) AB\n",
      "     i (SDSS PSF) AB\n",
      "                   I\n",
      "     z (SDSS PSF) AB\n",
      "                   J\n",
      "                 ...\n",
      "  H_14arcsec (2MASS)\n",
      "                 K_s\n",
      "                 K_s\n",
      "K_s_14arcsec (2MASS)\n",
      "   12 microns (IRAS)\n",
      "   25 microns (IRAS)\n",
      "   60 microns (IRAS)\n",
      "  100 microns (IRAS)\n",
      "            2380 MHz\n",
      "       1.4 GHz (VLA)\n",
      "              1.4GHz\n",
      "Length = 25 rows\n",
      " \n",
      "5\n",
      "DataSpectralPassBand\n",
      "--------------------\n",
      "      FUV (GALEX) AB\n",
      "      FUV (GALEX) AB\n",
      "      NUV (GALEX) AB\n",
      "      NUV (GALEX) AB\n",
      "     u (SDSS PSF) AB\n",
      "   u (SDSS Model) AB\n",
      "  u (SDSS CModel) AB\n",
      "u (SDSS Petrosian)AB\n",
      "     g (SDSS PSF) AB\n",
      "   g (SDSS Model) AB\n",
      "                 ...\n",
      "   z (SDSS Model) AB\n",
      "z (SDSS Petrosian)AB\n",
      "  J_14arcsec (2MASS)\n",
      "                   J\n",
      "                   J\n",
      "  H_14arcsec (2MASS)\n",
      "                   H\n",
      "                   H\n",
      "K_s_14arcsec (2MASS)\n",
      "                 K_s\n",
      "                 K_s\n",
      "Length = 34 rows\n",
      " \n",
      "6\n",
      "DataSpectralPassBand\n",
      "--------------------\n",
      "      FUV (GALEX) AB\n",
      "      FUV (GALEX) AB\n",
      "      NUV (GALEX) AB\n",
      "      NUV (GALEX) AB\n",
      " \n",
      "7\n",
      "DataSpectralPassBand\n",
      "--------------------\n",
      "     u (SDSS PSF) AB\n",
      "  u (SDSS CModel) AB\n",
      "   u (SDSS Model) AB\n",
      "     g (SDSS PSF) AB\n",
      "  g (SDSS CModel) AB\n",
      "   g (SDSS Model) AB\n",
      "  r (SDSS CModel) AB\n",
      "     r (SDSS PSF) AB\n",
      "   r (SDSS Model) AB\n",
      "     i (SDSS PSF) AB\n",
      "  i (SDSS CModel) AB\n",
      "   i (SDSS Model) AB\n",
      "     z (SDSS PSF) AB\n",
      "  z (SDSS CModel) AB\n",
      "   z (SDSS Model) AB\n",
      " \n",
      "8\n",
      "DataSpectralPassBand\n",
      "--------------------\n",
      "     u (SDSS PSF) AB\n",
      "  u (SDSS CModel) AB\n",
      "   u (SDSS Model) AB\n",
      "                 m_p\n",
      "     g (SDSS PSF) AB\n",
      "  g (SDSS CModel) AB\n",
      "   g (SDSS Model) AB\n",
      "     r (SDSS PSF) AB\n",
      "  r (SDSS CModel) AB\n",
      "   r (SDSS Model) AB\n",
      "                 ...\n",
      "                   J\n",
      "                   J\n",
      "  J_14arcsec (2MASS)\n",
      "                   H\n",
      "                   H\n",
      "  H_14arcsec (2MASS)\n",
      "                 K_s\n",
      "                 K_s\n",
      "K_s_14arcsec (2MASS)\n",
      "              1.4GHz\n",
      "       1.4 GHz (VLA)\n",
      "Length = 27 rows\n",
      " \n",
      "9\n",
      "DataSpectralPassBand\n",
      "--------------------\n",
      "     u (SDSS PSF) AB\n",
      "   u (SDSS Model) AB\n",
      "  u (SDSS CModel) AB\n",
      "u (SDSS Petrosian)AB\n",
      "     u (SDSS PSF) AB\n",
      "  u (SDSS CModel) AB\n",
      "   u (SDSS Model) AB\n",
      "                 m_p\n",
      "             B (m_B)\n",
      "           B (m_B^0)\n",
      "                 ...\n",
      "     z (SDSS PSF) AB\n",
      "   z (SDSS Model) AB\n",
      "                   J\n",
      "                   J\n",
      "  J_14arcsec (2MASS)\n",
      "  H_14arcsec (2MASS)\n",
      "                   H\n",
      "                   H\n",
      "K_s_14arcsec (2MASS)\n",
      "                 K_s\n",
      "                 K_s\n",
      "Length = 49 rows\n",
      " \n",
      "10\n",
      "DataSpectralPassBand\n",
      "--------------------\n",
      "  2-10 keV (Chandra)\n",
      "  2-10 keV (Chandra)\n",
      " 0.5-2 keV (Chandra)\n",
      "      FUV (GALEX) AB\n",
      "      FUV (GALEX) AB\n",
      "      FUV (GALEX) AB\n",
      "     UVW2 (Swift) AB\n",
      "     UVW2 (Swift) AB\n",
      "      NUV (GALEX) AB\n",
      "     UVM2 (Swift) AB\n",
      "                 ...\n",
      "  22 microns WISE AB\n",
      "  22 microns WISE AB\n",
      "  24 microns MIPS AB\n",
      "  24 microns MIPS AB\n",
      "   24 microns (MIPS)\n",
      "   24 microns (MIPS)\n",
      "            2380 MHz\n",
      "              1.4GHz\n",
      "              1.4GHz\n",
      "              1.4GHz\n",
      "       1.4 GHz (VLA)\n",
      "Length = 99 rows\n",
      " \n",
      "11\n",
      "DataSpectralPassBand\n",
      "--------------------\n",
      "      FUV (GALEX) AB\n",
      "      FUV (GALEX) AB\n",
      "      FUV (GALEX) AB\n",
      "      FUV (GALEX) AB\n",
      "      NUV (GALEX) AB\n",
      "      NUV (GALEX) AB\n",
      "      NUV (GALEX) AB\n",
      "      NUV (GALEX) AB\n",
      "     u (SDSS PSF) AB\n",
      "   u (SDSS Model) AB\n",
      "                 ...\n",
      "                   J\n",
      "  H_14arcsec (2MASS)\n",
      "                   H\n",
      "                   H\n",
      "K_s_14arcsec (2MASS)\n",
      "                 K_s\n",
      "                 K_s\n",
      "   24 microns (MIPS)\n",
      "   24 microns (MIPS)\n",
      "              1.4GHz\n",
      "              1.4GHz\n",
      "Length = 63 rows\n",
      " \n",
      "12\n",
      "DataSpectralPassBand\n",
      "--------------------\n",
      "      FUV (GALEX) AB\n",
      "      FUV (GALEX) AB\n",
      "      FUV (GALEX) AB\n",
      "      FUV (GALEX) AB\n",
      "      NUV (GALEX) AB\n",
      "      NUV (GALEX) AB\n",
      "      NUV (GALEX) AB\n",
      "      NUV (GALEX) AB\n",
      " \n",
      "13\n",
      "DataSpectralPassBand\n",
      "--------------------\n",
      "     u (SDSS PSF) AB\n",
      "   u (SDSS Model) AB\n",
      "  u (SDSS CModel) AB\n",
      "u (SDSS Petrosian)AB\n",
      "     u (SDSS PSF) AB\n",
      "  u (SDSS CModel) AB\n",
      "   u (SDSS Model) AB\n",
      "             U (U_T)\n",
      "           U (U_T^0)\n",
      "                 m_p\n",
      "                 ...\n",
      "                 K_s\n",
      "  3.6 microns (IRAC)\n",
      "  3.6 microns (IRAC)\n",
      "  4.5 microns (IRAC)\n",
      "  4.5 microns (IRAC)\n",
      "  5.8 microns (IRAC)\n",
      "  5.8 microns (IRAC)\n",
      "  8.0 microns (IRAC)\n",
      "  8.0 microns (IRAC)\n",
      "   24 microns (MIPS)\n",
      "   24 microns (MIPS)\n",
      "Length = 66 rows\n",
      " \n",
      "14\n",
      "DataSpectralPassBand\n",
      "--------------------\n",
      "     u (SDSS PSF) AB\n",
      "   u (SDSS Model) AB\n",
      "  u (SDSS CModel) AB\n",
      "u (SDSS Petrosian)AB\n",
      "             B (m_B)\n",
      "           B (m_B^0)\n",
      "                 m_p\n",
      "     g (SDSS PSF) AB\n",
      "   g (SDSS Model) AB\n",
      "  g (SDSS CModel) AB\n",
      "                 ...\n",
      "         F_K (total)\n",
      "         K (ESO/SPM)\n",
      "   12 microns (IRAS)\n",
      "   25 microns (IRAS)\n",
      "   60 microns (IRAS)\n",
      "  100 microns (IRAS)\n",
      "       1.4 GHz (ATA)\n",
      "       1.4 GHz (VLA)\n",
      "              1.4GHz\n",
      "              1.4GHz\n",
      "              1.4GHz\n",
      "Length = 40 rows\n",
      " \n",
      "15\n",
      "DataSpectralPassBand\n",
      "--------------------\n",
      "     u (SDSS PSF) AB\n",
      "  u (SDSS CModel) AB\n",
      "   u (SDSS Model) AB\n",
      "                 m_p\n",
      "             B (m_B)\n",
      "           B (m_B^0)\n",
      "     g (SDSS PSF) AB\n",
      "  g (SDSS CModel) AB\n",
      "   g (SDSS Model) AB\n",
      "     r (SDSS PSF) AB\n",
      "                 ...\n",
      "  J_14arcsec (2MASS)\n",
      "                   J\n",
      "                   H\n",
      "                   H\n",
      "  H_14arcsec (2MASS)\n",
      "                 K_s\n",
      "                 K_s\n",
      "K_s_14arcsec (2MASS)\n",
      "            2380 MHz\n",
      "              1.4GHz\n",
      "       1.4 GHz (VLA)\n",
      "Length = 30 rows\n",
      " \n",
      "16\n",
      "DataSpectralPassBand\n",
      "--------------------\n",
      "     u (SDSS PSF) AB\n",
      "   u (SDSS Model) AB\n",
      "  u (SDSS CModel) AB\n",
      "u (SDSS Petrosian)AB\n",
      "             B (m_B)\n",
      "           B (m_B^0)\n",
      "                 m_p\n",
      " B (Johnson) Burrell\n",
      "     g (SDSS PSF) AB\n",
      "   g (SDSS Model) AB\n",
      "                 ...\n",
      "  J_14arcsec (2MASS)\n",
      "  H_14arcsec (2MASS)\n",
      "                   H\n",
      "                   H\n",
      "K_s_14arcsec (2MASS)\n",
      "                 K_s\n",
      "                 K_s\n",
      "   25 microns (IRAS)\n",
      "   60 microns (IRAS)\n",
      "              1.4GHz\n",
      "       1.4 GHz (VLA)\n",
      "Length = 38 rows\n",
      " \n",
      "17\n",
      "DataSpectralPassBand\n",
      "--------------------\n",
      "     u (SDSS PSF) AB\n",
      "  u (SDSS CModel) AB\n",
      "   u (SDSS Model) AB\n",
      "                 m_p\n",
      "     g (SDSS PSF) AB\n",
      "  g (SDSS CModel) AB\n",
      "   g (SDSS Model) AB\n",
      "     r (SDSS PSF) AB\n",
      "  r (SDSS CModel) AB\n",
      "   r (SDSS Model) AB\n",
      "                 ...\n",
      "   z (SDSS Model) AB\n",
      "                   J\n",
      "                   J\n",
      "  J_14arcsec (2MASS)\n",
      "                   H\n",
      "                   H\n",
      "  H_14arcsec (2MASS)\n",
      "K_s_14arcsec (2MASS)\n",
      "                 K_s\n",
      "                 K_s\n",
      "              1.4GHz\n",
      "Length = 26 rows\n",
      " \n",
      "18\n",
      "DataSpectralPassBand\n",
      "--------------------\n",
      "     u (SDSS PSF) AB\n",
      "  u (SDSS CModel) AB\n",
      "   u (SDSS Model) AB\n",
      "     g (SDSS PSF) AB\n",
      "  g (SDSS CModel) AB\n",
      "   g (SDSS Model) AB\n",
      "     r (SDSS PSF) AB\n",
      "  r (SDSS CModel) AB\n",
      "   r (SDSS Model) AB\n",
      "     i (SDSS PSF) AB\n",
      "                 ...\n",
      "   z (SDSS Model) AB\n",
      "  J_14arcsec (2MASS)\n",
      "                   J\n",
      "                   J\n",
      "                   H\n",
      "                   H\n",
      "  H_14arcsec (2MASS)\n",
      "                 K_s\n",
      "                 K_s\n",
      "K_s_14arcsec (2MASS)\n",
      "       1.4 GHz (VLA)\n",
      "Length = 25 rows\n",
      " \n",
      "19\n"
     ]
    },
    {
     "name": "stdout",
     "output_type": "stream",
     "text": [
      "DataSpectralPassBand\n",
      "--------------------\n",
      "      FUV (GALEX) AB\n",
      "      FUV (GALEX) AB\n",
      "      NUV (GALEX) AB\n",
      "      NUV (GALEX) AB\n",
      "      NUV (GALEX) AB\n",
      "      NUV (GALEX) AB\n",
      " \n",
      "20\n",
      "DataSpectralPassBand\n",
      "--------------------\n",
      "      FUV (GALEX) AB\n",
      "      NUV (GALEX) AB\n",
      "      NUV (GALEX) AB\n",
      " \n",
      "21\n",
      "DataSpectralPassBand\n",
      "--------------------\n",
      "                J_pg\n",
      "                F_pg\n",
      "                   J\n",
      "  J_14arcsec (2MASS)\n",
      "                   J\n",
      "  H_14arcsec (2MASS)\n",
      "                   H\n",
      "                   H\n",
      "K_s_14arcsec (2MASS)\n",
      "                 K_s\n",
      "                 K_s\n",
      " \n",
      "22\n",
      "DataSpectralPassBand\n",
      "--------------------\n",
      "                 m_p\n",
      "                   J\n",
      "                   J\n",
      "  J_14arcsec (2MASS)\n",
      "                   H\n",
      "                   H\n",
      "  H_14arcsec (2MASS)\n",
      "                 K_s\n",
      "                 K_s\n",
      "K_s_14arcsec (2MASS)\n",
      "   60 microns (IRAS)\n",
      "  100 microns (IRAS)\n",
      " \n",
      "23\n",
      "DataSpectralPassBand\n",
      "--------------------\n",
      "                   J\n",
      "                   J\n",
      "  J_14arcsec (2MASS)\n",
      "                   H\n",
      "                   H\n",
      "  H_14arcsec (2MASS)\n",
      "                 K_s\n",
      "                 K_s\n",
      "K_s_14arcsec (2MASS)\n",
      "              1.4GHz\n",
      "       1.4 GHz (VLA)\n",
      " \n",
      "24\n",
      "DataSpectralPassBand\n",
      "--------------------\n",
      "      FUV (GALEX) AB\n",
      "      FUV (GALEX) AB\n",
      "      FUV (GALEX) AB\n",
      "      FUV (GALEX) AB\n",
      "      NUV (GALEX) AB\n",
      "      NUV (GALEX) AB\n",
      "      NUV (GALEX) AB\n",
      "      NUV (GALEX) AB\n",
      "                   J\n",
      "  J_14arcsec (2MASS)\n",
      "                 ...\n",
      "K_s_14arcsec (2MASS)\n",
      "  3.6 microns (IRAC)\n",
      "  3.6 microns (IRAC)\n",
      "  4.5 microns (IRAC)\n",
      "  4.5 microns (IRAC)\n",
      "  5.8 microns (IRAC)\n",
      "  5.8 microns (IRAC)\n",
      "  8.0 microns (IRAC)\n",
      "  8.0 microns (IRAC)\n",
      "   24 microns (MIPS)\n",
      "   24 microns (MIPS)\n",
      "Length = 27 rows\n",
      " \n",
      "25\n",
      "DataSpectralPassBand\n",
      "--------------------\n",
      " 0.3-8 keV (Chandra)\n",
      " \n",
      "26\n",
      "DataSpectralPassBand\n",
      "--------------------\n",
      "      FUV (GALEX) AB\n",
      "      FUV (GALEX) AB\n",
      "      NUV (GALEX) AB\n",
      "      NUV (GALEX) AB\n",
      "                 m_p\n",
      "             B (m_B)\n",
      "           B (m_B^0)\n",
      "                   I\n",
      "                   I\n",
      "  J_14arcsec (2MASS)\n",
      "                   J\n",
      "                   J\n",
      "                   H\n",
      "  H_14arcsec (2MASS)\n",
      "                   H\n",
      "                 K_s\n",
      "K_s_14arcsec (2MASS)\n",
      "                 K_s\n",
      " \n",
      "27\n",
      "DataSpectralPassBand\n",
      "--------------------\n",
      "             U (U_T)\n",
      "           U (U_T^0)\n",
      "             B (B_T)\n",
      "             B (m_B)\n",
      "           B (B_T^0)\n",
      "                 m_p\n",
      "         V (Johnson)\n",
      "             V (V_T)\n",
      "           V (V_T^0)\n",
      "         R (Johnson)\n",
      " \n",
      "28\n",
      "DataSpectralPassBand\n",
      "--------------------\n",
      "      FUV (GALEX) AB\n",
      "      FUV (GALEX) AB\n",
      "      FUV (GALEX) AB\n",
      "      FUV (GALEX) AB\n",
      "      NUV (GALEX) AB\n",
      "      NUV (GALEX) AB\n",
      "      NUV (GALEX) AB\n",
      "      NUV (GALEX) AB\n",
      "           U (U_T^0)\n",
      "             U (U_T)\n",
      "                 ...\n",
      "  3.6 microns (IRAC)\n",
      "  3.6 microns (IRAC)\n",
      "  4.5 microns (IRAC)\n",
      "  4.5 microns (IRAC)\n",
      "  5.8 microns (IRAC)\n",
      "  5.8 microns (IRAC)\n",
      "  8.0 microns (IRAC)\n",
      "  8.0 microns (IRAC)\n",
      "   24 microns (MIPS)\n",
      "   24 microns (MIPS)\n",
      "       1.4 GHz (VLA)\n",
      "Length = 35 rows\n",
      " \n",
      "29\n",
      "DataSpectralPassBand\n",
      "--------------------\n",
      "      FUV (GALEX) AB\n",
      "      FUV (GALEX) AB\n",
      "      NUV (GALEX) AB\n",
      "      NUV (GALEX) AB\n",
      "      NUV (GALEX) AB\n",
      "           U (U_T^0)\n",
      "             U (U_T)\n",
      "                 m_p\n",
      "             B (B_T)\n",
      "             B (m_B)\n",
      "                 ...\n",
      "         R (Johnson)\n",
      "  J_14arcsec (2MASS)\n",
      "                   J\n",
      "                   J\n",
      "                   H\n",
      "                   H\n",
      "  H_14arcsec (2MASS)\n",
      "                 K_s\n",
      "K_s_14arcsec (2MASS)\n",
      "                 K_s\n",
      "            2380 MHz\n",
      "Length = 29 rows\n"
     ]
    }
   ],
   "source": [
    "#Import necessary Python modules.\n",
    "import io\n",
    "import requests\n",
    "from astropy.table import Table\n",
    "import urllib.parse\n",
    "\n",
    "#Most queries start with a Base URL that you append your query parameters to.\n",
    "ned_base_url = 'http://vo.ned.ipac.caltech.edu'\n",
    "ned_sed_query_path = '/services/querySED?REQUEST=queryData'\n",
    "\n",
    "#Create a string that contains the search radius you want. Let's do 5 arcsec\n",
    "search_radius = str(5.0 / 3600.0)\n",
    "\n",
    "#For each galaxy in our sample,\n",
    "i = 0\n",
    "for galaxies in list_of_galaxies:\n",
    "    print(' ')\n",
    "    print(i)\n",
    "    \n",
    "    #Create a string that contains position information.\n",
    "    position = str(galaxies['ra'])+','+str(galaxies['dec'])\n",
    "    \n",
    "    #Now string the URL together with the position and size parameters. Each paramter is \n",
    "    #separated by an ampersand.\n",
    "    ned_objects_url = ned_base_url+ned_sed_query_path+'&POS='+position+'&SIZE='+search_radius\n",
    "    \n",
    "    #Send the URL as a request to NED, and capture the response.\n",
    "    ned_objects_response = requests.get(ned_objects_url)\n",
    "    \n",
    "    #If the response is OK,\n",
    "    if ned_objects_response.status_code == 200:\n",
    "        \n",
    "        #Put the table that is returned from NED into an astropy table.\n",
    "        ned_objects_table = Table.read(io.BytesIO(ned_objects_response.content))\n",
    "        \n",
    "        #Extract the Access URL in the response, removing special characters.\n",
    "        ned_targetname_url = ned_base_url+urllib.parse.quote(ned_objects_table[0]['ACREF'], safe = '/,&,?,=')\n",
    "\n",
    "        #Retrieve the SED using the Access URL, put it into an Astropy table,\n",
    "        #And print the passbands in the SED.\n",
    "        if len(ned_objects_table) > 0: \n",
    "            ned_data_response = requests.get(ned_targetname_url)\n",
    "            if ned_data_response.status_code == 200:\n",
    "                ned_data_table = Table.read(io.BytesIO(ned_data_response.content))\n",
    "                print(ned_data_table['DataSpectralPassBand'])\n",
    "                \n",
    "                \n",
    "                \n",
    "    i = i + 1\n"
   ]
  },
  {
   "cell_type": "markdown",
   "metadata": {},
   "source": [
    "By perusing the above, we can see that there are several data sets that crop up again and again. For the sake of this workshop, we will concentrate on GALEX, WISE, and 2MASS."
   ]
  },
  {
   "cell_type": "markdown",
   "metadata": {},
   "source": [
    "<a href = \"#toc\">Table of Contents</a>"
   ]
  },
  {
   "cell_type": "markdown",
   "metadata": {},
   "source": [
    "<a id='registry'></a>"
   ]
  },
  {
   "cell_type": "markdown",
   "metadata": {},
   "source": [
    "## 4. Data Discovery -- The Registry\n",
    "\n",
    "Archives register their data sets so that programs can discover them:\n",
    "http://vao.stsci.edu/keyword-search/\n",
    "\n",
    "The link above is a GUI, so you can play around with it. There is also an applications program interface (API) to this service, so that programs can send queries and retrieve search results automatically."
   ]
  },
  {
   "cell_type": "markdown",
   "metadata": {},
   "source": [
    "<a id='registryheasarc'></a>"
   ]
  },
  {
   "cell_type": "markdown",
   "metadata": {},
   "source": [
    "### 4a. Find all simple image access data sets from HEASARC."
   ]
  },
  {
   "cell_type": "code",
   "execution_count": 228,
   "metadata": {},
   "outputs": [
    {
     "data": {
      "text/markdown": [
       "### 1420MHz (ivo://nasa.heasarc/skyview/1420mhz)"
      ],
      "text/plain": [
       "<IPython.core.display.Markdown object>"
      ]
     },
     "metadata": {},
     "output_type": "display_data"
    },
    {
     "name": "stdout",
     "output_type": "stream",
     "text": [
      "This survey was taken with the Bonn Stockert 25m telescope. It was distributed on the NRAO &amp;lt;i&amp;gt;Images from the Radio Sky&amp;lt;/i&amp;gt; CD-ROM. This image was delivered as a four map mosaic but was combined into a single map before being included in &amp;lt;i&amp;gt;SkyView&amp;lt;/i&amp;gt;.\n",
      "More info: https://skyview.gsfc.nasa.gov\n",
      "Access URL: https://skyview.gsfc.nasa.gov/cgi-bin/vo/sia.pl?survey=1420mhz&amp;\n"
     ]
    },
    {
     "data": {
      "text/markdown": [
       "### 2MASS (ivo://nasa.heasarc/skyview/2mass)"
      ],
      "text/plain": [
       "<IPython.core.display.Markdown object>"
      ]
     },
     "metadata": {},
     "output_type": "display_data"
    },
    {
     "name": "stdout",
     "output_type": "stream",
     "text": [
      "2MASS data were collected by uniformly scanning the entire sky in three near-infrared bands to detect and characterize point sources brighter than ab2mass\\.xml\\.out 1 mJy in each band, with signal-to-noise ratio (SNR) greater than 10, using a pixel size of 2.0\". This achieves an 80,000-fold improvement in sensitivity relative to earlier surveys. 2MASS used two new, highly-automated 1.3-m telescopes, one at Mt. Hopkins, AZ, and one at CTIO, Chile. Each telescope is equipped with a three-channel camera, each channel consisting of a 256 by 256 array of HgCdTe detectors, capable of observing the sky simultaneously at J (1.25 microns), H (1.65 microns), and K&amp;lt;sub&amp;gt;s&amp;lt;/sub&amp;gt; (2.17 microns). &amp;lt;p&amp;gt;2MASS images and other data products can be obtained at the &amp;lt;a href=\"http://irsa.ipac.caltech.edu/applications/2MASS/QL/\"&amp;gt;NASA/IPAC Infrared Science Archive&amp;lt;/a&amp;gt;\n",
      "More info: https://skyview.gsfc.nasa.gov\n",
      "Access URL: https://skyview.gsfc.nasa.gov/cgi-bin/vo/sia.pl?survey=2mass&amp;\n"
     ]
    },
    {
     "data": {
      "text/markdown": [
       "### 408MHz (ivo://nasa.heasarc/skyview/408mhz)"
      ],
      "text/plain": [
       "<IPython.core.display.Markdown object>"
      ]
     },
     "metadata": {},
     "output_type": "display_data"
    },
    {
     "name": "stdout",
     "output_type": "stream",
     "text": [
      "This survey is a mosaic of data taken at Jodrell Bank, Effelsberg and Parkes telescopes. The data was distributed in the NRAO &amp;lt;i&amp;gt;Images from the Radio Sky&amp;lt;/i&amp;gt; CD ROM.\n",
      "More info: https://skyview.gsfc.nasa.gov\n",
      "Access URL: https://skyview.gsfc.nasa.gov/cgi-bin/vo/sia.pl?survey=408mhz&amp;\n"
     ]
    },
    {
     "data": {
      "text/markdown": [
       "### AKARI (ivo://nasa.heasarc/skyview/akari)"
      ],
      "text/plain": [
       "<IPython.core.display.Markdown object>"
      ]
     },
     "metadata": {},
     "output_type": "display_data"
    },
    {
     "name": "stdout",
     "output_type": "stream",
     "text": [
      "The AKARI (formerly Astro-F) mission is a Japanese second generation all-sky infrared survey mission. SkyView currently includes surveys from the four bands of the FIS instrument: N60, WIDE-S, WIDE-L and N160. &amp;lt;p&amp;gt; These surveys cover 99% of the sky in four photometric bands centred at 65µm, 90µm, 140µm, and 160µm, with spatial resolutions ranging from 1-1.5'. &amp;lt;p&amp;gt; These data provide crucial information on the investigation and characterisation of the proper- ties of dusty material in the interstellar medium (ISM), since a significant portion of its energy is emitted between ~50 and 200 µm. The large-scale distribution of interstellar clouds, their thermal dust temperatures, and their column densities can be investigated with the improved spatial resolution compared to earlier all-sky survey observations. In addition to the point source distribution, the large-scale distribution of ISM cirrus emis- sion, and its filamentary structure, are well traced. &amp;lt;p&amp;gt; Data are obtained using using the &amp;lt;a href=http://jvo.nao.ac.jp/index-e.html&amp;gt;JVO &amp;lt;a&amp;gt;AKARI Simple Image Access Service.\n",
      "More info: https://skyview.gsfc.nasa.gov\n",
      "Access URL: https://skyview.gsfc.nasa.gov/cgi-bin/vo/sia.pl?survey=akari&amp;\n"
     ]
    },
    {
     "data": {
      "text/markdown": [
       "### ASCA (ivo://nasa.heasarc/ascamaster)"
      ],
      "text/plain": [
       "<IPython.core.display.Markdown object>"
      ]
     },
     "metadata": {},
     "output_type": "display_data"
    },
    {
     "name": "stdout",
     "output_type": "stream",
     "text": [
      "The ASCAMASTER table contains data on all ASCA observations that were ever in any of the following states: 'Accepted', 'Scheduled Long-Term', 'Scheduled Short-Term', 'Processed', and 'Archived'. The final status of an observation is given by the parameter Status. Specific dates that affect the status of an observation are listed as the parameters scheduled_date, observed_date, processed_date, archived_date, and cycle. Notice that, if one or more of the date parameters are empty for a given observation, this means that that those particular processes have not occurred: e.g., if observed_date is empty, this means that the planned observation was not observed.\n",
      "More info: https://heasarc.gsfc.nasa.gov/W3Browse/all/ascamaster.html\n",
      "Access URL: https://heasarc.gsfc.nasa.gov/xamin/vo/sia?table=ascamaster&amp;\n"
     ]
    },
    {
     "data": {
      "text/markdown": [
       "### ASCA/AGN (ivo://nasa.heasarc/tartarus)"
      ],
      "text/plain": [
       "<IPython.core.display.Markdown object>"
      ]
     },
     "metadata": {},
     "output_type": "display_data"
    },
    {
     "name": "stdout",
     "output_type": "stream",
     "text": [
      "The Tartarus database contains the results of a detailed but systematic analysis of ASCA observations of active galactic nuclei (AGN). It contains source and background events files, spectra, ancillary response files and response matrices, images, and assorted light curves for a large number of ASCA AGN observations. Spectral fit results are done by automatic XSPEC fitting. This database table allows easy access to reduced AGN data for the whole community, allowing the maximum scientific return from the data. Availability of publishable light curves, images, and spectra (which can also be readily re-fitted) should be particularly valuable to astronomers with little direct experience in the reduction of X-ray data. Version 3.1 has been created by analyzing all ASCA observing sequences with targets designated as AGN, as indicated by a leading &amp;quot;7&amp;quot; in the ASCA observing sequence number. Version 3.1 contains products for all 611 observing sequences designated as AGN observations. This is a significant improvement over Versions 1 and 2. Moreover, the 611 sequences for which products are available are complete in the sense that either the target object was not detected (in which case an upper limit on GIS2 source counts is given) or the intended AGN target was detected and the data were fully analyzed. In order to obtain the most accurate background subtraction and minimize contamination from any nearby sources, version 3.1 makes more use of custom extraction regions than previous versions. It is expected that version 3.1 will be replaced when the final ASCA calibration is completed.\n",
      "More info: https://heasarc.gsfc.nasa.gov/W3Browse/all/tartarus.html\n",
      "Access URL: https://heasarc.gsfc.nasa.gov/xamin/vo/sia?table=tartarus&amp;\n"
     ]
    },
    {
     "data": {
      "text/markdown": [
       "### ASCASIS (ivo://nasa.heasarc/ascasis)"
      ],
      "text/plain": [
       "<IPython.core.display.Markdown object>"
      ]
     },
     "metadata": {},
     "output_type": "display_data"
    },
    {
     "name": "stdout",
     "output_type": "stream",
     "text": [
      "This preliminary ASCA SIS Source Catalog contains a list of point sources detected by the Solid-state Imaging Spectrometers (SIS) on-board the ASCA Observatory. This catalog was generated by searching for point-like sources in all data available from the HEASARC's ASCA PUBLIC archive (ASCAPUBLIC) as of 24 Oct 1996; and is populated by both target and serendipitous sources in the SIS field-of-view. For each cataloged source various information is available, which includes the celestial coordinates of the source, the count rate, the significance of detection, and the hardness ratio, total aperture counts, exposure time, and start time of the observation. In addition, a set of three GIF &amp;quot;thumbnail&amp;quot; images is available in the broad (0.5 - 12 keV), soft (2 &amp;lt; keV), and hard (&amp;gt; 2 keV) spectral bands centered on the apparent detection. These images are convenient for accessing the quality of the source detection. The current catalog is preliminary, the goal of the catalog authors being to make the SIS source list available as quickly as possible. To accomplish this, they took an incremental approach and placed their &amp;quot;work in progress&amp;quot; on-line, warts and all. They urge caution in using and citing these preliminary results, as they point out that the information is not, as yet, 100% reliable.\n",
      "More info: https://heasarc.gsfc.nasa.gov/W3Browse/all/ascasis.html\n",
      "Access URL: https://heasarc.gsfc.nasa.gov/xamin/vo/sia?table=ascasis&amp;\n"
     ]
    },
    {
     "data": {
      "text/markdown": [
       "### BAT-flux-1 (ivo://nasa.heasarc/skyview/bat-flux-1)"
      ],
      "text/plain": [
       "<IPython.core.display.Markdown object>"
      ]
     },
     "metadata": {},
     "output_type": "display_data"
    },
    {
     "name": "stdout",
     "output_type": "stream",
     "text": [
      "This BAT Hard X-ray Survey data is the 70-month survey product of the BAT instrument on the Swift observatory. Swift/BAT is a wide field-of-view (70x100 degrees) hard X-ray imager consisting of a coded mask and a large array of CdZnTe detectors (with an effective area of ~ 5000 cm&amp;lt;sup&amp;gt;2&amp;lt;/sup&amp;gt;). &amp;lt;p&amp;gt; BAT is sensitive in the energy range 14-195 keV. The data are divided into 8 energy bands &amp;lt;table border&amp;gt; &amp;lt;tr&amp;gt;&amp;lt;th&amp;gt;Band&amp;lt;th&amp;gt;Energy (keV)&amp;lt;th&amp;gt;Frequency (EHz) &amp;lt;/tr&amp;gt; &amp;lt;tr&amp;gt;&amp;lt;td&amp;gt;1&amp;lt;td&amp;gt; 14-20 &amp;lt;td&amp;gt; 3.38-4.84&amp;lt;/tr&amp;gt; &amp;lt;tr&amp;gt;&amp;lt;td&amp;gt;2&amp;lt;td&amp;gt; 20-24 &amp;lt;td&amp;gt; 4.84-5.80&amp;lt;/tr&amp;gt; &amp;lt;tr&amp;gt;&amp;lt;td&amp;gt;3&amp;lt;td&amp;gt; 24-35 &amp;lt;td&amp;gt; 5.80-8.46&amp;lt;/tr&amp;gt; &amp;lt;tr&amp;gt;&amp;lt;td&amp;gt;4&amp;lt;td&amp;gt; 35-50 &amp;lt;td&amp;gt; 8.46-12.1&amp;lt;/tr&amp;gt; &amp;lt;tr&amp;gt;&amp;lt;td&amp;gt;5&amp;lt;td&amp;gt; 50-75 &amp;lt;td&amp;gt; 12.1-18.1&amp;lt;/tr&amp;gt; &amp;lt;tr&amp;gt;&amp;lt;td&amp;gt;6&amp;lt;td&amp;gt; 75-100 &amp;lt;td&amp;gt; 18.1-24.2&amp;lt;/tr&amp;gt; &amp;lt;tr&amp;gt;&amp;lt;td&amp;gt;7&amp;lt;td&amp;gt; 100-150&amp;lt;td&amp;gt; 24.2-36.3&amp;lt;/tr&amp;gt; &amp;lt;tr&amp;gt;&amp;lt;td&amp;gt;8&amp;lt;td&amp;gt; 150-195&amp;lt;td&amp;gt; 36.3-47.2&amp;lt;/tr&amp;gt; &amp;lt;tr&amp;gt;&amp;lt;td&amp;gt;Sum (SNR only)&amp;lt;td&amp;gt;14-195&amp;lt;td&amp;gt; 3.38-47.2&amp;lt;/tr&amp;gt; &amp;lt;/table&amp;gt; Each band is represented as as two separate surveys, a signal-to-noise (SNR) map and a flux map. (e.g., BAT-snr-1 or BAT SNR 1 or BAT SNR 14-20, or BAT-Flux-1, ...). An additional summed survey, BAT-SNR-SUM or BAT SNR SUM or BAT SNR 14-195, is also available, but there is no summed flux survey. In our Web interface only the SNR surveys are shown in the Web form. Users can get flux maps corresponding to a given SNR image from the results pages. The batch interfaces may directly query any of the surveys since the user chooses the names explicitly rather than from a selection box. &amp;lt;p&amp;gt; The values displayed in the significance maps are the local signal to noise ratio in each pixel. The noise in these coded-mask images follows a Gaussian distribution with center at zero and a characteristic width (sigma) of 1.0. The noise is calculated locally for each pixel by measuring the RMS value of all pixel values in an annulus around each pixel and hence includs both statistical and systematic components. Known sources are excluded from the annuli. &amp;lt;p&amp;gt; The signal in each pixel is taken from the flux maps. &amp;lt;p&amp;gt; The flux values are in the native BAT survey units of counts/sec/detector. The detector is an individual piece of CZT in the BAT array with an area of 1.6 x 10&amp;lt;sup&amp;gt;-7&amp;lt;/sup&amp;gt;m&amp;lt;sup&amp;gt;2&amp;lt;/sub&amp;gt;. &amp;lt;p&amp;gt; While the Swift mission is primarily designed to follow gamma-ray bursts, the random distribution of bursts in the sky means that these survey's sky coverage is relatively uniform with the exposure at any point varying between abbat\\.xml\\.out 6 to 16 megaseconds. The survey limits for source detection are abbat\\.xml\\.out 10&amp;lt;sup&amp;gt;-11&amp;lt;/sup&amp;gt; ergs/s/cm&amp;lt;sup&amp;gt;2&amp;lt;/sup&amp;gt; over abbat\\.xml\\.out half the sky and 1.3x10&amp;lt;sup&amp;gt;-11&amp;lt;/sup&amp;gt; ergs/s/cm&amp;lt;sup&amp;gt;2&amp;lt;/sup&amp;gt; over 90%. &amp;lt;p&amp;gt; These data replace the 9-month BAT datasets which we have retired. If you wish access to the older data please let us know. Note that for the 9-month data we provided access through the web page to the flux data and gave links to the signal-to-noise maps. Since the existence of sources is most easily seen in the SNR maps, we decided to invert that for this release. &amp;lt;p&amp;gt; For the 8 band data, the source data were provided by the BAT team as 6 FITS files. Each of these contained the 8 bands in separate image extensions for a region centered at l=0,b=+/-90 or l=0,90,180,270,b=0, the centers of 6 cubic facets. However these data are not the classical cube-faced projections, e.g., as used in COBE data. The data on the facets overlap, so that this is just a convenient way to tile the sky. &amp;lt;i&amp;gt;SkyView&amp;lt;/i&amp;gt; separated each of the FITS image extensions into a separate file, but no other modifications were made to the data. The summed image was provided as six separate files.\n",
      "More info: https://skyview.gsfc.nasa.gov\n",
      "Access URL: https://skyview.gsfc.nasa.gov/cgi-bin/vo/sia.pl?survey=bat-flux-1&amp;\n"
     ]
    },
    {
     "data": {
      "text/markdown": [
       "### BATSIG (ivo://nasa.heasarc/skyview/batsig)"
      ],
      "text/plain": [
       "<IPython.core.display.Markdown object>"
      ]
     },
     "metadata": {},
     "output_type": "display_data"
    },
    {
     "name": "stdout",
     "output_type": "stream",
     "text": [
      "The BAT Hard X-ray Survey data is a product of the BAT instrument on the Swift observatory. Swift/BAT is a wide field-of-view (70x100 degrees) hard X-ray imager consisting of a coded mask and large array of CdZnTe detectors (5000 cm&lt;sup&gt;2&lt;/sup&gt;). The primary purpose of BAT is the detection gamma-ray bursts and the BAT survey data is collected during the search for gamma-ray bursts. &lt;p&gt; BAT is sensitive in the energy range 14-195 keV. The data from the first 9 months of the survey is divided into 4 energy channels: 14-24, 24-50, 50-100, and 100-195 keV. Each of these is represented as separate survey, and an averaged survey over all bands is also given. &lt;p&gt; The all sky maps are presented in two forms, the significance maps and the flux maps. The significance maps are the count rate divided by the noise (sigma RMS) in a region of the map around the position. The noise is variable across the sky due to variable exposure and systematic noise. The noise is Gaussian and and the significances can be interpreted with the usual Gaussian probabilities. A threshold of 4.8 sigma for the blind detection of sources in the BAT survey corresponds to about 1 false detection on the whole sky. &lt;p&gt; The BAT flux map is scaled from the Crab rate in the survey and normalized to an assumed Crab spectrum of 10.4 E&lt;sup&gt;-2.15&lt;/sup&gt; photons.cm&lt;sup&gt;2&lt;/sup&gt;/sec/keV. Due to the large number of randomly distributed gamma-ray burst pointings that contribute to any point in the image, this is an accurate characterization for the whole sky. The 4.8 sigma threshold in the 9-month survey covers 80% of the sky at flux threshold of 3.5x10&lt;sup&gt;-11&lt;/sup&gt; ergs/cm&lt;sup&gt;2&lt;/sup&gt;/s in the 14-195 keV band and covers 1/3 of the sky near the ecliptic poles at 2.5x10&lt;sup&gt;-11&lt;/sup&gt; ergs/cm&lt;sup&gt;2&lt;/sup&gt;/s.\n",
      "More info: https://skyview.gsfc.nasa.gov\n",
      "Access URL: https://skyview.gsfc.nasa.gov/cgi-bin/vo/sia.pl?survey=batsig&amp;\n"
     ]
    },
    {
     "data": {
      "text/markdown": [
       "### CDFS-LESS (ivo://nasa.heasarc/skyview/cdfs-less)"
      ],
      "text/plain": [
       "<IPython.core.display.Markdown object>"
      ]
     },
     "metadata": {},
     "output_type": "display_data"
    },
    {
     "name": "stdout",
     "output_type": "stream",
     "text": [
      "The LABOCA Extended Chandra Deep Field South (ECDFS) Submillimetre Survey (LESS) is a public legacy survey of the ECDFS at 870 µm using the LABOCA camera (Siringo et al. 2009) on the APEX telescope. &amp;lt;p&amp;gt; The LABOCA data presented here were obtained between 2007 May and 2008 November in excellent conditions using time from both ESO and Max Planck allocations. The mapping pattern was designed to uniformly cover the 30'x30' extent of the ECDFS, centered on 03:32:29.0, -27:48:47.0 (J2000). The project used a total of 310 hrs of observations to achieve a beam-smoothed noise of 1.2 mJy/beam over 900 sq. arcmin (and &amp;lt; 1 .6mJy/beam over 1260 sq. arcmin). The flux calibration of the map came from observations of Mars, Uranus and Neptune (as well as secondary calibrators) and is accurate to within 8.5%.\n",
      "More info: https://skyview.gsfc.nasa.gov\n",
      "Access URL: https://skyview.gsfc.nasa.gov/cgi-bin/vo/sia.pl?survey=cdfs-less&amp;\n"
     ]
    },
    {
     "data": {
      "text/markdown": [
       "### CFHTLS-D-u (ivo://nasa.heasarc/skyview/cfhtls-d-u)"
      ],
      "text/plain": [
       "<IPython.core.display.Markdown object>"
      ]
     },
     "metadata": {},
     "output_type": "display_data"
    },
    {
     "name": "stdout",
     "output_type": "stream",
     "text": [
      "The Canada-France-Hawaii Telescope Legacy Survey is a 5-year program carried cfhtls\\-d\\.xml\\.out jointly by the Canadian and French agencies. It will use the Megaprime/Megacam instrument mounted at prime focus of the 3.6m CFH telescope during the period 2003-2008. The Deep survey concerns 4 patchsof 1 square-degree. All will be observed in u,g,r,i and z, with very lon gexposure time&amp;lt;p&amp;gt; This survey description was generated automatically from the &amp;lt;a href='http://alasky.u-strasbg.fr/CFHTLS-T0007b/Deep/UALLSKY/properties'&amp;gt;HiPS property file&amp;lt;/a&amp;gt;\n",
      "More info: https://skyview.gsfc.nasa.gov\n",
      "Access URL: https://skyview.gsfc.nasa.gov/cgi-bin/vo/sia.pl?survey=cfhtls-d-u&amp;\n"
     ]
    },
    {
     "data": {
      "text/markdown": [
       "### CFHTLS-W-u (ivo://nasa.heasarc/skyview/cfhtls-w-u)"
      ],
      "text/plain": [
       "<IPython.core.display.Markdown object>"
      ]
     },
     "metadata": {},
     "output_type": "display_data"
    },
    {
     "name": "stdout",
     "output_type": "stream",
     "text": [
      "The Canada-France-Hawaii Telescope Legacy Survey is a 5-year program carried cfhtls\\-w\\.xml\\.out jointly by the Canadian and French agencies. It will use the Megaprime/Megacam instrument mounted at prime focus of the 3.6m CFH telescope during the period 2003-2008. The WIDE survey concerns 4 patchs, 3 of abcfhtls\\-w\\.xml\\.out 7x7 square-degrees each and 1 of abcfhtls\\-w\\.xml\\.out 4x4 square-degrees. All will be observed in u,g,r,i and z, with abcfhtls\\-w\\.xml\\.out 1 hr exposure time per filter&amp;lt;p&amp;gt; This survey description was generated automatically from the &amp;lt;a href='http://alasky.u-strasbg.fr/CFHTLS-T0007b/Wide/UALLSKY/properties'&amp;gt;HiPS property file&amp;lt;/a&amp;gt;\n",
      "More info: https://skyview.gsfc.nasa.gov\n",
      "Access URL: https://skyview.gsfc.nasa.gov/cgi-bin/vo/sia.pl?survey=cfhtls-w-u&amp;\n"
     ]
    },
    {
     "data": {
      "text/markdown": [
       "### Chandra (ivo://nasa.heasarc/chanmaster)"
      ],
      "text/plain": [
       "<IPython.core.display.Markdown object>"
      ]
     },
     "metadata": {},
     "output_type": "display_data"
    },
    {
     "name": "stdout",
     "output_type": "stream",
     "text": [
      "This database table contains all of the observations made by the Chandra X-Ray Observatory (CXO, formerly known as the Advanced X-ray Astrophysics Facility or AXAF) as part of the Performance Verification and Calibration (PVC) phase and also contains all of the subsequent Cycles' Guaranteed Time Observers (GTO) and General Observer (GO) targets, and any Director's Discretionary Time (DDT) targets that have been observed. It also includes scheduled and as-yet-not-scheduled targets. The HEASARC updates this database table on a twice-weekly basis by querying the database table at the Chandra X-Ray Center (CXC) website, as discussed in the Provenance section. For observations whose status is 'archived', data products can be retrieved from the HEASARC's mirror of the CXC's Chandra Data Archive (CDA). The CXC should be acknowledged as the source of Chandra data. The PVC phase was during the first few months of the CXO mission; some of the calibration observations that are for monitoring purposes will be performed in later mission cycles. All calibration data (entries with Type = CAL in this database) are placed immediately into the CXO public data archive at the Chandra X-Ray Observatory Center (CXC); please see the Web page at &amp;lt;a href=\"http://asc.harvard.edu/\"&amp;gt;http://asc.harvard.edu/&amp;lt;/a&amp;gt; for more information on the CXC data archive). GTO observations during Cycle 1 or any subsequent Cycle will probably occupy 100% of months 3-4, 30% of months 5-22, and 15% of the available time for the remainder of the mission. Guaranteed Time Observers will have the same proprietary data rights as General Observers (i.e., their data will be placed in the public CXC archive 12 months after they have received the data in usable form). For detailed information on the Chandra Observatory and datasets see: &amp;lt;pre&amp;gt; &amp;lt;a href=\"http://cxc.harvard.edu/\"&amp;gt;http://cxc.harvard.edu/&amp;lt;/a&amp;gt; for general Chandra information &amp;lt;a href=\"http://cxc.harvard.edu/cda/\"&amp;gt;http://cxc.harvard.edu/cda/&amp;lt;/a&amp;gt; for the Chandra Data Archive &amp;lt;a href=\"http://cxc.harvard.edu/cal/\"&amp;gt;http://cxc.harvard.edu/cal/&amp;lt;/a&amp;gt; for calibration information &amp;lt;a href=\"http://cxc.harvard.edu/caldb/\"&amp;gt;http://cxc.harvard.edu/caldb/&amp;lt;/a&amp;gt; for the calibration database &amp;lt;a href=\"http://cxc.harvard.edu/ciao/\"&amp;gt;http://cxc.harvard.edu/ciao/&amp;lt;/a&amp;gt; for data analysis &amp;lt;a href=\"http://cxc.harvard.edu/ciao/download/\"&amp;gt;http://cxc.harvard.edu/ciao/download/&amp;lt;/a&amp;gt; for analysis software &amp;lt;a href=\"http://cxc.harvard.edu/ciao/threads/\"&amp;gt;http://cxc.harvard.edu/ciao/threads/&amp;lt;/a&amp;gt; for analysis threads &amp;lt;a href=\"http://cda.harvard.edu/chaser/\"&amp;gt;http://cda.harvard.edu/chaser/&amp;lt;/a&amp;gt; for WebChaSeR &amp;lt;/pre&amp;gt;\n",
      "More info: https://heasarc.gsfc.nasa.gov/W3Browse/all/chanmaster.html\n",
      "Access URL: https://heasarc.gsfc.nasa.gov/xamin/vo/sia?table=chanmaster&amp;\n"
     ]
    },
    {
     "data": {
      "text/markdown": [
       "### CO (ivo://nasa.heasarc/skyview/co)"
      ],
      "text/plain": [
       "<IPython.core.display.Markdown object>"
      ]
     },
     "metadata": {},
     "output_type": "display_data"
    },
    {
     "name": "stdout",
     "output_type": "stream",
     "text": [
      "New large-scale CO surveys of the first and second Galactic quadrants and the nearby molecular cloud complexes in Orion and Taurus, obtained with the Harvard-Smithsonian Center for Astrophysics 1.2 m telescope, have been combined with 31 other surveys obtained over the past two decades with that instrument and a similar telescope on Cerro Tololo in Chile, to produce a new composite CO survey of the entire Milky Way. The survey consists of 488,000 spectra that Nyquist or beamwidth (1/8 deg) sample the entire Galactic plane over a strip 4 deg-10 deg wide in latitude, and beamwidth or 1/4 deg sample nearly all large local clouds at higher latitudes. Compared with the previous composite CO survey of Dame et al. (1987), the new survey has 16 times more spectra, up to 3.4 times higher angular resolution, and up to 10 times higher sensitivity per unit solid angle. &amp;lt;P&amp;gt; Users should be aware that both the angular resolution and the sensitivity varies from region to region in the velocity-integrated map. The component surveys were integrated individually using clipping or moment masking in order to display nearly all statistically significant emission but little noise above a level of ~1.5 K km/s. See the reference below and the &amp;lt;a href=\"http://cfa-www.harvard.edu/cfa/mmw/MilkyWayinMolClouds.html\" &amp;gt; Millimeter-Wave Group site&amp;lt;/a&amp;gt; for more details\n",
      "More info: https://skyview.gsfc.nasa.gov\n",
      "Access URL: https://skyview.gsfc.nasa.gov/cgi-bin/vo/sia.pl?survey=co&amp;\n"
     ]
    },
    {
     "data": {
      "text/markdown": [
       "### COBE (ivo://nasa.heasarc/skyview/cobe)"
      ],
      "text/plain": [
       "<IPython.core.display.Markdown object>"
      ]
     },
     "metadata": {},
     "output_type": "display_data"
    },
    {
     "name": "stdout",
     "output_type": "stream",
     "text": [
      "The DIRBE Project Data Sets cover the whole sky and provide photometric data in 10 bands ranging in wavelength from 1.25 to 240 microns. SkyView has supported three maps: an early averaged map including including zodiacal and Galactic components (COBE DIRBE (OLD)), a more recent cleaner version of that data (COBE DIRBE/AAM) and a map with the zodaical light subtracted cobe\\.xml\\.out (COBE DIRBE/ZSMA). The early data is no longer supported. Please contact us if you want access to these data. &amp;lt;P&amp;gt; Detailed descriptions of the DIRBE, the data processing, and the data products are given in an Explanatory Supplement. A Small Source Spectral Energy Distribution Browser can be used to assess the visibility of an unresolved or small extended source in the DIRBE data and see its spectral energy distribution. As noted in section 5.6.6 of the Explanatory Supplement, the DIRBE Time-ordered Data are required to derive definitive point source fluxes. &amp;lt;p&amp;gt; These maps provide an estimate of the infrared intensity at each pixel and wavelength band based on an interpolation of the observations made at various times at solar elongations close to 90&amp;amp;amp;#176;. &amp;lt;P&amp;gt; These COBE DIRBE maps are a combination original ten band passes with the following wavelengths: &amp;lt;UL&amp;gt; &amp;lt;LI&amp;gt;Band 1 - 1.25 &amp;amp;amp;#181;m &amp;lt;LI&amp;gt;Band 2 - 2.2 &amp;amp;amp;#181;m &amp;lt;LI&amp;gt;Band 3 - 3.5 &amp;amp;amp;#181;m &amp;lt;LI&amp;gt;Band 4 - 4.9 &amp;amp;amp;#181;m &amp;lt;LI&amp;gt;Band 5 - 12 &amp;amp;amp;#181;m &amp;lt;LI&amp;gt;Band 6 - 25 &amp;amp;amp;#181;m &amp;lt;li&amp;gt;Band 7 - 60 &amp;amp;amp;#181;m &amp;lt;li&amp;gt;Band 8 - 100 &amp;amp;amp;#181;m &amp;lt;li&amp;gt;Band 9 - 140 &amp;amp;amp;#181;m &amp;lt;li&amp;gt;Band 10 - 240 &amp;amp;amp;#181;m &amp;lt;/ul&amp;gt; &amp;lt;p&amp;gt; The default two dimensional array uses Band 8 (100 &amp;amp;amp;#181;m). &amp;lt;P&amp;gt; The COBE DIRBE/Annual Average Maps (AAM) is the cumulative weighted average of the photometry. This average is calculated using the weighted number of observations from each Weekly Averaged Map ( WtNumObs from the Weekly Averaged Map) as the weight, such that annual_average =sum( weekly_average * weekly_weight )/ sum( weekly_weight ) &amp;lt;p&amp;gt; COBE DIRBE/Zodi-Subtracted Mission Average (ZSMA) Skymap represents the extra-Solar system sky brightness. It is the average residual map that results after the modelled interplanetary dust (IPD) signal is subtracted from each of the DIRBE Weekly Skymaps from the cryogenic mission. Individual weekly residual maps can be reconstructed from the data supplied in the DIRBE Sky and Zodi Atlas (DSZA).\n",
      "More info: https://skyview.gsfc.nasa.gov\n",
      "Access URL: https://skyview.gsfc.nasa.gov/cgi-bin/vo/sia.pl?survey=cobe&amp;\n"
     ]
    },
    {
     "data": {
      "text/markdown": [
       "### Comptel (ivo://nasa.heasarc/skyview/comptel)"
      ],
      "text/plain": [
       "<IPython.core.display.Markdown object>"
      ]
     },
     "metadata": {},
     "output_type": "display_data"
    },
    {
     "name": "stdout",
     "output_type": "stream",
     "text": [
      "This survey is a maximum entropy solution to the data taken by the CompTel instrument on the &amp;lt;i&amp;gt; Compton &amp;lt;/i&amp;gt; Gamma-ray Observatory. The data in this survey are intended only to give the general appearance of the MeV gamma-ray sky. Fluxes, flux limits and spectra should be derived using the Compass system for the analysis of CompTel data. Compass is available at the &amp;lt;a href=\"https://cossc.gsfc.nasa.gov/cossc/cossc.html\"&amp;gt; Compton Observatory Science Support Center &amp;lt;/a&amp;gt;. &amp;lt;P&amp;gt; The maps were originally generated by the CompTel Instrument Team as three separate maps in the bands: &amp;lt;UL&amp;gt; &amp;lt;LI&amp;gt;1-3 MeV &amp;lt;LI&amp;gt;3-10 MeV &amp;lt;LI&amp;gt;10-30 MeV &amp;lt;/ul&amp;gt; &amp;lt;P&amp;gt; All CompTel observations from phases 1, 2 and 3 were included in the maps (May 1991 through October 1994). These maps were combined into a single 3-D map at &amp;lt;i&amp;gt; SkyView &amp;lt;/i&amp;gt; &amp;lt;P&amp;gt;\n",
      "More info: https://skyview.gsfc.nasa.gov\n",
      "Access URL: https://skyview.gsfc.nasa.gov/cgi-bin/vo/sia.pl?survey=comptel&amp;\n"
     ]
    },
    {
     "data": {
      "text/markdown": [
       "### DSS (ivo://nasa.heasarc/skyview/dss)"
      ],
      "text/plain": [
       "<IPython.core.display.Markdown object>"
      ]
     },
     "metadata": {},
     "output_type": "display_data"
    },
    {
     "name": "stdout",
     "output_type": "stream",
     "text": [
      "This survey comprises the compressed digitization of the Southern Sky Survey and the Palomar Sky Survey E plates as distributed on CD ROM by the Space Telescope Science Institute. Coverage of the entire sky is included. This survey consists of the digititized Southern Sky Survey conducted at the UK Southern Schmidt Survey Group by the Royal Observatory, Edinburgh (prior to 1988) and the Anglo-Australian Observatory (since 1988) Additional plates covering regions with bright objects are also included. The plates were digitized at the Space Telescope Science Institute and compressed using algorithms developed by R.White. These data are distributed on a set of 101 CD-ROMs. &amp;lt;P&amp;gt; The following data are included: &amp;lt;DL&amp;gt; &amp;lt;DT&amp;gt;Southern hemisphere &amp;lt;DD&amp;gt; SERC Southern Sky Survey and the SERC J Equatorial extension. These are typically deep, 3600s, IIIa-J exposures with a GG395 filter. Also included are 94 short (1200s) V exposures typically at Galactic latitudes below 15&amp;amp;amp;#176;. Special exposures are included in the regions of the Magellenic clouds. &amp;lt;DT&amp;gt;Northern hemisphere &amp;lt;dd&amp;gt; The northern hemisphere is covered by 644 plates from the POSS E survey. A special exposure of the M31 region that is distributed on the CD ROMs is not used in &amp;lt;i&amp;gt; SkyView &amp;lt;/i&amp;gt;. &amp;lt;/DL&amp;gt;\n",
      "More info: https://skyview.gsfc.nasa.gov\n",
      "Access URL: https://skyview.gsfc.nasa.gov/cgi-bin/vo/sia.pl?survey=dss&amp;\n"
     ]
    },
    {
     "data": {
      "text/markdown": [
       "### DSS1B (ivo://nasa.heasarc/skyview/dss1b)"
      ],
      "text/plain": [
       "<IPython.core.display.Markdown object>"
      ]
     },
     "metadata": {},
     "output_type": "display_data"
    },
    {
     "name": "stdout",
     "output_type": "stream",
     "text": [
      "This survey uses the POSS1 Blue plates.\n",
      "More info: https://skyview.gsfc.nasa.gov\n",
      "Access URL: https://skyview.gsfc.nasa.gov/cgi-bin/vo/sia.pl?survey=dss1b&amp;\n"
     ]
    },
    {
     "data": {
      "text/markdown": [
       "### DSS1R (ivo://nasa.heasarc/skyview/dss1r)"
      ],
      "text/plain": [
       "<IPython.core.display.Markdown object>"
      ]
     },
     "metadata": {},
     "output_type": "display_data"
    },
    {
     "name": "stdout",
     "output_type": "stream",
     "text": [
      "This survey is the POSS1 Red plates from the original POSS survey. It covers the sky north of -30 degrees declination.\n",
      "More info: https://skyview.gsfc.nasa.gov\n",
      "Access URL: https://skyview.gsfc.nasa.gov/cgi-bin/vo/sia.pl?survey=dss1r&amp;\n"
     ]
    },
    {
     "data": {
      "text/markdown": [
       "### DSS2 (ivo://nasa.heasarc/skyview/dss2)"
      ],
      "text/plain": [
       "<IPython.core.display.Markdown object>"
      ]
     },
     "metadata": {},
     "output_type": "display_data"
    },
    {
     "name": "stdout",
     "output_type": "stream",
     "text": [
      "&amp;lt;P&amp;gt; The native projection of these data is described as a high-order polynomial distortion of a gnomonic projection using the same terms as the DSS.\n",
      "More info: https://skyview.gsfc.nasa.gov\n",
      "Access URL: https://skyview.gsfc.nasa.gov/cgi-bin/vo/sia.pl?survey=dss2&amp;\n"
     ]
    },
    {
     "data": {
      "text/markdown": [
       "### EBHIS (ivo://nasa.heasarc/skyview/ebhis)"
      ],
      "text/plain": [
       "<IPython.core.display.Markdown object>"
      ]
     },
     "metadata": {},
     "output_type": "display_data"
    },
    {
     "name": "stdout",
     "output_type": "stream",
     "text": [
      "The Effelsberg-Bonn HI Survey (EBHIS) is a 21-cm survey performed with the 100-m telescope at Effelsberg. It covers the whole northern sky out to a redshift of z ~ 0.07 and comprises HI line emission from the Milky Way and the Local Volume. This dataset is the atomic neutral hydrogen (HI) column density map derived from the Milky-Way part of EBHIS (|Vlsr| &amp;lt; 600 km/s).\n",
      "More info: https://skyview.gsfc.nasa.gov\n",
      "Access URL: https://skyview.gsfc.nasa.gov/cgi-bin/vo/sia.pl?survey=ebhis&amp;\n"
     ]
    },
    {
     "data": {
      "text/markdown": [
       "### EGRET (ivo://nasa.heasarc/skyview/egret)"
      ],
      "text/plain": [
       "<IPython.core.display.Markdown object>"
      ]
     },
     "metadata": {},
     "output_type": "display_data"
    },
    {
     "name": "stdout",
     "output_type": "stream",
     "text": [
      "These data are from the Compton GRO EGRET team. Data are from all pointings of the EGRET instrument in the verification phase and phase 1-4 of the Compton mission. The maps exist in energies 30-100 MeV, 100-100000 MeV, and as a multi-dimensional, 10 channel survey. For the multi-dimensional survey, channels 1-3 comprise energies less than 100 MeV, and channels 4-10 comprise energies greater than 100 MeV. Note that the energies are not uniformly split among the channels. &amp;lt;P&amp;gt; The EGRET 3D map is comprised of ten channels with the following energy ranges: &amp;lt;UL&amp;gt; &amp;lt;LI&amp;gt;Channel 1 30-50 MeV &amp;lt;LI&amp;gt;Channel 2 50-70 MeV &amp;lt;LI&amp;gt;Channel 3 70-100 MeV &amp;lt;LI&amp;gt;Channel 4 100-150 MeV &amp;lt;LI&amp;gt;Channel 5 150-300 MeV &amp;lt;LI&amp;gt;Channel 6 300-500 MeV &amp;lt;LI&amp;gt;Channel 7 500-1000 MeV &amp;lt;LI&amp;gt;Channel 8 1000-2000 MeV &amp;lt;LI&amp;gt;Channel 9 2000-4000 MeV &amp;lt;LI&amp;gt;Channel 10 4000-10000 MeV &amp;lt;/ul&amp;gt; &amp;lt;p&amp;gt; The default two dimensional image for the EGRET 3D survey is an average of Channels 4 - 10 (energies greater than 100 MeV).\n",
      "More info: https://skyview.gsfc.nasa.gov\n",
      "Access URL: https://skyview.gsfc.nasa.gov/cgi-bin/vo/sia.pl?survey=egret&amp;\n"
     ]
    },
    {
     "data": {
      "text/markdown": [
       "### EGRET3D (ivo://nasa.heasarc/skyview/egret3d)"
      ],
      "text/plain": [
       "<IPython.core.display.Markdown object>"
      ]
     },
     "metadata": {},
     "output_type": "display_data"
    },
    {
     "name": "stdout",
     "output_type": "stream",
     "text": [
      "These data are from the Compton GRO EGRET team. Data are from all pointings of the EGRET instrument in the verification phase and phase 1-4 of the Compton mission. The maps exist in energies 30-100 MeV, 100-10000 MeV, and as a multi-dimensional, 10 channel survey. For the multi-dimensional survey, channels 1-3 comprise energies less than 100 MeV, and channels 4-10 comprise energies greater than 100 MeV. Note that the energies are not uniformly split among the channels. &amp;lt;P&amp;gt; The EGRET 3D map is comprised of ten channels with the following energy ranges: &amp;lt;UL&amp;gt; &amp;lt;LI&amp;gt;Channel 1 30-50 MeV &amp;lt;LI&amp;gt;Channel 2 50-70 MeV &amp;lt;LI&amp;gt;Channel 3 70-100 MeV &amp;lt;LI&amp;gt;Channel 4 100-150 MeV &amp;lt;LI&amp;gt;Channel 5 150-300 MeV &amp;lt;LI&amp;gt;Channel 6 300-500 MeV &amp;lt;LI&amp;gt;Channel 7 500-1000 MeV &amp;lt;LI&amp;gt;Channel 8 1000-2000 MeV &amp;lt;LI&amp;gt;Channel 9 2000-4000 MeV &amp;lt;LI&amp;gt;Channel 10 4000-10000 MeV &amp;lt;/ul&amp;gt; &amp;lt;p&amp;gt; The default two dimensional image for the EGRET 3D survey is an average of Channels 4 - 10 (energies greater than 100 MeV).\n",
      "More info: https://skyview.gsfc.nasa.gov\n",
      "Access URL: https://skyview.gsfc.nasa.gov/cgi-bin/vo/sia.pl?survey=egret3d&amp;\n"
     ]
    },
    {
     "data": {
      "text/markdown": [
       "### EUVE (ivo://nasa.heasarc/skyview/euve)"
      ],
      "text/plain": [
       "<IPython.core.display.Markdown object>"
      ]
     },
     "metadata": {},
     "output_type": "display_data"
    },
    {
     "name": "stdout",
     "output_type": "stream",
     "text": [
      "The EUVE satellite surveyed the entire sky in the extreme ultraviolet through a set of four filters. The filters include: &amp;lt;UL&amp;gt; &amp;lt;LI&amp;gt;Lexan/Boron filter: peak at 83A (full range 50-180) &amp;lt;LI&amp;gt;Aluminium/Carbon/Titanium : 171A (160-240) &amp;lt;LI&amp;gt;Aluminium/Titanium/Antimony: 405A (345-605) &amp;lt;LI&amp;gt;Tin/SiO: 555A (500-740) &amp;lt;/UL&amp;gt; &amp;lt;P&amp;gt; The data currently in &amp;lt;i&amp;gt;SkyView&amp;lt;/i&amp;gt; is direct from the Center for EUVE.\n",
      "More info: https://skyview.gsfc.nasa.gov\n",
      "Access URL: https://skyview.gsfc.nasa.gov/cgi-bin/vo/sia.pl?survey=euve&amp;\n"
     ]
    },
    {
     "data": {
      "text/markdown": [
       "### FERMI (ivo://nasa.heasarc/skyview/fermi)"
      ],
      "text/plain": [
       "<IPython.core.display.Markdown object>"
      ]
     },
     "metadata": {},
     "output_type": "display_data"
    },
    {
     "name": "stdout",
     "output_type": "stream",
     "text": [
      "This survey sums all data observed by the Fermi mission up to week 396. This version of the Fermi survey are intensity maps where the summed counts data are divided by the exposure for each pixel (in cm^2 s) and the area of the pixel. Data is broken into 5 energy bands &amp;lt;ul&amp;gt; &amp;lt;li&amp;gt; 30-100 MeV Band 1 &amp;lt;/li&amp;gt; &amp;lt;li&amp;gt; 100-300 MeV Band 2 &amp;lt;/li&amp;gt; &amp;lt;li&amp;gt; 300-1000 MeV Band 3 &amp;lt;/li&amp;gt; &amp;lt;li&amp;gt; 1-3 GeV Band 4 &amp;lt;/li&amp;gt; &amp;lt;li&amp;gt; 3-300 GeV Band 5 &amp;lt;/li&amp;gt; &amp;lt;/ul&amp;gt; The SkyView data are based upon a Cartesian projection of the counts divided by the exposure maps. In the Cartesian projection pixels near the pole have a much smaller area than pixels on the equator, so these pixels have smaller integrated flux. When creating large scale images in other projections users may wish to make sure to compensate for this effect the flux conserving clip-resampling option.\n",
      "More info: https://skyview.gsfc.nasa.gov\n",
      "Access URL: https://skyview.gsfc.nasa.gov/cgi-bin/vo/sia.pl?survey=fermi&amp;\n"
     ]
    },
    {
     "data": {
      "text/markdown": [
       "### FIRST (ivo://nasa.heasarc/skyview/first)"
      ],
      "text/plain": [
       "<IPython.core.display.Markdown object>"
      ]
     },
     "metadata": {},
     "output_type": "display_data"
    },
    {
     "name": "stdout",
     "output_type": "stream",
     "text": [
      "The VLA FIRST (Faint Images of the Radio Sky at Twenty-centimeters) is a project designed to produce the radio equivalent of the Palomar Observatory Sky Survey over 10,000 square degrees of the North Galactic Cap. The &amp;lt;a href=\"http://sundog.stsci.edu/top.html\"&amp;gt; FIRST home page &amp;lt;/a&amp;gt; has details of the instrumentation, status of the project, and data available. Currently about 5000 images of approximately .775x.58 degrees are available. &amp;lt;P&amp;gt; These FIRST data have been retrieved from the &amp;lt;a href=\"ftp://archive.stsci.edu/pub/vla_first/data/\"&amp;gt; FIRST FTP archive &amp;lt;/a&amp;gt; at the &amp;lt;a href=\"http://www.stsci.edu/resources\"&amp;gt; Space Telescope Science Institute&amp;lt;/a&amp;gt;. &amp;lt;p&amp;gt; The FIRST survey is included on the &amp;lt;b&amp;gt;SkyView High Resolution Radio Coverage &amp;lt;/b&amp;gt;&amp;lt;a href=\"/images/high_res_radio.jpg\"&amp;gt; map&amp;lt;/a&amp;gt;. This map shows coverage on an Aitoff projection of the sky in equatorial coordinates.\n",
      "More info: https://skyview.gsfc.nasa.gov\n",
      "Access URL: https://skyview.gsfc.nasa.gov/cgi-bin/vo/sia.pl?survey=first&amp;\n"
     ]
    },
    {
     "data": {
      "text/markdown": [
       "### GALEX (ivo://nasa.heasarc/skyview/galex)"
      ],
      "text/plain": [
       "<IPython.core.display.Markdown object>"
      ]
     },
     "metadata": {},
     "output_type": "display_data"
    },
    {
     "name": "stdout",
     "output_type": "stream",
     "text": [
      "The GALEX, Galaxy Explorer, mission was launched by a Pegasus-XL vehicle on April 28 2003 into a 690km altitude, 29 degree inclination, circular orbit with a 98.6 minute period. The GALEX instrument allows imaging and spectroscopic observations to be made in two ultraviolet bands, Far UV (FUV) 1350-1780A and Near UV (NUV) 1770-2730A. The instrument provides simultaneous co-aligned FUV and NUV images with spatial resolution 4.3 and 5.3 arcseconds respectively. Details of the performance of the instrument and detectors can be found in Morrissey et al. (2007) ApJS, 173, 682. &amp;lt;p&amp;gt; The &amp;lt;i&amp;gt;SkyView&amp;lt;/i&amp;gt; GALEX surveys mosaic the intensity images of All-Sky Survey images. For a given pixel only the nearest image is used. Since a given GALEX observation is circular, this maximizes the coverage compared with default image finding algorithms which use the distance from edge of the image. &amp;lt;p&amp;gt; As of February 10, 2011, SkyView uses the GALEX GR6 data release.\n",
      "More info: https://skyview.gsfc.nasa.gov\n",
      "Access URL: https://skyview.gsfc.nasa.gov/cgi-bin/vo/sia.pl?survey=galex&amp;\n"
     ]
    },
    {
     "data": {
      "text/markdown": [
       "### GalexFar (ivo://nasa.heasarc/skyview/galexfar)"
      ],
      "text/plain": [
       "<IPython.core.display.Markdown object>"
      ]
     },
     "metadata": {},
     "output_type": "display_data"
    },
    {
     "name": "stdout",
     "output_type": "stream",
     "text": [
      "The GALEX, Galaxy Explorer, mission was launched by a Pegasus-XL vehicle on April 28 2003 into a 690km altitude, 29 degree inclination, circular orbit with a 98.6 minute period. The GALEX instrument allows imaging and spectroscopic observations to be made in two ultraviolet bands, Far UV (FUV) 1350-1780A and Near UV (NUV) 1770-2730A. The instrument provides simultaneous co-aligned FUV and NUV images with spatial resolution 4.3 and 5.3 arcseconds respectively. Details of the performance of the instrument and detectors can be found in Morrissey et al. (2007) ApJS, 173, 682. &amp;lt;p&amp;gt; The &amp;lt;i&amp;gt;SkyView&amp;lt;/i&amp;gt; GALEX surveys mosaic the intensity images of All-Sky Survey images. For a given pixel only the nearest image is used. Since a given GALEX observation is circular, this maximizes the coverage compared with default image finding algorithms which use the distance from edge of the image. &amp;lt;p&amp;gt; As of February 10, 2011 SkyView uses the GR6 data release for the entire sky.\n",
      "More info: https://skyview.gsfc.nasa.gov\n",
      "Access URL: https://skyview.gsfc.nasa.gov/cgi-bin/vo/sia.pl?survey=galexfar&amp;\n"
     ]
    },
    {
     "data": {
      "text/markdown": [
       "### GalexNear (ivo://nasa.heasarc/skyview/galexnear)"
      ],
      "text/plain": [
       "<IPython.core.display.Markdown object>"
      ]
     },
     "metadata": {},
     "output_type": "display_data"
    },
    {
     "name": "stdout",
     "output_type": "stream",
     "text": [
      "The GALEX, Galaxy Explorer, mission was launched by a Pegasus-XL vehicle on April 28 2003 into a 690km altitude, 29 degree inclination, circular orbit with a 98.6 minute period. The GALEX instrument allows imaging and spectroscopic observations to be made in two ultraviolet bands, Far UV (FUV) 1350-1780A and Near UV (NUV) 1770-2730A. The instrument provides simultaneous co-aligned FUV and NUV images with spatial resolution 4.3 and 5.3 arcseconds respectively. Details of the performance of the instrument and detectors can be found in Morrissey et al. (2007) ApJS, 173, 682. &amp;lt;p&amp;gt; The &amp;lt;i&amp;gt;SkyView&amp;lt;/i&amp;gt; GALEX surveys mosaic the intensity images of All-Sky Survey images. For a given pixel only the nearest image is used. Since a given GALEX observation is circular, this maximizes the coverage compared with default image finding algorithms which use the distance from edge of the image. &amp;lt;p&amp;gt; As of February 10, 2011, SkyView uses the GALEX GR6 data release.\n",
      "More info: https://skyview.gsfc.nasa.gov\n",
      "Access URL: https://skyview.gsfc.nasa.gov/cgi-bin/vo/sia.pl?survey=galexnear&amp;\n"
     ]
    },
    {
     "data": {
      "text/markdown": [
       "### GNS (ivo://nasa.heasarc/skyview/gns)"
      ],
      "text/plain": [
       "<IPython.core.display.Markdown object>"
      ]
     },
     "metadata": {},
     "output_type": "display_data"
    },
    {
     "name": "stdout",
     "output_type": "stream",
     "text": [
      "The GOODS NICMOS Survey (GNS) is a 180 orbit Hubble Space Telescope survey consisting of 60 pointings with the NICMOS-3 near-infrared camera. Each pointing is centred on a massive galaxy (M&amp;lt;sub&amp;gt;*&amp;lt;/sub&amp;gt; &amp;gt; 1011 M&amp;lt;sub&amp;gt;sun&amp;lt;/sub&amp;gt;) in the redshift range 1.7 &amp;lt; z &amp;lt; 3 , selected by their optical-to-infrared colours (Papovich+06,Yan+04,Daddi+07) from the GOODS (Great Observatories Origins Deep Survey) fields. &amp;lt;p&amp;gt; The positions of the 60 GNS pointings were optimised to contain as many massive galaxies as possible and are partly overlapping, covering a total area of about 45 arcmin2. The field of view of the NICMOS-3 camera is 51.2 × 51.2 arcsec with a resolution of about 0.1 arcsec/pixel. The PSF has a width of about 0.3 arcsec FWHM. The limiting magnitude in H band reached at 5s is HAB = 26.8, about 2 magnitudes fainter than in available ground based data of the GOODS fields. [Taken from reference web site.]\n",
      "More info: https://skyview.gsfc.nasa.gov\n",
      "Access URL: https://skyview.gsfc.nasa.gov/cgi-bin/vo/sia.pl?survey=gns&amp;\n"
     ]
    },
    {
     "data": {
      "text/markdown": [
       "### GOODS-ACS (ivo://nasa.heasarc/skyview/goods-acs)"
      ],
      "text/plain": [
       "<IPython.core.display.Markdown object>"
      ]
     },
     "metadata": {},
     "output_type": "display_data"
    },
    {
     "name": "stdout",
     "output_type": "stream",
     "text": [
      "This is a &amp;lt;i&amp;gt;SkyView&amp;lt;/i&amp;gt; rendering of the HST ACS data as described in the &amp;lt;a href=http://archive.stsci.edu/pub/hlsp/goods/v2/h_goods_v2.0_rdm.html&amp;gt;release document&amp;lt;/a&amp;gt;. This comprises four bands of observations of each both the north and south GOODS regions. &amp;lt;p&amp;gt; These data are stored in SkyView as a hierarchical image with 7 levels of pixels, each with a factor of 2 change in scale. Thus the coarsest sampling using pixels 64 times larger than the finest. As we go to coarser pixels, 4 adjacent pixels forming a square are averaged to create the pixel in the next level. The coarsest pixel scale that is at least the resolution requested is used. &amp;lt;p&amp;gt; The exposure times are given as: &amp;lt;table&amp;gt; &amp;lt;tr&amp;gt;&amp;lt;th colspan=3&amp;gt; GOODS ACS exposure (s)&amp;lt;/th&amp;gt;&amp;lt;/td&amp;gt;&amp;lt;/tr&amp;gt; &amp;lt;tr&amp;gt;&amp;lt;th&amp;gt;Band&amp;lt;/th&amp;gt;&amp;lt;th&amp;gt;North&amp;gt;&amp;lt;/th&amp;gt;&amp;lt;th&amp;gt;South&amp;lt;/th&amp;gt; &amp;lt;tr&amp;gt;&amp;lt;td&amp;gt;z850&amp;lt;/td&amp;gt;&amp;lt;td&amp;gt;24760&amp;lt;/td&amp;gt;&amp;lt;td&amp;gt;18232&amp;lt;/td&amp;gt;&amp;lt;/tr&amp;gt; &amp;lt;tr&amp;gt;&amp;lt;td&amp;gt;i775&amp;lt;/td&amp;gt;&amp;lt;td&amp;gt;8530&amp;lt;/td&amp;gt;&amp;lt;td&amp;gt;7028&amp;lt;/td&amp;gt;&amp;lt;/tr&amp;gt; &amp;lt;tr&amp;gt;&amp;lt;td&amp;gt;V606&amp;lt;/td&amp;gt;&amp;lt;td&amp;gt;5650&amp;lt;/td&amp;gt;&amp;lt;td&amp;gt;5450&amp;lt;/td&amp;gt;&amp;lt;/tr&amp;gt; &amp;lt;tr&amp;gt;&amp;lt;td&amp;gt;B435&amp;lt;/td&amp;gt;&amp;lt;tr&amp;gt;7200&amp;lt;/td&amp;gt;&amp;lt;td&amp;gt;7200&amp;lt;/td&amp;gt;&amp;lt;/tr&amp;gt; &amp;lt;/table&amp;gt;\n",
      "More info: https://skyview.gsfc.nasa.gov\n",
      "Access URL: https://skyview.gsfc.nasa.gov/cgi-bin/vo/sia.pl?survey=goods-acs&amp;\n"
     ]
    },
    {
     "data": {
      "text/markdown": [
       "### GOODS-ACS B (ivo://nasa.heasarc/skyview/goods-acs-b)"
      ],
      "text/plain": [
       "<IPython.core.display.Markdown object>"
      ]
     },
     "metadata": {},
     "output_type": "display_data"
    },
    {
     "name": "stdout",
     "output_type": "stream",
     "text": [
      "This is a &amp;lt;i&amp;gt;SkyView&amp;lt;/i&amp;gt; rendering of the HST ACS data as described in the &amp;lt;a href=http://archive.stsci.edu/pub/hlsp/goods/v2/h_goods_v2.0_rdm.html&amp;gt;release document&amp;lt;/a&amp;gt;. This comprises four bands of observations of each both the north and sgoodsacs\\.xml\\.outh GOODS regions. &amp;lt;p&amp;gt; These data are stored in SkyView as a hierarchical image with 7 levels of pixels, each with a factor of 2 change in scale. Thus the coarsest sampling using pixels 64 times larger than the finest. As we go to coarser pixels, 4 adjacent pixels forming a square are averaged to create the pixel in the next level. The coarsest pixel scale that is at least the resolution requested is used. &amp;lt;p&amp;gt; The exposure times are given as: &amp;lt;table&amp;gt; &amp;lt;tr&amp;gt;&amp;lt;th colspan=3&amp;gt; GOODS ACS exposure (s)&amp;lt;/th&amp;gt;&amp;lt;/td&amp;gt;&amp;lt;/tr&amp;gt; &amp;lt;tr&amp;gt;&amp;lt;th&amp;gt;Band&amp;lt;/th&amp;gt;&amp;lt;th&amp;gt;North&amp;gt;&amp;lt;/th&amp;gt;&amp;lt;th&amp;gt;Sgoodsacs\\.xml\\.outh&amp;lt;/th&amp;gt; &amp;lt;tr&amp;gt;&amp;lt;td&amp;gt;z850&amp;lt;/td&amp;gt;&amp;lt;td&amp;gt;24760&amp;lt;/td&amp;gt;&amp;lt;td&amp;gt;18232&amp;lt;/td&amp;gt;&amp;lt;/tr&amp;gt; &amp;lt;tr&amp;gt;&amp;lt;td&amp;gt;i775&amp;lt;/td&amp;gt;&amp;lt;td&amp;gt;8530&amp;lt;/td&amp;gt;&amp;lt;td&amp;gt;7028&amp;lt;/td&amp;gt;&amp;lt;/tr&amp;gt; &amp;lt;tr&amp;gt;&amp;lt;td&amp;gt;V606&amp;lt;/td&amp;gt;&amp;lt;td&amp;gt;5650&amp;lt;/td&amp;gt;&amp;lt;td&amp;gt;5450&amp;lt;/td&amp;gt;&amp;lt;/tr&amp;gt; &amp;lt;tr&amp;gt;&amp;lt;td&amp;gt;B435&amp;lt;/td&amp;gt;&amp;lt;tr&amp;gt;7200&amp;lt;/td&amp;gt;&amp;lt;td&amp;gt;7200&amp;lt;/td&amp;gt;&amp;lt;/tr&amp;gt; &amp;lt;/table&amp;gt;\n",
      "More info: https://skyview.gsfc.nasa.gov\n",
      "Access URL: https://skyview.gsfc.nasa.gov/cgi-bin/vo/sia.pl?survey=goods-acs%20b&amp;\n"
     ]
    },
    {
     "data": {
      "text/markdown": [
       "### GOODS-ISAAC (ivo://nasa.heasarc/skyview/goods-isaac)"
      ],
      "text/plain": [
       "<IPython.core.display.Markdown object>"
      ]
     },
     "metadata": {},
     "output_type": "display_data"
    },
    {
     "name": "stdout",
     "output_type": "stream",
     "text": [
      "As part of the Great Observatories Origins Deep Survey (GOODS), near-infrared imaging observations of the Chandra Deep Field South (CDF-S) were carried out in J, H, Ks bands, using the ISAAC instrument mounted at the Antu Unit Telescope of the VLT at ESO's Cerro Paranal Observatory, Chile. &amp;lt;p&amp;gt; These data were obtained as part of the ESO Large Programme 168.A-0485 (PI: C. Cesarsky). Data covering four ISAAC fields in J and Ks bands were also drawn from the ESO programmes 64.O-0643, 66.A-0572 and 68.A-0544 (PI: E.Giallongo), which were part of the previous data releases. &amp;lt;p&amp;gt; This data release covers 172.4, 159.6, and 173.1 arcmin2 of the GOODS/CDF-S region in J, H and Ks respectively. More than 50% of the images reach a 5-sigma depth for point sources of at least 25.2 mag (J), 24.7 mag (H and Ks) in the AB system (\"median depth\"). &amp;lt;p&amp;gt; This final GOODS/ISAAC data release accumulates observational data which have been acquired in 12814 science integrations between October 1999 and January 2007 totaling 1.3 Msec integration time. [Above adapted from reference Web site.] &amp;lt;p&amp;gt; &amp;lt;i&amp;gt; SkyView&amp;lt;/i&amp;gt; uses the mosaic files provided in this delivery. The Version 1.5 mosaic is used for the KS band.\n",
      "More info: https://skyview.gsfc.nasa.gov\n",
      "Access URL: https://skyview.gsfc.nasa.gov/cgi-bin/vo/sia.pl?survey=goods-isaac&amp;\n"
     ]
    },
    {
     "data": {
      "text/markdown": [
       "### GOODS-ISAAC H (ivo://nasa.heasarc/skyview/goods-isaac-h)"
      ],
      "text/plain": [
       "<IPython.core.display.Markdown object>"
      ]
     },
     "metadata": {},
     "output_type": "display_data"
    },
    {
     "name": "stdout",
     "output_type": "stream",
     "text": [
      "As part of the Great Observatories Origins Deep Survey (GOODS), near-infrared imaging observations of the Chandra Deep Field Sgoodsisaac\\.xml\\.outh (CDF-S) were carried goodsisaac\\.xml\\.out in J, H, Ks bands, using the ISAAC instrument mounted at the Antu Unit Telescope of the VLT at ESO's Cerro Paranal Observatory, Chile. &amp;lt;p&amp;gt; These data were obtained as part of the ESO Large Programme 168.A-0485 (PI: C. Cesarsky). Data covering four ISAAC fields in J and Ks bands were also drawn from the ESO programmes 64.O-0643, 66.A-0572 and 68.A-0544 (PI: E.Giallongo), which were part of the previous data releases. &amp;lt;p&amp;gt; This data release covers 172.4, 159.6, and 173.1 arcmin2 of the GOODS/CDF-S region in J, H and Ks respectively. More than 50% of the images reach a 5-sigma depth for point sources of at least 25.2 mag (J), 24.7 mag (H and Ks) in the AB system (\"median depth\"). &amp;lt;p&amp;gt; This final GOODS/ISAAC data release accumulates observational data which have been acquired in 12814 science integrations between October 1999 and January 2007 totaling 1.3 Msec integration time. [Above adapted from reference Web site.] &amp;lt;p&amp;gt; &amp;lt;i&amp;gt; SkyView&amp;lt;/i&amp;gt; uses the mosaic files provided in this delivery. The Version 1.5 mosaic is used for the KS band.\n",
      "More info: https://skyview.gsfc.nasa.gov\n",
      "Access URL: https://skyview.gsfc.nasa.gov/cgi-bin/vo/sia.pl?survey=goods-isaac%20h&amp;\n"
     ]
    },
    {
     "data": {
      "text/markdown": [
       "### GOODS-VIMOS (ivo://nasa.heasarc/skyview/goods-vimos)"
      ],
      "text/plain": [
       "<IPython.core.display.Markdown object>"
      ]
     },
     "metadata": {},
     "output_type": "display_data"
    },
    {
     "name": "stdout",
     "output_type": "stream",
     "text": [
      "As part of the Great Observatories Origins Deep Survey (GOODS), deep imaging in the Chandra Deep Field South (CDF-S) has been carried out, using the VIMOS instrument mounted at the Melipal Unit Telescope of the VLT at ESO's Cerro Paranal Observatory, Chile. &amp;lt;p&amp;gt; This data release contains the coadded images in U band from the ESO large programme 168.A-0485 (P.I. C. Cesarsky) which have been obtained in service mode observations between August 2004 and fall 2006. The 1-sigma depth for VIMOS U band in the area covered by the GOODS-ACS observations is ~30 AB (within an aperture of 1\" radius, ranging from 29.5 and 30.2 AB). The PSF of the VIMOS U band mosaic is ~0.8\" FWHM, but varies over the field. &amp;lt;p&amp;gt; Also included in this data release is a coadded image in R band obtained from data retrieved from the ESO archive. Due to the different observing strategies adopted in the programmes the resulting coverage of the GOODS-ACS area is more complex than for the U band. The depth of the VIMOS R band mosaic over the ACS area ranges from ~28 AB to 29 AB (1-sigma, 1\" aperture radius). The PSF of the VIMOS R band mosaic is ~0\".7 FWHM and varies over the field. [Adapted from reference web site.]\n",
      "More info: https://skyview.gsfc.nasa.gov\n",
      "Access URL: https://skyview.gsfc.nasa.gov/cgi-bin/vo/sia.pl?survey=goods-vimos&amp;\n"
     ]
    },
    {
     "data": {
      "text/markdown": [
       "### GOODS-VIMOS R (ivo://nasa.heasarc/skyview/goods-vimos-r)"
      ],
      "text/plain": [
       "<IPython.core.display.Markdown object>"
      ]
     },
     "metadata": {},
     "output_type": "display_data"
    },
    {
     "name": "stdout",
     "output_type": "stream",
     "text": [
      "As part of the Great Observatories Origins Deep Survey (GOODS), deep imaging in the Chandra Deep Field Sgoodsvimos\\.xml\\.outh (CDF-S) has been carried goodsvimos\\.xml\\.out, using the VIMOS instrument mounted at the Melipal Unit Telescope of the VLT at ESO's Cerro Paranal Observatory, Chile. &amp;lt;p&amp;gt; This data release contains the coadded images in U band from the ESO large programme 168.A-0485 (P.I. C. Cesarsky) which have been obtained in service mode observations between August 2004 and fall 2006. The 1-sigma depth for VIMOS U band in the area covered by the GOODS-ACS observations is ~30 AB (within an aperture of 1\" radius, ranging from 29.5 and 30.2 AB). The PSF of the VIMOS U band mosaic is ~0.8\" FWHM, but varies over the field. &amp;lt;p&amp;gt; Also included in this data release is a coadded image in R band obtained from data retrieved from the ESO archive. Due to the different observing strategies adopted in the programmes the resulting coverage of the GOODS-ACS area is more complex than for the U band. The depth of the VIMOS R band mosaic over the ACS area ranges from ~28 AB to 29 AB (1-sigma, 1\" aperture radius). The PSF of the VIMOS R band mosaic is ~0\".7 FWHM and varies over the field. [Adapted from reference web site.]\n",
      "More info: https://skyview.gsfc.nasa.gov\n",
      "Access URL: https://skyview.gsfc.nasa.gov/cgi-bin/vo/sia.pl?survey=goods-vimos%20r&amp;\n"
     ]
    },
    {
     "data": {
      "text/markdown": [
       "### GOODSACISB (ivo://nasa.heasarc/skyview/goodsacisb)"
      ],
      "text/plain": [
       "<IPython.core.display.Markdown object>"
      ]
     },
     "metadata": {},
     "output_type": "display_data"
    },
    {
     "name": "stdout",
     "output_type": "stream",
     "text": [
      "This survey comprises the 2 Ms Chandra Deep Field North and 4 Ms Deep Field South ACIS observations. All observations are co-added into two fields in the north and south. Data are provided in three bands, the soft 0.5-2 keV band, the hard 2.0-8.0 keV and the full 0.5 to 8 keV band.\n",
      "More info: https://skyview.gsfc.nasa.gov\n",
      "Access URL: https://skyview.gsfc.nasa.gov/cgi-bin/vo/sia.pl?survey=goodsacisb&amp;\n"
     ]
    },
    {
     "data": {
      "text/markdown": [
       "### GOODSACISFB (ivo://nasa.heasarc/skyview/goodsacisfb)"
      ],
      "text/plain": [
       "<IPython.core.display.Markdown object>"
      ]
     },
     "metadata": {},
     "output_type": "display_data"
    },
    {
     "name": "stdout",
     "output_type": "stream",
     "text": [
      "This survey comprises the 2 Ms Chandra Deep Field North and 4 Ms Deep Field Sgoodsacis\\.xml\\.outh ACIS observations. All observations are co-added into two fields in the north and sgoodsacis\\.xml\\.outh. Data are provided in three bands, the soft 0.5-2 keV band, the hard 2.0-8.0 keV and the full 0.5 to 8 keV band.\n",
      "More info: https://skyview.gsfc.nasa.gov\n",
      "Access URL: https://skyview.gsfc.nasa.gov/cgi-bin/vo/sia.pl?survey=goodsacisfb&amp;\n"
     ]
    },
    {
     "data": {
      "text/markdown": [
       "### GOODSHerschel1 (ivo://nasa.heasarc/skyview/goodsherschel1)"
      ],
      "text/plain": [
       "<IPython.core.display.Markdown object>"
      ]
     },
     "metadata": {},
     "output_type": "display_data"
    },
    {
     "name": "stdout",
     "output_type": "stream",
     "text": [
      "GOODS-Herschel is an open time key program of more than 360 hours of observation with the Hershel, SPIRE and PACS, from 100 um and 500. &amp;lt;p&amp;gt; North and South GOODS data is available for 100 and 160 microns (using PACS) but only the northern field is available at 250, 350 and 500 microns (using SPIRE). &amp;lt;p&amp;gt; Note that the scale and resolution of the underlying pixels is different in each band.\n",
      "More info: https://skyview.gsfc.nasa.gov\n",
      "Access URL: https://skyview.gsfc.nasa.gov/cgi-bin/vo/sia.pl?survey=goodsherschel1&amp;\n"
     ]
    },
    {
     "data": {
      "text/markdown": [
       "### GOODSHerschel2 (ivo://nasa.heasarc/skyview/goodsherschel2)"
      ],
      "text/plain": [
       "<IPython.core.display.Markdown object>"
      ]
     },
     "metadata": {},
     "output_type": "display_data"
    },
    {
     "name": "stdout",
     "output_type": "stream",
     "text": [
      "GOODS-Herschel is an open time key program of more than 360 hours of observation with the Hershel, SPIRE and PACS, from 100 um and 500. &amp;lt;p&amp;gt; North and South GOODS data is available for 100 and 160 microns (using PACS) but only the northern field is available at 250, 350 and 500 microns (using SPIRE). &amp;lt;p&amp;gt; Note that the scale and resolution of the underlying pixels is different in each band.\n",
      "More info: https://skyview.gsfc.nasa.gov\n",
      "Access URL: https://skyview.gsfc.nasa.gov/cgi-bin/vo/sia.pl?survey=goodsherschel2&amp;\n"
     ]
    },
    {
     "data": {
      "text/markdown": [
       "### GOODSHerschel3 (ivo://nasa.heasarc/skyview/goodsherschel3)"
      ],
      "text/plain": [
       "<IPython.core.display.Markdown object>"
      ]
     },
     "metadata": {},
     "output_type": "display_data"
    },
    {
     "name": "stdout",
     "output_type": "stream",
     "text": [
      "GOODS-Herschel is an open time key program of more than 360 hours of observation with the Hershel, SPIRE and PACS, from 100 um and 500. &amp;lt;p&amp;gt; North and South GOODS data is available for 100 and 160 microns (using PACS) but only the northern field is available at 250, 350 and 500 microns (using SPIRE). &amp;lt;p&amp;gt; Note that the scale and resolution of the underlying pixels is different in each band.\n",
      "More info: https://skyview.gsfc.nasa.gov\n",
      "Access URL: https://skyview.gsfc.nasa.gov/cgi-bin/vo/sia.pl?survey=goodsherschel3&amp;\n"
     ]
    },
    {
     "data": {
      "text/markdown": [
       "### GOODSHerschel4 (ivo://nasa.heasarc/skyview/goodsherschel4)"
      ],
      "text/plain": [
       "<IPython.core.display.Markdown object>"
      ]
     },
     "metadata": {},
     "output_type": "display_data"
    },
    {
     "name": "stdout",
     "output_type": "stream",
     "text": [
      "GOODS-Herschel is an open time key program of more than 360 hours of observation with the Hershel, SPIRE and PACS, from 100 um and 500. &amp;lt;p&amp;gt; North and South GOODS data is available for 100 and 160 microns (using PACS) but only the northern field is available at 250, 350 and 500 microns (using SPIRE). &amp;lt;p&amp;gt; Note that the scale and resolution of the underlying pixels is different in each band.\n",
      "More info: https://skyview.gsfc.nasa.gov\n",
      "Access URL: https://skyview.gsfc.nasa.gov/cgi-bin/vo/sia.pl?survey=goodsherschel4&amp;\n"
     ]
    },
    {
     "data": {
      "text/markdown": [
       "### GOODSHerschel5 (ivo://nasa.heasarc/skyview/goodsherschel5)"
      ],
      "text/plain": [
       "<IPython.core.display.Markdown object>"
      ]
     },
     "metadata": {},
     "output_type": "display_data"
    },
    {
     "name": "stdout",
     "output_type": "stream",
     "text": [
      "GOODS-Herschel is an open time key program of more than 360 hours of observation with the Hershel, SPIRE and PACS, from 100 um and 500. &amp;lt;p&amp;gt; North and South GOODS data is available for 100 and 160 microns (using PACS) but only the northern field is available at 250, 350 and 500 microns (using SPIRE). &amp;lt;p&amp;gt; Note that the scale and resolution of the underlying pixels is different in each band.\n",
      "More info: https://skyview.gsfc.nasa.gov\n",
      "Access URL: https://skyview.gsfc.nasa.gov/cgi-bin/vo/sia.pl?survey=goodsherschel5&amp;\n"
     ]
    },
    {
     "data": {
      "text/markdown": [
       "### GOODSIRAC (ivo://nasa.heasarc/skyview/goodsirac)"
      ],
      "text/plain": [
       "<IPython.core.display.Markdown object>"
      ]
     },
     "metadata": {},
     "output_type": "display_data"
    },
    {
     "name": "stdout",
     "output_type": "stream",
     "text": [
      "Spitzer IRAC medium infrared observations taken in all four IRAC channels in both the north and south GOODS fields.\n",
      "More info: https://skyview.gsfc.nasa.gov\n",
      "Access URL: https://skyview.gsfc.nasa.gov/cgi-bin/vo/sia.pl?survey=goodsirac&amp;\n"
     ]
    },
    {
     "data": {
      "text/markdown": [
       "### GOODSIRAC-1 (ivo://nasa.heasarc/skyview/goodsirac-1)"
      ],
      "text/plain": [
       "<IPython.core.display.Markdown object>"
      ]
     },
     "metadata": {},
     "output_type": "display_data"
    },
    {
     "name": "stdout",
     "output_type": "stream",
     "text": [
      "Spitzer IRAC medium infrared observations taken in all four IRAC channels in both the north and sgoodsirac\\.xml\\.outh GOODS fields.\n",
      "More info: https://skyview.gsfc.nasa.gov\n",
      "Access URL: https://skyview.gsfc.nasa.gov/cgi-bin/vo/sia.pl?survey=goodsirac-1&amp;\n"
     ]
    },
    {
     "data": {
      "text/markdown": [
       "### GOODSMIPS (ivo://nasa.heasarc/skyview/goodsmips)"
      ],
      "text/plain": [
       "<IPython.core.display.Markdown object>"
      ]
     },
     "metadata": {},
     "output_type": "display_data"
    },
    {
     "name": "stdout",
     "output_type": "stream",
     "text": [
      "Spitzer MIPS observations of the GOODS North and South fields in the 24 micron channel.\n",
      "More info: https://skyview.gsfc.nasa.gov\n",
      "Access URL: https://skyview.gsfc.nasa.gov/cgi-bin/vo/sia.pl?survey=goodsmips&amp;\n"
     ]
    },
    {
     "data": {
      "text/markdown": [
       "### GOODSNVLA (ivo://nasa.heasarc/skyview/goodsnvla)"
      ],
      "text/plain": [
       "<IPython.core.display.Markdown object>"
      ]
     },
     "metadata": {},
     "output_type": "display_data"
    },
    {
     "name": "stdout",
     "output_type": "stream",
     "text": [
      "A combination of VLA measurements in all four configurations combined to generate a very deep image of the GOODS North region. A total of about 150 hours of VLA time was used. Data are sensitive to about 5 microJanskies in the central region. A total of 1230 discrete sources where found in the 40'x40' region.\n",
      "More info: https://skyview.gsfc.nasa.gov\n",
      "Access URL: https://skyview.gsfc.nasa.gov/cgi-bin/vo/sia.pl?survey=goodsnvla&amp;\n"
     ]
    },
    {
     "data": {
      "text/markdown": [
       "### GRANAT (ivo://nasa.heasarc/skyview/granat)"
      ],
      "text/plain": [
       "<IPython.core.display.Markdown object>"
      ]
     },
     "metadata": {},
     "output_type": "display_data"
    },
    {
     "name": "stdout",
     "output_type": "stream",
     "text": [
      "The Soviet orbital observatory GRANAT was launched in December 1989 and was operational till November 1998. One of the main instruments of the observatory was the French-Soviet hard X-ray coded mask telescope SIGMA (Paul et al.1 1991, Adv.Space Res., 11, 279). It was the first space telescope that used coded aperture technique for reconstruction of sky images in hard X-rays (35-1300 keV). The angular resolution of the telescope was approximately 12' and the accuracy of a source localization is approximately 2-3'.&amp;lt;p&amp;gt; SIGMA discovered numerous interesting hard X-ray sources including GRS 1758-258, which is located only 40' from bright soft X-ray source GX 5-1. It detected hard X-ray flux from X-ray burster A1742-294, which is very near to bright black hole binary 1E1740.7-2942. SIGMA set an upper limit on the hard X-ray flux of from the central supermassive black hole in our Galaxy.&amp;lt;p&amp;gt; During the period 1990-1998 SIGMA observed more that one quarter of the sky with sensitivity better than 100 mCrab. The Galactic Center region had the deepest exposure ( approximately 9 million sec), with the sensitivity to a source discovery (S/N &amp;amp;gt; ~ 5) or approximately 10 mCrab.&amp;lt;p&amp;gt; A list of all detected sources with references to publications on them is presented in the paper of Revnivtsev et al. 2004, Astr. Lett. v.6. In these survey images (40-100 keV) all performed observations are averaged together. Transient sources that were discovered by SIGMA may not visible in the averaged image. &amp;lt;p&amp;gt; This survey has some features that users should keep in mind. The SIGMA telescope is a complicated instrument and is strongly dominated by the accuracy of the background subtraction. The presence of a very bright source in the field of view of the telescope sometimes cannot be fully accounted for and as a result of it some 'ghost' sources can appear. Such features can be seen in the regions near very bright sources like Crab Nebula, Cyg X-1, Nova Per 1992, Nova Mus 1991, Nova Oph 1993, and in the Galactic Center region. In addition to its nominal field of view (~17x17 deg) located around the optical axis of the telescope, SIGMA had another window of relatively high transparency of its shield, approximately 20-30&amp;amp;amp;#176; apart from the optical axis. Becuase of this a very bright sources like Cyg X-1 can cause non zero illumination of the SIGMA detector if they are located approximately 20-30&amp;amp;amp;#176; from the optical axis. The ring-like features caused by this effect, can be seen around Cyg X-1, and Nova Per 1992. &amp;lt;p&amp;gt; The count rate of detected sources (or upper limits) can be roughly translated into mCrab using the fact that that Crab nebula gives the count rate approximately 2.8e&amp;lt;sup&amp;gt;-3&amp;lt;/sup&amp;gt; cnts/s in the units, provided in 'flux' maps\n",
      "More info: https://skyview.gsfc.nasa.gov\n",
      "Access URL: https://skyview.gsfc.nasa.gov/cgi-bin/vo/sia.pl?survey=granat&amp;\n"
     ]
    },
    {
     "data": {
      "text/markdown": [
       "### GTEE (ivo://nasa.heasarc/skyview/gtee)"
      ],
      "text/plain": [
       "<IPython.core.display.Markdown object>"
      ]
     },
     "metadata": {},
     "output_type": "display_data"
    },
    {
     "name": "stdout",
     "output_type": "stream",
     "text": [
      "This survey is a mosaic of data taken at the low frequency T-array near Gauribidanur, India. The data was distributed in the NRAO Images from the Radio Sky CD ROM. &amp;lt;p&amp;gt; The original 287x101 tiles had only 1 pixel overlap. To allow higher order resampling, the data were retiled into two hemisphere files of 1726x600 pixels with an overlap of 10 pixels. &amp;lt;p&amp;gt; The southernmost tiles were only 287x100 pixels. We assumed that bottom row of these tiles (as compared with the others) was truncated.\n",
      "More info: https://skyview.gsfc.nasa.gov\n",
      "Access URL: https://skyview.gsfc.nasa.gov/cgi-bin/vo/sia.pl?survey=gtee&amp;\n"
     ]
    },
    {
     "data": {
      "text/markdown": [
       "### HAlpha (ivo://nasa.heasarc/skyview/halpha)"
      ],
      "text/plain": [
       "<IPython.core.display.Markdown object>"
      ]
     },
     "metadata": {},
     "output_type": "display_data"
    },
    {
     "name": "stdout",
     "output_type": "stream",
     "text": [
      "The full-sky H-alpha map (6' FWHM resolution) is a composite of the Virginia Tech Spectral line Survey (VTSS) in the north and the Southern H-Alpha Sky Survey Atlas (SHASSA) in the south. Stellar artifacts and bleed trails have been carefully removed from these maps. The Wisconsin H-Alpha Mapper (WHAM) survey provides a stable zero-point over 3/4 of the sky on a one degree scale. This composite map can be used to provide limits on thermal bremsstrahlung (free-free emission) from ionized gas known to contaminate microwave-background data. The map (in Rayleighs; 1R=10&amp;lt;sup&amp;gt;6&amp;lt;/sup&amp;gt;/4pi photons/cm&amp;lt;sup&amp;gt;2&amp;lt;/sup&amp;gt;/s/sr), an error map, and a bitmask are provided in 8640x4320 Cartesian projections as well as HEALPIX (Nside 256, 512, and 1024) projections on the &amp;lt;a href=\"http://astro.princeton.edu/~dfink/halpha/\"&amp;gt; H-Alpha Full-Sky Map web site&amp;lt;/a&amp;gt;.\n",
      "More info: https://skyview.gsfc.nasa.gov\n",
      "Access URL: https://skyview.gsfc.nasa.gov/cgi-bin/vo/sia.pl?survey=halpha&amp;\n"
     ]
    },
    {
     "data": {
      "text/markdown": [
       "### Hawaii-HDF (ivo://nasa.heasarc/skyview/hawaii-hdf)"
      ],
      "text/plain": [
       "<IPython.core.display.Markdown object>"
      ]
     },
     "metadata": {},
     "output_type": "display_data"
    },
    {
     "name": "stdout",
     "output_type": "stream",
     "text": [
      "The Hawaii-HDF-N is an intensive multi-color imaging survey of 0.2 sq. degrees centered on the HDF-N. Data were collected on the NOAO 4m Mayall telescope, the National Astronomical Observatory of Japan 8.2m Subaru telescope and the University of Hawaii 2.2m telescope. Deep U, B, V, R, I, and z' data were obtained over the whole field and deep HK' data over the Chandra Deep Field North. Details are available in the references. [Adapted from reference web site.] &amp;lt;P&amp;gt; Two different images are given in the V band (V0201 and V0401) from observations separated by about a month that had substantial differences in seeing.\n",
      "More info: https://skyview.gsfc.nasa.gov\n",
      "Access URL: https://skyview.gsfc.nasa.gov/cgi-bin/vo/sia.pl?survey=hawaii-hdf&amp;\n"
     ]
    },
    {
     "data": {
      "text/markdown": [
       "### Hawaii-HDF B (ivo://nasa.heasarc/skyview/hawaii-hdf-b)"
      ],
      "text/plain": [
       "<IPython.core.display.Markdown object>"
      ]
     },
     "metadata": {},
     "output_type": "display_data"
    },
    {
     "name": "stdout",
     "output_type": "stream",
     "text": [
      "The Hawaii-HDF-N is an intensive multi-color imaging survey of 0.2 sq. degrees centered on the HDF-N. Data were collected on the NOAO 4m Mayall telescope, the National Astronomical Observatory of Japan 8.2m Subaru telescope and the University of Hawaii 2.2m telescope. Deep U, B, V, R, I, and z' data were obtained over the whole field and deep HK' data over the Chandra Deep Field North. Details are available in the references. [Adapted from reference web site.] &amp;lt;P&amp;gt; Two different images are given in the V band (V0201 and V0401) from observations separated by abhawaiihdf\\.xml\\.out a month that had substantial differences in seeing.\n",
      "More info: https://skyview.gsfc.nasa.gov\n",
      "Access URL: https://skyview.gsfc.nasa.gov/cgi-bin/vo/sia.pl?survey=hawaii-hdf%20b&amp;\n"
     ]
    },
    {
     "data": {
      "text/markdown": [
       "### HEAO1A (ivo://nasa.heasarc/skyview/heao1a)"
      ],
      "text/plain": [
       "<IPython.core.display.Markdown object>"
      ]
     },
     "metadata": {},
     "output_type": "display_data"
    },
    {
     "name": "stdout",
     "output_type": "stream",
     "text": [
      "These data were generated at the HEASARC in 1994. Certain gaps and streaks in the image have been fixed by interpolating over the the gap. Typically these gaps are no more than a pixel or two wide. A brief description of the satellite and the data analysis follows. The map used in &amp;lt;i&amp;gt; SkyView &amp;lt;/i&amp;gt; is the map designated &amp;lt;tt&amp;gt; 322_15_tot_ecl_samp.img&amp;lt;/tt&amp;gt; in the &amp;lt;a href=ftp://legacy.gsfc.nasa.gov/heao1/data/a2/maps/heasarc_med_hed&amp;gt; HEASARC FTP area&amp;lt;/a&amp;gt;. Many other maps are available. These differ in epoch, resolution, energy band, coordinate system and projection, and sampling methods. Details are given in the README file in the archive. &amp;lt;p&amp;gt; See Allen, Jahoda, and Whitlock (1994) for full details about the available maps, their processing, and methods for converting the map intensities into familiar physical units.\n",
      "More info: https://skyview.gsfc.nasa.gov\n",
      "Access URL: https://skyview.gsfc.nasa.gov/cgi-bin/vo/sia.pl?survey=heao1a&amp;\n"
     ]
    },
    {
     "data": {
      "text/markdown": [
       "### HERSCHEL-SPIRE (ivo://nasa.heasarc/skyview/herschel-spire)"
      ],
      "text/plain": [
       "<IPython.core.display.Markdown object>"
      ]
     },
     "metadata": {},
     "output_type": "display_data"
    },
    {
     "name": "stdout",
     "output_type": "stream",
     "text": [
      "The Herschel SPIRE survey is\n",
      "More info: https://skyview.gsfc.nasa.gov\n",
      "Access URL: https://skyview.gsfc.nasa.gov/cgi-bin/vo/sia.pl?survey=herschel-spire&amp;\n"
     ]
    },
    {
     "data": {
      "text/markdown": [
       "### HI4PI (ivo://nasa.heasarc/skyview/hi4pi)"
      ],
      "text/plain": [
       "<IPython.core.display.Markdown object>"
      ]
     },
     "metadata": {},
     "output_type": "display_data"
    },
    {
     "name": "stdout",
     "output_type": "stream",
     "text": [
      "The HI 4-PI Survey (HI4PI) is a 21-cm all-sky survey of neutral atomic hydrogen. It is constructed from the Effelsberg-Bonn HI Survey (EBHIS), made with the 100-m radio telescope at Effelsberg/Germany, and the Galactic All-Sky Survey (GASS), observed with the Parkes 64-m dish in Australia. HI4PI comprises HI line emission from the Milky Way. This dataset is the atomic neutral hydrogen (HI) column density map derived from HI4PI (|Vlsr| &amp;lt; 600 km/s).\n",
      "More info: https://skyview.gsfc.nasa.gov\n",
      "Access URL: https://skyview.gsfc.nasa.gov/cgi-bin/vo/sia.pl?survey=hi4pi&amp;\n"
     ]
    },
    {
     "data": {
      "text/markdown": [
       "### HRI (ivo://nasa.heasarc/skyview/hri)"
      ],
      "text/plain": [
       "<IPython.core.display.Markdown object>"
      ]
     },
     "metadata": {},
     "output_type": "display_data"
    },
    {
     "name": "stdout",
     "output_type": "stream",
     "text": [
      "This survey was generated from all available ROSAT HRI observations. Data were mosaicked into 1.1 degree tiles by SkyView. Exposure maps were generated for each HRI observation using the hriexpmap FTOOL. For each tile, all observations that might contribute to that tile were located and added to count and exposure map tiles. Exposures for each observation were calculated using a nearest neighbor interpolation of the center of the tile pixels to the exposure map pixels. Counts were computed by projecting the RA and Decs of each eligible photon into the appropriate tile pixel. Only photons with a PHA &amp;amp;gt; 3 were included in the mosaic and within each observation only counts within the region where the exposure was greater than half the maximum exposure were included.\n",
      "More info: https://skyview.gsfc.nasa.gov\n",
      "Access URL: https://skyview.gsfc.nasa.gov/cgi-bin/vo/sia.pl?survey=hri&amp;\n"
     ]
    },
    {
     "data": {
      "text/markdown": [
       "### HUDFISAAC (ivo://nasa.heasarc/skyview/hudfisaac)"
      ],
      "text/plain": [
       "<IPython.core.display.Markdown object>"
      ]
     },
     "metadata": {},
     "output_type": "display_data"
    },
    {
     "name": "stdout",
     "output_type": "stream",
     "text": [
      "A very deep Ks observation of the Hubble Ultradeep Field. This observation is approximately 0.6 magnitudes deeper than the GOODS ISAAC Ks image but covers only small fraction of the area.\n",
      "More info: https://skyview.gsfc.nasa.gov\n",
      "Access URL: https://skyview.gsfc.nasa.gov/cgi-bin/vo/sia.pl?survey=hudfisaac&amp;\n"
     ]
    },
    {
     "data": {
      "text/markdown": [
       "### INTEGRALSPI_gc (ivo://nasa.heasarc/skyview/integralspi_gc)"
      ],
      "text/plain": [
       "<IPython.core.display.Markdown object>"
      ]
     },
     "metadata": {},
     "output_type": "display_data"
    },
    {
     "name": "stdout",
     "output_type": "stream",
     "text": [
      "The INTEGRAL observatory (Winkler et al. 2003, A&amp;amp;amp;A, 411, L1) was launched in October 2002. The spectrograph SPI (Vedrenne et al. 2003, A&amp;amp;amp;A, 411, L63) consists of 19 Germanium detectors and is capable of imaging in the 20 - 8000 keV band because of a coded mask. Part of the core program of the INTEGRAL mission is a study of the Galactic Centre, the Galactic Centre Deep Exposure (GCDE).&amp;lt;p&amp;gt; The SPI significance map is based on the public GCDE data and uses data in the 20 - 40 keV energy range. The analysis of the data was done using the SPIROS software (Skinner &amp;amp;amp; Connell 2003, A&amp;amp;amp;A, 411, L123). This software uses the 'Iterative Removal of Sources' technique in order to find the most significant sources. In the output significance map the sources found in this process are put on top of the residual map as points with a FWHM of 1 degree. &amp;lt;p&amp;gt; Current data respresent the combination of all public observations as of September 1, 2004.\n",
      "More info: https://skyview.gsfc.nasa.gov\n",
      "Access URL: https://skyview.gsfc.nasa.gov/cgi-bin/vo/sia.pl?survey=integralspi_gc&amp;\n"
     ]
    },
    {
     "data": {
      "text/markdown": [
       "### INTGAL (ivo://nasa.heasarc/skyview/intgal)"
      ],
      "text/plain": [
       "<IPython.core.display.Markdown object>"
      ]
     },
     "metadata": {},
     "output_type": "display_data"
    },
    {
     "name": "stdout",
     "output_type": "stream",
     "text": [
      "This survey combines 9 years of INTEGRAL IBIS observations from December 2002 through January 2011 into a single Galactic Plane image. A total of 135 megaseconds of exposure is included in the observations used. Survey data is generated for the Galactic plane in the region |b| &amp;lt;= 17.5. The original flux data has been convolved with 5' seeing kernel. To minimize loss of resolution in transformations, the Lanczos sampler is suggested as the default, but may be overriden by the user. Both the preconvolved and standard convolved maps are available at the &amp;lt;a href=\"http://hea.iki.rssi.ru/integral/nine-years-galactic-survey/index.php\"&amp;gt;Web site&amp;lt;/a&amp;gt;. &amp;lt;p&amp;gt; The exposure and sensitivity vary considerably over the coverage region, but 90% of the field has a limiting sensitivity better than 2.2&amp;amp;nbsp;x&amp;amp;nbsp;10&amp;lt;sup&amp;gt;-11&amp;lt;/sup&amp;gt;ergs&amp;amp;nbsp;s&amp;lt;sup&amp;gt;-1&amp;lt;/sup&amp;gt;cm&amp;lt;sup&amp;gt;-2&amp;lt;/sup&amp;gt; or about 1.56 mCrab. Further details of the survey construction are given in the reference. &amp;lt;p&amp;gt; The flux and significance maps use the PSF convolved maps from the survey. The flux maps are in millicrab units. Exposure maps (with exposures in seconds) were from the exposure extension in the MAPDLD files and give the dead-time corrected exposure in seconds. &amp;lt;p&amp;gt; Links to the exposure and significance maps corresponding to the requested region will be given in the Web output. These maps can be generated directly in the CLI interface. For each waveband the flux, significance and exposure maps are available with just the end of the survey names distinguishing them (e.g., INT Gal 17-35 [Flux|Sig|Exp] or INTGal1735[F|S|E])\n",
      "More info: https://skyview.gsfc.nasa.gov\n",
      "Access URL: https://skyview.gsfc.nasa.gov/cgi-bin/vo/sia.pl?survey=intgal&amp;\n"
     ]
    },
    {
     "data": {
      "text/markdown": [
       "### INTGAL1735E (ivo://nasa.heasarc/skyview/intgal1735e)"
      ],
      "text/plain": [
       "<IPython.core.display.Markdown object>"
      ]
     },
     "metadata": {},
     "output_type": "display_data"
    },
    {
     "name": "stdout",
     "output_type": "stream",
     "text": [
      "This survey combines 9 years of INTEGRAL IBIS observations from December 2002 through January 2011 into a single Galactic Plane image. A total of 135 megaseconds of exposure is included in the observations used. Survey data is generated for the Galactic plane in the region |b| &amp;lt;= 17.5. The original flux data has been convolved with 5' seeing kernel. To minimize loss of resolution in transformations, the Lanczos sampler is suggested as the default, but may be overriden by the user. Both the preconvolved and standard convolved maps are available at the &amp;lt;a href=\"http://hea.iki.rssi.ru/integral/nine-years-galactic-survey/index.php\"&amp;gt;Web site&amp;lt;/a&amp;gt;. &amp;lt;p&amp;gt; The exposure and sensitivity vary considerably over the coverage region, but 90% of the field has a limiting sensitivity better than 2.2&amp;amp;nbsp;x&amp;amp;nbsp;10&amp;lt;sup&amp;gt;-11&amp;lt;/sup&amp;gt;ergs&amp;amp;nbsp;s&amp;lt;sup&amp;gt;-1&amp;lt;/sup&amp;gt;cm&amp;lt;sup&amp;gt;-2&amp;lt;/sup&amp;gt; or abintgal\\.xml\\.out 1.56 mCrab. Further details of the survey construction are given in the reference. &amp;lt;p&amp;gt; The flux and significance maps use the PSF convolved maps from the survey. The flux maps are in millicrab units. Exposure maps (with exposures in seconds) were from the exposure extension in the MAPDLD files and give the dead-time corrected exposure in seconds. &amp;lt;p&amp;gt; Links to the exposure and significance maps corresponding to the requested region will be given in the Web intgal\\.xml\\.output. These maps can be generated directly in the CLI interface. For each waveband the flux, significance and exposure maps are available with just the end of the survey names distinguishing them (e.g., INT Gal 17-35 [Flux|Sig|Exp] or INTGal1735[F|S|E])\n",
      "More info: https://skyview.gsfc.nasa.gov\n",
      "Access URL: https://skyview.gsfc.nasa.gov/cgi-bin/vo/sia.pl?survey=intgal1735e&amp;\n"
     ]
    },
    {
     "data": {
      "text/markdown": [
       "### IRAS (ivo://nasa.heasarc/skyview/iras)"
      ],
      "text/plain": [
       "<IPython.core.display.Markdown object>"
      ]
     },
     "metadata": {},
     "output_type": "display_data"
    },
    {
     "name": "stdout",
     "output_type": "stream",
     "text": [
      "The IRAS data include all data distributed as part of the IRAS Sky Survey Atlas. Data from the four IRAS bands are shown as individual surveys in SkyView. Users should be aware that IPAC does not encourage the use of data near the ecliptic plane as they feel that contribution from local cirrus emission is significant. &amp;lt;p&amp;gt; The data are distributed in sets of 430 maps. Each map covers approximately 12.5x12.5 degrees, and the map centers are offset by 5 degrees so that there is a 2.5 degree overlap. IPAC has processed to a uniform standard so that excellent mosaics of the maps can be made. Users should be cautious of data in saturated regions. Known problems in the analysis mean that data values are unlikely to be correct. Note that IPAC has optimized the processing of these data for features of 5' or more although the resolution of the data is closer to the 1.5' pixel size. &amp;lt;p&amp;gt; There are occasional pixels in the IRAS maps which are given as NULL values. Unless these are explicitly trapped by user software, these data will appear as large negative values. SkyView ignores these pixels when determining the color scale to display an image. &amp;lt;p&amp;gt; Essentially the entire sky is covered by the survey. However there are a few regions not surveyed and the data values in these regions are suspect. These are given to users as delivered from IPAC.\n",
      "More info: https://skyview.gsfc.nasa.gov\n",
      "Access URL: https://skyview.gsfc.nasa.gov/cgi-bin/vo/sia.pl?survey=iras&amp;\n"
     ]
    },
    {
     "data": {
      "text/markdown": [
       "### IRIS (ivo://nasa.heasarc/skyview/iris)"
      ],
      "text/plain": [
       "<IPython.core.display.Markdown object>"
      ]
     },
     "metadata": {},
     "output_type": "display_data"
    },
    {
     "name": "stdout",
     "output_type": "stream",
     "text": [
      "The IRIS data is a reprocessing of the IRAS data set and has the same geometry as the IRAS Sky Survey Atlas (ISSA, labeled as IRAS nnn micron in &amp;lt;i&amp;gt;SkyView&amp;lt;/i&amp;gt;) surveys. This new generation of IRAS images, called IRIS, benefits from a better zodiacal light subtraction, from a calibration and zero level compatible with DIRBE, and from a better destriping. At 100 micron the IRIS product is also a significant improvement from the Schlegel et al. (1998) maps. IRIS keeps the full ISSA resolution, it includes well calibrated point sources and the diffuse emission calibration at scales smaller than 1 degree was corrected for the variation of the IRAS detector responsivity with scale and brightness. The uncertainty on the IRIS calibration and zero level are dominated by the uncertainty on the DIRBE calibration and on the accuracy of the zodiacal light model. &amp;lt;p&amp;gt; More information abiris\\.xml\\.out the IRIS dataset is available at &amp;lt;a href=http://www.cita.utoronto.ca/~mamd/IRIS&amp;gt; the IRIS Web site&amp;lt;/a&amp;gt; whence most of the preceding description came.\n",
      "More info: https://skyview.gsfc.nasa.gov\n",
      "Access URL: https://skyview.gsfc.nasa.gov/cgi-bin/vo/sia.pl?survey=iris&amp;\n"
     ]
    },
    {
     "data": {
      "text/markdown": [
       "### MELLINGER (ivo://nasa.heasarc/skyview/mellinger)"
      ],
      "text/plain": [
       "<IPython.core.display.Markdown object>"
      ]
     },
     "metadata": {},
     "output_type": "display_data"
    },
    {
     "name": "stdout",
     "output_type": "stream",
     "text": [
      "This all sky mosaic was created by Axel Mellinger and is used in &amp;lt;i&amp;gt;SkyView&amp;lt;/i&amp;gt; with his permission. A fuller description is available at the &amp;lt;a href=\"http://home.arcor.de/axel.mellinger/\"&amp;gt;survey web site&amp;lt;/a&amp;gt;. &amp;lt;p&amp;gt; Between October 2007 and August 2009 a digital all-sky mosaic was assembled from more than 3000 individual CCD frames. Using an SBIG STL-11000 camera, 70 fields (each covering 40x27 degrees) were imaged from dark-sky locations in Smellinger\\.xml\\.outh Africa, Texas and Michigan. In order to increase the dynamic range beyond the 16 bits of the camera's analog-to-digital converter (of which approximately 12 bits provide data above the noise leve) three different exposure times (240s, 15s and 0.5 s) were used. Five frames were taken for each exposure time and filter setting. The frames were photometrically calibrated using standard catalog stars and sky background data from the Pioneer 10 and 11 space probes. the panorama has an image scale of 36\"/pixel and a limiting magnitude of approximately 14. The survey has an 18 bit dynamic range. &amp;lt;p&amp;gt; The processing of these data used a custom data pipeline built using IRAF, Source Extractor and SWarp. &amp;lt;p&amp;gt; The data used here were converted to three independent RGB color planes of 8 bits each and provided to SkyView as a single 36000x18000x3 Cartesian projection cube. To allow users to efficiently sample data in a region of the sky, this cube was broken up into 2100x2100 pixel regions with a 50 pixel overlap between adjacent images. Tiles at the poles were 2100x2050. &amp;lt;p&amp;gt; In &amp;lt;i&amp;gt;SkyView&amp;lt;/i&amp;gt; each color plane comprises a survey. The individual planes may be sampled as surveys independently as Mellinger-R, Mellinger-G and Mellinger-B. The color mosaics can be regenerated by creating an RGB image of all three surveys. Since &amp;lt;i&amp;gt;SkyView&amp;lt;/i&amp;gt; may stretch the intensity values within each color, linear scaling and a minimum of 0 and maximum of 255 should be specified to keep the original intensity scalings. &amp;lt;p&amp;gt; The full spatial resolution data is used for images of less than 30 degrees on a side. If a user requests a larger region, data are sampled from a lower resolution 3600x1800x3 data cube. Please contact the survey author if you need to use the higher resolution data for larger regions. The Mellinger survey is only available in &amp;lt;i&amp;gt;SkyView&amp;lt;/i&amp;gt; through the Web site. SkyView-in-a-Jar cannot access the underlying data.\n",
      "More info: https://skyview.gsfc.nasa.gov\n",
      "Access URL: https://skyview.gsfc.nasa.gov/cgi-bin/vo/sia.pl?survey=mellinger&amp;\n"
     ]
    },
    {
     "data": {
      "text/markdown": [
       "### NEAT (ivo://nasa.heasarc/skyview/neat)"
      ],
      "text/plain": [
       "<IPython.core.display.Markdown object>"
      ]
     },
     "metadata": {},
     "output_type": "display_data"
    },
    {
     "name": "stdout",
     "output_type": "stream",
     "text": [
      "The NEAT/SkyMorph survey provides access to the archives of the Near Earth Asteroid Tracking (NEAT) project. NEAT is designed to look for potentially hazardous asteroids, i.e., those whose orbits cross the Earth's. Over 200,000 images are available in the NEAT archive. &amp;lt;a href=https://skyview.gsfc.nasa.gov/skymorph/skymorph.html&amp;gt;SkyMorph&amp;lt;/a&amp;gt; provides a Web interface to the NEAT images and allows users to select all images in which a given fixed or moving object is found. &amp;lt;p&amp;gt; Unlike most &amp;lt;i&amp;gt;SkyView&amp;lt;/i&amp;gt; surveys, the NEAT data are extremely irregular in their spatial distribution. &amp;lt;i&amp;gt;SkyView&amp;lt;/i&amp;gt;'s algorithms for mosaicking images together to form large images are not adequate for the NEAT data, so mosaicking is surpressed. Only data within a single NEAT image will be displayed. The system attempts to find the most recent image within which has a offset in both RA and Dec of less than 0.8 degrees. If no such image is found, then an image with the minimum offset is returned, or the search may fail altogether if there are no nearby plates. The NEAT telescope uses an array of 4 CCDs. The backgrounds of the CCDs may differ significantly. &amp;lt;p&amp;gt; The NEAT survey covers approximately 30% of the sky. Extreme southern and low-Galactic latitude regions are unsurveyed. Coverage is otherwise particularly dense in the ecliptic plane. &amp;lt;p&amp;gt; NEAT data consists primarily of groups of three images taken with separations of 20 minutes and almost identical positions. &amp;lt;i&amp;gt; SkyView &amp;lt;/i&amp;gt; will normally return the last of a 'triplet'. The SkyMorph site can be used to display an overlay of triplets to look for targets which moved during the interval between images. &amp;lt;p&amp;gt; A catalog of objects detected in the NEAT/SkyMorph pages is accessible through the SkyMorph pages. 'Light-curves' from all images during which an object was in the NEAT field of view can also be generated. &amp;lt;P&amp;gt; The NEAT data values are in arbitrary density units. To enhance the display data are transformed such that all pixels below the median values are scaled linearly to values 0-20, while all pixels above the median are shifted (but not scaled) to values greater than 20.\n",
      "More info: https://skyview.gsfc.nasa.gov\n",
      "Access URL: https://skyview.gsfc.nasa.gov/cgi-bin/vo/sia.pl?survey=neat&amp;\n"
     ]
    },
    {
     "data": {
      "text/markdown": [
       "### nH (ivo://nasa.heasarc/skyview/nh)"
      ],
      "text/plain": [
       "<IPython.core.display.Markdown object>"
      ]
     },
     "metadata": {},
     "output_type": "display_data"
    },
    {
     "name": "stdout",
     "output_type": "stream",
     "text": [
      "This survey is derived from the 21cm maps presented by Dickey and Lockman in the &amp;lt;i&amp;gt;ARAA&amp;lt;/i&amp;gt; 28, p215. The nH is derived assuming optically thin emission. The nH given should be considered a lower limit when the nH is greater than several times 10&amp;lt;sup&amp;gt;20&amp;lt;/sup&amp;gt;.\n",
      "More info: https://skyview.gsfc.nasa.gov\n",
      "Access URL: https://skyview.gsfc.nasa.gov/cgi-bin/vo/sia.pl?survey=nh&amp;\n"
     ]
    },
    {
     "data": {
      "text/markdown": [
       "### NUMASTER (ivo://nasa.heasarc/numaster)"
      ],
      "text/plain": [
       "<IPython.core.display.Markdown object>"
      ]
     },
     "metadata": {},
     "output_type": "display_data"
    },
    {
     "name": "stdout",
     "output_type": "stream",
     "text": [
      "The Nuclear Spectroscopic Telescope Array (NuSTAR) mission, launched on 2012 June 13, is the first focusing high-energy X-ray telescope in orbit. NuSTAR operates in the band from 3 to 79 keV, extending the sensitivity of focusing far beyond the ~10 keV high-energy cutoff achieved by all previous X-ray satellites. The inherently low background associated with concentrating the X-ray light enables NuSTAR to probe the hard X-ray sky with a more than 100-fold improvement in sensitivity over the collimated or coded mask instruments that have operated in this bandpass. Using its unprecedented combination of sensitivity and spatial and spectral resolution, NuSTAR will pursue five primary scientific objectives: (1) probe obscured active galactic nucleus (AGN) activity out to the peak epoch of galaxy assembly in the universe (at z &amp;lt;~ 2) by surveying selected regions of the sky; (2) study the population of hard X-ray-emitting compact objects in the Galaxy by mapping the central regions of the Milky Way; (3) study the non-thermal radiation in young supernova remnants, both the hard X-ray continuum and the emission from the radioactive element &amp;lt;sup&amp;gt;44&amp;lt;/sup&amp;gt;Ti; (4) observe blazars contemporaneously with ground-based radio, optical, and TeV telescopes, as well as with Fermi and Swift, to constrain the structure of AGN jets; and (5) observe line and continuum emission from core-collapse supernovae in the Local Group, and from nearby Type Ia events, to constrain explosion models. During its baseline two-year mission, NuSTAR will also undertake a broad program of targeted observations. The observatory consists of two co-aligned grazing-incidence X-ray telescopes pointed at celestial targets by a three-axis stabilized spacecraft. Deployed into a 600-km, near-circular, 6&amp;lt;sup&amp;gt;o&amp;lt;/sup&amp;gt; inclination orbit, the observatory is performing consistent with pre-launch expectations. NuSTAR is now completing its primary science mission, and with an expected orbit lifetime of 10 yr, the opportunity for proposing observations as part of the guest observer program is now available, with observations beginning in 2015. This table contains a list of (a) unobserved targets that are planned or have been accepted for observation by NuSTAR in the future and (b) NuSTAR observations which have been processed and successfully validated by the NuSTAR Science Operation Center. The data from these observations may or may not be public. The user should check the value of the public_date parameter to determine the status of a specified data set: only those ObsIDs which have a public_date in the past will have data publicly available. Observations with a public_date parameter value which is either blank or a date in the future are still considered proprietary. Such data sets have been ingested into the HEASARC archive but will remain encrypted until their public date. Entries with status set to accepted are targets approved for scheduling with a planned exposure time given in the exposure_a (and exposure_b) parameter as a negative value.\n",
      "More info: https://heasarc.gsfc.nasa.gov/W3Browse/all/numaster.html\n",
      "Access URL: https://heasarc.gsfc.nasa.gov/xamin/vo/sia?table=numaster&amp;\n"
     ]
    },
    {
     "data": {
      "text/markdown": [
       "### NVSS (ivo://nasa.heasarc/skyview/nvss)"
      ],
      "text/plain": [
       "<IPython.core.display.Markdown object>"
      ]
     },
     "metadata": {},
     "output_type": "display_data"
    },
    {
     "name": "stdout",
     "output_type": "stream",
     "text": [
      "&amp;lt;i&amp;gt; SkyView &amp;lt;/i&amp;gt; has copied the NVSS intensity data from the NRAO FTP site. The full NVSS survey data includes information on other Stokes parameters. &amp;lt;p&amp;gt; Observations for the 1.4 GHz NRAO VLA Sky Survey (NVSS) began in 1993 September and should cover the sky north of -40 deg declination (82% of the celestial sphere) before the end of 1996. The principal data products are: &amp;lt;ol&amp;gt; &amp;lt;li&amp;gt; A set of 2326 continuum map \"cubes,\" each covering 4 deg X 4 deg with three planes containing Stokes I, Q, and U images. These maps were made with a relatively large restoring beam (45 arcsec FWHM) to yield the high surface-brightness sensitivity needed for completeness and photometric accuracy. Their rms brightness fluctuations are about 0.45 mJy/beam = 0.14 K (Stokes I) and 0.29 mJy/beam = 0.09 K (Stokes Q and U). The rms uncertainties in right ascension and declination vary from 0.3 arcsec for strong (S &amp;gt; 30 mJy) point sources to 5 arcsec for the faintest (S = 2.5 mJy) detectable sources. &amp;lt;li&amp;gt; Lists of discrete sources. &amp;lt;/ol&amp;gt; The NVSS is being made as a service to the astronomical community, and the data products are being released as soon as they are produced and verified. &amp;lt;P&amp;gt; The NVSS survey is included on the &amp;lt;b&amp;gt;SkyView High Resolution Radio Coverage &amp;lt;/b&amp;gt;&amp;lt;a href=\"https://skyview.gsfc.nasa.gov/images/high_res_radio.jpg\"&amp;gt; map&amp;lt;/a&amp;gt;. This map shows coverage on an Aitoff projection of the sky in equatorial coordinates. &amp;lt;p&amp;gt;\n",
      "More info: https://skyview.gsfc.nasa.gov\n",
      "Access URL: https://skyview.gsfc.nasa.gov/cgi-bin/vo/sia.pl?survey=nvss&amp;\n"
     ]
    },
    {
     "data": {
      "text/markdown": [
       "### Planck (ivo://nasa.heasarc/skyview/planck)"
      ],
      "text/plain": [
       "<IPython.core.display.Markdown object>"
      ]
     },
     "metadata": {},
     "output_type": "display_data"
    },
    {
     "name": "stdout",
     "output_type": "stream",
     "text": [
      "Planck is ESA's third generation space based cosmic microwave background experiment, operating at nine frequencies between 30 and 857 GHz and was launched May 2009. Planck provides all-sky survey data at all nine frequencies with higher resolution at the 6 higher frequencies. It provides substantially higher resolution and sensitivity than WMAP. Planck orbits in the L2 Lagrange point. These data come from Release 1 of the Planck mission. &amp;lt;p&amp;gt; The original data are stored in HEALPix pixels. SkyView treats HEALPix as a standard projection but assumes that the HEALPix data is in a projection plane with a rotation of -45 degrees. The rotation transforms the HEALPix pixels from diamonds to squares so that the boundaries of the pixels are treated properly. The special HealPixImage class is used so that SkyView can use the HEALPix FITS files directly. The HealPixImage simulates a rectangular image but translates the pixels from that image to the nested HEALPix structure that is used by the HEALPix data. Users of the SkyView Jar will be able to access this survey through the web but performance may be poor since the FITS files are 150 to 600 MB in size and must be completely read in. SkyView will not automatically cache these files on the user machine as is done for non-HEALPix surveys. &amp;lt;/p&amp;gt; Data from the frequencies of 100 GHz or higher are stored in a HEALPix file with a resolution of approximately 1.7' while lower frequencies are stored with half that resolution, approximately 3.4'.\n",
      "More info: https://skyview.gsfc.nasa.gov\n",
      "Access URL: https://skyview.gsfc.nasa.gov/cgi-bin/vo/sia.pl?survey=planck&amp;\n"
     ]
    },
    {
     "data": {
      "text/markdown": [
       "### Planck030 (ivo://nasa.heasarc/skyview/planck030)"
      ],
      "text/plain": [
       "<IPython.core.display.Markdown object>"
      ]
     },
     "metadata": {},
     "output_type": "display_data"
    },
    {
     "name": "stdout",
     "output_type": "stream",
     "text": [
      "Planck is ESA's third generation space based cosmic microwave background experiment, operating at nine frequencies between 30 and 857 GHz and was launched May 2009. Planck provides all-sky survey data at all nine frequencies with higher resolution at the 6 higher frequencies. It provides substantially higher resolution and sensitivity than WMAP. Planck orbits in the L2 Lagrange point. These data come from Release 1 of the Planck mission. &amp;lt;p&amp;gt; The original data are stored in HEALPix pixels. SkyView treats HEALPix as a standard projection but assumes that the HEALPix data is in a projection plane with a rotation of -45 degrees. The rotation transforms the HEALPix pixels from diamonds to squares so that the boundaries of the pixels are treated properly. The special HealPixImage class is used so that SkyView can use the HEALPix FITS files directly. The HealPixImage simulates a rectangular image but translates the pixels from that image to the nested HEALPix structure that is used by the HEALPix data. Users of the SkyView Jar will be able to access this survey through the web but performance may be poor since the FITS files are 150 to 600 MB in size and must be completely read in. SkyView will not automatically cache these files on the user machine as is done for non-HEALPix surveys. &amp;lt;/p&amp;gt; Data from the frequencies of 100 GHz or higher are stored in a HEALPix file with a resolution of approximately 1.7' while lower frequencies are stored with half that resolution, approximately 3.4'.\n",
      "More info: https://skyview.gsfc.nasa.gov\n",
      "Access URL: https://skyview.gsfc.nasa.gov/cgi-bin/vo/sia.pl?survey=planck030&amp;\n"
     ]
    },
    {
     "data": {
      "text/markdown": [
       "### PMN (ivo://nasa.heasarc/skyview/pmn)"
      ],
      "text/plain": [
       "<IPython.core.display.Markdown object>"
      ]
     },
     "metadata": {},
     "output_type": "display_data"
    },
    {
     "name": "stdout",
     "output_type": "stream",
     "text": [
      "The 4850MHz data is a combination of data from three different surveys: Parkes-MIT-NRAO (PMN) Southern (-88&amp;amp;amp;#176; to -37&amp;amp;amp;#176; declination) and tropical surveys (-29&amp;amp;amp;#176; to -9&amp;amp;amp;#176; declination, and (86+87) Green Bank survey (0&amp;amp;amp;#176; to +75&amp;amp;amp;#176; declination). The data contains gaps between -27&amp;amp;amp;#176; to -39&amp;amp;amp;#176;, -9&amp;amp;amp;#176; to 0&amp;amp;amp;#176;, and +77&amp;amp;amp;#176; to +90&amp;amp;amp;#176; declination. The 4850MHz survey data were obtained by tape from J.J. Condon and are comprised of 576 images and are used by permission. Full information pertaining to these surveys are found in the references.&amp;lt;P&amp;gt;\n",
      "More info: https://skyview.gsfc.nasa.gov\n",
      "Access URL: https://skyview.gsfc.nasa.gov/cgi-bin/vo/sia.pl?survey=pmn&amp;\n"
     ]
    },
    {
     "data": {
      "text/markdown": [
       "### PSPC0.6Int (ivo://nasa.heasarc/skyview/pspc0.6int)"
      ],
      "text/plain": [
       "<IPython.core.display.Markdown object>"
      ]
     },
     "metadata": {},
     "output_type": "display_data"
    },
    {
     "name": "stdout",
     "output_type": "stream",
     "text": [
      "The ROSAT PSPC surveys were generated by &amp;lt;i&amp;gt; SkyView &amp;lt;/i&amp;gt; as mosaics from publically available PSPC observations. The surveys include all data available through March 1, 1997. This includes the vast majority of ROSAT PSPC observations. Filter observations and observations taken during the verification phase in 1991 were not included in either set. The details of the generation of the surveys are discussed in a &amp;lt;a href=\"https://skyview.gsfc.nasa.gov/help/pspc_generation.html\"&amp;gt; companion document&amp;lt;/a&amp;gt;. Basically the counts and exposure from all observations were added and then an intensity map was generated as the ratio of the two. &amp;lt;p&amp;gt; The smaller cut-offs allow users to distinguish point sources in fields where a bright source may have been towards the edge of one observation and near the center of another. In these cases the source appears fuzzy due to the poor resolution of ROSAT near the edge of the field of view. This comes at the cost of a substantial reduction in the fraction of the sky covered. Counts and exposure maps are included for users who may need this information (&amp;lt;i&amp;gt;e.g.&amp;lt;/i&amp;gt;, to do statistical analysis). &amp;lt;p&amp;gt; The global organization of the surveys is similar to the IRAS survey. Each map covers an area of 2.5&amp;amp;amp;#176;x2.5&amp;amp;amp;#176; with a minimum overlap of 0.25&amp;amp;amp;#176;. To cover the entire sky would require over 10,000 maps. However due to lack of coverage only approximately 4000-6000 maps are actually populated. Users asking for reqions where there is no ROSAT coverage may get a blank region returned. &amp;lt;p&amp;gt; Detailed information regarding the creation of the ROSAT suveys can be found in the &amp;lt;a href=\"https://skyview.gsfc.nasa.gov/help/pspc_generation.html\"&amp;gt; ROSAT PSPC Generation Document&amp;lt;/a&amp;gt;.\n",
      "More info: https://skyview.gsfc.nasa.gov\n",
      "Access URL: https://skyview.gsfc.nasa.gov/cgi-bin/vo/sia.pl?survey=pspc0.6int&amp;\n"
     ]
    },
    {
     "data": {
      "text/markdown": [
       "### PSPC1 (ivo://nasa.heasarc/skyview/pspc1)"
      ],
      "text/plain": [
       "<IPython.core.display.Markdown object>"
      ]
     },
     "metadata": {},
     "output_type": "display_data"
    },
    {
     "name": "stdout",
     "output_type": "stream",
     "text": [
      "The ROSAT PSPC surveys were generated by &amp;lt;i&amp;gt; SkyView &amp;lt;/i&amp;gt; as mosaics from publically available PSPC observations. The surveys include all data available through March 1, 1997. This includes the vast majority of ROSAT PSPC observations. Filter observations and observations taken during the verification phase in 1991 were not included in either set. The details of the generation of the surveys are discussed in a &amp;lt;a href=\"https://skyview.gsfc.nasa.gov/help/pspc_generation.html\"&amp;gt; companion document&amp;lt;/a&amp;gt;. Basically the counts and exposure from all observations were added and then an intensity map was generated as the ratio of the two. &amp;lt;p&amp;gt; The smaller cut-offs allow users to distinguish point sources in fields where a bright source may have been towards the edge of one observation and near the center of another. In these cases the source appears fuzzy due to the poor resolution of ROSAT near the edge of the field of view. This comes at the cost of a substantial reduction in the fraction of the sky covered. Counts and exposure maps are included for users who may need this information (&amp;lt;i&amp;gt;e.g.&amp;lt;/i&amp;gt;, to do statistical analysis). &amp;lt;p&amp;gt; The global organization of the surveys is similar to the IRAS survey. Each map covers an area of 2.5&amp;amp;amp;#176;x2.5&amp;amp;amp;#176; with a minimum overlap of 0.25&amp;amp;amp;#176;. To cover the entire sky would require over 10,000 maps. However due to lack of coverage only approximately 4000-6000 maps are actually populated. Users asking for reqions where there is no ROSAT coverage may get a blank region returned. &amp;lt;p&amp;gt; Detailed information regarding the creation of the ROSAT suveys can be found in the &amp;lt;a href=\"https://skyview.gsfc.nasa.gov/help/pspc_generation.html\"&amp;gt; ROSAT PSPC Generation Document&amp;lt;/a&amp;gt;.\n",
      "More info: https://skyview.gsfc.nasa.gov\n",
      "Access URL: https://skyview.gsfc.nasa.gov/cgi-bin/vo/sia.pl?survey=pspc1&amp;\n"
     ]
    },
    {
     "data": {
      "text/markdown": [
       "### PSPC2 (ivo://nasa.heasarc/skyview/pspc2)"
      ],
      "text/plain": [
       "<IPython.core.display.Markdown object>"
      ]
     },
     "metadata": {},
     "output_type": "display_data"
    },
    {
     "name": "stdout",
     "output_type": "stream",
     "text": [
      "The ROSAT PSPC surveys were generated by &amp;lt;i&amp;gt; SkyView &amp;lt;/i&amp;gt; as mosaics from publically available PSPC observations. The surveys include all data available through March 1, 1997. This includes the vast majority of ROSAT PSPC observations. Filter observations and observations taken during the verification phase in 1991 were not included in either set. The details of the generation of the surveys are discussed in a &amp;lt;a href=\"https://skyview.gsfc.nasa.gov/help/pspc_generation.html\"&amp;gt; companion document&amp;lt;/a&amp;gt;. Basically the counts and exposure from all observations were added and then an intensity map was generated as the ratio of the two. &amp;lt;p&amp;gt; The smaller cut-offs allow users to distinguish point sources in fields where a bright source may have been towards the edge of one observation and near the center of another. In these cases the source appears fuzzy due to the poor resolution of ROSAT near the edge of the field of view. This comes at the cost of a substantial reduction in the fraction of the sky covered. Counts and exposure maps are included for users who may need this information (&amp;lt;i&amp;gt;e.g.&amp;lt;/i&amp;gt;, to do statistical analysis). &amp;lt;p&amp;gt; The global organization of the surveys is similar to the IRAS survey. Each map covers an area of 2.5&amp;amp;amp;#176;x2.5&amp;amp;amp;#176; with a minimum overlap of 0.25&amp;amp;amp;#176;. To cover the entire sky would require over 10,000 maps. However due to lack of coverage only approximately 4000-6000 maps are actually populated. Users asking for reqions where there is no ROSAT coverage may get a blank region returned. &amp;lt;p&amp;gt; Detailed information regarding the creation of the ROSAT suveys can be found in the &amp;lt;a href=\"https://skyview.gsfc.nasa.gov/help/pspc_generation.html\"&amp;gt; ROSAT PSPC Generation Document&amp;lt;/a&amp;gt;.\n",
      "More info: https://skyview.gsfc.nasa.gov\n",
      "Access URL: https://skyview.gsfc.nasa.gov/cgi-bin/vo/sia.pl?survey=pspc2&amp;\n"
     ]
    },
    {
     "data": {
      "text/markdown": [
       "### PSPC6 (ivo://nasa.heasarc/skyview/pspc6)"
      ],
      "text/plain": [
       "<IPython.core.display.Markdown object>"
      ]
     },
     "metadata": {},
     "output_type": "display_data"
    },
    {
     "name": "stdout",
     "output_type": "stream",
     "text": [
      "The ROSAT PSPC surveys were generated by &lt;i&gt; SkyView &lt;/i&gt; as mosaics from publically available PSPC observations. The surveys include all data available through March 1, 1997. This includes the vast majority of ROSAT PSPC observations. Filter observations and observations taken during the verification phase in 1991 were not included in either set. The details of the generation of the surveys are discussed in a &lt;a href=\"https://skyview.gsfc.nasa.gov/help/pspc_generation.html\"&gt; companion document&lt;/a&gt;. Basically the counts and exposure from all observations were added and then an intensity map was generated as the ratio of the two. &lt;p&gt; The smaller cut-offs allow users to distinguish point sources in fields where a bright source may have been towards the edge of one observation and near the center of another. In these cases the source appears fuzzy due to the poor resolution of ROSAT near the edge of the field of view. This comes at the cost of a substantial reduction in the fraction of the sky covered. Counts and exposure maps are included for users who may need this information (&lt;i&gt;e.g.&lt;/i&gt;, to do statistical analysis). &lt;p&gt; The global organization of the surveys is similar to the IRAS survey. Each map covers an area of 2.5&amp;amp;amp;#176;x2.5&amp;amp;amp;#176; with a minimum overlap of 0.25&amp;amp;amp;#176;. To cover the entire sky would require over 10,000 maps. However due to lack of coverage only approximately 4000-6000 maps are actually populated. Users asking for reqions where there is no ROSAT coverage may get a blank region returned. &lt;p&gt; Detailed information regarding the creation of the ROSAT suveys can be found in the &lt;a href=\"https://skyview.gsfc.nasa.gov/help/pspc_generation.html\"&gt; ROSAT PSPC Generation Document&lt;/a&gt;.\n",
      "More info: https://skyview.gsfc.nasa.gov\n",
      "Access URL: https://skyview.gsfc.nasa.gov/cgi-bin/vo/sia.pl?survey=pspc6&amp;\n"
     ]
    },
    {
     "data": {
      "text/markdown": [
       "### RASS3 (ivo://nasa.heasarc/skyview/rass3)"
      ],
      "text/plain": [
       "<IPython.core.display.Markdown object>"
      ]
     },
     "metadata": {},
     "output_type": "display_data"
    },
    {
     "name": "stdout",
     "output_type": "stream",
     "text": [
      "The ROSAT All-Sky X-ray Survey was obtained during 1990/1991 using the ROSAT Position Sensitive Proportional Counter (PSPC) in combination with the ROSAT X-ray Telescope (XRT). More than 60,000 X-ray sources were detected during this time. &amp;lt;p&amp;gt; SkyView has multiple surveys derived from the RASS data. The surveys whose RASS are counts and exposure maps from the survey. Previously The RASSBCK maps have had the point sources removed to show the diffuse X-ray background and are presended at lower resolution. &amp;lt;p&amp;gt; The full-resolution RASS surveys data are organized in 1378 fields each 6.4&amp;amp;amp;#176; x 6.4&amp;amp;amp;#176; covering the whole sky. Neighboring fields overlap by at least 0.23&amp;amp;amp;#176;.&amp;lt;p&amp;gt; Three bands are available through &amp;lt;i&amp;gt;SkyView&amp;lt;/i&amp;gt; &amp;lt;UL&amp;gt; &amp;lt;LI&amp;gt; broad band (0.1-2.4 keV) &amp;lt;LI&amp;gt; hard band (0.5-2.0 keV) &amp;lt;LI&amp;gt; soft band (0.1-0.4 keV) &amp;lt;/ul&amp;gt; Data was dowloaded from the &amp;lt;a href=\"http://www.xray.mpe.mpg.de/rosat/survey/rass-3/main/help.html#ftp\"&amp;gt;MPE FTP site&amp;lt;/a&amp;gt;. &amp;lt;p&amp;gt; The intensity maps are created from the exposure maps using the single exposure map available which is appropriate for the broad band images, so the intensities of the hard and soft bands are only approximate.\n",
      "More info: https://skyview.gsfc.nasa.gov\n",
      "Access URL: https://skyview.gsfc.nasa.gov/cgi-bin/vo/sia.pl?survey=rass3&amp;\n"
     ]
    },
    {
     "data": {
      "text/markdown": [
       "### RASSALL (ivo://nasa.heasarc/skyview/rassall)"
      ],
      "text/plain": [
       "<IPython.core.display.Markdown object>"
      ]
     },
     "metadata": {},
     "output_type": "display_data"
    },
    {
     "name": "stdout",
     "output_type": "stream",
     "text": [
      "The ROSAT All-Sky X-ray Survey was obtained during 1990/1991 using the ROSAT Position Sensitive Proportional Counter (PSPC) in combination with the ROSAT X-ray Telescope (XRT). More than 60,000 X-ray sources were detected during this time. &lt;p&gt; SkyView has multiple surveys derived from the RASS data. The surveys whose RASS are counts and exposure maps from the survey. Previously The RASSBCK maps have had the point sources removed to show the diffuse X-ray background and are presended at lower resolution. &lt;p&gt; The full-resolution RASS surveys data are organized in 1378 fields each 6.4&amp;amp;amp;#176; x 6.4&amp;amp;amp;#176; covering the whole sky. Neighboring fields overlap by at least 0.23&amp;amp;amp;#176;.&lt;p&gt; Three bands are available through &lt;i&gt;SkyView&lt;/i&gt; &lt;UL&gt; &lt;LI&gt; broad band (0.1-2.4 keV) &lt;LI&gt; hard band (0.5-2.0 keV) &lt;LI&gt; soft band (0.1-0.4 keV) &lt;/ul&gt; Data was dowloaded from the &lt;a href=\"http://www.xray.mpe.mpg.de/rosat/survey/rass-3/main/help.html#ftp\"&gt;MPE FTP site&lt;/a&gt;. &lt;p&gt; The intensity maps are created from the exposure maps using the single exposure map available which is appropriate for the broad band images, so the intensities of the hard and soft bands are only approximate.\n",
      "More info: https://skyview.gsfc.nasa.gov\n",
      "Access URL: https://skyview.gsfc.nasa.gov/cgi-bin/vo/sia.pl?survey=rassall&amp;\n"
     ]
    },
    {
     "data": {
      "text/markdown": [
       "### RASSBACK (ivo://nasa.heasarc/skyview/rassback)"
      ],
      "text/plain": [
       "<IPython.core.display.Markdown object>"
      ]
     },
     "metadata": {},
     "output_type": "display_data"
    },
    {
     "name": "stdout",
     "output_type": "stream",
     "text": [
      "These maps present maps of ROSAT soft X-ray all-sky survey as presented in Snowden et al, ApJ 485, 125 (1997). The maps cover approximately 98% of the sky. These maps have had all point sources removed These surveys supercede the RASS0.25, RASS0.75 and RASS1.5 Kev surveys previously provided. Those surveys may still be invoked in SkyView using batch and jar tools but are not accessible on the Web page. &amp;lt;p&amp;gt; The seven maps correspond to ranges in the pulse height analysis of the photons detected. Since the energy resolution of the PSPC is poor, there is consider overlap between adjacent bands. &amp;lt;p&amp;gt; The energy range for the bands corresponds to: &amp;lt;table&amp;gt;&amp;lt;tr&amp;gt;&amp;lt;th&amp;gt;Band&amp;lt;/th&amp;gt;&amp;lt;th&amp;gt;Energy range (keV)&amp;lt;/th&amp;gt;&amp;lt;/tr&amp;gt; &amp;lt;tr&amp;gt;&amp;lt;td&amp;gt;Band 1&amp;lt;/td&amp;gt;&amp;lt;td&amp;gt;0.11 - 0.284&amp;lt;/td&amp;gt;&amp;lt;tr&amp;gt; &amp;lt;tr&amp;gt;&amp;lt;td&amp;gt;Band 2&amp;lt;/td&amp;gt;&amp;lt;td&amp;gt;0.14 - 0.284&amp;lt;/td&amp;gt;&amp;lt;tr&amp;gt; &amp;lt;tr&amp;gt;&amp;lt;td&amp;gt;Band 3&amp;lt;/td&amp;gt;&amp;lt;td&amp;gt;0.2 - 0.83&amp;lt;/td&amp;gt;&amp;lt;/tr&amp;gt; &amp;lt;tr&amp;gt;&amp;lt;td&amp;gt;Band 4&amp;lt;/td&amp;gt;&amp;lt;td&amp;gt;0.44 - 1.01&amp;lt;/td&amp;gt;&amp;lt;tr&amp;gt; &amp;lt;tr&amp;gt;&amp;lt;td&amp;gt;Band 5&amp;lt;/td&amp;gt;&amp;lt;td&amp;gt;0.56 - 1.21&amp;lt;/td&amp;gt;&amp;lt;tr&amp;gt; &amp;lt;tr&amp;gt;&amp;lt;td&amp;gt;Band 6&amp;lt;/td&amp;gt;&amp;lt;td&amp;gt;0.73 - 1.56&amp;lt;/td&amp;gt;&amp;lt;tr&amp;gt; &amp;lt;tr&amp;gt;&amp;lt;td&amp;gt;Band 7&amp;lt;/td&amp;gt;&amp;lt;td&amp;gt;1.05 - 2.04&amp;lt;/td&amp;gt;&amp;lt;tr&amp;gt; &amp;lt;/table&amp;gt; Note the substantial overlap between bands. Each photon detected is assigned to a band based on the pulse height analysis for that photon, but the energy resolution of the detectors is relatively poor. Also note that Band 3 was not included in the reference paper due to poor statistics and background modeling. &amp;lt;p&amp;gt; SkyView has several other sets of surveys derived from ROSAT data with substantially higher resolution and which include point sources. The RASS surveys are derived from the RASS all sky survey. These include count and intensity maps. The PSPC maps are dervived from the PSPC pointed observations which were combined by SkyView. The HRI survey is derived from a similar mosaicking of all HRI observations.\n",
      "More info: https://skyview.gsfc.nasa.gov\n",
      "Access URL: https://skyview.gsfc.nasa.gov/cgi-bin/vo/sia.pl?survey=rassback&amp;\n"
     ]
    },
    {
     "data": {
      "text/markdown": [
       "### RASSBCK (ivo://nasa.heasarc/skyview/rassbck)"
      ],
      "text/plain": [
       "<IPython.core.display.Markdown object>"
      ]
     },
     "metadata": {},
     "output_type": "display_data"
    },
    {
     "name": "stdout",
     "output_type": "stream",
     "text": [
      "These maps present maps of ROSAT soft X-ray all-sky survey as presented in Snowden et al, ApJ 485, 125 (1997). The maps cover approximately 98% of the sky. These maps have had all point sources removed These surveys supercede the RASS0.25, RASS0.75 and RASS1.5 Kev surveys previously provided. Those surveys may still be invoked in SkyView using batch and jar tools but are not accessible on the Web page. &lt;p&gt; The seven maps correspond to ranges in the pulse height analysis of the photons detected. Since the energy resolution of the PSPC is poor, there is consider overlap between adjacent bands. &lt;p&gt; The energy range for the bands corresponds to: &lt;table&gt;&lt;tr&gt;&lt;th&gt;Band&lt;/th&gt;&lt;th&gt;Energy range (keV)&lt;/th&gt;&lt;/tr&gt; &lt;tr&gt;&lt;td&gt;Band 1&lt;/td&gt;&lt;td&gt;0.11 - 0.284&lt;/td&gt;&lt;tr&gt; &lt;tr&gt;&lt;td&gt;Band 2&lt;/td&gt;&lt;td&gt;0.14 - 0.284&lt;/td&gt;&lt;tr&gt; &lt;tr&gt;&lt;td&gt;Band 3&lt;/td&gt;&lt;td&gt;0.2 - 0.83&lt;/td&gt;&lt;/tr&gt; &lt;tr&gt;&lt;td&gt;Band 4&lt;/td&gt;&lt;td&gt;0.44 - 1.01&lt;/td&gt;&lt;tr&gt; &lt;tr&gt;&lt;td&gt;Band 5&lt;/td&gt;&lt;td&gt;0.56 - 1.21&lt;/td&gt;&lt;tr&gt; &lt;tr&gt;&lt;td&gt;Band 6&lt;/td&gt;&lt;td&gt;0.73 - 1.56&lt;/td&gt;&lt;tr&gt; &lt;tr&gt;&lt;td&gt;Band 7&lt;/td&gt;&lt;td&gt;1.05 - 2.04&lt;/td&gt;&lt;tr&gt; &lt;/table&gt; Note the substantial overlap between bands. Each photon detected is assigned to a band based on the pulse height analysis for that photon, but the energy resolution of the detectors is relatively poor. Also note that Band 3 was not included in the reference paper due to poor statistics and background modeling. &lt;p&gt; SkyView has several other sets of surveys derived from ROSAT data with substantially higher resolution and which include point sources. The RASS surveys are derived from the RASS all sky survey. These include count and intensity maps. The PSPC maps are dervived from the PSPC pointed observations which were combined by SkyView. The HRI survey is derived from a similar mosaicking of all HRI observations.\n",
      "More info: https://skyview.gsfc.nasa.gov\n",
      "Access URL: https://skyview.gsfc.nasa.gov/cgi-bin/vo/sia.pl?survey=rassbck&amp;\n"
     ]
    },
    {
     "data": {
      "text/markdown": [
       "### RASSMASTER (ivo://nasa.heasarc/rassmaster)"
      ],
      "text/plain": [
       "<IPython.core.display.Markdown object>"
      ]
     },
     "metadata": {},
     "output_type": "display_data"
    },
    {
     "name": "stdout",
     "output_type": "stream",
     "text": [
      "This database table contains the list German ROSAT All-Sky Survey observations which were obtained during the ROSAT All-Sky Survey phase (1990 July 30 to 1991 Jan 25) and which have become available to the public. These data were obtained in scanning mode and therefore an individual dataset covers a much larger area of the sky than do pointed moded observations. In addition all these data were obtained with PSPC-C, while all pointed mode observations after the end of the All-Sky Survey were obtained with PSPC-B. For each observation listed in this database table, the instrument used, processing site, and coordinates of the field center are given, as well as the ROSAT observation request number (ROR), actual exposure time, date the observation took place, and more. For details about the ROSAT instruments, consult the ROSAT Mission Description (NASA Research Announcement for ROSAT, Appendix F and its addendum) and the ROSAT GSFC GOF website at &amp;lt;a href=\"http://heasarc.gsfc.nasa.gov/docs/rosat/rosgof.html\"&amp;gt;http://heasarc.gsfc.nasa.gov/docs/rosat/rosgof.html&amp;lt;/a&amp;gt; for more information. For more information about the ROSAT All Sky Survey, see the ROSAT All Sky Survey page at &amp;lt;a href=\"http://www.xray.mpe.mpg.de/cgi-bin/rosat/rosat-survey\"&amp;gt;http://www.xray.mpe.mpg.de/cgi-bin/rosat/rosat-survey&amp;lt;/a&amp;gt;.\n",
      "More info: https://heasarc.gsfc.nasa.gov/W3Browse/all/rassmaster.html\n",
      "Access URL: https://heasarc.gsfc.nasa.gov/xamin/vo/sia?table=rassmaster&amp;\n"
     ]
    },
    {
     "data": {
      "text/markdown": [
       "### ROSAT (ivo://nasa.heasarc/rosmaster)"
      ],
      "text/plain": [
       "<IPython.core.display.Markdown object>"
      ]
     },
     "metadata": {},
     "output_type": "display_data"
    },
    {
     "name": "stdout",
     "output_type": "stream",
     "text": [
      "This database table contains the list of all Rontgen Satellite (ROSAT) X-Ray Telescope (XRT) pointing-mode observations for which data sets are available, i.e., it excludes the ROSAT All-Sky Survey observations. Users should consult the RASSMASTER database table for those XRT observations which were made in scanning mode during the ROSAT All-Sky Survey (RASS) phase (30 July 1990 to 25 January 1991, and 3 August 1991 to 13 August 1991). For each observation listed in this table, parameters such as the focal-plane instrument used, the data processing site, and the target name and coordinates are given, as well as the ROSAT Observation Request (ROR) number, the actual and requested exposure times, the date(s) on which the observation took place, etc. For details about the ROSAT instruments, consult the ROSAT Guest Observer Facility (GOF) website at &amp;lt;a href=\"http://rosat.gsfc.nasa.gov/\"&amp;gt;http://rosat.gsfc.nasa.gov/&amp;lt;/a&amp;gt; e.g., a list of the available on-line ROSAT documentation can be found at &amp;lt;a href=\"http://rosat.gsfc.nasa.gov/docs/rosat/rosdocs.html\"&amp;gt;http://rosat.gsfc.nasa.gov/docs/rosat/rosdocs.html&amp;lt;/a&amp;gt;\n",
      "More info: https://heasarc.gsfc.nasa.gov/W3Browse/all/rosmaster.html\n",
      "Access URL: https://heasarc.gsfc.nasa.gov/xamin/vo/sia?table=rosmaster&amp;\n"
     ]
    },
    {
     "data": {
      "text/markdown": [
       "### ROSAT/HRI (ivo://nasa.heasarc/roshritotal)"
      ],
      "text/plain": [
       "<IPython.core.display.Markdown object>"
      ]
     },
     "metadata": {},
     "output_type": "display_data"
    },
    {
     "name": "stdout",
     "output_type": "stream",
     "text": [
      "The ROSHRITOTAL data table contains a list of sources detected by the Standard Analysis Software System (SASS) in reprocessed, public HRI datasets. In addition to the parameters returned by SASS (like position, count rate, signal-to-noise, etc.) each source in the table has associated with it a set of source and sequence &amp;quot;flags&amp;quot;. These flags are provided by the ROSAT data centers in the US, Germany and the UK to help the user of the ROSHRITOTAL database table quickly judge the reliability of a given source. The ROSHRITOTAL database table is a superset of the ROSHRI database table. The ROSHRI table excludes sources that meet the following parameter criteria: false_det = 'T' or deferred = 'T' or not_checked = 'T' or un_unique ='T'. See the documentation below for descriptions of these parameters. These data have been screened by ROSAT data centers in the US, Germany, and the UK as a step in the production of the ROSAT RESULTS ARCHIVE. The RRA contains extracted source and associated products with an indication of reliability for the primary parameters.\n",
      "More info: https://heasarc.gsfc.nasa.gov/W3Browse/all/roshritotal.html\n",
      "Access URL: https://heasarc.gsfc.nasa.gov/xamin/vo/sia?table=roshritotal&amp;\n"
     ]
    },
    {
     "data": {
      "text/markdown": [
       "### ROSAT/HRI (ivo://nasa.heasarc/roshri)"
      ],
      "text/plain": [
       "<IPython.core.display.Markdown object>"
      ]
     },
     "metadata": {},
     "output_type": "display_data"
    },
    {
     "name": "stdout",
     "output_type": "stream",
     "text": [
      "The ROSHRI data table contains a list of sources detected by the Standard Analysis Software System (SASS) in reprocessed, public HRI datasets. In addition to the parameters returned by SASS (like position, count rate, signal-to-noise, etc.) each source in the table has associated with it a set of source and sequence &amp;quot;flags&amp;quot;. These flags are provided by the ROSAT data centers in the US, Germany and the UK to help the user of the ROSHRI database table quickly judge the reliability of a given source. The ROSHRI table excludes sources that meet the following parameter criteria: false_det = 'T' or deferred = 'T' or not_checked = 'T' or un_unique ='T'. See the documentation below for descriptions of these parameters. These data have been screened by ROSAT data centers in the US, Germany, and the UK as a step in the production of the ROSAT RESULTS ARCHIVE. The RRA contains extracted source and associated products with an indication of reliability for the primary parameters.\n",
      "More info: https://heasarc.gsfc.nasa.gov/W3Browse/all/roshri.html\n",
      "Access URL: https://heasarc.gsfc.nasa.gov/xamin/vo/sia?table=roshri&amp;\n"
     ]
    },
    {
     "data": {
      "text/markdown": [
       "### ROSAT/PSPC (ivo://nasa.heasarc/rospspc)"
      ],
      "text/plain": [
       "<IPython.core.display.Markdown object>"
      ]
     },
     "metadata": {},
     "output_type": "display_data"
    },
    {
     "name": "stdout",
     "output_type": "stream",
     "text": [
      "The ROSPSPC database table contains a list of sources detected by the Standard Analysis Software System (SASS) in public, unfiltered, pointed PSPC datasets. In addition to the parameters returned by SASS (like position, count rate, likelihood, etc.) each source in the table has associated with it a set of source and sequence &amp;quot;flags.&amp;quot; These flags are provided by the ROSAT data centers in the US, Germany and the UK to help the user of the ROSPSPC database table quickly judge the reliability of a given source. The ROSPSPC table excludes sources that meet the following parameter criteria: false_det = 'T' or deferred = 'T' or not_checked = 'T'. See the documentation below for descriptions of these parameters. The catalog consists of all primary source parameters from the automated detection algorithm employed by the SASS. In addition each observation has been quality checked, both by automatic algorithms and by detailed visual inspection. The results of this quality checking are contained as a set of logical-value flags for a set of principal source parameters. If a source parameter is suspect, the associated flag is set to &amp;quot;TRUE&amp;quot;; parameters with no obvious problems maintain the default, &amp;quot;FALSE&amp;quot;, value.\n",
      "More info: https://heasarc.gsfc.nasa.gov/W3Browse/all/rospspc.html\n",
      "Access URL: https://heasarc.gsfc.nasa.gov/xamin/vo/sia?table=rospspc&amp;\n"
     ]
    },
    {
     "data": {
      "text/markdown": [
       "### RXTE (ivo://nasa.heasarc/skyview/rxte)"
      ],
      "text/plain": [
       "<IPython.core.display.Markdown object>"
      ]
     },
     "metadata": {},
     "output_type": "display_data"
    },
    {
     "name": "stdout",
     "output_type": "stream",
     "text": [
      "Rossi X-ray Timing Explorer was launched at the end of 1995 and up to now (2004) it has been successfully operating for more than 7 years. The mission was primarily designed to study the variability of X-ray sources on time scales from sub-milliseconds to years. The maneuvering capability of the satellite combined with the high photon throughput of its main detector (PCA) and high quality of background prediction (thanks to PCA intrumental group of LHEA, GSFC) has also made it possible to construct maps of the sky in energy band 3-20 keV. During its life time RXTE/PCA has collected a large amount of data from slew observations covering almost the entire sky. &lt;p&gt; We have utilized the slew parts of all RXTE/PCA observations performed from April 15, 1996-July 16, 2002 which amounts in total to approximately 50,000 observations. The exposure time at a given point in the map is typically between 200-500 seconds. The observational period before April 15, 1996 (High Voltage Epochs 1 and 2) was excluded from the analysis because during that time the PCA had significantly different gain and dependence of the effective area on energy. The data reduction was done using standard tools of the LHEASOFT with a set of packages written by M. Revnivtsev (HEAD/IKI, Moscow; MPA, Garching).&lt;p&gt; &lt;p&gt; The survey has several features. It has strongly different exposure times at different points on the sky that lead to strong variability of the statistical noise on images. Because of that the only meaningful representation of images is the map in units of statistical significance. After the detection of a source flux can be determined from the map in the 'flux' units. Map resolution is determined mainly by the slew rate of the RXTE (&amp;amp;lt;0.05-0.1&amp;amp;amp;#176;;/sec) and the time resolution of used data (16 sec, Std2 mode of the PCA). Sources can be detected down to the level of ~6e&lt;sup&gt;-12&lt;/sup&gt; erg/s/cm&lt;sup&gt;2&lt;/sup&gt;, but at this level the confusion starts to play an important role. Details of the survey are presented in the paper of Revnivtsev et al. (2004).\n",
      "More info: https://skyview.gsfc.nasa.gov\n",
      "Access URL: https://skyview.gsfc.nasa.gov/cgi-bin/vo/sia.pl?survey=rxte&amp;\n"
     ]
    },
    {
     "data": {
      "text/markdown": [
       "### RXTE3_20k_flux (ivo://nasa.heasarc/skyview/rxte3_20k_flux)"
      ],
      "text/plain": [
       "<IPython.core.display.Markdown object>"
      ]
     },
     "metadata": {},
     "output_type": "display_data"
    },
    {
     "name": "stdout",
     "output_type": "stream",
     "text": [
      "Rossi X-ray Timing Explorer was launched at the end of 1995 and up to now (2004) it has been successfully operating for more than 7 years. The mission was primarily designed to study the variability of X-ray sources on time scales from sub-milliseconds to years. The maneuvering capability of the satellite combined with the high photon throughput of its main detector (PCA) and high quality of background prediction (thanks to PCA intrumental group of LHEA, GSFC) has also made it possible to construct maps of the sky in energy band 3-20 keV. During its life time RXTE/PCA has collected a large amount of data from slew observations covering almost the entire sky. &amp;lt;p&amp;gt; We have utilized the slew parts of all RXTE/PCA observations performed from April 15, 1996-July 16, 2002 which amounts in total to approximately 50,000 observations. The exposure time at a given point in the map is typically between 200-500 seconds. The observational period before April 15, 1996 (High Voltage Epochs 1 and 2) was excluded from the analysis because during that time the PCA had significantly different gain and dependence of the effective area on energy. The data reduction was done using standard tools of the LHEASOFT with a set of packages written by M. Revnivtsev (HEAD/IKI, Moscow; MPA, Garching).&amp;lt;p&amp;gt; &amp;lt;p&amp;gt; The survey has several features. It has strongly different exposure times at different points on the sky that lead to strong variability of the statistical noise on images. Because of that the only meaningful representation of images is the map in units of statistical significance. After the detection of a source flux can be determined from the map in the 'flux' units. Map resolution is determined mainly by the slew rate of the RXTE (&amp;amp;lt;0.05-0.1&amp;amp;amp;#176;;/sec) and the time resolution of used data (16 sec, Std2 mode of the PCA). Sources can be detected down to the level of ~6e&amp;lt;sup&amp;gt;-12&amp;lt;/sup&amp;gt; erg/s/cm&amp;lt;sup&amp;gt;2&amp;lt;/sup&amp;gt;, but at this level the confusion starts to play an important role. Details of the survey are presented in the paper of Revnivtsev et al. (2004).\n",
      "More info: https://skyview.gsfc.nasa.gov\n",
      "Access URL: https://skyview.gsfc.nasa.gov/cgi-bin/vo/sia.pl?survey=rxte3_20k_flux&amp;\n"
     ]
    },
    {
     "data": {
      "text/markdown": [
       "### SDSS (ivo://nasa.heasarc/skyview/sdss)"
      ],
      "text/plain": [
       "<IPython.core.display.Markdown object>"
      ]
     },
     "metadata": {},
     "output_type": "display_data"
    },
    {
     "name": "stdout",
     "output_type": "stream",
     "text": [
      "The Sloan Digital Sky Survey is the deepest large scale survey of the sky currently available. SkyView dynamically queries the SDSS archive (currently release DR9) to retrieve information and resample it into the user requested frame. Further information on the SDSS and many additional services are available at the &amp;lt;a href=http://www.sdss.org&amp;gt; SDSS Web site&amp;lt;/a&amp;gt;.\n",
      "More info: https://skyview.gsfc.nasa.gov\n",
      "Access URL: https://skyview.gsfc.nasa.gov/cgi-bin/vo/sia.pl?survey=sdss&amp;\n"
     ]
    },
    {
     "data": {
      "text/markdown": [
       "### SDSSDR7 (ivo://nasa.heasarc/skyview/sdssdr7)"
      ],
      "text/plain": [
       "<IPython.core.display.Markdown object>"
      ]
     },
     "metadata": {},
     "output_type": "display_data"
    },
    {
     "name": "stdout",
     "output_type": "stream",
     "text": [
      "The Sloan Digital Sky Survey is the deepest large scale survey of the sky currently available. SkyView dynamically queries the SDSS archive to retrieve information and resample it into the user requested frame. Further information on the SDSS and many additional services are available at the &amp;lt;a href=http://www.sdss.org&amp;gt; SDSS Web site&amp;lt;/a&amp;gt;.\n",
      "More info: https://skyview.gsfc.nasa.gov\n",
      "Access URL: https://skyview.gsfc.nasa.gov/cgi-bin/vo/sia.pl?survey=sdssdr7&amp;\n"
     ]
    },
    {
     "data": {
      "text/markdown": [
       "### SFD (ivo://nasa.heasarc/skyview/sfd)"
      ],
      "text/plain": [
       "<IPython.core.display.Markdown object>"
      ]
     },
     "metadata": {},
     "output_type": "display_data"
    },
    {
     "name": "stdout",
     "output_type": "stream",
     "text": [
      "The full sky 100 micron map is a reprocessed composite of the COBE/DIRBE and IRAS/ISSA maps, with the zodiacal foreground and confirmed point sources removed. Artifacts from the IRAS scan pattern were removed. The result of these manipulations is a map with DIRBE-quality calibration and IR AS resolution.\n",
      "More info: https://skyview.gsfc.nasa.gov\n",
      "Access URL: https://skyview.gsfc.nasa.gov/cgi-bin/vo/sia.pl?survey=sfd&amp;\n"
     ]
    },
    {
     "data": {
      "text/markdown": [
       "### SHASSA (ivo://nasa.heasarc/skyview/shassa)"
      ],
      "text/plain": [
       "<IPython.core.display.Markdown object>"
      ]
     },
     "metadata": {},
     "output_type": "display_data"
    },
    {
     "name": "stdout",
     "output_type": "stream",
     "text": [
      "The Sshassa\\.xml\\.outhern H-Alpha Sky Survey Atlas is the product of a wide-angle digital imaging survey of the H-alpha emission from the warm ionized interstellar gas of our Galaxy. This atlas covers the sshassa\\.xml\\.outhern hemisphere sky (declinations less than +15 degrees). The observations were taken with a robotic camera operating at Cerro Tololo Inter-American Observatory (CTIO) in Chile. The atlas consists of 2168 images covering 542 fields. There are four images available for each field: &amp;lt;b&amp;gt;H-alpha&amp;lt;/b&amp;gt;, &amp;lt;b&amp;gt;Continuum&amp;lt;/b&amp;gt;, &amp;lt;b&amp;gt;Continuum-Corrected&amp;lt;/b&amp;gt; (the difference of the H-alpha and Continuum images), and &amp;lt;b&amp;gt;Smoothed&amp;lt;/b&amp;gt; (median filtered to 5 pixel, or 4.0 arcminute, resolution to remove star residuals better). The &amp;lt;a href=\"http://amundsen.swarthmore.edu/SHASSA\"&amp;gt;SHASSA web site&amp;lt;/a&amp;gt; has more details of the data and the status of this and related projects. Images can also be obtained from the &amp;lt;a href=\"http://amundsen.astro.swarthmore.edu/SHASSA/#Images\"&amp;gt;Download Images&amp;lt;/a&amp;gt; section at the SHASSA site.\n",
      "More info: https://skyview.gsfc.nasa.gov\n",
      "Access URL: https://skyview.gsfc.nasa.gov/cgi-bin/vo/sia.pl?survey=shassa&amp;\n"
     ]
    },
    {
     "data": {
      "text/markdown": [
       "### SkyView (ivo://nasa.heasarc/skyview/skyview)"
      ],
      "text/plain": [
       "<IPython.core.display.Markdown object>"
      ]
     },
     "metadata": {},
     "output_type": "display_data"
    },
    {
     "name": "stdout",
     "output_type": "stream",
     "text": [
      "SkyView is a Virtual Observatory on the Net. Astronomers can generate images of any portion of the sky at wavelengths in all regimes from radio to gamma-ray. Users tell SkyView the position, scale and orientation desired, and SkyView gives users an image made to their specification. The user need not worry about transforming between equinoxes or coordinate systesm, mosaicking submaps, rotating the image,.... SkyView handles these geometric issues and lets the user get started on astronomy.\n",
      "More info: https://skyview.gsfc.nasa.gov\n",
      "Access URL: https://skyview.gsfc.nasa.gov/cgi-bin/vo/sia.pl?\n"
     ]
    },
    {
     "data": {
      "text/markdown": [
       "### Stripe82VLA (ivo://nasa.heasarc/skyview/stripe82vla)"
      ],
      "text/plain": [
       "<IPython.core.display.Markdown object>"
      ]
     },
     "metadata": {},
     "output_type": "display_data"
    },
    {
     "name": "stdout",
     "output_type": "stream",
     "text": [
      "This survey is a deep, high resolution radio survey of a relatively small region that has particularly deep coverage in the Sloan Digital Sky Survey. As described in the reference abstract: This is a high-resolution radio survey of the Sloan Digital Sky Survey (SDSS) Southern Equatorial Stripe, a.k.a., Stripe 82. This 1.4 GHz survey was conducted from 2007 to 2009 with the Very Large Array primarily in the A-configuration, with supplemental B-configuration data to increase sensitivity to extended structure. The survey has an angular resolution of 1.8\" and achieves a median rms noise of 53 microJy/beam over 92 square degrees. This is the deepest 1.4 GHz survey to achieve this large of an area filling in the phase space between small&amp;amp;amp;deep and large&amp;amp;amp;shallow surveys. &amp;lt;p&amp;gt; The astrometric accuracy of the data is excellent with errors in observed sources of 0.10\" in both RA and declination. A comparison with the SDSS DR7 Quasar Catalog confirms that the astrometry is well tied to the optical reference frame with mean offsets of 0.02+/-0.01\" in RA and 0.01+/-0.02 in declination.\n",
      "More info: https://skyview.gsfc.nasa.gov\n",
      "Access URL: https://skyview.gsfc.nasa.gov/cgi-bin/vo/sia.pl?survey=stripe82vla&amp;\n"
     ]
    },
    {
     "data": {
      "text/markdown": [
       "### SUMSS (ivo://nasa.heasarc/skyview/sumss)"
      ],
      "text/plain": [
       "<IPython.core.display.Markdown object>"
      ]
     },
     "metadata": {},
     "output_type": "display_data"
    },
    {
     "name": "stdout",
     "output_type": "stream",
     "text": [
      "The Sydney University Molonglo Sky Survey (SUMSS) is a deep radio survey at 843 MHz of the entire sky south of declination -30&amp;amp;amp;#176;, made using the Molonglo Observatory Synthesis Telescope (&amp;lt;a href=\"http://www.physics.usyd.edu.au/astrop/most/\"&amp;gt; MOST &amp;lt;/a&amp;gt;), located near Canberra, Australia. The images from the SUMSS are produced as 4 x 4 degree mosaics of up to seventeen individual observations, to ensure even sensitivity across the sky. The mosaics slightly overlap each other. Data were last updated on January 28, 2015. &amp;lt;p&amp;gt; Images can also be obtained from the &amp;lt;a href=\"http://www.astrop.physics.usyd.edu.au/cgi-bin/postage.pl\"&amp;gt;SUMSS Postage Stamp Server&amp;lt;/a&amp;gt;. &amp;lt;p&amp;gt; The SUMSS is intended to complement the NRAO-VLA Sky Survey (NVSS) which covered the sky between +90 and -40 deg declination, at a frequency of 1400MHz. &amp;lt;p&amp;gt;\n",
      "More info: https://skyview.gsfc.nasa.gov\n",
      "Access URL: https://skyview.gsfc.nasa.gov/cgi-bin/vo/sia.pl?survey=sumss&amp;\n"
     ]
    },
    {
     "data": {
      "text/markdown": [
       "### SUZAMASTER (ivo://nasa.heasarc/suzamaster)"
      ],
      "text/plain": [
       "<IPython.core.display.Markdown object>"
      ]
     },
     "metadata": {},
     "output_type": "display_data"
    },
    {
     "name": "stdout",
     "output_type": "stream",
     "text": [
      "This database table records high-level information for each Suzaku observation and provides access to the data archive. Each record is associated with a single observation. An observation contains data from all instruments on board Suzaku.\n",
      "More info: https://heasarc.gsfc.nasa.gov/W3Browse/all/suzamaster.html\n",
      "Access URL: https://heasarc.gsfc.nasa.gov/xamin/vo/sia?table=suzamaster&amp;\n"
     ]
    },
    {
     "data": {
      "text/markdown": [
       "### SwiftBAT (ivo://nasa.heasarc/swiftbalog)"
      ],
      "text/plain": [
       "<IPython.core.display.Markdown object>"
      ]
     },
     "metadata": {},
     "output_type": "display_data"
    },
    {
     "name": "stdout",
     "output_type": "stream",
     "text": [
      "The BAT can operate several configuration modes simultaneously. Each of the simultaneous modes is listed in separate records within this table. For a given time interval, there are several records (partially overlapping in time), each describing a single configuration/mode. The BAT modes collect data for the entire FOV but also have the capability to record rates (tag mask rate) for up to a few specific sky positions (typically 3) that correspond to a pre-assigned target ID. It is possible that at least two or more of these positions do not coincide with the BAT or NFI pointing position and therefore the target ID does necessarily coincide with Target_ID of the BAT or NFI pointing position. This table records for the position (RA and Dec) and Target_ID parameters the correct values associated to each of the mask tag data.\n",
      "More info: https://heasarc.gsfc.nasa.gov/W3Browse/all/swiftbalog.html\n",
      "Access URL: https://heasarc.gsfc.nasa.gov/xamin/vo/sia?table=swiftbalog&amp;\n"
     ]
    },
    {
     "data": {
      "text/markdown": [
       "### SWIFTUVOT (ivo://nasa.heasarc/skyview/swiftuvot)"
      ],
      "text/plain": [
       "<IPython.core.display.Markdown object>"
      ]
     },
     "metadata": {},
     "output_type": "display_data"
    },
    {
     "name": "stdout",
     "output_type": "stream",
     "text": [
      "The Swift UVOT instrument is a 30 cm modified Ritchey-Chretien reflecting telescope launched on board the Swift satellite on November 20, 2004. The range of optical and UV filters can accomodate wavebands between 1700 and 6500 Angstroms. A full field image covers 17x17 arcminutes and at maximum spatial sampling is imaged onto 2048x2048 0.5\" pixels. A 1000 second observation can detect point sources to m=22.3 when no filter is used. The Swift Serendipitous Source Catalog (Page et al., 2015) detects sources down to m=23-26 for the six filters in very deep observations, but the typical limits are substantially brighter (~20-23 magnitude). &amp;lt;p&amp;gt; These surveys are mosaics of all Swift UVOT observations released between the start of the mission and July 2017. Data were extracted from the HEASARC archive from the UVOT products directory. Mosaics are provided in six filters and also with no filter, i.e., WHITE. The table below gives the number of observations and bandpasses for each of the filters. For each UVOT observation standard processing generates a counts and exposure file as a single multi-extension FITS file with a separate extension for each filter. To aid processing, these extensions were copied into separate files in directory trees for each filter. Four observations in which the exposure and counts maps did not agree on the filters used were omitted from the processing. &amp;lt;p&amp;gt; Some observations were recorded with 0.5\" pixels while others were binned to 1\". All 0.5\" observations (typically fewer than 10%) were rebinned to the larger pixels for the counts maps since the counts data scales with the pixel size. Since the exposure values are intensive and do not vary significantly based upon the resolution, these data were not generally rebinned unless it was needed to ensure that Order 9 Hips data were produced. &amp;lt;p&amp;gt; The CDS Hipsgen software was used to generate Order 9 HiPS data (~0.8\" pixels) for both the Counts and Exposure images. The HiPS (Hierarchical Progressive Survey VO standard) supports multi-resolution mosaics. Any quantitative use of these images should note that the rebinning increases the total counts by a factor of ~(1.0/0.8)^2 ~ 1.56. This software uses a bilinear interpolation to generate HEALPix tiles of an appropriate order (18 in this case). &amp;lt;i&amp;gt;SkyView&amp;lt;/i&amp;gt; developed software was used to divide the level 9 counts maps tiles by the corresponding exposure maps to create intensity tiles. Pixels where the exposure was less than 5 seconds were left as NaNs. The lower order (8 to 3) order intensity tiles were then generated by averaging 2x2 sets of the higher order maps treating any missing maps or pixels as NaNs. A HiPS all-sky image was generated by averaged the Order 3 tiles. &amp;lt;p&amp;gt; Only the Intensity HIPS files are presented in the SkyView web page directly, but intensity, counts and exposure maps are available for all seven filters. Note that unlike the XRT HiPS data, the exposure and counts maps have not been clipped. I.e., the source FITS files have been aligned with the coordinate system and thus contain large numbers of unexposed pixels with 0 values. These 0's are simply propogated to HiPS tiles. NaNs are returned in regions which lie swiftuvot\\.xml\\.outside any of the original source images. For the Intensity map, any pixel for which the exposure was less than 5s is returned as a NaN. &amp;lt;table border&amp;gt; &amp;lt;tr&amp;gt;&amp;lt;th align=center&amp;gt;Filter&amp;lt;/th&amp;gt;&amp;lt;th&amp;gt;Count&amp;lt;/th&amp;gt;&amp;lt;th&amp;gt;Central Wavelength (&amp;amp;amp;#8491;;)&amp;lt;/th&amp;gt;&amp;lt;th&amp;gt;Bandpass (&amp;amp;amp;#8491;;)&amp;lt;/th&amp;gt;&amp;lt;th&amp;gt;Central Frequency(THz)&amp;lt;/th&amp;gt;&amp;lt;th&amp;gt;Bandpass (THz)&amp;lt;/th&amp;gt;&amp;lt;th&amp;gt;Coverage&amp;lt;/th&amp;gt;&amp;lt;/tr&amp;gt; &amp;lt;tr&amp;gt;&amp;lt;th align=center&amp;gt;WHITE&amp;lt;/th&amp;gt;&amp;lt;td align='center'&amp;gt;3,000&amp;lt;/td&amp;gt;&amp;lt;td align='center'&amp;gt;3600&amp;lt;/td&amp;gt;&amp;lt;td align='center'&amp;gt;1600-6000&amp;lt;/td&amp;gt;&amp;lt;td align='center'&amp;gt;832&amp;lt;/td&amp;gt;&amp;lt;td align='center'&amp;gt;500-1874&amp;lt;/td&amp;gt; &amp;lt;td&amp;gt;0.0017&amp;lt;/td&amp;gt;&amp;lt;/tr&amp;gt; &amp;lt;tr&amp;gt;&amp;lt;th align=center&amp;gt;V&amp;lt;/th&amp;gt;&amp;lt;td align='center'&amp;gt;30,557&amp;lt;/td&amp;gt;&amp;lt;td align='center'&amp;gt;5468&amp;lt;/td&amp;gt;&amp;lt;td align='center'&amp;gt;5083-5852&amp;lt;/td&amp;gt;&amp;lt; &amp;lt;td align='center'&amp;gt;548&amp;lt;/td&amp;gt;&amp;lt;td align='center'&amp;gt;512-590&amp;lt;/td&amp;gt; &amp;lt;td&amp;gt;0.0171&amp;lt;/td&amp;gt;&amp;lt;/tr&amp;gt; &amp;lt;tr&amp;gt;&amp;lt;th align=center&amp;gt;B&amp;lt;/th&amp;gt;&amp;lt;td align='center'&amp;gt;28,347&amp;lt;/td&amp;gt;&amp;lt;td align='center'&amp;gt;4392&amp;lt;/td&amp;gt;&amp;lt;td align='center'&amp;gt;3904-4880&amp;lt;/td&amp;gt; &amp;lt;td align='center'&amp;gt;683&amp;lt;/td&amp;gt;&amp;lt;td align='center'&amp;gt;614-768&amp;lt;/td&amp;gt; &amp;lt;td&amp;gt;0.0112&amp;lt;td&amp;gt;&amp;lt;/tr&amp;gt; &amp;lt;tr&amp;gt;&amp;lt;th align=center&amp;gt;U&amp;lt;/th&amp;gt;&amp;lt;td align='center'&amp;gt;49,954&amp;lt;/td&amp;gt;&amp;lt;td align='center'&amp;gt;3465&amp;lt;/td&amp;gt;&amp;lt;td align='center'&amp;gt;3072-3875&amp;lt;/td&amp;gt; &amp;lt;td align='center'&amp;gt;865&amp;lt;/td&amp;gt;&amp;lt;td align='center'&amp;gt;774-975&amp;lt;/td&amp;gt; &amp;lt;td&amp;gt;0.0287&amp;lt;/td&amp;gt;&amp;lt;/tr&amp;gt; &amp;lt;tr&amp;gt;&amp;lt;th align=center&amp;gt;UVW1&amp;lt;/th&amp;gt;&amp;lt;td align='center'&amp;gt;60,690&amp;lt;/td&amp;gt;&amp;lt;td align='center'&amp;gt;2600&amp;lt;/td&amp;gt;&amp;lt;td align='center'&amp;gt;2253-2946&amp;lt;/td&amp;gt; &amp;lt;td align='center'&amp;gt;1154&amp;lt;/td&amp;gt;&amp;lt;td align='center'&amp;gt;1017-1330&amp;lt;/td&amp;gt;&amp;lt;td&amp;gt;0.0277&amp;lt;/td&amp;gt;&amp;lt;/tr&amp;gt; &amp;lt;tr&amp;gt;&amp;lt;th align=center&amp;gt;UVM2&amp;lt;/th&amp;gt;&amp;lt;td align='center'&amp;gt;56,977&amp;lt;/td&amp;gt;&amp;lt;td align='center'&amp;gt;2246&amp;lt;/td&amp;gt;&amp;lt;td align='center'&amp;gt;1997-2495&amp;lt;/td&amp;gt; &amp;lt;td align='center'&amp;gt;1334&amp;lt;/td&amp;gt;&amp;lt;td align='center'&amp;gt;1201-1501&amp;lt;/td&amp;gt;&amp;gt;td&amp;gt;0.0314&amp;lt;/td&amp;gt;&amp;lt;/tr&amp;gt; &amp;lt;tr&amp;gt;&amp;lt;th align=center&amp;gt;UVW2&amp;lt;/th&amp;gt;&amp;lt;td align='center'&amp;gt;54,590&amp;lt;/td&amp;gt;&amp;lt;td align='center'&amp;gt;1928&amp;lt;/td&amp;gt;&amp;lt;td align='center'&amp;gt;1600-2256&amp;lt;/td&amp;gt; &amp;lt;td align='center'&amp;gt;1554&amp;lt;/td&amp;gt;&amp;lt;td align='center'&amp;gt;1328-1874&amp;lt;/td&amp;gt;&amp;lt;td&amp;gt;0.0260&amp;lt;/td&amp;gt;&amp;lt;/tr&amp;gt; &amp;lt;/table&amp;gt; &amp;lt;strong&amp;gt;Observation counts and bandpasses for UVOT Filters&amp;lt;/strong&amp;gt; &amp;lt;p&amp;gt;\n",
      "More info: https://skyview.gsfc.nasa.gov\n",
      "Access URL: https://skyview.gsfc.nasa.gov/cgi-bin/vo/sia.pl?survey=swiftuvot&amp;\n"
     ]
    },
    {
     "data": {
      "text/markdown": [
       "### SwiftUVOT (ivo://nasa.heasarc/swiftuvlog)"
      ],
      "text/plain": [
       "<IPython.core.display.Markdown object>"
      ]
     },
     "metadata": {},
     "output_type": "display_data"
    },
    {
     "name": "stdout",
     "output_type": "stream",
     "text": [
      "The UVOT runs only one type of configuration filter/mode/window in a given time interval. This database table, therefore, contains for a given time interval a single record that describes one configuration.\n",
      "More info: https://heasarc.gsfc.nasa.gov/W3Browse/all/swiftuvlog.html\n",
      "Access URL: https://heasarc.gsfc.nasa.gov/xamin/vo/sia?table=swiftuvlog&amp;\n"
     ]
    },
    {
     "data": {
      "text/markdown": [
       "### SwiftXRT (ivo://nasa.heasarc/swiftxrlog)"
      ],
      "text/plain": [
       "<IPython.core.display.Markdown object>"
      ]
     },
     "metadata": {},
     "output_type": "display_data"
    },
    {
     "name": "stdout",
     "output_type": "stream",
     "text": [
      "The XRT runs only one type of configuration mode/window in a given time interval. The table therefore contains for a given time interval a single record that describes one configuration. A new record is generated when the following is changing within an observation: new operating mode , new pointing mode, or new window configuration.\n",
      "More info: https://heasarc.gsfc.nasa.gov/W3Browse/all/swiftxrlog.html\n",
      "Access URL: https://heasarc.gsfc.nasa.gov/xamin/vo/sia?table=swiftxrlog&amp;\n"
     ]
    },
    {
     "data": {
      "text/markdown": [
       "### SWIFTXRT (ivo://nasa.heasarc/skyview/swiftxrt)"
      ],
      "text/plain": [
       "<IPython.core.display.Markdown object>"
      ]
     },
     "metadata": {},
     "output_type": "display_data"
    },
    {
     "name": "stdout",
     "output_type": "stream",
     "text": [
      "The Swift XRT (&amp;lt;a href='http://ads.harvard.edu/abs/2005SSRv..120..165B'&amp;gt;Burrows et al 2005, SSRv, 120, 165&amp;lt;/a&amp;gt;) is a sensitive, broad-band (0.2 - 10 keV) X-ray imager with an effective area of abswiftxrt\\.xml\\.out 125 cm**2 at 1.5 keV. The 600 x 600 pixel CCD at the focus provides a 23.6' x 23.6' field of view with a pixel scale of 2.36\". The point spread function is 18\" (HPD) at 1.5 keV. &amp;lt;p&amp;gt; These XRT surveys represent the data from the first 12.5 years of Swift X-ray observations. They include all data taken in photon counting mode. A total of just over 8% of the sky has some non-zero exposure. The fraction of sky exposed as a function of the exposure is given in the following table: &amp;lt;table border&amp;gt; &amp;lt;tr&amp;gt;&amp;lt;th&amp;gt;Exposure&amp;lt;/th&amp;gt;&amp;lt;td&amp;gt;&amp;amp;gt;0&amp;lt;/td&amp;gt; &amp;lt;td&amp;gt;10&amp;lt;/td&amp;gt; &amp;lt;td&amp;gt;30&amp;lt;/td&amp;gt; &amp;lt;td&amp;gt;100&amp;lt;/td&amp;gt; &amp;lt;td&amp;gt;300&amp;lt;/td&amp;gt; &amp;lt;td&amp;gt;1000&amp;lt;/td&amp;gt; &amp;lt;td&amp;gt;3000&amp;lt;/td&amp;gt; &amp;lt;td&amp;gt;1000&amp;lt;/td&amp;gt; &amp;lt;td&amp;gt;30000&amp;lt;/td&amp;gt; &amp;lt;td&amp;gt;100000&amp;lt;/td&amp;gt;&amp;lt;td&amp;gt;300000&amp;lt;/td&amp;gt;&amp;lt;/tr&amp;gt; &amp;lt;tr&amp;gt;&amp;lt;th&amp;gt;Coverage&amp;lt;/th&amp;gt; &amp;lt;td&amp;gt; 8.42 &amp;lt;/td&amp;gt;&amp;lt;td&amp;gt; 8.37 &amp;lt;/td&amp;gt;&amp;lt;td&amp;gt; 8.29 &amp;lt;/td&amp;gt;&amp;lt;td&amp;gt; 7.67 &amp;lt;/td&amp;gt;&amp;lt;td&amp;gt; 7.29 &amp;lt;/td&amp;gt;&amp;lt;td&amp;gt; 5.68 &amp;lt;/td&amp;gt; &amp;lt;td&amp;gt; 3.40 &amp;lt;/td&amp;gt;&amp;lt;td&amp;gt; 1.26 &amp;lt;/td&amp;gt;&amp;lt;td&amp;gt; 0.35 &amp;lt;/td&amp;gt;&amp;lt;td&amp;gt; 0.044 &amp;lt;/td&amp;gt;&amp;lt;td&amp;gt; 0.00118&amp;lt;/td&amp;gt;&amp;lt;/th&amp;gt; &amp;lt;/table&amp;gt; The individual exposure and counts maps have been combined into a Hierarchical Progressive Survey (HiPS) where the data are stored in tiles in the HEALPix projection at a number of different resulutions. The highest resolution pixels (HEALPix order 17) have a size of roughly 1.6\". Data are also stored at lower resolutions at factors of 1/2, 1/4, 1/8, 1/16, and 1/32, and in an all sky image with a resolution 1/256 of the higest resolution. An intensity map has been created as the ratio of the counts and exposure maps. &amp;lt;p&amp;gt; These surveys combine the basic count and exposure maps provided as standard products in the Swift XRT archive in obsid/xrt/products/*xpc_(sk|ex).img.gz. The surveys were created as follows: &amp;lt;ul&amp;gt; &amp;lt;li&amp;gt;All of the exposure maps available in the archive in mid-May 2017 were combined using the CDS-developed Hipsgen tool. This includes 129,063 observations for which both count and exposure files were found in PC mode. Three exposures where there was a counts map but no exposure map were ignored. A few exposure files had more than one exposure extension. 1,082 files had two extensions and 1 file had 3 extensions. The 1084 HDUs in extensions were extracted as separate files and included in the total exposure. The value of 0 was given to the Hipsgen software as the null value for the FITS files. This caused the CDS software to treat such pixels as missing rather than 0 exposure. &amp;lt;li&amp;gt; The counts data was extracted from the counts maps for each observation using &amp;lt;i&amp;gt;SkyView&amp;lt;/i&amp;gt; developed software. For any pixel in which a count was recorded, the corresponding exposure file was checked and if there was any exposure (in any of the associated extensions), then the count was retained. If there was no exposure in any of the extensions of the corresponding exposure file, the counts in the pixel were omitted. Once a count was accepted, the overlap between the counts map pixel and the pixels of the corresponding HiPS tile (or tiles) was computed. Each count was then assigned entirely to a single pixel in the HiPS tile randomly but with the destination pixel probabilities weighted by area of the overlap. Thus if several pixels were found in a given counts map pixel they might be assigned to different pixels in the swiftxrt\\.xml\\.output image. The HiPS pixels (~1.6\") used were of substantially higher resolution than the XRT resolution of 18\" and somewhat higher than the counts map resolution of 2.36\". &amp;lt;p&amp;gt; A total of 183,750,428 photons were extracted from the counts maps while 15,226 were rejected as being from pixels with 0 exposure. There were 501 pixels which required special treatment as straddling the boundaries of the HEALPix projection. &amp;lt;li&amp;gt; The resulting counts tiles were then clipped using the exposure tiles that had been previously generated. Basically this transferred the coverage of the exposure tiles to the counts tiles. Any counts pixel where the corresponding exposure pixel was a NaN was changed to a NaN to indicate that there was no coverage in this region. &amp;lt;p&amp;gt; During the clipping process 137,730 HiPS level 8 were clipped (of 786,432 over the entire sky). There were 12,236 tiles for which there was some exposure but no counts found. During the clipping process 2 photons were found on pixels where there was no corresponding exposure in the exposure tiles. This can happen when the pixel assignment process noted above shifts a photon just swiftxrt\\.xml\\.outside the exposed region but should be -- as it was -- rare. These photons were deleted. &amp;lt;li&amp;gt; After creating the clipped level 8 counts maps, level 7 to 3 tiles and an all sky map where generated by averaging pixels 2x2 to decrease each level. When adding the four pixels in the level N map together only pixels whose value was not NaN were considered. &amp;lt;li&amp;gt; Finally an intensity map was created by dividing the counts tiles by the exposure tiles. To eliminate gross fluctuations due to rare counts in regions with very low exposure, only regions with exposure &amp;gt; 1 second were retained. A total of 30 photons were deleted due to this criterion. &amp;lt;/ul&amp;gt; &amp;lt;p&amp;gt; Note that while any sampler may in principle be used with these data, the Spline sampler may give unexpected results. The spline computation propogates NaNs thought the image and means that even occasional NaNs can corrupt the swiftxrt\\.xml\\.output image completely. NaNs are very common in this dataset. Also, if the region straddles a boundary in the HEALPix projection, the size of the requested input region is likely to exceed memory limits since the HiPS data are considered a single very large image.\n",
      "More info: https://skyview.gsfc.nasa.gov\n",
      "Access URL: https://skyview.gsfc.nasa.gov/cgi-bin/vo/sia.pl?survey=swiftxrt&amp;\n"
     ]
    },
    {
     "data": {
      "text/markdown": [
       "### TGSS (ivo://nasa.heasarc/skyview/tgss)"
      ],
      "text/plain": [
       "<IPython.core.display.Markdown object>"
      ]
     },
     "metadata": {},
     "output_type": "display_data"
    },
    {
     "name": "stdout",
     "output_type": "stream",
     "text": [
      "The first full release of a survey of the 150 MHz radio sky observed with the Giant Metrewave Radio Telescope between April 2010 and March 2012 as part of the TGSS project. Aimed at producing a reliable compact source survey, the automated data reduction pipeline efficiently processed more than 2000 hours of observations with minimal human interaction. Through application of innovative techniques such as image-based flagging, direction-dependent calibration of ionospheric phase errors, correcting for systematic offsets in antenna pointing, and improving the primary beam model, good quality images were created for over 95 percent of the 5336 pointings. This data release covers 36,900 square degrees (or 3.6 pi steradians) of the sky between -53 deg and +90 deg DEC, which is 90 percent of the total sky. The majority of pointing images have a background RMS noise below 5 mJy/beam with an approximate resolution of 25\" x 25\" (or 25\" x 25\" / cos (DEC - 19 deg) for pointings south of 19 deg DEC). The associated catalog has 640 thousand radio sources derived from an initial, high reliability source extraction at the 7 sigma level. The measured overall astrometric accuracy is better than 2\" in RA and DEC, while the flux density accuracy is estimated at ~10 percent. Data is stored as 5336 mosaic images (5 deg x 5 deg). &amp;lt;p&amp;gt; &amp;lt;i&amp;gt;SkyView&amp;lt;/i&amp;gt; uses Lanczos resampling and Sqrt image scaling by default for this survey.\n",
      "More info: https://skyview.gsfc.nasa.gov\n",
      "Access URL: https://skyview.gsfc.nasa.gov/cgi-bin/vo/sia.pl?survey=tgss&amp;\n"
     ]
    },
    {
     "data": {
      "text/markdown": [
       "### UKIDSS (ivo://nasa.heasarc/skyview/ukidss)"
      ],
      "text/plain": [
       "<IPython.core.display.Markdown object>"
      ]
     },
     "metadata": {},
     "output_type": "display_data"
    },
    {
     "name": "stdout",
     "output_type": "stream",
     "text": [
      "The UKIDSS survey is the next generation infrared survey, a successor to 2MASS. It will ultimately cover 7000 square degrees in the northern sky at both high and low Galactic latitudes and goes abukidss\\.xml\\.out three magnitudes deeper than 2MASS in the coverage area. Most data is taken in the J, H and K bands. A Y band is available in some regions. &amp;lt;p&amp;gt; UKIDSS is comprised of several distinct surveys in different regions of the sky. Of primary interest to &amp;lt;i&amp;gt;SkyView&amp;lt;/i&amp;gt; users (since they have the largest sky coverage) are the Large Area Survey, the Galactic Plane Survey, and the Galactic Clusters Survey. There are deep and ultadeep surveys which cover much smaller fractions of the sky. The planned coverage for the UKIDSS surveys may be seen at the &amp;lt;a href='http://www.ukidss.org/surveys/surveys.html'&amp;gt; UKIDSS survey page&amp;lt;/a&amp;gt;. All UKIDSS data products are published by the Wide-Field Astronomy Unit (WFAU) at the University of Edinburgh through the &amp;lt;a href=http://surveys.roe.ac.uk/wsa&amp;gt;WFCAM Science Archive (WSA)&amp;lt;/a&amp;gt; which includes more detailed coverage information for each data release. &amp;lt;p&amp;gt; &amp;lt;i&amp;gt;SkyView&amp;lt;/i&amp;gt; currently uses the DR8 data release except for the Galactic Plane Survey region where the DR7 is the latest public release. Many thanks to the WSA team at WFAU for providing an interface to make all the latest data easily accessed. Note that coverage is not uniform across the different bands so that at a given point there might be H and K band data, but nothing in the J band.\n",
      "More info: https://skyview.gsfc.nasa.gov\n",
      "Access URL: https://skyview.gsfc.nasa.gov/cgi-bin/vo/sia.pl?survey=ukidss&amp;\n"
     ]
    },
    {
     "data": {
      "text/markdown": [
       "### UltraVista-H (ivo://nasa.heasarc/skyview/ultravista-h)"
      ],
      "text/plain": [
       "<IPython.core.display.Markdown object>"
      ]
     },
     "metadata": {},
     "output_type": "display_data"
    },
    {
     "name": "stdout",
     "output_type": "stream",
     "text": [
      "UltraVISTA is an Ultra Deep, near-infrared survey with the new VISTA surveys telescope of the European Svista_hips\\.xml\\.outhern Observatory (ESO). Over the course of 5 years, UltraVISTA will repeatedly image the COSMOS field in 5 bands covering a 1.5deg^2 field.\\n \\nESO acknowledgment: Data products from observations made with ESO Telescopes at the La Silla Paranal Observatories under ESO programme ID 179.A-2005 and on data products produced by TERAPIX and the Cambridge Astronomy Survey Unit on behalf of the UltraVISTA consortium.&amp;lt;p&amp;gt; This survey description was generated automatically from the &amp;lt;a href='http://alasky.u-strasbg.fr/VISTA/UltraVista/H/properties'&amp;gt;HiPS property file&amp;lt;/a&amp;gt;\n",
      "More info: https://skyview.gsfc.nasa.gov\n",
      "Access URL: https://skyview.gsfc.nasa.gov/cgi-bin/vo/sia.pl?survey=ultravista-h&amp;\n"
     ]
    },
    {
     "data": {
      "text/markdown": [
       "### VLSS (ivo://nasa.heasarc/skyview/vlss)"
      ],
      "text/plain": [
       "<IPython.core.display.Markdown object>"
      ]
     },
     "metadata": {},
     "output_type": "display_data"
    },
    {
     "name": "stdout",
     "output_type": "stream",
     "text": [
      "The VLA Low-Frequency Sky Survey (VLSS) is a 74 MHz continuum survey covering the entire sky north of -30 degrees declination. Using the VLA in BnA and B-configurations, it will map the entire survey region at a resolution of 80\" and with an average rms noise of 0.1 Jy/beam. &amp;lt;p&amp;gt; This version include the data from the VLSS redux which increased the coverage region slightly and substantially improved the data reduction. Details are in the Lane et al. (2012) reference.\n",
      "More info: https://skyview.gsfc.nasa.gov\n",
      "Access URL: https://skyview.gsfc.nasa.gov/cgi-bin/vo/sia.pl?survey=vlss&amp;\n"
     ]
    },
    {
     "data": {
      "text/markdown": [
       "### WENSS (ivo://nasa.heasarc/skyview/wenss)"
      ],
      "text/plain": [
       "<IPython.core.display.Markdown object>"
      ]
     },
     "metadata": {},
     "output_type": "display_data"
    },
    {
     "name": "stdout",
     "output_type": "stream",
     "text": [
      "The Westerbork Northern Sky Survey (&amp;lt;i&amp;gt;WENSS&amp;lt;/i&amp;gt;) is a low-frequency radio survey that covers the whole sky north of delta=30 degree at a wavelength of 92 cm to a limiting flux density of approximately 18 mJy (5 sigma). This survey has a resolution of 54\" x 54\" cosec (delta) and a positional accuracy for strong sources of 1.5''. &amp;lt;p&amp;gt; Further information on the survey including links to catalogs derived from the survey is available at the &amp;lt;a href=\"http://www.strw.leidenuniv.nl/wenss\"&amp;gt; &amp;lt;i&amp;gt;WENSS&amp;lt;/i&amp;gt; web site&amp;lt;/a&amp;gt;. &amp;lt;p&amp;gt; The &amp;lt;i&amp;gt;WENSS&amp;lt;/i&amp;gt; survey is included on the &amp;lt;b&amp;gt;SkyView High Resolution Radio Coverage &amp;lt;/b&amp;gt;&amp;lt;a href=\"https://skyview.gsfc.nasa.gov/images/high_res_radio.jpg\"&amp;gt; map&amp;lt;/a&amp;gt;. This map shows coverage on an Aitoff projection of the sky in equatorial coordinates. &amp;lt;p&amp;gt;\n",
      "More info: https://skyview.gsfc.nasa.gov\n",
      "Access URL: https://skyview.gsfc.nasa.gov/cgi-bin/vo/sia.pl?survey=wenss&amp;\n"
     ]
    },
    {
     "data": {
      "text/markdown": [
       "### WFCF (ivo://nasa.heasarc/skyview/wfcf)"
      ],
      "text/plain": [
       "<IPython.core.display.Markdown object>"
      ]
     },
     "metadata": {},
     "output_type": "display_data"
    },
    {
     "name": "stdout",
     "output_type": "stream",
     "text": [
      "This survey is a mosaic of images taken by the ROSAT Wide Field Camera and comprises of 12,743 seperates fields in each of two filters. Each field covers a region 2.6&amp;amp;amp;#176; x 2.6&amp;amp;amp;#176; with a 0.3&amp;amp;amp;#176; overlap. Currently, this data is not a complete coverage of the sky; regions near the northern ecliptic pole are currently not included.\n",
      "More info: https://skyview.gsfc.nasa.gov\n",
      "Access URL: https://skyview.gsfc.nasa.gov/cgi-bin/vo/sia.pl?survey=wfcf&amp;\n"
     ]
    },
    {
     "data": {
      "text/markdown": [
       "### WFCF1 (ivo://nasa.heasarc/skyview/wfcf1)"
      ],
      "text/plain": [
       "<IPython.core.display.Markdown object>"
      ]
     },
     "metadata": {},
     "output_type": "display_data"
    },
    {
     "name": "stdout",
     "output_type": "stream",
     "text": [
      "This survey is a mosaic of images taken by the ROSAT Wide Field Camera and comprises of 12,743 seperates fields in each of two filters. Each field covers a region 2.6&amp;amp;amp;#176; x 2.6&amp;amp;amp;#176; with a 0.3&amp;amp;amp;#176; overlap. Currently, this data is not a complete coverage of the sky; regions near the northern ecliptic pole are currently not included.\n",
      "More info: https://skyview.gsfc.nasa.gov\n",
      "Access URL: https://skyview.gsfc.nasa.gov/cgi-bin/vo/sia.pl?survey=wfcf1&amp;\n"
     ]
    },
    {
     "data": {
      "text/markdown": [
       "### WISE (ivo://nasa.heasarc/skyview/wise)"
      ],
      "text/plain": [
       "<IPython.core.display.Markdown object>"
      ]
     },
     "metadata": {},
     "output_type": "display_data"
    },
    {
     "name": "stdout",
     "output_type": "stream",
     "text": [
      "From the &amp;lt;a href=\"http://wise2.ipac.caltech.edu/docs/release/allsky\"&amp;gt;WISE mission site:&amp;lt;/a&amp;gt;. &amp;lt;hr&amp;gt; NASA's Wide-field Infrared Survey Explorer (WISE) mapped the sky at 3.4, 4.6, 12 and 22 micrometers in 2010 with an angular resolution of 6.1\", 6.4\", 6.5\" and 12.0\" in the four bands. WISE achieved a 5 sigma point source sensitivities better and 0.08, 0.11 1 and 6 mJy in unconfused regions on the ecliptic in the four bands. Sensitivity improves toward the ecliptic poles due to denser coverage and lower zodaical background. &amp;lt;p&amp;gt; The WISE All-WISE includes all data taking during the WISE full cryogenic phase, from January 7, 2010 to August 6, 2010, that were processed with improved calibrations and reduction algorithms and combines this with the NEOWISE postcryogenic survey to form the most comprehensive view of the full mid-infrared sky. bibcode=1995ApJ...451..564V,2010ApJ...713..912W &amp;lt;hr&amp;gt; &amp;lt;p&amp;gt; SkyView includes the four WISE bands as separate surveys. Many non-image data products are available at the WISE site. Note that WISE data is distributed in relatively large (&amp;amp;gt;50 MB) image files. When SkyView generates an image for a part of the sky where it has not yet cached the data from the IPAC server there may be a delay as full tiles are downloaded even when only a small fraction of a tile is needed. Images in cached regions, are generated much faster. Access to the WISE data uses the VO SIA interface maintained at IPAC. Even when data is cached, the SIA service must still be available for successful queries.\n",
      "More info: https://skyview.gsfc.nasa.gov\n",
      "Access URL: https://skyview.gsfc.nasa.gov/cgi-bin/vo/sia.pl?survey=wise&amp;\n"
     ]
    },
    {
     "data": {
      "text/markdown": [
       "### WMAP (ivo://nasa.heasarc/skyview/wmap)"
      ],
      "text/plain": [
       "<IPython.core.display.Markdown object>"
      ]
     },
     "metadata": {},
     "output_type": "display_data"
    },
    {
     "name": "stdout",
     "output_type": "stream",
     "text": [
      "These survey represents a combination of the 9-year data combined in a way that is intended to minimize the contribution from the galaxy. The data measure the temperature deviation from a uniform black body. &amp;lt;p&amp;gt; The original data are available at the &amp;lt;https://lambda.gsfc.nasa.gov&amp;gt;LAMBDA archive&amp;lt;/a&amp;gt;. &amp;lt;p&amp;gt; The original data are stored in HEALPix pixels. SkyView treats HEALPix as a standard projection but assumes that the HEALPix data is in a projection plane with a rotation of -45 degrees. The rotation transforms the HEALPix pixels from diamonds to squares so that the boundaries of the pixels are treated properly. The special HealPixImage class is used so that SkyView can use the HEALPix FITS files directly. The HealPixImage simulates a rectangular image but translates the pixels from that image to the nested HEALPix structure that is used by the WMAP data. &amp;lt;/p&amp;gt;\n",
      "More info: https://skyview.gsfc.nasa.gov\n",
      "Access URL: https://skyview.gsfc.nasa.gov/cgi-bin/vo/sia.pl?survey=wmap&amp;\n"
     ]
    },
    {
     "data": {
      "text/markdown": [
       "### XMM (ivo://nasa.heasarc/xmmmaster)"
      ],
      "text/plain": [
       "<IPython.core.display.Markdown object>"
      ]
     },
     "metadata": {},
     "output_type": "display_data"
    },
    {
     "name": "stdout",
     "output_type": "stream",
     "text": [
      "This is the XMM-Newton Master Catalog and Public Archive table which has been created from information supplied to the HEASARC by the XMM-Newton Project. It is periodically updated as necessary. This database table contains the list of observations which have already been made by the XMM-Newton observatory, as well as those which are scheduled to be made in the near future (usually a a few weeks to a month ahead of the present). It does not contain observations which are scheduled to be performed further in the future, nor does it contain accepted observations which have not yet been scheduled. The list of all accepted XMM-Newton observations, including a number of ones which are unlikely to ever be carried out, such as accepted priority C targets, is available in the XMMAO Browse table. This table includes entries for both pointed data and for data obtained during spacecraft slews. The slew observations all have obsid values beginning with the digit 9 and, because they were not made at a fixed position, lack any positional information such as RA and Declination. Some XMM-Newton observations for which the archived data has become publicly available as indicated by the public_date parameter value, i.e., the proprietary period has expired, are not currently available at the HEASARC: such cases will have values of 'N' for the data_in_heasarc parameter. These datasets in most cases are available at the ESA XMM-Newton Science Archive (XSA) at &amp;lt;a href=\"http://nxsa.esac.esa.int/nxsa-web/\"&amp;gt;http://nxsa.esac.esa.int/nxsa-web/&amp;lt;/a&amp;gt;. For much more detailed information on the XMM-Newton instruments and their operation, please refer to the XMM-Newton Users Handbook at &amp;lt;a href=\"http://heasarc.gsfc.nasa.gov/docs/xmm/uhb/\"&amp;gt;http://heasarc.gsfc.nasa.gov/docs/xmm/uhb/&amp;lt;/a&amp;gt;.\n",
      "More info: https://heasarc.gsfc.nasa.gov/W3Browse/all/xmmmaster.html\n",
      "Access URL: https://heasarc.gsfc.nasa.gov/xamin/vo/sia?table=xmmmaster&amp;\n"
     ]
    }
   ],
   "source": [
    "#Base URL for the registry\n",
    "registry_url = \"https://vao.stsci.edu/RegTAP/TapService.aspx/sync\"\n",
    "\n",
    "#Parameters to append to the Base URL.\n",
    "tap_params = {\n",
    "    \"request\":\"doQuery\",\n",
    "    \"lang\":\"ADQL\",\n",
    "    \"query\":\"\"\"\n",
    "        select cap.ivoid,res.short_name,res.res_description,res.reference_url,int.access_url\n",
    "        from rr.capability cap\n",
    "        natural join rr.resource res\n",
    "        natural join rr.interface int\n",
    "        where cap.cap_type='simpleimageaccess' and cap.ivoid like 'ivo://%heasarc%'\n",
    "        order by short_name;\n",
    "    \"\"\"\n",
    "    }\n",
    "\n",
    "#Send the request to the registry\n",
    "r = requests.post(registry_url, data = tap_params)\n",
    "\n",
    "#Put the results in an astropy table.\n",
    "table=Table.read(io.BytesIO(r.content))\n",
    "\n",
    "# Display results in a readable way including the \n",
    "# short_name, ivoid, res_description and reference_url.\n",
    "from IPython.display import Markdown, display\n",
    "\n",
    "for row in table:\n",
    "    md = '### {} ({})'.format(row['short_name'].decode('utf-8'), row['ivoid'].decode('utf-8'))\n",
    "    display(Markdown(md))\n",
    "    print(row['res_description'].decode('utf-8'))\n",
    "    print('More info: {}'.format(row['reference_url'].decode('utf-8')))\n",
    "    print('Access URL: {}'.format(row['access_url'].decode('utf-8')))"
   ]
  },
  {
   "cell_type": "markdown",
   "metadata": {},
   "source": [
    "### Exercise: Try replacing heasarc with irsa, stsci, ned in the above.\n",
    "\n",
    "### Exercise: Try replacing simpleimageaccess with conesearch, simplespectralaccess, tableaccess in the above."
   ]
  },
  {
   "cell_type": "markdown",
   "metadata": {},
   "source": [
    "<a id='registryallwise'></a>"
   ]
  },
  {
   "cell_type": "markdown",
   "metadata": {},
   "source": [
    "### 4b. Use the Registry to find the Base URL for AllWISE"
   ]
  },
  {
   "cell_type": "code",
   "execution_count": 229,
   "metadata": {},
   "outputs": [
    {
     "data": {
      "text/html": [
       "&lt;Table masked=True length=1&gt;\n",
       "<table id=\"table4956775536-46542\" class=\"table-striped table-bordered table-condensed\">\n",
       "<thead><tr><th>idx</th><th>short_name</th><th>access_url</th></tr></thead>\n",
       "<tr><td>0</td><td>AllWISE L3a</td><td>https://irsa.ipac.caltech.edu/ibe/sia/wise/allwise/p3am_cdd?</td></tr>\n",
       "</table><style>table.dataTable {clear: both; width: auto !important; margin: 0 !important;}\n",
       ".dataTables_info, .dataTables_length, .dataTables_filter, .dataTables_paginate{\n",
       "display: inline-block; margin-right: 1em; }\n",
       ".paginate_button { margin-right: 5px; }\n",
       "</style>\n",
       "<script>\n",
       "\n",
       "var astropy_sort_num = function(a, b) {\n",
       "    var a_num = parseFloat(a);\n",
       "    var b_num = parseFloat(b);\n",
       "\n",
       "    if (isNaN(a_num) && isNaN(b_num))\n",
       "        return ((a < b) ? -1 : ((a > b) ? 1 : 0));\n",
       "    else if (!isNaN(a_num) && !isNaN(b_num))\n",
       "        return ((a_num < b_num) ? -1 : ((a_num > b_num) ? 1 : 0));\n",
       "    else\n",
       "        return isNaN(a_num) ? -1 : 1;\n",
       "}\n",
       "\n",
       "require.config({paths: {\n",
       "    datatables: 'https://cdn.datatables.net/1.10.12/js/jquery.dataTables.min'\n",
       "}});\n",
       "require([\"datatables\"], function(){\n",
       "    console.log(\"$('#table4956775536-46542').dataTable()\");\n",
       "    \n",
       "jQuery.extend( jQuery.fn.dataTableExt.oSort, {\n",
       "    \"optionalnum-asc\": astropy_sort_num,\n",
       "    \"optionalnum-desc\": function (a,b) { return -astropy_sort_num(a, b); }\n",
       "});\n",
       "\n",
       "    $('#table4956775536-46542').dataTable({\n",
       "        order: [],\n",
       "        pageLength: 50,\n",
       "        lengthMenu: [[10, 25, 50, 100, 500, 1000, -1], [10, 25, 50, 100, 500, 1000, 'All']],\n",
       "        pagingType: \"full_numbers\",\n",
       "        columnDefs: [{targets: [0], type: \"optionalnum\"}]\n",
       "    });\n",
       "});\n",
       "</script>\n"
      ],
      "text/plain": [
       "<IPython.core.display.HTML object>"
      ]
     },
     "execution_count": 229,
     "metadata": {},
     "output_type": "execute_result"
    }
   ],
   "source": [
    "tap_params = {\n",
    "    \"request\":\"doQuery\",\n",
    "    \"lang\":\"ADQL\",\n",
    "    \"query\":\"\"\"\n",
    "        select res.short_name, int.access_url \n",
    "        from rr.capability cap\n",
    "        natural join rr.resource res\n",
    "        natural join rr.interface int\n",
    "        where cap.cap_type='simpleimageaccess' and res.short_name like 'allwise%' \n",
    "        order by short_name;\n",
    "    \"\"\"\n",
    "    }\n",
    "\n",
    "r = requests.post('https://vao.stsci.edu/RegTAP/TapService.aspx/sync', data = tap_params)\n",
    "table=Table.read(io.BytesIO(r.content))\n",
    "\n",
    "#View the table.\n",
    "table.show_in_notebook()"
   ]
  },
  {
   "cell_type": "markdown",
   "metadata": {},
   "source": [
    "<a id='registrymultiwavelength'></a>"
   ]
  },
  {
   "cell_type": "markdown",
   "metadata": {},
   "source": [
    "### 4c. Define Base URLs for GALEX, 2MASS, and AllWISE"
   ]
  },
  {
   "cell_type": "code",
   "execution_count": 230,
   "metadata": {},
   "outputs": [
    {
     "data": {
      "text/html": [
       "&lt;Table length=3&gt;\n",
       "<table id=\"table4958333248-376461\" class=\"table-striped table-bordered table-condensed\">\n",
       "<thead><tr><th>idx</th><th>mission</th><th>base_url</th></tr></thead>\n",
       "<tr><td>0</td><td>GALEX</td><td>http://mast.stsci.edu/portal_vo/Mashup/VoQuery.asmx/SiaV1?MISSION=GALEX&amp;amp;</td></tr>\n",
       "<tr><td>1</td><td>2MASS</td><td>http://irsa.ipac.caltech.edu/ibe/sia/twomass/allsky/allsky?</td></tr>\n",
       "<tr><td>2</td><td>AllWISE</td><td>https://irsa.ipac.caltech.edu/ibe/sia/wise/allwise/p3am_cdd?</td></tr>\n",
       "</table><style>table.dataTable {clear: both; width: auto !important; margin: 0 !important;}\n",
       ".dataTables_info, .dataTables_length, .dataTables_filter, .dataTables_paginate{\n",
       "display: inline-block; margin-right: 1em; }\n",
       ".paginate_button { margin-right: 5px; }\n",
       "</style>\n",
       "<script>\n",
       "\n",
       "var astropy_sort_num = function(a, b) {\n",
       "    var a_num = parseFloat(a);\n",
       "    var b_num = parseFloat(b);\n",
       "\n",
       "    if (isNaN(a_num) && isNaN(b_num))\n",
       "        return ((a < b) ? -1 : ((a > b) ? 1 : 0));\n",
       "    else if (!isNaN(a_num) && !isNaN(b_num))\n",
       "        return ((a_num < b_num) ? -1 : ((a_num > b_num) ? 1 : 0));\n",
       "    else\n",
       "        return isNaN(a_num) ? -1 : 1;\n",
       "}\n",
       "\n",
       "require.config({paths: {\n",
       "    datatables: 'https://cdn.datatables.net/1.10.12/js/jquery.dataTables.min'\n",
       "}});\n",
       "require([\"datatables\"], function(){\n",
       "    console.log(\"$('#table4958333248-376461').dataTable()\");\n",
       "    \n",
       "jQuery.extend( jQuery.fn.dataTableExt.oSort, {\n",
       "    \"optionalnum-asc\": astropy_sort_num,\n",
       "    \"optionalnum-desc\": function (a,b) { return -astropy_sort_num(a, b); }\n",
       "});\n",
       "\n",
       "    $('#table4958333248-376461').dataTable({\n",
       "        order: [],\n",
       "        pageLength: 50,\n",
       "        lengthMenu: [[10, 25, 50, 100, 500, 1000, -1], [10, 25, 50, 100, 500, 1000, 'All']],\n",
       "        pagingType: \"full_numbers\",\n",
       "        columnDefs: [{targets: [0], type: \"optionalnum\"}]\n",
       "    });\n",
       "});\n",
       "</script>\n"
      ],
      "text/plain": [
       "<IPython.core.display.HTML object>"
      ]
     },
     "execution_count": 230,
     "metadata": {},
     "output_type": "execute_result"
    }
   ],
   "source": [
    "#Decide on missions you are interested in.\n",
    "missions = ['GALEX', '2MASS', 'AllWISE']\n",
    "\n",
    "base_urls = ['http://mast.stsci.edu/portal_vo/Mashup/VoQuery.asmx/SiaV1?MISSION=GALEX&amp;', \n",
    "             'http://irsa.ipac.caltech.edu/ibe/sia/twomass/allsky/allsky?',\n",
    "             'https://irsa.ipac.caltech.edu/ibe/sia/wise/allwise/p3am_cdd?']\n",
    "\n",
    "#Create an astropy table with this info.\n",
    "search_list = Table([missions, base_urls], names = ('mission', 'base_url'))\n",
    "\n",
    "#Show this table.\n",
    "search_list.show_in_notebook()"
   ]
  },
  {
   "cell_type": "markdown",
   "metadata": {},
   "source": [
    "<a id='registryreplace'></a>"
   ]
  },
  {
   "cell_type": "markdown",
   "metadata": {},
   "source": [
    "<a href = \"#toc\">Table of Contents</a>"
   ]
  },
  {
   "cell_type": "markdown",
   "metadata": {},
   "source": [
    "<a id='simpleimageaccess'></a>"
   ]
  },
  {
   "cell_type": "markdown",
   "metadata": {},
   "source": [
    "## 5. Simple Image Access version 1\n",
    "\n",
    "This method of searching for images is meant to be very simple. You specify a search position and size, and the service returns a list of candidate images in VO table format. Each candidate image has an access URL that you can use to grab that image in a second step.\n",
    "\n",
    "More information on the protocol is here:\n",
    "http://www.ivoa.net/documents/SIA/20091116/REC-SIA-1.0.html"
   ]
  },
  {
   "cell_type": "code",
   "execution_count": 231,
   "metadata": {
    "scrolled": false
   },
   "outputs": [
    {
     "name": "stdout",
     "output_type": "stream",
     "text": [
      "Number of Images Found:  3\n"
     ]
    },
    {
     "data": {
      "text/html": [
       "&lt;Table masked=True length=3&gt;\n",
       "<table id=\"table4955906512-878018\" class=\"table-striped table-bordered table-condensed\">\n",
       "<thead><tr><th>idx</th><th>sia_title</th><th>sia_url</th><th>sia_naxes</th><th>sia_fmt</th><th>sia_ra</th><th>sia_dec</th><th>sia_naxis</th><th>sia_crpix</th><th>sia_crval</th><th>sia_proj</th><th>sia_scale</th><th>sia_cd</th><th>sia_bp_id</th><th>sia_bp_ref</th><th>sia_bp_lo</th><th>sia_bp_hi</th><th>pers_art</th><th>glint_art</th><th>ordate</th><th>hemisphere</th><th>scanno</th><th>coaddno</th><th>ut_date</th><th>coadd_key</th><th>seesh</th><th>magzp</th><th>msnr10</th></tr></thead>\n",
       "<thead><tr><th></th><th></th><th></th><th></th><th></th><th>deg</th><th>deg</th><th></th><th>pix</th><th>deg</th><th></th><th>deg / pix</th><th>deg / pix</th><th></th><th></th><th></th><th></th><th></th><th></th><th></th><th></th><th></th><th></th><th></th><th></th><th>arcs</th><th></th><th></th></tr></thead>\n",
       "<tr><td>0</td><td>2MASS All-Sky Data Release K-Band Atlas Image: 000225 s 088 0080</td><td>https://irsa.ipac.caltech.edu/ibe/data/twomass/allsky/allsky/000225s/s088/image/ki0880080.fits.gz</td><td>2</td><td>image/fits</td><td>185.48134830000001</td><td>4.3938090040000004</td><td>[512 1024]</td><td>[256.5 512.5]</td><td>[185.4813483 4.393809004]</td><td>SIN</td><td>[-0.0002777777845 0.0002777777845]</td><td>[-0.000277775673673415 -1.08290212349349e-06 -1.08290212349349e-06\n",
       " 0.000277775673673415]</td><td>K</td><td>2.159e-06</td><td>1.8840000000000001e-06</td><td>2.4339999999999999e-06</td><td>https://irsa.ipac.caltech.edu/ibe/data/twomass/allsky/allsky/000225s/s088/pers.tbl</td><td>https://irsa.ipac.caltech.edu/ibe/data/twomass/allsky/allsky/000225s/s088/glint.tbl</td><td>000225</td><td>s</td><td>88</td><td>80</td><td>000225</td><td>1070542</td><td>1.0</td><td>19.8719997</td><td>14.614</td></tr>\n",
       "<tr><td>1</td><td>2MASS All-Sky Data Release J-Band Atlas Image: 000225 s 088 0080</td><td>https://irsa.ipac.caltech.edu/ibe/data/twomass/allsky/allsky/000225s/s088/image/ji0880080.fits.gz</td><td>2</td><td>image/fits</td><td>185.48134830000001</td><td>4.3938090040000004</td><td>[512 1024]</td><td>[256.5 512.5]</td><td>[185.4813483 4.393809004]</td><td>SIN</td><td>[-0.0002777777845 0.0002777777845]</td><td>[-0.000277775673673415 -1.08290212349349e-06 -1.08290212349349e-06\n",
       " 0.000277775673673415]</td><td>J</td><td>1.235e-06</td><td>1.066e-06</td><td>1.404e-06</td><td>https://irsa.ipac.caltech.edu/ibe/data/twomass/allsky/allsky/000225s/s088/pers.tbl</td><td>https://irsa.ipac.caltech.edu/ibe/data/twomass/allsky/allsky/000225s/s088/glint.tbl</td><td>000225</td><td>s</td><td>88</td><td>80</td><td>000225</td><td>1070542</td><td>0.99000001000000004</td><td>20.739700299999999</td><td>16.292</td></tr>\n",
       "<tr><td>2</td><td>2MASS All-Sky Data Release H-Band Atlas Image: 000225 s 088 0080</td><td>https://irsa.ipac.caltech.edu/ibe/data/twomass/allsky/allsky/000225s/s088/image/hi0880080.fits.gz</td><td>2</td><td>image/fits</td><td>185.48134830000001</td><td>4.3938090040000004</td><td>[512 1024]</td><td>[256.5 512.5]</td><td>[185.4813483 4.393809004]</td><td>SIN</td><td>[-0.0002777777845 0.0002777777845]</td><td>[-0.000277775673673415 -1.08290212349349e-06 -1.08290212349349e-06\n",
       " 0.000277775673673415]</td><td>H</td><td>1.6619999999999999e-06</td><td>1.3999999999999999e-06</td><td>1.9240000000000001e-06</td><td>https://irsa.ipac.caltech.edu/ibe/data/twomass/allsky/allsky/000225s/s088/pers.tbl</td><td>https://irsa.ipac.caltech.edu/ibe/data/twomass/allsky/allsky/000225s/s088/glint.tbl</td><td>000225</td><td>s</td><td>88</td><td>80</td><td>000225</td><td>1070542</td><td>0.94999998799999996</td><td>20.383899700000001</td><td>15.601</td></tr>\n",
       "</table><style>table.dataTable {clear: both; width: auto !important; margin: 0 !important;}\n",
       ".dataTables_info, .dataTables_length, .dataTables_filter, .dataTables_paginate{\n",
       "display: inline-block; margin-right: 1em; }\n",
       ".paginate_button { margin-right: 5px; }\n",
       "</style>\n",
       "<script>\n",
       "\n",
       "var astropy_sort_num = function(a, b) {\n",
       "    var a_num = parseFloat(a);\n",
       "    var b_num = parseFloat(b);\n",
       "\n",
       "    if (isNaN(a_num) && isNaN(b_num))\n",
       "        return ((a < b) ? -1 : ((a > b) ? 1 : 0));\n",
       "    else if (!isNaN(a_num) && !isNaN(b_num))\n",
       "        return ((a_num < b_num) ? -1 : ((a_num > b_num) ? 1 : 0));\n",
       "    else\n",
       "        return isNaN(a_num) ? -1 : 1;\n",
       "}\n",
       "\n",
       "require.config({paths: {\n",
       "    datatables: 'https://cdn.datatables.net/1.10.12/js/jquery.dataTables.min'\n",
       "}});\n",
       "require([\"datatables\"], function(){\n",
       "    console.log(\"$('#table4955906512-878018').dataTable()\");\n",
       "    \n",
       "jQuery.extend( jQuery.fn.dataTableExt.oSort, {\n",
       "    \"optionalnum-asc\": astropy_sort_num,\n",
       "    \"optionalnum-desc\": function (a,b) { return -astropy_sort_num(a, b); }\n",
       "});\n",
       "\n",
       "    $('#table4955906512-878018').dataTable({\n",
       "        order: [],\n",
       "        pageLength: 50,\n",
       "        lengthMenu: [[10, 25, 50, 100, 500, 1000, -1], [10, 25, 50, 100, 500, 1000, 'All']],\n",
       "        pagingType: \"full_numbers\",\n",
       "        columnDefs: [{targets: [0, 3, 5, 6, 14, 15, 16, 21, 22, 24, 25, 26, 27], type: \"optionalnum\"}]\n",
       "    });\n",
       "});\n",
       "</script>\n"
      ],
      "text/plain": [
       "<IPython.core.display.HTML object>"
      ]
     },
     "execution_count": 231,
     "metadata": {},
     "output_type": "execute_result"
    }
   ],
   "source": [
    "# Choose a search position.\n",
    "ra = '185.47873'\n",
    "dec = '4.47365'\n",
    "\n",
    "# Choose a search size. Zero means the image must contain the search point.\n",
    "size = '0'  #diameter in degrees\n",
    "\n",
    "# Define the search region.\n",
    "params = {'POS': ra + ',' + dec,\n",
    "          'SIZE': size\n",
    "         }\n",
    "\n",
    "# Choose a Base URL.\n",
    "base_url = search_list['base_url'][1]\n",
    "\n",
    "# Send the search URL\n",
    "r = requests.get(base_url, params)\n",
    "#print('status:', r.status_code)\n",
    "#print('URL:', r.url)\n",
    "\n",
    "# Convert the results into an astropy table.\n",
    "table=Table.read(io.BytesIO(r.content))\n",
    "\n",
    "#Print the number of candidate images identified.\n",
    "print('Number of Images Found: ', len(table))\n",
    "\n",
    "#Print the table.\n",
    "table.show_in_notebook()"
   ]
  },
  {
   "cell_type": "markdown",
   "metadata": {},
   "source": [
    "### Exercise: Modify the above to print the analogous GALEX table. You should find that the column names differ, and there are many additional file formats. "
   ]
  },
  {
   "cell_type": "markdown",
   "metadata": {},
   "source": [
    "<a href = \"#toc\">Table of Contents</a>"
   ]
  },
  {
   "cell_type": "markdown",
   "metadata": {},
   "source": [
    "<a id='ucd'></a>"
   ]
  },
  {
   "cell_type": "markdown",
   "metadata": {},
   "source": [
    "## 6. Find the Universal Common Descriptors for each column.\n",
    "\n",
    "Each archive can name columns whatever they want, but the *type* of column has a universal name. To see the UCDs for the 2MASS allsky atlas images, try the following:"
   ]
  },
  {
   "cell_type": "code",
   "execution_count": 232,
   "metadata": {},
   "outputs": [
    {
     "name": "stdout",
     "output_type": "stream",
     "text": [
      "VOX:Image_Title\n",
      "sia_title\n",
      " \n",
      "VOX:Image_AccessReference\n",
      "sia_url\n",
      " \n",
      "VOX:Image_Naxes\n",
      "sia_naxes\n",
      " \n",
      "VOX:Image_Format\n",
      "sia_fmt\n",
      " \n",
      "POS_EQ_RA_MAIN\n",
      "sia_ra\n",
      " \n",
      "POS_EQ_DEC_MAIN\n",
      "sia_dec\n",
      " \n",
      "VOX:Image_Naxis\n",
      "sia_naxis\n",
      " \n",
      "VOX:WCS_CoordRefPixel\n",
      "sia_crpix\n",
      " \n",
      "VOX:WCS_CoordRefValue\n",
      "sia_crval\n",
      " \n",
      "VOX:WCS_CoordProjection\n",
      "sia_proj\n",
      " \n",
      "VOX:Image_Scale\n",
      "sia_scale\n",
      " \n",
      "VOX:WCS_CDMatrix\n",
      "sia_cd\n",
      " \n",
      "VOX:BandPass_ID\n",
      "sia_bp_id\n",
      " \n",
      "VOX:BandPass_RefValue\n",
      "sia_bp_ref\n",
      " \n",
      "VOX:BandPass_LoLimit\n",
      "sia_bp_lo\n",
      " \n",
      "VOX:BandPass_HiLimit\n",
      "sia_bp_hi\n",
      " \n",
      "None\n",
      "pers_art\n",
      " \n",
      "None\n",
      "glint_art\n",
      " \n",
      "None\n",
      "ordate\n",
      " \n",
      "None\n",
      "hemisphere\n",
      " \n",
      "None\n",
      "scanno\n",
      " \n",
      "None\n",
      "coaddno\n",
      " \n",
      "None\n",
      "ut_date\n",
      " \n",
      "None\n",
      "coadd_key\n",
      " \n",
      "None\n",
      "seesh\n",
      " \n",
      "None\n",
      "magzp\n",
      " \n",
      "None\n",
      "msnr10\n",
      " \n"
     ]
    }
   ],
   "source": [
    "for key in table.columns:\n",
    "    col = table.columns[key]\n",
    "    ucdval = col.meta.get('ucd')\n",
    "    print(ucdval)\n",
    "    print(key)\n",
    "    print(' ')\n",
    " "
   ]
  },
  {
   "cell_type": "markdown",
   "metadata": {},
   "source": [
    "The column with UCD = \"VOX:Image_AccessReference\" will have URLs that will lead us to images. The column with UCD = \"VOX:BandPass_ID\" will have the name of the filter. The column with UCD = \"VOX:Image_Format\" will tell us which products are FITS images."
   ]
  },
  {
   "cell_type": "markdown",
   "metadata": {},
   "source": [
    "<a href = \"#toc\">Table of Contents</a>"
   ]
  },
  {
   "cell_type": "markdown",
   "metadata": {},
   "source": [
    "<a id='fetch'></a>"
   ]
  },
  {
   "cell_type": "markdown",
   "metadata": {},
   "source": [
    "## 7. Retrieving images. \n",
    "\n",
    "Each candidate image has an Access URL that you can use to download the image. Here is a simple example for downloading an image. Update with http://docs.astropy.org/en/stable/api/astropy.utils.data.download_file.html"
   ]
  },
  {
   "cell_type": "code",
   "execution_count": 233,
   "metadata": {},
   "outputs": [
    {
     "data": {
      "text/plain": [
       "('ki0880080.fits.gz', <http.client.HTTPMessage at 0x1277bc908>)"
      ]
     },
     "execution_count": 233,
     "metadata": {},
     "output_type": "execute_result"
    }
   ],
   "source": [
    "import urllib.request\n",
    "from astropy.utils.data import download_file\n",
    "\n",
    "URL = \"https://irsa.ipac.caltech.edu/ibe/data/twomass/allsky/allsky/000225s/s088/image/ki0880080.fits.gz\"\n",
    "\n",
    "urllib.request.urlretrieve(URL, \"ki0880080.fits.gz\")"
   ]
  },
  {
   "cell_type": "markdown",
   "metadata": {},
   "source": [
    "<a href = \"#toc\">Table of Contents</a>"
   ]
  },
  {
   "cell_type": "markdown",
   "metadata": {},
   "source": [
    "<a id='multiwavelengthsearch'></a>\n"
   ]
  },
  {
   "cell_type": "markdown",
   "metadata": {},
   "source": [
    "## 8. For a given search position, loop through your list of missions and download the FITS files.\n",
    "\n",
    "This can take a little bit of time. Aren't you glad it's scriptable?"
   ]
  },
  {
   "cell_type": "code",
   "execution_count": 234,
   "metadata": {},
   "outputs": [
    {
     "name": "stdout",
     "output_type": "stream",
     "text": [
      "Searching the following projects:\n",
      "mission\n",
      "-------\n",
      "  GALEX\n",
      "  2MASS\n",
      "AllWISE\n",
      " \n",
      " \n",
      "base_url:\n",
      "http://mast.stsci.edu/portal_vo/Mashup/VoQuery.asmx/SiaV1?MISSION=GALEX&amp;\n",
      "200\n",
      "b'AIS_228_sg28-nd-int.fits.gz'\n",
      "b'AIS_228_sg28-fd-int.fits.gz'\n",
      "b'AIS_228_0001_sg28-nd-int.fits.gz'\n",
      "b'AIS_228_0002_sg28-nd-int.fits.gz'\n",
      "b'AIS_228_0001_sg28-fd-int.fits.gz'\n",
      " \n",
      "base_url:\n",
      "http://irsa.ipac.caltech.edu/ibe/sia/twomass/allsky/allsky?\n",
      "200\n",
      "b'ki0880080.fits.gz'\n",
      "b'ji0880080.fits.gz'\n",
      "b'hi0880080.fits.gz'\n",
      " \n",
      "base_url:\n",
      "https://irsa.ipac.caltech.edu/ibe/sia/wise/allwise/p3am_cdd?\n",
      "200\n",
      "b'1853p045_ac51-w3-int-3.fits'\n",
      "b'1853p045_ac51-w2-int-3.fits'\n",
      "b'1853p045_ac51-w4-int-3.fits'\n",
      "b'1853p045_ac51-w1-int-3.fits'\n"
     ]
    },
    {
     "data": {
      "text/html": [
       "&lt;Table length=12&gt;\n",
       "<table id=\"table4616877616-116294\" class=\"table-striped table-bordered table-condensed\">\n",
       "<thead><tr><th>idx</th><th>mission</th><th>wavebands</th><th>filename</th></tr></thead>\n",
       "<tr><td>0</td><td>GALEX</td><td>UV</td><td>AIS_228_sg28-nd-int.fits.gz</td></tr>\n",
       "<tr><td>1</td><td>GALEX</td><td>UV</td><td>AIS_228_sg28-fd-int.fits.gz</td></tr>\n",
       "<tr><td>2</td><td>GALEX</td><td>UV</td><td>AIS_228_0001_sg28-nd-int.fits.gz</td></tr>\n",
       "<tr><td>3</td><td>GALEX</td><td>UV</td><td>AIS_228_0002_sg28-nd-int.fits.gz</td></tr>\n",
       "<tr><td>4</td><td>GALEX</td><td>UV</td><td>AIS_228_0001_sg28-fd-int.fits.gz</td></tr>\n",
       "<tr><td>5</td><td>2MASS</td><td>K</td><td>ki0880080.fits.gz</td></tr>\n",
       "<tr><td>6</td><td>2MASS</td><td>J</td><td>ji0880080.fits.gz</td></tr>\n",
       "<tr><td>7</td><td>2MASS</td><td>H</td><td>hi0880080.fits.gz</td></tr>\n",
       "<tr><td>8</td><td>AllWISE</td><td>W3</td><td>1853p045_ac51-w3-int-3.fits</td></tr>\n",
       "<tr><td>9</td><td>AllWISE</td><td>W2</td><td>1853p045_ac51-w2-int-3.fits</td></tr>\n",
       "<tr><td>10</td><td>AllWISE</td><td>W4</td><td>1853p045_ac51-w4-int-3.fits</td></tr>\n",
       "<tr><td>11</td><td>AllWISE</td><td>W1</td><td>1853p045_ac51-w1-int-3.fits</td></tr>\n",
       "</table><style>table.dataTable {clear: both; width: auto !important; margin: 0 !important;}\n",
       ".dataTables_info, .dataTables_length, .dataTables_filter, .dataTables_paginate{\n",
       "display: inline-block; margin-right: 1em; }\n",
       ".paginate_button { margin-right: 5px; }\n",
       "</style>\n",
       "<script>\n",
       "\n",
       "var astropy_sort_num = function(a, b) {\n",
       "    var a_num = parseFloat(a);\n",
       "    var b_num = parseFloat(b);\n",
       "\n",
       "    if (isNaN(a_num) && isNaN(b_num))\n",
       "        return ((a < b) ? -1 : ((a > b) ? 1 : 0));\n",
       "    else if (!isNaN(a_num) && !isNaN(b_num))\n",
       "        return ((a_num < b_num) ? -1 : ((a_num > b_num) ? 1 : 0));\n",
       "    else\n",
       "        return isNaN(a_num) ? -1 : 1;\n",
       "}\n",
       "\n",
       "require.config({paths: {\n",
       "    datatables: 'https://cdn.datatables.net/1.10.12/js/jquery.dataTables.min'\n",
       "}});\n",
       "require([\"datatables\"], function(){\n",
       "    console.log(\"$('#table4616877616-116294').dataTable()\");\n",
       "    \n",
       "jQuery.extend( jQuery.fn.dataTableExt.oSort, {\n",
       "    \"optionalnum-asc\": astropy_sort_num,\n",
       "    \"optionalnum-desc\": function (a,b) { return -astropy_sort_num(a, b); }\n",
       "});\n",
       "\n",
       "    $('#table4616877616-116294').dataTable({\n",
       "        order: [],\n",
       "        pageLength: 50,\n",
       "        lengthMenu: [[10, 25, 50, 100, 500, 1000, -1], [10, 25, 50, 100, 500, 1000, 'All']],\n",
       "        pagingType: \"full_numbers\",\n",
       "        columnDefs: [{targets: [0], type: \"optionalnum\"}]\n",
       "    });\n",
       "});\n",
       "</script>\n"
      ],
      "text/plain": [
       "<IPython.core.display.HTML object>"
      ]
     },
     "execution_count": 234,
     "metadata": {},
     "output_type": "execute_result"
    }
   ],
   "source": [
    "from astropy.table import Table, Column\n",
    "import shutil\n",
    "import ntpath\n",
    "\n",
    "# Define the position and search size (degrees).\n",
    "ra = '185.47873'\n",
    "dec = '4.47365'\n",
    "\n",
    "size = '0'  # Means the image must contain the search point\n",
    "\n",
    "params = {'POS': ra + ',' + dec,\n",
    "          'SIZE': size\n",
    "         }\n",
    "\n",
    "#Define some quantities you want to track.\n",
    "outnames = []\n",
    "missionnames = []\n",
    "wavebands = []\n",
    "\n",
    "print('Searching the following projects:')\n",
    "print(search_list['mission'])\n",
    "print(' ')\n",
    "\n",
    "#For each Base URL in your list,\n",
    "for i, base_url in enumerate(search_list['base_url']):\n",
    "\n",
    "    #Send a URL request and get a table of images that meet your spatial constraints.\n",
    "    print(' ')\n",
    "    print('base_url:')\n",
    "    print(base_url)\n",
    "    r = requests.get(base_url, params)\n",
    "    print(r.status_code)\n",
    "    table=Table.read(io.BytesIO(r.content))\n",
    "\n",
    "    #For each column in the returned table,\n",
    "    for key in table.columns:\n",
    "        \n",
    "        #Get the data in the column.\n",
    "        col = table.columns[key]\n",
    "        \n",
    "        #Get the universal content descriptor (UCD) for the column.\n",
    "        ucdval = col.meta.get('ucd')\n",
    "        \n",
    "        #Find the columns of FITS images and get the images names\n",
    "        if (ucdval is not None) and (ucdval == 'VOX:Image_Format'):\n",
    "            imageformats = table[key]\n",
    "        if (ucdval is not None) and (ucdval == 'VOX:Image_AccessReference'):\n",
    "            imagenames = table[key]\n",
    "        if (ucdval is not None) and (ucdval == 'VOX:BandPass_ID'):\n",
    "            bandpasses = table[key]\n",
    "             \n",
    "    #For each imagename\n",
    "    for j, imagename in enumerate(imagenames):\n",
    "\n",
    "        #If the image is a FITS image,\n",
    "        if ('image/fits' in imageformats[j].decode('utf-8')):\n",
    "\n",
    "            #Track the corresponding mission name and waveband.\n",
    "            missionname = search_list['mission'][i]\n",
    "            waveband = bandpasses[j]\n",
    "            \n",
    "            #If it's an image we want (only AIS for GALEX),\n",
    "            if (missionname != 'GALEX') or (missionname == 'GALEX' and 'AIS' in imagename.decode('utf-8')):\n",
    "                \n",
    "                #Send a request for this image.\n",
    "                response = requests.get(imagename, stream=True)\n",
    "                    \n",
    "                #Remove the path from the URL to isolate the name we should output to file.\n",
    "                outname = ntpath.basename(imagename)\n",
    "                outnames.append(outname)\n",
    "                print(outname)\n",
    "                    \n",
    "                #Write a FITS file.\n",
    "                with open(outname, 'wb') as out_file:\n",
    "                    shutil.copyfileobj(response.raw,out_file)\n",
    "\n",
    "                #Keep track of which mission this image is associated with.\n",
    "                missionnames.append(missionname)\n",
    "                wavebands.append(waveband)\n",
    "\n",
    "#Make an astropy table including all the tracked quantities.\n",
    "downloaded_images = Table([missionnames, wavebands, outnames], names=('mission', 'wavebands', 'filename'))\n",
    "\n",
    "#Show the table.\n",
    "downloaded_images.show_in_notebook()"
   ]
  },
  {
   "cell_type": "markdown",
   "metadata": {},
   "source": [
    "### Exercise: Keep track of the wavelength as well as the waveband, to enable wavelength sorting."
   ]
  },
  {
   "cell_type": "markdown",
   "metadata": {},
   "source": [
    "<a href = \"#toc\">Table of Contents</a>"
   ]
  },
  {
   "cell_type": "markdown",
   "metadata": {},
   "source": [
    "<a id='cutouts'></a>"
   ]
  },
  {
   "cell_type": "markdown",
   "metadata": {},
   "source": [
    "# 9. Make cutouts of the images you downloaded."
   ]
  },
  {
   "cell_type": "code",
   "execution_count": 235,
   "metadata": {},
   "outputs": [
    {
     "data": {
      "image/png": "[encoded data removed]",
      "text/plain": [
       "<matplotlib.figure.Figure at 0x1276277b8>"
      ]
     },
     "metadata": {},
     "output_type": "display_data"
    }
   ],
   "source": [
    "import matplotlib.pyplot as plt\n",
    "from astropy.nddata import Cutout2D\n",
    "from astropy.coordinates import SkyCoord\n",
    "from astropy.wcs import wcs\n",
    "import astropy.io.fits as fits\n",
    "import numpy as np\n",
    "import os\n",
    "from astropy.io.fits import getdata, getheader\n",
    "import astropy.units as u\n",
    "\n",
    "#Set up the figure.\n",
    "fig = plt.figure(figsize=(20,10))\n",
    "plt.suptitle('POSITION = '+ra+', '+dec, fontsize=16)\n",
    "\n",
    "#For each image,\n",
    "i = 0\n",
    "for filename in downloaded_images['filename']:\n",
    "    \n",
    "    #Make the title be the filename\n",
    "    filename = downloaded_images['filename'][i]\n",
    "    title = filename\n",
    "    \n",
    "    #Read in the image, header, and WCS\n",
    "    data = getdata(filename, 0)\n",
    "    header = getheader(filename, 0)\n",
    "    w = wcs.WCS(header)\n",
    "\n",
    "    #Make a cutout centered on the search position, with a 30 arcsec width.\n",
    "    position = SkyCoord(ra, dec, unit = 'deg')\n",
    "    size = 30.0 #* u.arcsec\n",
    "    cutout = Cutout2D(data, position, (size, size), wcs=w)\n",
    "\n",
    "    #Make a subplot for this image.\n",
    "    ax = fig.add_subplot(3,4,i+1)\n",
    "    ax.imshow(cutout.data, cmap='gray_r', origin='lower')\n",
    "    ax.set_title(title)\n",
    "    \n",
    "    i = i + 1\n",
    "    \n",
    "plt.show()"
   ]
  },
  {
   "cell_type": "markdown",
   "metadata": {},
   "source": [
    "### Exercise: Sort the images by wavelength. Remove GALEX single-epoch files. Add mission labels and wavebands."
   ]
  },
  {
   "cell_type": "markdown",
   "metadata": {},
   "source": [
    "<a href = \"#toc\">Table of Contents</a>"
   ]
  },
  {
   "cell_type": "markdown",
   "metadata": {},
   "source": [
    "<a id='simpleconesearch'></a>"
   ]
  },
  {
   "cell_type": "markdown",
   "metadata": {},
   "source": [
    "## 10. Catalogs: Simple Cone Search\n",
    "\n",
    "The Simple Cone Search (SCS) protocol is used to search a catalog for entries with positions that fall within a given search region, specified by a position and cone search radius.\n",
    "\n",
    "More information about SCS is available here:\n",
    "http://www.ivoa.net/documents/latest/ConeSearch.html\n",
    "\n",
    "Suppose we were considering proposing for observing time with Chandra. We might first want to check whether any of our sources were already observed by Chandra, XMM or ROSAT. Below, we show the search for the table 'chanmaster', the master catalog of observed Chandra targets, with a search radius of 0.1 degrees."
   ]
  },
  {
   "cell_type": "markdown",
   "metadata": {},
   "source": [
    "### Exercise: How would you figure out the table name 'chanmaster' for yourself? Hint: combine examples 4a and 4b above."
   ]
  },
  {
   "cell_type": "code",
   "execution_count": 236,
   "metadata": {},
   "outputs": [
    {
     "name": "stdout",
     "output_type": "stream",
     "text": [
      "object:  3\n",
      "obsid  status      name        ra    ... type    pi    public_date Search_Offset\n",
      "                              deg    ...                   mjd                  \n",
      "----- -------- ----------- --------- ... ---- -------- ----------- -------------\n",
      " 7937 archived NGC2563-P14 125.81833 ...   GO Mulchaey       54461        4.7670\n",
      "\n",
      "object:  10\n",
      "obsid  status    name      ra    ... type  pi  public_date Search_Offset\n",
      "                          deg    ...               mjd                  \n",
      "----- -------- ------- --------- ... ---- ---- ----------- -------------\n",
      " 2043 archived ARP 242 191.55083 ...   GO Read       52429        0.5376\n",
      "\n",
      "object:  13\n",
      "obsid  status    name       ra    ... type    pi   public_date Search_Offset\n",
      "                           deg    ...                  mjd                  \n",
      "----- -------- -------- --------- ... ---- ------- ----------- -------------\n",
      "19370 observed NGC 5297 206.59875 ...   GO McHardy       58417        1.5692\n",
      "\n",
      "object:  25\n",
      "obsid  status    name       ra    ... type   pi   public_date Search_Offset\n",
      "                           deg    ...                 mjd                  \n",
      "----- -------- -------- --------- ... ---- ------ ----------- -------------\n",
      " 7070 archived NGC 7541 348.67958 ...   GO Kaaret       54040        0.1464\n",
      "\n"
     ]
    }
   ],
   "source": [
    "#For each galaxy in our list,\n",
    "for i in range(len(list_of_galaxies)):\n",
    "    \n",
    "    #Specify the Base URL of HEASARC's cone search service.\n",
    "    Base_URL = 'https://heasarc.gsfc.nasa.gov/cgi-bin/vo/cone/coneGet.pl'\n",
    "    \n",
    "    #Specify the table to search, as well as the RA, DEC, and Search Radius that define the search region.\n",
    "    params = {'table': 'chanmaster', 'RA': list_of_galaxies[i]['ra'], 'DEC':list_of_galaxies[i]['dec'], 'SR':0.1}\n",
    "\n",
    "    #Send the request URL.\n",
    "    r = requests.get(Base_URL, params=params)\n",
    "\n",
    "    #Convert the results from VO Table to Astropy Table.\n",
    "    table=Table.read(io.BytesIO(r.content))\n",
    "    \n",
    "    #Print the table.\n",
    "    if (len(table) > 0):\n",
    "        print('object: ', i)\n",
    "        print(table)\n",
    "        print('')"
   ]
  },
  {
   "cell_type": "markdown",
   "metadata": {},
   "source": [
    "So we see that several galaxies in our sample have indeed already been observed, and we may wish to retrieve these images to see if they are deep enough to accomplish some of our science goals, or if we can justify additional exposures."
   ]
  },
  {
   "cell_type": "markdown",
   "metadata": {},
   "source": [
    "<a href = \"#toc\">Table of Contents</a>"
   ]
  },
  {
   "cell_type": "markdown",
   "metadata": {
    "collapsed": true
   },
   "source": [
    "<a id='tableaccessprotocol'></a>"
   ]
  },
  {
   "cell_type": "markdown",
   "metadata": {},
   "source": [
    "## 11. Catalogs: Table Access Protocol (TAP)\n",
    "\n",
    "We showed above how we can use NED to get the Spectral Energy Distribution of a galaxy. But if we wanted to investigate catalogs ourselves, we can use either the Simple Cone Search (SCS) Protocol above, or the Table Acess Protocol (TAP). SCS is easier to use, but limited to cone searches. TAP is more powerful, but at the cost of a bit of a learning curve. The registry examples above use TAP.\n",
    "\n",
    "More information about TAP is available here:\n",
    "http://www.ivoa.net/documents/TAP/\n",
    "\n",
    "Let's use TAP to search the 2MASS catalog. Here we will use a synchronous query because we are doing a simple search that should return quickly. Users interested in searches that cover large areas or have complicated search criteria may wish to explore the asynchronous option."
   ]
  },
  {
   "cell_type": "code",
   "execution_count": 237,
   "metadata": {},
   "outputs": [
    {
     "data": {
      "text/html": [
       "&lt;Table masked=True length=2&gt;\n",
       "<table id=\"table4958138496-333694\" class=\"table-striped table-bordered table-condensed\">\n",
       "<thead><tr><th>idx</th><th>ra</th><th>dec</th><th>j_m</th><th>h_m</th><th>k_m</th></tr></thead>\n",
       "<thead><tr><th></th><th>deg</th><th>deg</th><th>mag</th><th>mag</th><th>mag</th></tr></thead>\n",
       "<tr><td>0</td><td>9.906258</td><td>8.965453</td><td>14.672</td><td>12.303</td><td>11.907</td></tr>\n",
       "<tr><td>1</td><td>9.906989</td><td>8.965503</td><td>13.988</td><td>13.029</td><td>12.424</td></tr>\n",
       "</table><style>table.dataTable {clear: both; width: auto !important; margin: 0 !important;}\n",
       ".dataTables_info, .dataTables_length, .dataTables_filter, .dataTables_paginate{\n",
       "display: inline-block; margin-right: 1em; }\n",
       ".paginate_button { margin-right: 5px; }\n",
       "</style>\n",
       "<script>\n",
       "\n",
       "var astropy_sort_num = function(a, b) {\n",
       "    var a_num = parseFloat(a);\n",
       "    var b_num = parseFloat(b);\n",
       "\n",
       "    if (isNaN(a_num) && isNaN(b_num))\n",
       "        return ((a < b) ? -1 : ((a > b) ? 1 : 0));\n",
       "    else if (!isNaN(a_num) && !isNaN(b_num))\n",
       "        return ((a_num < b_num) ? -1 : ((a_num > b_num) ? 1 : 0));\n",
       "    else\n",
       "        return isNaN(a_num) ? -1 : 1;\n",
       "}\n",
       "\n",
       "require.config({paths: {\n",
       "    datatables: 'https://cdn.datatables.net/1.10.12/js/jquery.dataTables.min'\n",
       "}});\n",
       "require([\"datatables\"], function(){\n",
       "    console.log(\"$('#table4958138496-333694').dataTable()\");\n",
       "    \n",
       "jQuery.extend( jQuery.fn.dataTableExt.oSort, {\n",
       "    \"optionalnum-asc\": astropy_sort_num,\n",
       "    \"optionalnum-desc\": function (a,b) { return -astropy_sort_num(a, b); }\n",
       "});\n",
       "\n",
       "    $('#table4958138496-333694').dataTable({\n",
       "        order: [],\n",
       "        pageLength: 50,\n",
       "        lengthMenu: [[10, 25, 50, 100, 500, 1000, -1], [10, 25, 50, 100, 500, 1000, 'All']],\n",
       "        pagingType: \"full_numbers\",\n",
       "        columnDefs: [{targets: [0, 1, 2, 3, 4, 5], type: \"optionalnum\"}]\n",
       "    });\n",
       "});\n",
       "</script>\n"
      ],
      "text/plain": [
       "<IPython.core.display.HTML object>"
      ]
     },
     "execution_count": 237,
     "metadata": {},
     "output_type": "execute_result"
    }
   ],
   "source": [
    "#Define the search URL. Select all columns from the 2MASS Point Source Catalog (fp_psc)\n",
    "#for rows that lie within 0.01 deg of the specified search position. \n",
    "tap_base_url = \"https://irsa.ipac.caltech.edu/TAP/sync?\"\n",
    "\n",
    "tap_params = {\n",
    "    \"request\":\"doQuery\",  # Specify the request type\n",
    "    \"lang\":\"ADQL\",        # Specify the language\n",
    "#    \"query\": \"SELECT TOP 1 * FROM fp_psc\" #Give the query in that language\n",
    "    \"query\":\n",
    "        \"\"\"SELECT ra,dec,j_m,h_m,k_m FROM fp_psc\n",
    "        where CONTAINS(POINT('J2000',ra,dec),CIRCLE('J2000',9.90704,8.96507,0.001))=1\n",
    "        order by ra\n",
    "        \"\"\"\n",
    "    }\n",
    "\n",
    "# Send the search URL\n",
    "r = requests.post(tap_base_url, data = tap_params)\n",
    "#print(r.content)\n",
    "# Convert the results into an astropy table.\n",
    "table=Table.read(io.BytesIO(r.content))\n",
    "\n",
    "#Print the table.\n",
    "#table.pprint(max_width=-1)\n",
    "#print(table['ra', 'dec', 'j_m', 'h_m', 'k_m'])\n",
    "table.show_in_notebook()"
   ]
  },
  {
   "cell_type": "markdown",
   "metadata": {},
   "source": [
    "<a href = \"#toc\">Table of Contents</a>"
   ]
  },
  {
   "cell_type": "markdown",
   "metadata": {},
   "source": [
    "<a id='simplespectralaccess'></a>"
   ]
  },
  {
   "cell_type": "markdown",
   "metadata": {},
   "source": [
    "## Simple Spectral Access (SSA)\n",
    "\n",
    "The Simple Spectral Access (SSA) Protocol defines a uniform interface to remotely discover and access one dimensional spectra. \n",
    "\n",
    "More information about SSA is avialable here:\n",
    "http://www.ivoa.net/documents/SSA/\n",
    "\n",
    "Returning to our science example, suppose that we have analyzed the available Chandra image for the matches above and discovered that one of these galaxies appears to have a potential ultraluminous X-ray source (ULX)! Now, we want to charatcterize the spectrum for this source. Therefore we will ask for a large exposure time and need to justify this by showing the spectrum of a prototypical ULX, M82 X-1."
   ]
  },
  {
   "cell_type": "code",
   "execution_count": 239,
   "metadata": {},
   "outputs": [
    {
     "data": {
      "text/html": [
       "&lt;Table masked=True length=3&gt;\n",
       "<table id=\"table4956579712-691731\" class=\"table-striped table-bordered table-condensed\">\n",
       "<thead><tr><th>idx</th><th>obsid</th><th>status</th><th>name</th><th>ra</th><th>dec</th><th>time</th><th>detector</th><th>grating</th><th>exposure</th><th>type</th><th>pi</th><th>public_date</th><th>SSA_datalength</th><th>SSA_datamodel</th><th>SSA_title</th><th>SSA_instrument</th><th>SSA_publisher</th><th>SSA_tmid</th><th>SSA_stop_time</th><th>SSA_start_time</th><th>SSA_duration</th><th>SSA_bandpass</th><th>SSA_wavelength_max</th><th>SSA_wavelength_min</th><th>SSA_bandwidth</th><th>SSA_ra</th><th>SSA_dec</th><th>SSA_coord_obs</th><th>SSA_fov</th><th>SSA_reference</th><th>SSA_format</th></tr></thead>\n",
       "<thead><tr><th></th><th></th><th></th><th></th><th>deg</th><th>deg</th><th>mjd</th><th></th><th></th><th>s</th><th></th><th></th><th>mjd</th><th></th><th></th><th></th><th></th><th></th><th>mjd</th><th>mjd</th><th>mjd</th><th>s</th><th>meter</th><th>meter</th><th>meter</th><th>meter</th><th>deg</th><th>deg</th><th>deg</th><th>deg</th><th></th><th></th></tr></thead>\n",
       "<tr><td>0</td><td>17860</td><td>archived</td><td>M82 X-1</td><td>148.95917</td><td>69.67972</td><td>57639.729200000002</td><td>ACIS-S</td><td>HETG</td><td>51060</td><td>TOO</td><td>Walton</td><td>58010</td><td>12.0</td><td>Spectrum-1.0</td><td>acisf17860N002_pha2</td><td>ACIS-S</td><td>HEASARC</td><td>57640.040393247451</td><td>57640.350814633915</td><td>57639.729200000002</td><td>51060.0</td><td>3.16159e-09</td><td>6.1991999999999999e-09</td><td>1.2397999999999999e-10</td><td>6.0752199999999996e-09</td><td>148.95917</td><td>69.679720000000003</td><td>--</td><td>0.81103500403976259</td><td>https://heasarc.gsfc.nasa.gov/FTP/chandra/data/science/ao17/cat4/17860/primary/acisf17860N002_pha2.fits.gz</td><td>application/fits</td></tr>\n",
       "<tr><td>1</td><td>19791</td><td>archived</td><td>M82 X-1</td><td>148.95917</td><td>69.67972</td><td>57641.570200000002</td><td>ACIS-S</td><td>HETG</td><td>15310</td><td>TOO</td><td>Walton</td><td>58010</td><td>12.0</td><td>Spectrum-1.0</td><td>acisf19791N002_pha2</td><td>ACIS-S</td><td>HEASARC</td><td>57641.668022753758</td><td>57641.765065583451</td><td>57641.570200000002</td><td>15310.0</td><td>3.16159e-09</td><td>6.1991999999999999e-09</td><td>1.2397999999999999e-10</td><td>6.0752199999999996e-09</td><td>148.95917</td><td>69.679720000000003</td><td>--</td><td>0.81103500403976259</td><td>https://heasarc.gsfc.nasa.gov/FTP/chandra/data/science/ao17/cat4/19791/primary/acisf19791N002_pha2.fits.gz</td><td>application/fits</td></tr>\n",
       "<tr><td>2</td><td>19792</td><td>archived</td><td>M82 X-1</td><td>148.95917</td><td>69.67972</td><td>57642.353000000003</td><td>ACIS-S</td><td>HETG</td><td>32440</td><td>TOO</td><td>Walton</td><td>58010</td><td>12.0</td><td>Spectrum-1.0</td><td>acisf19792N002_pha2</td><td>ACIS-S</td><td>HEASARC</td><td>57642.558369954859</td><td>57642.762945849187</td><td>57642.353000000003</td><td>32440.0</td><td>3.16159e-09</td><td>6.1991999999999999e-09</td><td>1.2397999999999999e-10</td><td>6.0752199999999996e-09</td><td>148.95917</td><td>69.679720000000003</td><td>--</td><td>0.81103500403976259</td><td>https://heasarc.gsfc.nasa.gov/FTP/chandra/data/science/ao17/cat4/19792/primary/acisf19792N002_pha2.fits.gz</td><td>application/fits</td></tr>\n",
       "</table><style>table.dataTable {clear: both; width: auto !important; margin: 0 !important;}\n",
       ".dataTables_info, .dataTables_length, .dataTables_filter, .dataTables_paginate{\n",
       "display: inline-block; margin-right: 1em; }\n",
       ".paginate_button { margin-right: 5px; }\n",
       "</style>\n",
       "<script>\n",
       "\n",
       "var astropy_sort_num = function(a, b) {\n",
       "    var a_num = parseFloat(a);\n",
       "    var b_num = parseFloat(b);\n",
       "\n",
       "    if (isNaN(a_num) && isNaN(b_num))\n",
       "        return ((a < b) ? -1 : ((a > b) ? 1 : 0));\n",
       "    else if (!isNaN(a_num) && !isNaN(b_num))\n",
       "        return ((a_num < b_num) ? -1 : ((a_num > b_num) ? 1 : 0));\n",
       "    else\n",
       "        return isNaN(a_num) ? -1 : 1;\n",
       "}\n",
       "\n",
       "require.config({paths: {\n",
       "    datatables: 'https://cdn.datatables.net/1.10.12/js/jquery.dataTables.min'\n",
       "}});\n",
       "require([\"datatables\"], function(){\n",
       "    console.log(\"$('#table4956579712-691731').dataTable()\");\n",
       "    \n",
       "jQuery.extend( jQuery.fn.dataTableExt.oSort, {\n",
       "    \"optionalnum-asc\": astropy_sort_num,\n",
       "    \"optionalnum-desc\": function (a,b) { return -astropy_sort_num(a, b); }\n",
       "});\n",
       "\n",
       "    $('#table4956579712-691731').dataTable({\n",
       "        order: [],\n",
       "        pageLength: 50,\n",
       "        lengthMenu: [[10, 25, 50, 100, 500, 1000, -1], [10, 25, 50, 100, 500, 1000, 'All']],\n",
       "        pagingType: \"full_numbers\",\n",
       "        columnDefs: [{targets: [0, 4, 5, 6, 9, 12, 18, 19, 20, 21, 22, 23, 24, 25, 26, 27, 28, 29], type: \"optionalnum\"}]\n",
       "    });\n",
       "});\n",
       "</script>\n"
      ],
      "text/plain": [
       "<IPython.core.display.HTML object>"
      ]
     },
     "execution_count": 239,
     "metadata": {},
     "output_type": "execute_result"
    }
   ],
   "source": [
    "import astropy.io.fits as fits\n",
    "import astropy.coordinates as coord\n",
    "\n",
    "m82=coord.SkyCoord.from_name(\"m82\")\n",
    "pos='{},{}'.format(m82.ra.deg,m82.dec.deg)\n",
    "\n",
    "params = {'table': 'chanmaster',\"POS\":pos,\"SIZE\":\".01\", \"REQUEST\":\"queryData\"}\n",
    "\n",
    "r = requests.get('https://heasarc.nasa.gov/xamin/vo/ssa', params=params)\n",
    "\n",
    "spec_table = Table.read(io.BytesIO(r.content))\n",
    "spec_table.show_in_notebook()"
   ]
  },
  {
   "cell_type": "code",
   "execution_count": 240,
   "metadata": {},
   "outputs": [
    {
     "data": {
      "text/html": [
       "&lt;Table length=12&gt;\n",
       "<table id=\"table4768069952-550991\" class=\"table-striped table-bordered table-condensed\">\n",
       "<thead><tr><th>idx</th><th>SPEC_NUM</th><th>TG_M</th><th>TG_PART</th><th>TG_SRCID</th><th>X</th><th>Y</th><th>CHANNEL [8192]</th><th>COUNTS [8192]</th><th>STAT_ERR [8192]</th><th>BACKGROUND_UP [8192]</th><th>BACKGROUND_DOWN [8192]</th><th>BIN_LO [8192]</th><th>BIN_HI [8192]</th></tr></thead>\n",
       "<tr><td>0</td><td>1</td><td>-3</td><td>1</td><td>1</td><td>4103.92</td><td>4072.69</td><td>1 .. 8192</td><td>0 .. 0</td><td>1.86603 .. 1.86603</td><td>0 .. 0</td><td>0 .. 0</td><td>7.15916666667 .. 0.333333333333</td><td>7.16 .. 0.334166666667</td></tr>\n",
       "<tr><td>1</td><td>2</td><td>-2</td><td>1</td><td>1</td><td>4103.92</td><td>4072.69</td><td>1 .. 8192</td><td>0 .. 0</td><td>1.86603 .. 1.86603</td><td>0 .. 0</td><td>0 .. 0</td><td>10.73875 .. 0.5</td><td>10.74 .. 0.50125</td></tr>\n",
       "<tr><td>2</td><td>3</td><td>-1</td><td>1</td><td>1</td><td>4103.92</td><td>4072.69</td><td>1 .. 8192</td><td>0 .. 0</td><td>1.86603 .. 1.86603</td><td>0 .. 0</td><td>0 .. 0</td><td>21.4775 .. 1.0</td><td>21.48 .. 1.0025</td></tr>\n",
       "<tr><td>3</td><td>4</td><td>1</td><td>1</td><td>1</td><td>4103.92</td><td>4072.69</td><td>1 .. 8192</td><td>0 .. 0</td><td>1.86603 .. 1.86603</td><td>0 .. 0</td><td>0 .. 0</td><td>21.4775 .. 1.0</td><td>21.48 .. 1.0025</td></tr>\n",
       "<tr><td>4</td><td>5</td><td>2</td><td>1</td><td>1</td><td>4103.92</td><td>4072.69</td><td>1 .. 8192</td><td>0 .. 0</td><td>1.86603 .. 1.86603</td><td>0 .. 0</td><td>0 .. 0</td><td>10.73875 .. 0.5</td><td>10.74 .. 0.50125</td></tr>\n",
       "<tr><td>5</td><td>6</td><td>3</td><td>1</td><td>1</td><td>4103.92</td><td>4072.69</td><td>1 .. 8192</td><td>0 .. 0</td><td>1.86603 .. 1.86603</td><td>0 .. 0</td><td>0 .. 0</td><td>7.15916666667 .. 0.333333333333</td><td>7.16 .. 0.334166666667</td></tr>\n",
       "<tr><td>6</td><td>7</td><td>-3</td><td>2</td><td>1</td><td>4103.92</td><td>4072.69</td><td>1 .. 8192</td><td>0 .. 0</td><td>1.86603 .. 1.86603</td><td>0 .. 0</td><td>0 .. 0</td><td>13.985 .. 0.333333333333</td><td>13.9866666667 .. 0.335</td></tr>\n",
       "<tr><td>7</td><td>8</td><td>-2</td><td>2</td><td>1</td><td>4103.92</td><td>4072.69</td><td>1 .. 8192</td><td>0 .. 0</td><td>1.86603 .. 1.86603</td><td>0 .. 0</td><td>0 .. 0</td><td>20.9775 .. 0.5</td><td>20.98 .. 0.5025</td></tr>\n",
       "<tr><td>8</td><td>9</td><td>-1</td><td>2</td><td>1</td><td>4103.92</td><td>4072.69</td><td>1 .. 8192</td><td>0 .. 0</td><td>1.86603 .. 1.86603</td><td>0 .. 0</td><td>0 .. 0</td><td>41.955 .. 1.0</td><td>41.96 .. 1.005</td></tr>\n",
       "<tr><td>9</td><td>10</td><td>1</td><td>2</td><td>1</td><td>4103.92</td><td>4072.69</td><td>1 .. 8192</td><td>0 .. 0</td><td>1.86603 .. 1.86603</td><td>0 .. 0</td><td>0 .. 0</td><td>41.955 .. 1.0</td><td>41.96 .. 1.005</td></tr>\n",
       "<tr><td>10</td><td>11</td><td>2</td><td>2</td><td>1</td><td>4103.92</td><td>4072.69</td><td>1 .. 8192</td><td>0 .. 0</td><td>1.86603 .. 1.86603</td><td>0 .. 0</td><td>0 .. 0</td><td>20.9775 .. 0.5</td><td>20.98 .. 0.5025</td></tr>\n",
       "<tr><td>11</td><td>12</td><td>3</td><td>2</td><td>1</td><td>4103.92</td><td>4072.69</td><td>1 .. 8192</td><td>0 .. 0</td><td>1.86603 .. 1.86603</td><td>0 .. 0</td><td>0 .. 0</td><td>13.985 .. 0.333333333333</td><td>13.9866666667 .. 0.335</td></tr>\n",
       "</table><style>table.dataTable {clear: both; width: auto !important; margin: 0 !important;}\n",
       ".dataTables_info, .dataTables_length, .dataTables_filter, .dataTables_paginate{\n",
       "display: inline-block; margin-right: 1em; }\n",
       ".paginate_button { margin-right: 5px; }\n",
       "</style>\n",
       "<script>\n",
       "\n",
       "var astropy_sort_num = function(a, b) {\n",
       "    var a_num = parseFloat(a);\n",
       "    var b_num = parseFloat(b);\n",
       "\n",
       "    if (isNaN(a_num) && isNaN(b_num))\n",
       "        return ((a < b) ? -1 : ((a > b) ? 1 : 0));\n",
       "    else if (!isNaN(a_num) && !isNaN(b_num))\n",
       "        return ((a_num < b_num) ? -1 : ((a_num > b_num) ? 1 : 0));\n",
       "    else\n",
       "        return isNaN(a_num) ? -1 : 1;\n",
       "}\n",
       "\n",
       "require.config({paths: {\n",
       "    datatables: 'https://cdn.datatables.net/1.10.12/js/jquery.dataTables.min'\n",
       "}});\n",
       "require([\"datatables\"], function(){\n",
       "    console.log(\"$('#table4768069952-550991').dataTable()\");\n",
       "    \n",
       "jQuery.extend( jQuery.fn.dataTableExt.oSort, {\n",
       "    \"optionalnum-asc\": astropy_sort_num,\n",
       "    \"optionalnum-desc\": function (a,b) { return -astropy_sort_num(a, b); }\n",
       "});\n",
       "\n",
       "    $('#table4768069952-550991').dataTable({\n",
       "        order: [],\n",
       "        pageLength: 50,\n",
       "        lengthMenu: [[10, 25, 50, 100, 500, 1000, -1], [10, 25, 50, 100, 500, 1000, 'All']],\n",
       "        pagingType: \"full_numbers\",\n",
       "        columnDefs: [{targets: [0, 1, 2, 3, 4, 5, 6, 7, 8, 9, 10, 11, 12, 13], type: \"optionalnum\"}]\n",
       "    });\n",
       "});\n",
       "</script>\n"
      ],
      "text/plain": [
       "<IPython.core.display.HTML object>"
      ]
     },
     "execution_count": 240,
     "metadata": {},
     "output_type": "execute_result"
    }
   ],
   "source": [
    "## Get the first spectrum.\n",
    "#The column SSA_reference is the one that contains the Access URL for the data.\n",
    "hdu_list=fits.open(spec_table[0]['SSA_reference'].decode()) # Byte format, so just decode() to string\n",
    "\n",
    "#Print the list of spectra.\n",
    "table = Table(hdu_list[1].data)\n",
    "table.show_in_notebook()\n"
   ]
  },
  {
   "cell_type": "markdown",
   "metadata": {},
   "source": [
    "<a href = \"#toc\">Table of Contents</a>"
   ]
  },
  {
   "cell_type": "code",
   "execution_count": null,
   "metadata": {
    "collapsed": true
   },
   "outputs": [],
   "source": []
  },
  {
   "cell_type": "code",
   "execution_count": null,
   "metadata": {
    "collapsed": true
   },
   "outputs": [],
   "source": []
  }
 ],
 "metadata": {
  "kernelspec": {
   "display_name": "Python 3",
   "language": "python",
   "name": "python3"
  },
  "language_info": {
   "codemirror_mode": {
    "name": "ipython",
    "version": 3
   },
   "file_extension": ".py",
   "mimetype": "text/x-python",
   "name": "python",
   "nbconvert_exporter": "python",
   "pygments_lexer": "ipython3",
   "version": "3.6.3"
  }
 },
 "nbformat": 4,
 "nbformat_minor": 2
}
